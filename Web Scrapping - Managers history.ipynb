{
 "cells": [
  {
   "cell_type": "markdown",
   "metadata": {
    "toc": "true"
   },
   "source": [
    "# Table of Contents\n",
    " <p>"
   ]
  },
  {
   "cell_type": "code",
   "execution_count": 1,
   "metadata": {
    "ExecuteTime": {
     "end_time": "2017-11-24T23:28:08.283452",
     "start_time": "2017-11-24T23:28:07.710915"
    },
    "collapsed": true
   },
   "outputs": [],
   "source": [
    "# Beautiful Soup for web scrapping data\n",
    "from bs4 import BeautifulSoup\n",
    "import requests\n",
    "\n",
    "# Save into csv file\n",
    "import csv\n",
    "\n",
    "# Pandas to reimport csv data\n",
    "import pandas as pd"
   ]
  },
  {
   "cell_type": "code",
   "execution_count": 2,
   "metadata": {
    "ExecuteTime": {
     "end_time": "2017-11-24T23:28:09.113204",
     "start_time": "2017-11-24T23:28:09.074845"
    },
    "collapsed": true
   },
   "outputs": [],
   "source": [
    "def log_progress(sequence, every=None, size=None, name='Items', delete=False):\n",
    "    from ipywidgets import IntProgress, HTML, VBox\n",
    "    from IPython.display import display\n",
    "\n",
    "    is_iterator = False\n",
    "    if size is None:\n",
    "        try:\n",
    "            size = len(sequence)\n",
    "        except TypeError:\n",
    "            is_iterator = True\n",
    "    if size is not None:\n",
    "        if every is None:\n",
    "            if size <= 200:\n",
    "                every = 1\n",
    "            else:\n",
    "                every = int(size / 200)     # every 0.5%\n",
    "    else:\n",
    "        assert every is not None, 'sequence is iterator, set every'\n",
    "\n",
    "    if is_iterator:\n",
    "        progress = IntProgress(min=0, max=1, value=1)\n",
    "        progress.bar_style = 'info'\n",
    "    else:\n",
    "        progress = IntProgress(min=0, max=size, value=0)\n",
    "    label = HTML()\n",
    "    box = VBox(children=[label, progress])\n",
    "    display(box)\n",
    "\n",
    "    index = 0\n",
    "    try:\n",
    "        for index, record in enumerate(sequence, 1):\n",
    "            if index == 1 or index % every == 0:\n",
    "                if is_iterator:\n",
    "                    label.value = '{name}: {index} / ?'.format(\n",
    "                        name=name,\n",
    "                        index=index\n",
    "                    )\n",
    "                else:\n",
    "                    progress.value = index\n",
    "                    label.value = u'{name}: {index} / {size}'.format(\n",
    "                        name=name,\n",
    "                        index=index,\n",
    "                        size=size\n",
    "                    )\n",
    "            yield record\n",
    "    except:\n",
    "        progress.bar_style = 'danger'\n",
    "        raise\n",
    "    else:\n",
    "        progress.bar_style = 'success'\n",
    "        progress.value = index\n",
    "        label.value = \"{name}: {index}\".format(\n",
    "            name=name,\n",
    "            index=str(index or '?')\n",
    "        )\n",
    "        if delete:\n",
    "            box.close()"
   ]
  },
  {
   "cell_type": "code",
   "execution_count": 22,
   "metadata": {
    "ExecuteTime": {
     "end_time": "2017-11-24T10:06:12.766646",
     "start_time": "2017-11-24T10:06:11.830611"
    },
    "collapsed": false
   },
   "outputs": [],
   "source": [
    "headers = {'User-Agent': 'Mozilla/5.00'}\n",
    "\n",
    "base_url = \"https://www.transfermarkt.com\"\n",
    "\n",
    "\n",
    "\n",
    "# create file handle\n",
    "csvfile = open('data-managers.csv', 'w')\n",
    "\n",
    "manager_url = \"/jose-mourinho/profil/trainer/781\"\n",
    "\n",
    "\n",
    "url = base_url + manager_url\n",
    "r  = requests.get(url, headers=headers)\n",
    "manager_data_page = BeautifulSoup(r.text, 'html.parser')\n",
    "\n",
    "manager_table = manager_data_page.find(\"tr\", {\"class\":\"ausfallzeiten_k\"}).find_parent().find_all(\"tr\")\n",
    "\n",
    "for tr in manager_table:\n",
    "    tds = tr.find_all(\"td\")\n",
    "    if len(tds)>1 and tds[-3].text == \"Manager\":\n",
    "        club = tds[1].text.replace(\" \",\"\")\n",
    "        manager_name = manager_url.split(\"/\")[1]\n",
    "        \n",
    "        csvfile.write(club+\"|\"+manager_name+\"\\n\")\n",
    "        \n",
    "\n",
    "# Close CSV file\n",
    "csvfile.close()"
   ]
  },
  {
   "cell_type": "code",
   "execution_count": null,
   "metadata": {
    "collapsed": true
   },
   "outputs": [],
   "source": []
  },
  {
   "cell_type": "code",
   "execution_count": null,
   "metadata": {
    "collapsed": true
   },
   "outputs": [],
   "source": []
  },
  {
   "cell_type": "markdown",
   "metadata": {},
   "source": [
    "# Other website"
   ]
  },
  {
   "cell_type": "code",
   "execution_count": 101,
   "metadata": {
    "ExecuteTime": {
     "end_time": "2017-11-24T14:10:52.639403",
     "start_time": "2017-11-24T13:41:58.672353"
    },
    "collapsed": false
   },
   "outputs": [
    {
     "name": "stdout",
     "output_type": "stream",
     "text": [
      "CPU times: user 1min 52s, sys: 4.6 s, total: 1min 56s\n",
      "Wall time: 28min 53s\n"
     ]
    }
   ],
   "source": [
    "%%time\n",
    "\n",
    "# create file handle\n",
    "csvfile = open('data-managers-new.csv', 'w')\n",
    "\n",
    "base_url = \"http://www.soccerbase.com/managers/manager.sd?manager_id={0}\"\n",
    "\n",
    "nbrFailure =  []\n",
    "nbrNoInfo  =  []\n",
    "\n",
    "for manager_id in log_progress(range(1,4654), every=1):\n",
    "    url = base_url.format(str(manager_id))\n",
    "    \n",
    "    r  = requests.get(url, headers=headers)\n",
    "    manager_data_page = BeautifulSoup(r.text, 'html.parser')\n",
    "\n",
    "    try:\n",
    "        manager_name = manager_data_page.find('div', {\"class\":\"headlineBlock\"}).text.replace(\"\\n\",\"\")\n",
    "\n",
    "        for club in manager_data_page.find_all('td', {\"class\":\"first bull\"}):\n",
    "            club_name = club.text\n",
    "            from_year = club.find_next().find_next().get_text().split(\",\")[1].replace(\" \",\"\")\n",
    "            to_year = club.find_next().find_next().find_next().get_text().split(\",\")[1].replace(\" \",\"\")\n",
    "            \n",
    "            # Can contain duplicates (=> self-pointing edges)\n",
    "            csvfile.write(club_name+\"|\"+manager_name+\"|\"+from_year+\"|\"+to_year+\"\\n\")\n",
    "    \n",
    "    except:\n",
    "        # Two kinds of exceptions: either there is no carre information for that manager\n",
    "        if len(manager_data_page.find_all(\"div\", {\"class\":\"nodataBlock nodataInSoccer\"})) > 0:\n",
    "            nbrNoInfo.append(manager_id)\n",
    "        else:\n",
    "            # Either all other types of errors\n",
    "            nbrFailure.append(manager_id)\n",
    "            \n",
    "    \n",
    "# Close CSV file\n",
    "csvfile.close()"
   ]
  },
  {
   "cell_type": "code",
   "execution_count": null,
   "metadata": {
    "collapsed": true
   },
   "outputs": [],
   "source": []
  },
  {
   "cell_type": "code",
   "execution_count": null,
   "metadata": {
    "collapsed": true
   },
   "outputs": [],
   "source": []
  },
  {
   "cell_type": "code",
   "execution_count": null,
   "metadata": {
    "collapsed": true
   },
   "outputs": [],
   "source": []
  },
  {
   "cell_type": "code",
   "execution_count": 6,
   "metadata": {
    "ExecuteTime": {
     "end_time": "2017-11-24T23:50:14.240605",
     "start_time": "2017-11-24T23:50:14.236940"
    },
    "collapsed": true
   },
   "outputs": [],
   "source": [
    "import time"
   ]
  },
  {
   "cell_type": "code",
   "execution_count": 7,
   "metadata": {
    "ExecuteTime": {
     "end_time": "2017-11-25T00:18:19.729934",
     "start_time": "2017-11-24T23:50:16.939820"
    },
    "collapsed": false
   },
   "outputs": [],
   "source": [
    "# create file handle\n",
    "csvfile = open('data-managers-new_te.csv', 'w')\n",
    "headers = {'User-Agent': 'Mozilla/5.00'}\n",
    "base_url = \"http://www.soccerbase.com/managers/manager.sd?manager_id={0}\"\n",
    "\n",
    "nbrFailure =  []\n",
    "nbrNoInfo  =  []\n",
    "\n",
    "for manager_id in log_progress(range(1,4654), every=1):\n",
    "    if (manager_id % 50 == 0):\n",
    "        time.sleep(10)\n",
    "    \n",
    "    url = base_url.format(str(manager_id))\n",
    "\n",
    "    r  = requests.get(url, headers=headers)\n",
    "    manager_data_page = BeautifulSoup(r.text, 'html.parser')\n",
    "\n",
    "    try:\n",
    "        manager_name = manager_data_page.find('div', {\"class\":\"headlineBlock\"}).text.replace(\"\\n\",\"\")\n",
    "\n",
    "        for club in manager_data_page.find_all('td', {\"class\":\"first bull\"}):\n",
    "            club_name = club.text\n",
    "            from_year = club.find_next().find_next().get_text().split(\",\")[1].replace(\" \",\"\")\n",
    "            to_year = club.find_next().find_next().find_next().get_text().split(\",\")[1].replace(\" \",\"\")\n",
    "            \n",
    "            # Can contain duplicates (=> self-pointing edges)\n",
    "            csvfile.write(club_name+\"|\"+manager_name+\"|\"+from_year+\"|\"+to_year+\"\\n\")\n",
    "\n",
    "    except:\n",
    "        # Two kinds of exceptions: either there is no carre information for that manager\n",
    "        if len(manager_data_page.find_all(\"div\", {\"class\":\"nodataBlock nodataInSoccer\"})) > 0:\n",
    "            nbrNoInfo.append(manager_id)\n",
    "        else:\n",
    "            # Either all other types of errors\n",
    "            nbrFailure.append(manager_id)\n",
    "            \n",
    "    \n",
    "# Close CSV file\n",
    "csvfile.close()"
   ]
  },
  {
   "cell_type": "code",
   "execution_count": 8,
   "metadata": {
    "ExecuteTime": {
     "end_time": "2017-11-25T00:18:19.742586",
     "start_time": "2017-11-25T00:18:19.737325"
    },
    "collapsed": false
   },
   "outputs": [
    {
     "name": "stdout",
     "output_type": "stream",
     "text": [
      "Total: 4653\n",
      "Failure: 4105\n",
      "No Info: 38\n"
     ]
    }
   ],
   "source": [
    "print(\"Total: 4653\")\n",
    "print(\"Failure:\", len(nbrFailureailure))\n",
    "print(\"No Info:\", len(nbrNoInfo))"
   ]
  },
  {
   "cell_type": "code",
   "execution_count": null,
   "metadata": {
    "collapsed": true
   },
   "outputs": [],
   "source": []
  },
  {
   "cell_type": "code",
   "execution_count": null,
   "metadata": {
    "collapsed": true
   },
   "outputs": [],
   "source": []
  },
  {
   "cell_type": "code",
   "execution_count": 44,
   "metadata": {
    "ExecuteTime": {
     "end_time": "2017-11-24T11:43:53.162287",
     "start_time": "2017-11-24T11:43:53.137733"
    },
    "collapsed": false
   },
   "outputs": [
    {
     "data": {
      "text/html": [
       "<div>\n",
       "<style>\n",
       "    .dataframe thead tr:only-child th {\n",
       "        text-align: right;\n",
       "    }\n",
       "\n",
       "    .dataframe thead th {\n",
       "        text-align: left;\n",
       "    }\n",
       "\n",
       "    .dataframe tbody tr th {\n",
       "        vertical-align: top;\n",
       "    }\n",
       "</style>\n",
       "<table border=\"1\" class=\"dataframe\">\n",
       "  <thead>\n",
       "    <tr style=\"text-align: right;\">\n",
       "      <th></th>\n",
       "      <th>Club</th>\n",
       "      <th>Manager</th>\n",
       "    </tr>\n",
       "  </thead>\n",
       "  <tbody>\n",
       "    <tr>\n",
       "      <th>0</th>\n",
       "      <td>Scarborough</td>\n",
       "      <td>A C Bell</td>\n",
       "    </tr>\n",
       "    <tr>\n",
       "      <th>1</th>\n",
       "      <td>Walsall</td>\n",
       "      <td>A E Parsloe</td>\n",
       "    </tr>\n",
       "    <tr>\n",
       "      <th>2</th>\n",
       "      <td>Walsall</td>\n",
       "      <td>A G Burton</td>\n",
       "    </tr>\n",
       "    <tr>\n",
       "      <th>3</th>\n",
       "      <td>Stoke</td>\n",
       "      <td>A J Barker</td>\n",
       "    </tr>\n",
       "    <tr>\n",
       "      <th>4</th>\n",
       "      <td>Chelsea</td>\n",
       "      <td>A Leslie Knighton</td>\n",
       "    </tr>\n",
       "    <tr>\n",
       "      <th>5</th>\n",
       "      <td>Middlesbro</td>\n",
       "      <td>A Walker</td>\n",
       "    </tr>\n",
       "    <tr>\n",
       "      <th>6</th>\n",
       "      <td>Orlando City</td>\n",
       "      <td>Adrian Heath</td>\n",
       "    </tr>\n",
       "    <tr>\n",
       "      <th>7</th>\n",
       "      <td>Coventry</td>\n",
       "      <td>Adrian Heath</td>\n",
       "    </tr>\n",
       "    <tr>\n",
       "      <th>8</th>\n",
       "      <td>Coventry</td>\n",
       "      <td>Adrian Heath</td>\n",
       "    </tr>\n",
       "    <tr>\n",
       "      <th>9</th>\n",
       "      <td>Sheff Utd</td>\n",
       "      <td>Adrian Heath</td>\n",
       "    </tr>\n",
       "  </tbody>\n",
       "</table>\n",
       "</div>"
      ],
      "text/plain": [
       "           Club            Manager\n",
       "0   Scarborough           A C Bell\n",
       "1       Walsall        A E Parsloe\n",
       "2       Walsall         A G Burton\n",
       "3         Stoke         A J Barker\n",
       "4       Chelsea  A Leslie Knighton\n",
       "5    Middlesbro           A Walker\n",
       "6  Orlando City       Adrian Heath\n",
       "7      Coventry       Adrian Heath\n",
       "8      Coventry       Adrian Heath\n",
       "9     Sheff Utd       Adrian Heath"
      ]
     },
     "execution_count": 44,
     "metadata": {},
     "output_type": "execute_result"
    }
   ],
   "source": [
    "df = pd.read_csv(\"data-managers.csv\", sep=\"|\", names=[\"Club\", \"Manager\"])\n",
    "df.head(10)"
   ]
  },
  {
   "cell_type": "code",
   "execution_count": 89,
   "metadata": {
    "ExecuteTime": {
     "end_time": "2017-11-24T12:07:23.432355",
     "start_time": "2017-11-24T12:07:23.412217"
    },
    "collapsed": false
   },
   "outputs": [
    {
     "data": {
      "text/html": [
       "<div>\n",
       "<style>\n",
       "    .dataframe thead tr:only-child th {\n",
       "        text-align: right;\n",
       "    }\n",
       "\n",
       "    .dataframe thead th {\n",
       "        text-align: left;\n",
       "    }\n",
       "\n",
       "    .dataframe tbody tr th {\n",
       "        vertical-align: top;\n",
       "    }\n",
       "</style>\n",
       "<table border=\"1\" class=\"dataframe\">\n",
       "  <thead>\n",
       "    <tr style=\"text-align: right;\">\n",
       "      <th></th>\n",
       "      <th>Club</th>\n",
       "      <th>Manager</th>\n",
       "    </tr>\n",
       "  </thead>\n",
       "  <tbody>\n",
       "    <tr>\n",
       "      <th>count</th>\n",
       "      <td>2575</td>\n",
       "      <td>2575</td>\n",
       "    </tr>\n",
       "    <tr>\n",
       "      <th>unique</th>\n",
       "      <td>795</td>\n",
       "      <td>1370</td>\n",
       "    </tr>\n",
       "    <tr>\n",
       "      <th>top</th>\n",
       "      <td>Stockport</td>\n",
       "      <td>Roy Hodgson</td>\n",
       "    </tr>\n",
       "    <tr>\n",
       "      <th>freq</th>\n",
       "      <td>27</td>\n",
       "      <td>16</td>\n",
       "    </tr>\n",
       "  </tbody>\n",
       "</table>\n",
       "</div>"
      ],
      "text/plain": [
       "             Club      Manager\n",
       "count        2575         2575\n",
       "unique        795         1370\n",
       "top     Stockport  Roy Hodgson\n",
       "freq           27           16"
      ]
     },
     "execution_count": 89,
     "metadata": {},
     "output_type": "execute_result"
    }
   ],
   "source": [
    "df.describeribe()"
   ]
  },
  {
   "cell_type": "code",
   "execution_count": 46,
   "metadata": {
    "ExecuteTime": {
     "end_time": "2017-11-24T11:44:39.826896",
     "start_time": "2017-11-24T11:44:39.809878"
    },
    "collapsed": false
   },
   "outputs": [
    {
     "name": "stdout",
     "output_type": "stream",
     "text": [
      "Number of clubes:     795\n",
      "Number of managers:   1370\n"
     ]
    }
   ],
   "source": [
    "print(\"Number of clubes:    \", len(df.Club.unique()))\n",
    "print(\"Number of managers:  \", len(df.Manager.unique()))"
   ]
  },
  {
   "cell_type": "code",
   "execution_count": 65,
   "metadata": {
    "ExecuteTime": {
     "end_time": "2017-11-24T11:52:37.404837",
     "start_time": "2017-11-24T11:52:36.522161"
    },
    "collapsed": false
   },
   "outputs": [
    {
     "data": {
      "text/plain": [
       "{1: 812,\n",
       " 2: 281,\n",
       " 3: 127,\n",
       " 4: 62,\n",
       " 5: 35,\n",
       " 6: 18,\n",
       " 7: 17,\n",
       " 8: 6,\n",
       " 9: 8,\n",
       " 10: 1,\n",
       " 12: 2,\n",
       " 16: 1}"
      ]
     },
     "execution_count": 65,
     "metadata": {},
     "output_type": "execute_result"
    }
   ],
   "source": [
    "manager_clubs_freq = {}\n",
    "for manager in df.Manager.unique():\n",
    "    x = len(df.Manager[df.Manager==manager])\n",
    "    manager_clubs_freq[x] = manager_clubs_freq.get(x,0)+1\n",
    "\n",
    "manager_clubs_freq"
   ]
  },
  {
   "cell_type": "markdown",
   "metadata": {},
   "source": [
    "# Create Network"
   ]
  },
  {
   "cell_type": "code",
   "execution_count": 68,
   "metadata": {
    "ExecuteTime": {
     "end_time": "2017-11-24T11:53:55.672948",
     "start_time": "2017-11-24T11:53:55.666032"
    },
    "collapsed": true
   },
   "outputs": [],
   "source": [
    "# NetworkX\n",
    "import networkx as nx\n",
    "\n",
    "G = nx.Graph()"
   ]
  },
  {
   "cell_type": "code",
   "execution_count": 69,
   "metadata": {
    "ExecuteTime": {
     "end_time": "2017-11-24T11:54:27.314880",
     "start_time": "2017-11-24T11:54:27.286640"
    },
    "collapsed": true
   },
   "outputs": [],
   "source": [
    "# Each manager is a node\n",
    "for manager in df.Manager.unique():\n",
    "    G.add_node(manager)"
   ]
  },
  {
   "cell_type": "code",
   "execution_count": null,
   "metadata": {
    "collapsed": true
   },
   "outputs": [],
   "source": [
    "# Link between two managers if they coach the same team\n"
   ]
  },
  {
   "cell_type": "code",
   "execution_count": null,
   "metadata": {
    "collapsed": true
   },
   "outputs": [],
   "source": [
    "for club in df.Club.unique():\n",
    "    managers = df.Manager[df.Club == club]"
   ]
  },
  {
   "cell_type": "code",
   "execution_count": 70,
   "metadata": {
    "ExecuteTime": {
     "end_time": "2017-11-24T11:56:09.310896",
     "start_time": "2017-11-24T11:56:09.279041"
    },
    "collapsed": false
   },
   "outputs": [
    {
     "data": {
      "text/plain": [
       "4        A Leslie Knighton\n",
       "361     Danny Blanchflower\n",
       "385            Dave Sexton\n",
       "449           Glenn Hoddle\n",
       "848              Ron Suart\n",
       "1014        Tommy Docherty\n",
       "1154            Graham Rix\n",
       "1165       Claudio Ranieri\n",
       "Name: Manager, dtype: object"
      ]
     },
     "execution_count": 70,
     "metadata": {},
     "output_type": "execute_result"
    }
   ],
   "source": [
    "df.Manager[df.Club==\"Chelsea\"]"
   ]
  },
  {
   "cell_type": "code",
   "execution_count": 86,
   "metadata": {
    "ExecuteTime": {
     "end_time": "2017-11-24T12:01:30.030949",
     "start_time": "2017-11-24T12:01:30.018254"
    },
    "collapsed": false
   },
   "outputs": [],
   "source": [
    "for club in df.Manager.unique():\n",
    "    if \"Jose Mourinho\" in club:\n",
    "        print(club)"
   ]
  },
  {
   "cell_type": "code",
   "execution_count": 80,
   "metadata": {
    "ExecuteTime": {
     "end_time": "2017-11-24T11:59:48.497381",
     "start_time": "2017-11-24T11:59:48.441758"
    },
    "collapsed": false
   },
   "outputs": [
    {
     "data": {
      "text/html": [
       "<div>\n",
       "<style>\n",
       "    .dataframe thead tr:only-child th {\n",
       "        text-align: right;\n",
       "    }\n",
       "\n",
       "    .dataframe thead th {\n",
       "        text-align: left;\n",
       "    }\n",
       "\n",
       "    .dataframe tbody tr th {\n",
       "        vertical-align: top;\n",
       "    }\n",
       "</style>\n",
       "<table border=\"1\" class=\"dataframe\">\n",
       "  <thead>\n",
       "    <tr style=\"text-align: right;\">\n",
       "      <th></th>\n",
       "      <th>Club</th>\n",
       "      <th>Manager</th>\n",
       "    </tr>\n",
       "  </thead>\n",
       "  <tbody>\n",
       "    <tr>\n",
       "      <th>1563</th>\n",
       "      <td>Man City</td>\n",
       "      <td>Josep Guardiola</td>\n",
       "    </tr>\n",
       "    <tr>\n",
       "      <th>1564</th>\n",
       "      <td>B Munich</td>\n",
       "      <td>Josep Guardiola</td>\n",
       "    </tr>\n",
       "    <tr>\n",
       "      <th>1565</th>\n",
       "      <td>Barcelona</td>\n",
       "      <td>Josep Guardiola</td>\n",
       "    </tr>\n",
       "  </tbody>\n",
       "</table>\n",
       "</div>"
      ],
      "text/plain": [
       "           Club          Manager\n",
       "1563   Man City  Josep Guardiola\n",
       "1564   B Munich  Josep Guardiola\n",
       "1565  Barcelona  Josep Guardiola"
      ]
     },
     "execution_count": 80,
     "metadata": {},
     "output_type": "execute_result"
    }
   ],
   "source": [
    "df[df.Manager==\"Josep Guardiola\"]"
   ]
  },
  {
   "cell_type": "code",
   "execution_count": 82,
   "metadata": {
    "ExecuteTime": {
     "end_time": "2017-11-24T12:01:00.850443",
     "start_time": "2017-11-24T12:01:00.755269"
    },
    "collapsed": false
   },
   "outputs": [
    {
     "name": "stdout",
     "output_type": "stream",
     "text": [
      "Man Utd Jose Mourinho\n",
      "Chelsea Jose Mourinho\n",
      "Real Madrid Jose Mourinho\n",
      "Inter Jose Mourinho\n",
      "Chelsea Jose Mourinho\n"
     ]
    }
   ],
   "source": [
    "r  = requests.get(\"http://www.soccerbase.com/managers/manager.sd?manager_id=1908\", headers=headers)\n",
    "manager_data_page = BeautifulSoup(r.text, 'html.parser')\n",
    "\n",
    "manager_name = manager_data_page.find('div', {\"class\":\"headlineBlock\"}).text.replace(\"\\n\",\"\")\n",
    "\n",
    "for club in manager_data_page.find_all('td', {\"class\":\"first bull\"}):\n",
    "    club_name = club.text\n",
    "    print(club_name, manager_name)"
   ]
  },
  {
   "cell_type": "code",
   "execution_count": 84,
   "metadata": {
    "ExecuteTime": {
     "end_time": "2017-11-24T12:01:13.812475",
     "start_time": "2017-11-24T12:01:13.797042"
    },
    "collapsed": false
   },
   "outputs": [
    {
     "data": {
      "text/plain": [
       "'-Jose Mourinho-'"
      ]
     },
     "execution_count": 84,
     "metadata": {},
     "output_type": "execute_result"
    }
   ],
   "source": [
    "\"-\"+manager_name+\"-\""
   ]
  }
 ],
 "metadata": {
  "kernelspec": {
   "display_name": "Python 3",
   "language": "python",
   "name": "python3"
  },
  "language_info": {
   "codemirror_mode": {
    "name": "ipython",
    "version": 3
   },
   "file_extension": ".py",
   "mimetype": "text/x-python",
   "name": "python",
   "nbconvert_exporter": "python",
   "pygments_lexer": "ipython3",
   "version": "3.6.0"
  },
  "toc": {
   "colors": {
    "hover_highlight": "#DAA520",
    "running_highlight": "#FF0000",
    "selected_highlight": "#FFD700"
   },
   "moveMenuLeft": true,
   "navigate_menu": false,
   "number_sections": true,
   "sideBar": false,
   "threshold": "0",
   "toc_cell": true,
   "toc_section_display": "block",
   "toc_window_display": false
  },
  "widgets": {
   "state": {
    "dc02867d508a43829dce05050b815d27": {
     "views": [
      {
       "cell_index": 12
      }
     ]
    }
   },
   "version": "1.2.0"
  }
 },
 "nbformat": 4,
 "nbformat_minor": 2
}
