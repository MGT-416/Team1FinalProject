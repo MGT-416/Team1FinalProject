{
 "cells": [
  {
   "cell_type": "markdown",
   "metadata": {
    "toc": true
   },
   "source": [
    "<h1>Table of Contents<span class=\"tocSkip\"></span></h1>\n",
    "<div class=\"toc\" style=\"margin-top: 1em;\"><ul class=\"toc-item\"><li><span><a href=\"#Goal\" data-toc-modified-id=\"Goal-1\"><span class=\"toc-item-num\">1&nbsp;&nbsp;</span>Goal</a></span></li><li><span><a href=\"#Imports\" data-toc-modified-id=\"Imports-2\"><span class=\"toc-item-num\">2&nbsp;&nbsp;</span>Imports</a></span></li><li><span><a href=\"#Build-Network\" data-toc-modified-id=\"Build-Network-3\"><span class=\"toc-item-num\">3&nbsp;&nbsp;</span>Build Network</a></span></li><li><span><a href=\"#Centralities\" data-toc-modified-id=\"Centralities-4\"><span class=\"toc-item-num\">4&nbsp;&nbsp;</span>Centralities</a></span></li></ul></div>"
   ]
  },
  {
   "cell_type": "markdown",
   "metadata": {},
   "source": [
    "# Goal"
   ]
  },
  {
   "cell_type": "markdown",
   "metadata": {},
   "source": [
    "Agents to clubs:\n",
    "* A club always deal with the same agents\n",
    "* Centralities"
   ]
  },
  {
   "cell_type": "markdown",
   "metadata": {},
   "source": [
    "# Imports"
   ]
  },
  {
   "cell_type": "code",
   "execution_count": 22,
   "metadata": {
    "ExecuteTime": {
     "end_time": "2017-12-09T15:09:33.355474Z",
     "start_time": "2017-12-09T15:09:33.344146Z"
    }
   },
   "outputs": [],
   "source": [
    "import networkx as nx\n",
    "import pprint\n",
    "import operator\n",
    "import pandas as pd"
   ]
  },
  {
   "cell_type": "markdown",
   "metadata": {},
   "source": [
    "# Build Network"
   ]
  },
  {
   "cell_type": "code",
   "execution_count": 47,
   "metadata": {
    "ExecuteTime": {
     "end_time": "2017-12-09T15:27:25.814749Z",
     "start_time": "2017-12-09T15:27:25.549414Z"
    }
   },
   "outputs": [
    {
     "data": {
      "text/html": [
       "<div>\n",
       "<style>\n",
       "    .dataframe thead tr:only-child th {\n",
       "        text-align: right;\n",
       "    }\n",
       "\n",
       "    .dataframe thead th {\n",
       "        text-align: left;\n",
       "    }\n",
       "\n",
       "    .dataframe tbody tr th {\n",
       "        vertical-align: top;\n",
       "    }\n",
       "</style>\n",
       "<table border=\"1\" class=\"dataframe\">\n",
       "  <thead>\n",
       "    <tr style=\"text-align: right;\">\n",
       "      <th></th>\n",
       "      <th>Player Name</th>\n",
       "      <th>Player Link</th>\n",
       "      <th>Player position</th>\n",
       "      <th>From club</th>\n",
       "      <th>To club</th>\n",
       "      <th>From competition</th>\n",
       "      <th>To competition</th>\n",
       "      <th>From manager</th>\n",
       "      <th>From manager link</th>\n",
       "      <th>To manager</th>\n",
       "      <th>To manager link</th>\n",
       "      <th>Market value</th>\n",
       "      <th>Fee</th>\n",
       "      <th>Age</th>\n",
       "      <th>From manager agent</th>\n",
       "      <th>To manager agent</th>\n",
       "      <th>Player Agent</th>\n",
       "      <th>Transfer Type</th>\n",
       "      <th>Transfer Value</th>\n",
       "    </tr>\n",
       "  </thead>\n",
       "  <tbody>\n",
       "    <tr>\n",
       "      <th>5144</th>\n",
       "      <td>filippo-boccardi</td>\n",
       "      <td>/filippo-boccardi/profil/spieler/256682</td>\n",
       "      <td>Centre-Forward</td>\n",
       "      <td>Viterbese</td>\n",
       "      <td>Gavorrano</td>\n",
       "      <td>Serie D - Girone G</td>\n",
       "      <td>Serie D - Girone E</td>\n",
       "      <td>Federico Nofri</td>\n",
       "      <td>/federico-nofri/profil/trainer/42863</td>\n",
       "      <td>Vitaliano Bonuccelli</td>\n",
       "      <td>/vitaliano-bonuccelli/profil/trainer/43672</td>\n",
       "      <td>75 Th. €</td>\n",
       "      <td>?</td>\n",
       "      <td>19.008333</td>\n",
       "      <td>NaN</td>\n",
       "      <td>NaN</td>\n",
       "      <td>NaN</td>\n",
       "      <td>free</td>\n",
       "      <td>0.0</td>\n",
       "    </tr>\n",
       "    <tr>\n",
       "      <th>22207</th>\n",
       "      <td>jose-carlos-perez</td>\n",
       "      <td>/jose-carlos-perez/profil/spieler/214827</td>\n",
       "      <td>Defensive Midfield</td>\n",
       "      <td>Santos FC</td>\n",
       "      <td>Cartaginés</td>\n",
       "      <td>Primera División Verano</td>\n",
       "      <td>Primera División Verano</td>\n",
       "      <td>Johnny Chaves</td>\n",
       "      <td>/johnny-chaves/profil/trainer/22965</td>\n",
       "      <td>Eduardo Méndez</td>\n",
       "      <td>/eduardo-mendez/profil/trainer/23008</td>\n",
       "      <td>200 Th. €</td>\n",
       "      <td>?</td>\n",
       "      <td>28.041667</td>\n",
       "      <td>NaN</td>\n",
       "      <td>NaN</td>\n",
       "      <td>NaN</td>\n",
       "      <td>free</td>\n",
       "      <td>0.0</td>\n",
       "    </tr>\n",
       "    <tr>\n",
       "      <th>43027</th>\n",
       "      <td>eduards-visnakovs</td>\n",
       "      <td>/eduards-visnakovs/profil/spieler/127437</td>\n",
       "      <td>Centre-Forward</td>\n",
       "      <td>KVC Westerlo</td>\n",
       "      <td>Ruch Chorzow</td>\n",
       "      <td>Jupiler Pro League</td>\n",
       "      <td>Ekstraklasa</td>\n",
       "      <td>Bob Peeters</td>\n",
       "      <td>/bob-peeters/profil/trainer/14119</td>\n",
       "      <td>Waldemar Fornalik</td>\n",
       "      <td>/waldemar-fornalik/profil/trainer/2469</td>\n",
       "      <td>600 Th. €</td>\n",
       "      <td>Loan</td>\n",
       "      <td>26.025000</td>\n",
       "      <td>NaN</td>\n",
       "      <td>NaN</td>\n",
       "      <td>Relatives</td>\n",
       "      <td>loan</td>\n",
       "      <td>0.0</td>\n",
       "    </tr>\n",
       "    <tr>\n",
       "      <th>16768</th>\n",
       "      <td>billy-bodin</td>\n",
       "      <td>/billy-bodin/profil/spieler/130229</td>\n",
       "      <td>Left Wing</td>\n",
       "      <td>Northampt. Town</td>\n",
       "      <td>Bristol Rovers</td>\n",
       "      <td>League Two</td>\n",
       "      <td>League Two</td>\n",
       "      <td>Chris Wilder</td>\n",
       "      <td>/chris-wilder/profil/trainer/15289</td>\n",
       "      <td>Darrell Clarke</td>\n",
       "      <td>/darrell-clarke/profil/trainer/21829</td>\n",
       "      <td>50 Th. €</td>\n",
       "      <td>Free transfer</td>\n",
       "      <td>23.033333</td>\n",
       "      <td>NaN</td>\n",
       "      <td>NaN</td>\n",
       "      <td>NaN</td>\n",
       "      <td>free</td>\n",
       "      <td>0.0</td>\n",
       "    </tr>\n",
       "    <tr>\n",
       "      <th>6914</th>\n",
       "      <td>eirik-johansen</td>\n",
       "      <td>/eirik-johansen/profil/spieler/121387</td>\n",
       "      <td>Keeper</td>\n",
       "      <td>NYCFC</td>\n",
       "      <td>Wilmington</td>\n",
       "      <td>Major League Soccer</td>\n",
       "      <td>USL Pro</td>\n",
       "      <td>Jason Kreis</td>\n",
       "      <td>/jason-kreis/profil/trainer/6357</td>\n",
       "      <td>Carson Porter</td>\n",
       "      <td>/carson-porter/profil/trainer/39630</td>\n",
       "      <td>300 Th. €</td>\n",
       "      <td>Loan</td>\n",
       "      <td>22.083333</td>\n",
       "      <td>NaN</td>\n",
       "      <td>NaN</td>\n",
       "      <td>Jim Solbakken</td>\n",
       "      <td>loan</td>\n",
       "      <td>0.0</td>\n",
       "    </tr>\n",
       "  </tbody>\n",
       "</table>\n",
       "</div>"
      ],
      "text/plain": [
       "             Player Name                               Player Link  \\\n",
       "5144    filippo-boccardi   /filippo-boccardi/profil/spieler/256682   \n",
       "22207  jose-carlos-perez  /jose-carlos-perez/profil/spieler/214827   \n",
       "43027  eduards-visnakovs  /eduards-visnakovs/profil/spieler/127437   \n",
       "16768        billy-bodin        /billy-bodin/profil/spieler/130229   \n",
       "6914      eirik-johansen     /eirik-johansen/profil/spieler/121387   \n",
       "\n",
       "          Player position        From club         To club  \\\n",
       "5144       Centre-Forward        Viterbese       Gavorrano   \n",
       "22207  Defensive Midfield        Santos FC      Cartaginés   \n",
       "43027      Centre-Forward     KVC Westerlo    Ruch Chorzow   \n",
       "16768           Left Wing  Northampt. Town  Bristol Rovers   \n",
       "6914               Keeper            NYCFC      Wilmington   \n",
       "\n",
       "              From competition           To competition    From manager  \\\n",
       "5144        Serie D - Girone G       Serie D - Girone E  Federico Nofri   \n",
       "22207  Primera División Verano  Primera División Verano   Johnny Chaves   \n",
       "43027       Jupiler Pro League              Ekstraklasa     Bob Peeters   \n",
       "16768               League Two               League Two    Chris Wilder   \n",
       "6914       Major League Soccer                  USL Pro     Jason Kreis   \n",
       "\n",
       "                          From manager link            To manager  \\\n",
       "5144   /federico-nofri/profil/trainer/42863  Vitaliano Bonuccelli   \n",
       "22207   /johnny-chaves/profil/trainer/22965        Eduardo Méndez   \n",
       "43027     /bob-peeters/profil/trainer/14119     Waldemar Fornalik   \n",
       "16768    /chris-wilder/profil/trainer/15289        Darrell Clarke   \n",
       "6914       /jason-kreis/profil/trainer/6357         Carson Porter   \n",
       "\n",
       "                                  To manager link Market value            Fee  \\\n",
       "5144   /vitaliano-bonuccelli/profil/trainer/43672     75 Th. €              ?   \n",
       "22207        /eduardo-mendez/profil/trainer/23008    200 Th. €              ?   \n",
       "43027      /waldemar-fornalik/profil/trainer/2469    600 Th. €           Loan   \n",
       "16768        /darrell-clarke/profil/trainer/21829     50 Th. €  Free transfer   \n",
       "6914          /carson-porter/profil/trainer/39630    300 Th. €           Loan   \n",
       "\n",
       "             Age From manager agent To manager agent    Player Agent  \\\n",
       "5144   19.008333                NaN              NaN             NaN   \n",
       "22207  28.041667                NaN              NaN             NaN   \n",
       "43027  26.025000                NaN              NaN      Relatives    \n",
       "16768  23.033333                NaN              NaN             NaN   \n",
       "6914   22.083333                NaN              NaN  Jim Solbakken    \n",
       "\n",
       "      Transfer Type  Transfer Value  \n",
       "5144           free             0.0  \n",
       "22207          free             0.0  \n",
       "43027          loan             0.0  \n",
       "16768          free             0.0  \n",
       "6914           loan             0.0  "
      ]
     },
     "execution_count": 47,
     "metadata": {},
     "output_type": "execute_result"
    }
   ],
   "source": [
    "df = pd.read_csv(\"data/data_complete.csv\", index_col=0)\n",
    "df.sample(5)"
   ]
  },
  {
   "cell_type": "code",
   "execution_count": 63,
   "metadata": {
    "ExecuteTime": {
     "end_time": "2017-12-09T15:29:42.091543Z",
     "start_time": "2017-12-09T15:29:38.569898Z"
    }
   },
   "outputs": [],
   "source": [
    "# Player agent to Manager Agent To\n",
    "G = nx.DiGraph()\n",
    "\n",
    "\n",
    "for row in df.iterrows():\n",
    "    player_agent = row[1]['Player Agent']\n",
    "    to_agent = row[1][\"To manager agent\"]\n",
    "    if str(player_agent) != 'nan' and str(to_agent) != 'nan':\n",
    "        if G.has_edge(player_agent, to_agent):\n",
    "            G[player_agent][to_agent]['nbrTransfer'] += 1\n",
    "            G[player_agent][to_agent]['totalValue'] += float(row[1]['Transfer Value'])\n",
    "        else:\n",
    "            G.add_edge(player_agent, to_agent, nbrTransfer=1, totalValue=float(row[1]['Transfer Value']))"
   ]
  },
  {
   "cell_type": "code",
   "execution_count": 64,
   "metadata": {
    "ExecuteTime": {
     "end_time": "2017-12-09T15:29:44.171556Z",
     "start_time": "2017-12-09T15:29:44.148523Z"
    }
   },
   "outputs": [
    {
     "name": "stdout",
     "output_type": "stream",
     "text": [
      "Name: \n",
      "Type: DiGraph\n",
      "Number of nodes: 1168\n",
      "Number of edges: 2946\n",
      "Average in degree:   2.5223\n",
      "Average out degree:   2.5223\n"
     ]
    }
   ],
   "source": [
    "print(nx.info(G))"
   ]
  },
  {
   "cell_type": "markdown",
   "metadata": {},
   "source": [
    "# Centralities"
   ]
  },
  {
   "cell_type": "code",
   "execution_count": 72,
   "metadata": {
    "ExecuteTime": {
     "end_time": "2017-12-09T15:31:35.553722Z",
     "start_time": "2017-12-09T15:31:35.498969Z"
    }
   },
   "outputs": [
    {
     "data": {
      "text/plain": [
       "[('no agent ', 310),\n",
       " ('Relatives ', 139),\n",
       " ('Not clarified ', 57),\n",
       " ('SEG ', 48),\n",
       " ('Promoesport ', 44),\n",
       " ('YOU FIRST SPORTS  ', 35),\n",
       " ('PRO Profil GmbH ', 32),\n",
       " ('ROGON ', 31),\n",
       " ('Stars & Friends ', 30),\n",
       " ('IFM ', 27),\n",
       " ('Gestifute ', 25),\n",
       " ('Proeleven Gestão Desportiva Lda ', 25),\n",
       " ('M.A.R.A.T. Football Management srl ', 24),\n",
       " ('arena11 sports group ', 23),\n",
       " ('LIAN SPORTS ', 20)]"
      ]
     },
     "execution_count": 72,
     "metadata": {},
     "output_type": "execute_result"
    }
   ],
   "source": [
    "outDegree_Centrality_Weight = G.out_degree(weight='nbrTransfer')\n",
    "c_sort = sorted(dict(outDegree_Centrality_Weight).items(), key=operator.itemgetter(1), reverse=True)[:15]\n",
    "c_sort"
   ]
  },
  {
   "cell_type": "code",
   "execution_count": 73,
   "metadata": {
    "ExecuteTime": {
     "end_time": "2017-12-09T15:31:50.983790Z",
     "start_time": "2017-12-09T15:31:50.957616Z"
    }
   },
   "outputs": [
    {
     "data": {
      "text/plain": [
       "[('no agent ', 346),\n",
       " ('EUROPE SPORTS GROUP ', 133),\n",
       " ('Marco Kirdemir ', 99),\n",
       " ('SEG ', 97),\n",
       " ('buchberger.network ... ', 72),\n",
       " ('EKIPA Football ... ', 68),\n",
       " ('Gestifute ', 53),\n",
       " ('Elite Consulting ... ', 52),\n",
       " ('Promoesport ', 50),\n",
       " ('Proeleven Gestão ... ', 49),\n",
       " ('S-C&M; ', 49),\n",
       " ('Grupo Santos Idub ', 48),\n",
       " ('Siebert & Backs ', 46),\n",
       " ('Ronny Zeller ... ', 44),\n",
       " ('Relatives ', 43)]"
      ]
     },
     "execution_count": 73,
     "metadata": {},
     "output_type": "execute_result"
    }
   ],
   "source": [
    "inDegree_Centrality_Weight = G.in_degree(weight='nbrTransfer')\n",
    "c_sort = sorted(dict(inDegree_Centrality_Weight).items(), key=operator.itemgetter(1), reverse=True)[:15]\n",
    "c_sort"
   ]
  },
  {
   "cell_type": "code",
   "execution_count": 75,
   "metadata": {
    "ExecuteTime": {
     "end_time": "2017-12-09T15:32:40.668485Z",
     "start_time": "2017-12-09T15:32:40.632660Z"
    }
   },
   "outputs": [
    {
     "data": {
      "text/plain": [
       "[('Not clarified ', 301515000.0),\n",
       " ('Relatives ', 216645000.0),\n",
       " ('Mino Raiola ', 151700000.0),\n",
       " ('Gestifute ', 118250000.0),\n",
       " ('J&S; International ', 75500000.0),\n",
       " ('Family & Football ', 68000000.0),\n",
       " ('Stellar Football Ltd ', 67000000.0),\n",
       " ('Promoesport ', 66810000.0),\n",
       " ('no agent ', 64710000.0),\n",
       " ('Haspel Sportconsulting ', 64400000.0),\n",
       " ('ROGON ', 63650000.0),\n",
       " ('Colossal Sports Management ', 62500000.0),\n",
       " ('arena11 sports group ', 59700000.0),\n",
       " ('EM Soccer ', 58800000.0),\n",
       " ('Star Management Signings Ltd. ', 55600000.0)]"
      ]
     },
     "execution_count": 75,
     "metadata": {},
     "output_type": "execute_result"
    }
   ],
   "source": [
    "outDegree_Centrality_Weight = G.out_degree(weight='totalValue')\n",
    "c_sort = sorted(dict(outDegree_Centrality_Weight).items(), key=operator.itemgetter(1), reverse=True)[:15]\n",
    "c_sort"
   ]
  },
  {
   "cell_type": "code",
   "execution_count": 76,
   "metadata": {
    "ExecuteTime": {
     "end_time": "2017-12-09T15:32:47.214070Z",
     "start_time": "2017-12-09T15:32:47.151233Z"
    }
   },
   "outputs": [
    {
     "data": {
      "text/plain": [
       "[('no agent ', 618070000.0),\n",
       " ('Gestifute ', 477950000.0),\n",
       " ('Media Base Sports ', 255100000.0),\n",
       " ('Milan Calasan ', 150750000.0),\n",
       " ('Relatives ', 140430000.0),\n",
       " ('Uwe Kathmann ', 138150000.0),\n",
       " ('Dr. Olaf Meinking ', 132500000.0),\n",
       " ('EUROPE SPORTS GROUP ', 129209000.0),\n",
       " ('Manuel García ... ', 125750000.0),\n",
       " ('Grupo Santos Idub ', 120300000.0),\n",
       " ('International Foot ', 115250000.0),\n",
       " ('Alessandro ... ', 111300000.0),\n",
       " ('Wasserman ... ', 108650000.0),\n",
       " ('Eugenio Botas ... ', 104400000.0),\n",
       " ('PUM ', 95500000.0)]"
      ]
     },
     "execution_count": 76,
     "metadata": {},
     "output_type": "execute_result"
    }
   ],
   "source": [
    "inDegree_Centrality_Weight = G.in_degree(weight='totalValue')\n",
    "c_sort = sorted(dict(inDegree_Centrality_Weight).items(), key=operator.itemgetter(1), reverse=True)[:15]\n",
    "c_sort"
   ]
  }
 ],
 "metadata": {
  "kernelspec": {
   "display_name": "Python 3",
   "language": "python",
   "name": "python3"
  },
  "language_info": {
   "codemirror_mode": {
    "name": "ipython",
    "version": 3
   },
   "file_extension": ".py",
   "mimetype": "text/x-python",
   "name": "python",
   "nbconvert_exporter": "python",
   "pygments_lexer": "ipython3",
   "version": "3.6.0"
  },
  "toc": {
   "nav_menu": {},
   "number_sections": true,
   "sideBar": true,
   "skip_h1_title": false,
   "toc_cell": true,
   "toc_position": {},
   "toc_section_display": "block",
   "toc_window_display": false
  }
 },
 "nbformat": 4,
 "nbformat_minor": 2
}
