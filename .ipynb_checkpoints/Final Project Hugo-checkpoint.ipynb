{
 "cells": [
  {
   "cell_type": "markdown",
   "metadata": {},
   "source": [
    "# Football Network Analysis"
   ]
  },
  {
   "cell_type": "markdown",
   "metadata": {},
   "source": [
    "Imports"
   ]
  },
  {
   "cell_type": "code",
   "execution_count": 1,
   "metadata": {
    "collapsed": true
   },
   "outputs": [],
   "source": [
    "# Pandas to reimport csv data\n",
    "import pandas as pd\n",
    "\n",
    "# Numpy for array manipulation\n",
    "import numpy as np\n",
    "\n",
    "# NetworkX\n",
    "import networkx as nx\n",
    "\n",
    "import ndlib.models.ModelConfig as mc"
   ]
  },
  {
   "cell_type": "code",
   "execution_count": 2,
   "metadata": {
    "collapsed": true
   },
   "outputs": [],
   "source": [
    "Transfer = nx.read_gml(\"networks/transfers_transfer_network.gml\")"
   ]
  },
  {
   "cell_type": "code",
   "execution_count": 3,
   "metadata": {
    "collapsed": false
   },
   "outputs": [
    {
     "name": "stdout",
     "output_type": "stream",
     "text": [
      "Name: transfer\n",
      "Type: MultiDiGraph\n",
      "Number of nodes: 1124\n",
      "Number of edges: 2913\n",
      "Average in degree:   2.5916\n",
      "Average out degree:   2.5916\n"
     ]
    }
   ],
   "source": [
    "print(nx.info(Transfer))"
   ]
  },
  {
   "cell_type": "code",
   "execution_count": 4,
   "metadata": {
    "collapsed": false
   },
   "outputs": [
    {
     "ename": "TypeError",
     "evalue": "unhashable type: 'slice'",
     "output_type": "error",
     "traceback": [
      "\u001b[0;31m---------------------------------------------------------------------------\u001b[0m",
      "\u001b[0;31mTypeError\u001b[0m                                 Traceback (most recent call last)",
      "\u001b[0;32m<ipython-input-4-da4a8fa982cb>\u001b[0m in \u001b[0;36m<module>\u001b[0;34m()\u001b[0m\n\u001b[0;32m----> 1\u001b[0;31m \u001b[0mprint\u001b[0m\u001b[0;34m(\u001b[0m\u001b[0mTransfer\u001b[0m\u001b[0;34m.\u001b[0m\u001b[0medge\u001b[0m\u001b[0;34m[\u001b[0m\u001b[0;34m'Nordsjaelland'\u001b[0m\u001b[0;34m]\u001b[0m\u001b[0;34m[\u001b[0m\u001b[0;34m:\u001b[0m\u001b[0;34m]\u001b[0m\u001b[0;34m)\u001b[0m\u001b[0;31m#['Chievo Verona'][0])\u001b[0m\u001b[0;34m\u001b[0m\u001b[0m\n\u001b[0m\u001b[1;32m      2\u001b[0m \u001b[0;31m#print(Transfer.edge[:]['Chievo Verona'][0])\u001b[0m\u001b[0;34m\u001b[0m\u001b[0;34m\u001b[0m\u001b[0m\n",
      "\u001b[0;31mTypeError\u001b[0m: unhashable type: 'slice'"
     ]
    }
   ],
   "source": [
    "print(Transfer.edge['Nordsjaelland'][:])#['Chievo Verona'][0])\n",
    "#print(Transfer.edge[:]['Chievo Verona'][0])"
   ]
  },
  {
   "cell_type": "markdown",
   "metadata": {},
   "source": [
    "# Money Infection analysis"
   ]
  },
  {
   "cell_type": "markdown",
   "metadata": {},
   "source": [
    "### Calculate node infection probability\n",
    "\n",
    "$$ Res = 0.8\\cdot \\text{in_degree[money]}+0.2\\cdot \\text{out_degree[money]} $$\n",
    "\n",
    "$$ beta = Res/max_res $$ "
   ]
  },
  {
   "cell_type": "code",
   "execution_count": 12,
   "metadata": {
    "collapsed": false
   },
   "outputs": [
    {
     "data": {
      "text/plain": [
       "'Nordsjaelland'"
      ]
     },
     "execution_count": 12,
     "metadata": {},
     "output_type": "execute_result"
    }
   ],
   "source": [
    "test_node = Transfer.nodes()[0]\n",
    "test_node"
   ]
  },
  {
   "cell_type": "code",
   "execution_count": 18,
   "metadata": {
    "collapsed": false
   },
   "outputs": [
    {
     "data": {
      "text/plain": [
       "2"
      ]
     },
     "execution_count": 18,
     "metadata": {},
     "output_type": "execute_result"
    }
   ],
   "source": [
    "Transfer.in_degree(test_node)"
   ]
  },
  {
   "cell_type": "code",
   "execution_count": 67,
   "metadata": {
    "collapsed": false
   },
   "outputs": [],
   "source": [
    "max_out_transfer = {}\n",
    "max_in_transfer = {} \n",
    "\n",
    "for u,v in Transfer.edges():\n",
    "    for link_i in Transfer.edge[u][v]:\n",
    "        try:\n",
    "            if(Transfer.edge[u][v][link_i]['transferValue'] > max_out_transfer[u]):\n",
    "                max_out_transfer[u] = float(Transfer.edge[u][v][link_i]['transferValue'])\n",
    "        except:\n",
    "            max_out_transfer[u] = float(Transfer.edge[u][v][link_i]['transferValue'])\n",
    "        \n",
    "        try:\n",
    "            if(Transfer.edge[u][v][link_i]['transferValue'] > max_in_transfer[v]):\n",
    "                max_in_transfer[v] = float(Transfer.edge[u][v][link_i]['transferValue'])\n",
    "        except:\n",
    "            max_in_transfer[v] = float(Transfer.edge[u][v][link_i]['transferValue'])"
   ]
  },
  {
   "cell_type": "code",
   "execution_count": 61,
   "metadata": {
    "collapsed": false
   },
   "outputs": [
    {
     "data": {
      "text/plain": [
       "952"
      ]
     },
     "execution_count": 61,
     "metadata": {},
     "output_type": "execute_result"
    }
   ],
   "source": [
    "len(max_out_transfer)"
   ]
  },
  {
   "cell_type": "code",
   "execution_count": 62,
   "metadata": {
    "collapsed": false
   },
   "outputs": [
    {
     "data": {
      "text/plain": [
       "669"
      ]
     },
     "execution_count": 62,
     "metadata": {},
     "output_type": "execute_result"
    }
   ],
   "source": [
    "len(max_in_transfer)"
   ]
  },
  {
   "cell_type": "code",
   "execution_count": 68,
   "metadata": {
    "collapsed": true
   },
   "outputs": [],
   "source": [
    "for node in Transfer.nodes():\n",
    "    try:\n",
    "        max_out_transfer[node]\n",
    "    except:\n",
    "        max_out_transfer[node]=0\n",
    "    try:\n",
    "        max_in_transfer[node]\n",
    "    except:\n",
    "        max_in_transfer[node]=0"
   ]
  },
  {
   "cell_type": "code",
   "execution_count": 100,
   "metadata": {
    "collapsed": false
   },
   "outputs": [],
   "source": [
    "beta = {}\n",
    "for node in Transfer.nodes():\n",
    "    if max_out_transfer[node] == 0 : \n",
    "        coef_out_transfer = 0\n",
    "    else : \n",
    "        coef_out_transfer = np.log(1/max_out_transfer[node]+1)\n",
    "    if max_in_transfer[node] == 0 : \n",
    "        coef_in_transfer =0\n",
    "    else : \n",
    "        coef_in_transfer = np.log(1/max_in_transfer[node]+1)\n",
    "    beta[node] = 0.2*coef_out_transfer+0.8*coef_in_transfer"
   ]
  },
  {
   "cell_type": "code",
   "execution_count": 113,
   "metadata": {
    "collapsed": true
   },
   "outputs": [],
   "source": [
    "beta = {}\n",
    "for node in Transfer.nodes():\n",
    "    beta[node] = 0.8*max_out_transfer[node]+0.2*max_in_transfer[node]"
   ]
  },
  {
   "cell_type": "code",
   "execution_count": 114,
   "metadata": {
    "collapsed": false,
    "scrolled": true
   },
   "outputs": [
    {
     "name": "stdout",
     "output_type": "stream",
     "text": [
      "{'Nordsjaelland': 220000.0, 'Chievo Verona': 460000.0, 'Hannover 96': 1600000.0, 'GZ R&F;': 5960000.0, 'Rosenborg BK': 1680000.0, 'Bor. Dortmund': 1950000.0, 'Norrköping': 630000.0, 'Viborg FF': 340000.0, 'FC Utrecht': 2860000.0, 'Bursaspor': 2412000.0, 'Steaua Bukarest': 850000.0, 'Cagliari Calcio': 430000.0, 'Sampdoria': 11200000.0, 'Swansea': 19728000.0, 'Genoa': 2060000.0, 'FSV Frankfurt': 260000.0, 'Greuther Fürth': 180000.0, 'Stoke City': 1899000.0, \"Bor. M'gladbach\": 880000.0, '1. FC Köln': 2700000.0, 'Besiktas': 6400000.0, 'Sevilla FC': 5160000.0, 'Leicester': 5740000.0, 'Cerezo Osaka': 1100000.0, 'HB CFFC': 720000.0, 'GZ Evergrande': 6000000.0, 'Djurgardens IF': 1363000.0, 'FC Groningen': 360000.0, 'Saint-Étienne': 900000.0, 'FC Augsburg': 1100000.0, 'VfB Stuttgart': 1160000.0, \"1.FC K'lautern\": 100000.0, 'Bay. Leverkusen': 4560000.0, 'FC St. Pauli': 1650000.0, 'Galatasaray': 1340000.0, 'Bayern Munich ': 18000000.0, 'Man City': 1264000.0, 'Man Utd': 22440000.0, 'VfL Wolfsburg': 10380000.0, 'Lazio': 17700000.0, 'Rapid Vienna': 1460000.0, 'E. Braunschweig': 860000.0, 'Zulte Waregem': 120000.0, 'Al-Shabab': 2200000.0, 'PSV Eindhoven': 9220000.0, 'Sassuolo': 10650000.0, 'Kasimpasa': 3250000.0, 'K. Erciyesspor': 73000.0, 'Sivasspor': 1900000.0, 'Fenerbahce': 7480000.0, 'Hamburger SV': 210000.0, 'Villarreal CF': 3840000.0, 'KSC Lokeren': 940000.0, 'Al-Wahda FC': 620000.0, 'Ahli': 1702000.0, 'Qarabag Agdam': 160000.0, 'Shabab': 1120000.0, 'Fluminense': 13400000.000000002, 'Nasr': 2920000.0, 'Ahly': 4060000.0, 'Tigres': 4920000.0, 'Sport Recife': 865600.0, 'SIPG': 566400.0, 'Chelsea': 8400000.0, 'SH Shenxin': 958000.0, 'Atlético-MG': 6600000.0, 'AS Roma': 7240000.0, 'Club Brugge': 4860000.0, 'TJ Quanjian': 1960000.0, 'YB Funde': 300000.0, 'Valencia CF': 34700000.0, 'Royal Antwerp': 130000.0, 'Watford': 6760000.0, 'Espanyol': 660000.0, 'CD Cruz Azul': 564000.0, 'Paris SG': 30000000.0, 'Slo. Bratislava': 100000.0, 'Termalica': 16000.0, 'Avellino': 1350000.0, 'Fiorentina': 1540000.0, 'Eskisehirspor': 1700000.0, 'Trabzonspor': 1940000.0, 'Akhisarspor': 481600.0, 'SH Shenhua': 600000.0, 'Göztepe': 65400.0, 'FC Lorient': 9960000.0, 'Gaziantep BB': 40000.0, 'BB Erzurumspor': 9200.0, 'Sporting CP': 24722000.0, 'Olympiacos': 5840000.0, 'Wolfsburg II': 80000.0, 'Celta de Vigo': 14640000.0, 'TSG Hoffenheim': 827600.0, 'RB Leipzig': 3360000.0, 'Alavés': 12000.0, 'AC Milan': 1700000.0, 'Birmingham': 4200000.0, 'Sheff Wed': 368000.0, 'FC Porto': 486400.0, 'Derby': 9780000.0, 'West Brom': 3220000.0, 'AFC Ajax': 11500000.0, 'Spurs': 8846000.0, '1.FSV Mainz 05': 400000.0, 'SC Freiburg': 1100000.0, 'MSV Duisburg': 10000.0, 'Málaga CF': 140000.0, 'Baniyas SC': 178000.0, 'Atlético Madrid': 14950000.0, 'FC Ingolstadt': 2100000.0, 'Gaziantepspor': 2234000.0, 'FC Twente': 8810000.0, 'VfL Bochum': 1060000.0, 'Bröndby IF': 294000.0, 'KV Oostende': 3300000.0, 'Werder Bremen': 100000.0, 'Liverpool': 4600000.0, 'Torino': 800000.0, 'E. Frankfurt': 2250000.0, 'Austria Vienna': 840000.0, 'Lechia Gdansk': 60000.0, 'Brentford': 1980000.0, '1860 Munich': 400000.0, 'Wolves': 735400.0, 'FUS Rabat': 204000.0, 'Wydad AC': 333800.0, 'Ittihad Kalba': 73400.0, 'FC Luzern': 740000.0, 'Atalanta': 3300000.0, 'Rizespor': 1827200.0, 'León': 4520000.0, 'Latina Calcio': 860000.0, 'SSC Napoli': 2750000.0, 'Middlesbrough': 5180000.0, 'Udinese Calcio': 900000.0, 'Getafe CF': 1840000.0, 'JS Guoxin Sainty': 450000.0, 'FC Barcelona': 19400000.0, 'FC Schalke 04': 40040000.0, 'Real Madrid': 21000000.0, 'SD Eibar': 4640000.0, 'Bournemouth': 1700000.0, 'Southampton': 15200000.0, 'Arsenal': 4800000.0, 'JS Suning': 10260000.0, 'Sunderland': 1020000.0, 'Reading': 4737000.0, 'Bristol City': 10560000.0, 'Newcastle': 28580000.0, 'Aston Villa': 5280000.0, 'Wigan': 1188000.0, 'Genclerbirligi': 430000.0, 'Leeds': 5735000.0, 'Cherno More': 80000.0, 'Levski Sofia': 40000.0, 'Diósgyőr': 360000.0, 'Lech Poznan': 2580000.0, '1.FC Heidenheim': 280000.0, 'Konyaspor': 118400.0, 'Everton': 47060000.0, 'Norwich': 1010000.0, 'Luton Town': 232000.0, 'Vitesse': 2390000.0, 'Marseille': 9200000.0, 'Celtic': 1909400.0, 'Monaco': 1400000.0, 'UD Almería': 900000.0, 'Gillingham FC': 140000.0, 'Swindon Town': 814000.0, 'QPR': 1084000.0, 'Charlton': 1100000.0, 'Slavia Sofia': 120000.0, 'Cracovia Kraków': 4040000.0, 'FC St. Gallen': 140000.0, 'Stade Rennais': 1014000.0, 'Partizan': 90000.0, 'Zaglebie Lubin': 250000.0, 'Toulouse': 7680000.0, 'Union Berlin': 2850000.0, 'Maccabi Haifa': 1030000.0, 'FC Astana': 36000.0, 'Benfica B': 1320000.0, 'SZ FC': 200000.0, 'Real Betis': 6850000.0, 'Legia Warszawa': 830000.0, 'Arouca': 880000.0, 'FC Nantes': 836000.0, 'AJ Auxerre': 740000.0, 'Kayserispor': 900000.0, 'Internacional': 6455000.0, 'SM Caen': 6500000.0, 'KAA Gent': 5248400.0, 'Standard Liège': 460000.0, 'Philadelphia': 395000.0, 'Arezzo': 64000.0, 'Perugia': 720000.0, 'Catania': 848000.0, 'Bourg-en-Bresse': 720000.0, 'LOSC Lille': 4100000.0, 'RSC Anderlecht': 4400000.0, 'Liverpool U23': 2400000.0, 'Al-Gharafa': 1360000.0, 'Al-Ahli': 20000.0, 'Ludogorets': 180000.0, 'Tractor Sazi': 100000.0, 'CS U Craiova': 20000.0, 'FK Teplice': 335000.0, 'Viktoria Plzen': 680000.0, 'São Paulo': 2483000.0, 'Grêmio': 6500000.0, 'RB Salzburg': 8040000.0, 'EC Vitória': 79000.0, 'CQ Dangdai Lif.': 1000000.0, 'Zenit S-Pb': 19900000.0, 'Viking': 814000.0, 'FC Copenhagen': 640000.0, 'Antalyaspor': 1140000.0, 'Al-Ahli (UAE)': 1400000.0, 'Inter': 3300000.0, 'Loko Moscow': 15320000.0, 'Alanyaspor': 60000.0, 'Juventus': 84280000.0, 'Pescara': 6650000.0, 'Monterrey': 660000.0, 'Terek Grozny': 1660000.0, 'GKS Belchatow': 120000.0, 'HB Zhongji': 610000.0, 'SV Sandhausen': 20000.0, 'Hull City': 4790000.0, 'Hertha BSC': 3000000.0, 'G. Bordeaux': 820000.0, 'RC Rélizane': 240000.0, 'Al-Shahania': 60000.0, 'Tom Tomsk': 160000.0, 'Rubin Kazan': 2466000.0, 'Rostov': 4060000.0, 'UD Las Palmas': 80000.0, 'Estoril': 1280000.0, 'Karabükspor': 403400.0, 'CQ Lifan': 835600.0, 'Hilal': 9800000.0, 'FC Wil 1900': 50000.0, 'BJ Guoan': 2480000.0, 'Karlsruher SC': 640000.0, 'Guadalajara': 3460000.0, 'West Ham': 10640000.0, 'Al-Jazira': 9160000.0, 'Harras Hodoud': 280000.0, 'Wadi Degla ': 16000.0, 'Zamalek': 1390000.0, 'El Makasa': 236000.0, 'FC Basel': 200000.0, 'Wycombe': 424000.0, 'Crystal Palace': 6020000.0, 'Barnsley FC': 4850000.0, 'Chesterfield FC': 264000.0, 'Cardiff': 3305600.0, 'Burnley': 2920000.0, 'Sheffield Utd.': 1876000.0, 'Rangers': 1042400.0, 'Cádiz CF': 640000.0, 'Sevilla Atl.': 80000.0, 'Mordovia': 204400.0, 'Red Star': 1144000.0, 'Faisaly': 80000.0, 'Anzhi': 1240000.0, 'M. Tel Aviv': 5814000.0, 'Apol. Limassol': 5400000.0, 'Cruzeiro': 1734200.0, 'Dnipro': 2840000.0, 'HZ Greentown': 918000.0, 'Real Sociedad': 5800000.0, 'Reims': 2060000.0, 'Santa Cruz': 49000.0, 'EC Bahia': 593000.0, 'Al-Nasr': 600000.0, 'Al-Wasl': 88600.0, 'Vissel Kobe': 1320000.0, 'Vitesse U19': 30000.0, 'Corinthians': 2050000.0, 'US Palermo': 2380000.0, 'SD Luneng': 8860000.0, 'FC Empoli': 8400000.0, 'WH Zall': 2504000.0, 'KRC Genk': 3960000.0, 'Feyenoord': 540000.0, 'Chicago Fire': 1800000.0, 'HN Jianye': 1685600.0, 'Fulham': 11480000.0, 'Ittihad': 936600.0, 'Sharjah FC': 364000.0, 'LB Châteauroux': 3280000.0, 'Olympique Lyon': 20520000.0, 'Falkirk FC': 380000.0, 'Rotherham': 300000.0, 'Malmö': 2870000.0, 'Huddersfield': 4484000.0, 'FBC Melgar': 1200000.0, '1.FC Nuremberg': 1810000.0, 'OGC Nice': 12600000.0, 'FC Midtjylland': 2360000.0, 'Aarhus GF': 311000.0, 'Esbjerg fB': 430000.0, 'Sparta Praha': 340000.0, 'IFK Göteborg': 984000.0, 'Ipswich': 2942000.0, 'Slavia Prag': 680000.0, 'Bologna': 11700000.0, 'Ufa': 1612000.0, 'Slavija S.': 20000.0, 'Sloboda Tuzla': 5000.0, 'FK Senica': 120000.0, 'Podbeskidzie': 130000.0, 'MSK Zilina': 1670000.0, 'CD Lugo': 160000.0, 'Juan Aurich': 400000.0, 'Veracruz': 1218000.0, 'Chiapas FC': 1740000.0, 'Dinamo Zagreb': 472000.0, 'Fidelis Andria': 16000.0, 'Novara': 124000.0, 'FC Zürich': 760000.0, 'TOT SC': 228000.0, 'Buriram Utd.': 691400.0, 'Muangthong Utd.': 1246600.0, 'Balikesirspor': 140400.0, 'Benfica': 5560000.0, 'SV Darmstadt 98': 1300000.0, 'Radnik Bijelj.': 320000.0, 'IF Elfsborg': 480000.0, 'Heerenveen': 1820000.0, 'Dinamo Moscow': 1050000.0, 'Crotone': 3390000.0, 'PSV U21': 500000.0, 'Odds BK': 60000.0, 'Roda JC': 140000.0, 'Kuban Krasnodar': 2420000.0, 'Spartak Moscow': 1604000.0, 'AC Cesena': 340000.0, 'Ponte Preta': 651800.0, 'Braga': 5350000.0, 'SJZ Ever Bright': 400000.0, 'Krasnodar': 4560000.0, 'Vit. Guimarães': 1900000.0, 'Nottm Forest': 12400000.0, 'Athletic Bilbao': 1600000.0, 'Virtus Lanciano': 1360000.0, 'Pro Vercelli': 1430000.0, 'Boca Juniors': 4458000.0, 'CD Leganés': 480000.0, 'Újpest FC': 1750000.0, 'Club Africain': 23000.0, 'Spartak': 40000.0, 'Cortuluá': 1600000.0, 'Atl. Nacional': 4900000.0, 'Toluca': 1956000.0, 'Santos FC': 23644400.0, 'NK Zagreb': 160000.0, 'Rio Ave FC': 400000.0, 'NK Osijek': 280000.0, 'Anorthosis': 485000.0, 'FK Sarajevo': 150000.0, 'HNK Rijeka': 1616000.0, 'Esperance': 262400.0, 'Khaleej': 18000.0, 'Marítimo': 975000.0, 'ES Sahel': 1640000.0, 'CC Yatai': 752000.0, 'Porto B': 166000.0, 'USM Alger': 40000.0, 'Al-Sadd': 700000.0, 'Degerfors': 136000.0, 'Djurgardens U21': 320000.0, 'Schalke 04 U19': 80000.0, 'Waasl.-Beveren': 403000.0, 'Blackpool': 51000.8, 'Bradford City': 80000.2, 'Bolton': 2400000.0, 'AS Avellino': 140000.0, 'Sporting Gijón': 40000.0, 'Preston NE': 1411000.0, 'Volyn Lutsk': 400000.0, 'PAOK Saloniki': 2950000.0, 'Palmeiras': 2856000.0, 'Sheriff': 14000.0, 'Hamilton Acad.': 1040000.0, 'BJ Renhe': 976800.0, 'FC Botosani': 322000.0, 'Pandurii T.-Jiu': 444000.0, 'Yokohama F. M.': 360000.0, 'NEC Nijmegen': 2055000.0, 'Dinamo Bukarest': 596000.0, 'FC Tokyo': 600000.0, 'F. Düsseldorf': 380000.0, 'América': 4220000.0, 'Inverness Cal.': 160000.0, 'Empoli U19': 3380000.0, 'Juventus U19': 770000.0, 'Sampdoria U19': 80000.0, 'Hellas Verona': 4160000.0, 'Brescia': 640000.0, 'San Lorenzo': 1510000.0, 'MZ Hakka': 80000.0, 'VfL Bochum U19': 80000.0, 'RB Leipzig U19': 10000.0, 'NK Olimpija': 4060000.0, 'Carpi': 300000.0, 'Córdoba CF': 4100000.0, 'G. Ajaccio': 120000.0, 'AZ Alkmaar': 17760000.0, 'Belenenses': 1490000.0, 'Levante UD': 520000.0, 'Santos': 2420000.0, 'Chindia': 24000.0, 'Atromitos Athen': 486000.0, 'Sanliurfaspor ': 105000.0, 'Grudziadz': 20000.0, 'Wisla Kraków': 320000.0, 'Piast Gliwice': 16000.0, 'J. Bialystok': 2010000.0, 'ASV Geel': 24000.0, 'Lommel United': 6000.0, 'Bari': 410000.0, 'Salernitana': 440000.0, 'U. de Chile': 1456000.0, 'Trapani': 836000.0, 'Nacional': 1940000.0, 'Virtus Entella': 86000.0, 'Dynamo Kyiv': 14540000.0, 'Colorado': 900000.0, 'Estudiantes': 408000.0, 'Sturm Graz': 370000.0, 'Alessandria': 110000.0, 'Granada CF': 8150000.0, 'CF Pachuca': 8070000.0, 'Najran': 546400.0, 'Umm-Salal': 20000.0, 'Grasshoppers': 3240000.0, 'ADO Den Haag': 800000.0, 'Liaoning FC': 5820000.0, 'Ferencváros': 1520000.0, 'Dynamo Dresden': 30000.0, 'Raith Rovers': 76800.0, 'Dundee United': 352000.0, 'Heart of Midl.': 1576000.0, 'Ponferradina': 160000.0, 'QD Huanghai': 480000.0, 'Ramnicu Valcea': 80000.0, 'Strømsgodset': 619000.0, 'RM Castilla': 1400000.0, 'Kalmar': 1920000.0, 'Platanias': 200000.0, 'Panathinaikos': 140000.0, 'Asteras Tripoli': 2028000.0, 'Dijon': 1200000.0, 'Lens': 1430000.0, 'Junior FC': 1840000.0, 'BSC Young Boys': 1680000.0, 'Dep. La Coruña': 11240000.0, 'AS Béziers': 40000.0, 'Man City U21': 972000.0, 'FC Sion': 2476000.0, 'Brighton': 170000.0, 'Stade Brest 29': 80000.0, 'Qatar SC': 326800.0, 'Ittihad Tanger': 54200.0, 'Korona Kielce': 10400.0, 'Holstein Kiel': 400000.0, 'SC Paderborn': 230000.0, 'HB Köge': 200000.0, 'Blackburn': 5506000.0, 'Molde FK': 2660000.0, 'CA Vélez': 3200000.0, 'TJ Teda': 88000.0, 'FC Vaduz': 90000.0, 'Breidablik': 120000.0, 'Lilleström SK': 1230000.0, 'FC Seoul': 1600000.0, 'Los Angeles': 2870000.0, 'RNK Split': 286000.0, 'Basaksehir': 1740000.0, 'FC Ashdod': 900000.0, 'H. Beer Sheva': 100000.0, 'América-MG': 128000.0, 'Guingamp': 2150000.0, 'K. Offenbach': 24000.0, 'Stuttg. Kickers': 290000.0, 'Hallescher FC': 14000.0, 'Nîmes Olympique': 800000.0, 'SCO Angers': 3400000.0, 'US Créteil': 346400.0, 'Litex Lovetch': 2000000.0, 'Al-Ain FC': 7980000.0, 'Timbers': 1656000.0, 'Racing Club': 878000.0, 'B. Dortmund II': 480000.0, 'DL Aerbin': 816000.0, 'BJ Enterprises': 230000.0, 'Kosice': 280000.0, 'Spezia Calcio': 1880000.0, 'CA Rosario': 1660000.0, 'Independiente': 1680000.0, 'Envigado': 1120000.0, 'RW Oberhausen': 40000.0, 'Viktoria Köln': 90000.0, 'Sydney FC': 264000.0, 'Atlas': 924000.0, 'NY Red Bulls': 4080000.0, 'Ruch Chorzow': 1620000.0, 'PEC Zwolle': 860000.0, 'Burton Albion': 378000.0, 'Gr. Fürth U17': 400000.0, 'FC Bayern U17': 100000.0, 'FC Barcelona B': 1680000.0, 'Kyoto Sanga': 600000.0, 'FC Liefering': 800.0, 'FC Dallas\\t': 660000.0, 'AS Nancy': 2700000.0, 'Shakhtar D.': 40000000.0, 'Banik Ostrava': 320000.0, 'Velbert 02': 8000.0, 'Wuppertaler SV': 1000.0, 'Walsall FC': 694800.0, 'Start': 480000.0, 'FC Winterthur': 180000.0, 'ES Zarzis': 20000.0, 'CA Bizertin': 42400.0, 'CS Sfaxien': 2034000.0, 'EGS Gafsa': 5600.0, 'FK Jablonec': 880000.0, 'Valerenga': 811000.0, 'SK Brann': 135000.0, 'Partick Thistle': 272000.0, 'Hibernian FC': 308000.0, 'Albacete': 74000.0, 'Panionios': 240000.0, 'AEK Athens': 386400.0, 'Kairat Almaty': 110000.0, 'Daugavpils': 80000.0, 'Riga': 20000.0, 'San Marino': 480000.0, 'Spartak Trnava': 560000.0, 'KF Vllaznia': 48800.0, 'Hajer': 12200.0, 'Portsmouth FC': 764000.0, 'Videoton FC': 930000.0, 'Zalgiris': 120000.0, 'Aktobe': 35000.0, 'BATE Borisov': 600000.0, 'Hapoel Tel Aviv': 330000.0, 'Ismaily': 24000.0, 'Al-Shaab': 165000.0, 'El Sharkia': 6000.0, 'Urawa Reds': 140000.0, 'Barnet': 19200.0, 'Eastleigh FC': 4800.0, 'TuS Ennepetal': 40000.0, 'Käpylän': 10000.0, 'Deportes Tolima': 2080000.0, 'Villarreal CF B': 3500000.0, 'CD Godoy Cruz': 2128000.0, 'Maldonado': 2200000.0, 'CA Talleres': 54000.0, 'Sounders FC\\t': 3252000.0, 'Sint-Truiden': 1230000.0, 'Al-Dhafra SCC': 180000.0, 'Unión Santa Fé': 1130000.0, 'FC Lugano': 630000.0, 'Bayern Hof': 32000.0, 'Nuremberg II': 8000.0, 'Club Tijuana': 1550000.0, 'Lecce': 960000.0, 'Aris Saloniki': 68000.0, 'Lierse SK': 17000.0, 'Táchira': 400000.0, 'All Boys': 264000.0, 'Olimpo': 739000.0, \"Newell's\": 2191000.0, 'Mladá Boleslav': 1360000.0, 'KF Skënderbeu': 910000.0, 'Pogon Siedlce': 20000.0, 'VfL Osnabrück': 240000.0, 'Würzb. Kickers': 96000.0, 'Atalanta U19': 80000.0, 'Häcken': 500000.0, 'CSKA Moscow': 890000.0, 'Fleetwood Town': 20000.0, 'Pasching/LASK': 120000.0, 'Wolfsburg U19': 30000.0, 'C. Piatra Neamt': 40000.0, 'CD La Equidad': 2560000.0, 'Kawasaki Front.': 2400000.0, 'Shrewsbury': 1122600.0, 'FC Thun': 640000.0, 'Montpellier': 980000.0, 'FC Aarau': 610000.0, 'Al-Arabi': 8200000.0, 'Coritiba FC': 220000.0, 'Defensor': 2400000.0, 'FC Südtirol': 440000.0, 'Jeunesse Esch': 32000.0, 'F91 Dudelange': 8000.0, 'Entag El Harby': 40000.0, 'Smouha': 7000.0, 'FC Vysocina': 800000.0, 'HJK Helsinki': 280000.0, 'Zulia FC': 640000.0, 'Criciúma EC': 424000.0, 'Preußen Münster': 280000.0, 'Dinamo Brest': 47200.0, 'Dinamo Minsk': 370000.0, 'Moreirense ': 560000.0, 'KV Mechelen': 740000.0, 'Tottenham U21': 800000.0, 'Stalowa Wola': 6400.0, 'Arm. Bielefeld': 10000.0, 'A. Klagenfurt': 240000.0, 'LASK': 60000.0, 'UdeConce': 21600.0, 'Patronato': 5400.0, 'NAC Breda': 960000.0, 'Ventforet Kofu': 260000.0, 'Sanf. Hiroshima': 3265000.0, 'Indep. Medellín': 2544000.0, 'Incheon Utd.': 35000.0, 'Seongnam FC': 96000.0, 'Clermont Foot': 276000.0, 'SC Bastia': 2050000.0, 'Sundsvall': 80000.0, 'Hammarby': 800000.0, 'ABC': 144000.0, 'Flamengo': 1800000.0, 'Al-Rayyan': 53400.0, 'El Masry': 410000.0, 'Górnik Zabrze': 40000.0, 'FK Varnsdorf': 60000.0, 'Carl Zeiss Jena': 200000.0, 'Lausanne-Sport': 380000.0, 'Shirak Gyumri': 200000.0, 'Torpedo Armavir': 11200.0, 'FC Zürich U21': 1240000.0, \"M'gladbach II\": 300000.0, 'CD Palestino': 360000.0, 'Colo Colo': 1880000.0, 'Rad': 400000.0, 'Unión Comercio': 280000.0, 'CA Colón': 1618000.0, 'River Plate': 4190000.0, 'Gimnàstic': 232000.0, 'Vasco da Gama': 360000.0, 'Al Qadisiyah': 90000.0, 'Vitória Setúbal': 320000.0, 'D. Calarasi': 12000.0, 'Telstar': 80000.0, 'VVV-Venlo': 260000.0, 'Kashiwa Reysol': 560000.0, 'Ross County': 286400.0, 'Zamora': 720000.0, 'Enisey': 160000.0, 'Tosno': 10000.0, 'Zenit 2 S-Pb': 440000.0, 'KS Samara': 100000.0, 'KV Kortrijk': 270000.0, 'Colchester Utd.': 520000.0, 'PAE Veria': 28000.0, 'APO Levadiakos': 47000.0, 'Girona FC': 260000.0, 'Panetolikos': 80000.0, 'RSC Charleroi': 3200000.0, 'Orlando City SC': 40000.0, 'Debrecen': 410000.0, 'Limón FC': 40800.0, 'LD Alajuelense': 390200.0, 'NYCFC': 639000.0, 'FK Gabala': 10800.0, 'Atlético-PR': 1072000.0, 'LDU de Loja': 72800.0, 'Atlante': 2818200.0, 'Heracles Almelo': 1700000.0, 'Gimnasia': 2340000.0, 'CA Lanús': 7000000.0, 'Leones Negros': 410000.0, 'Lucchese': 272000.0, 'Vicenza': 468000.0, 'Frosinone': 200000.0, 'Metalurg Skopje': 120000.0, 'KF Shkendija': 78000.0, 'Puebla': 350000.0, 'Örebro SK': 640000.0, 'Derry City': 108800.0, 'Hamburger SV II': 180000.0, 'MVV Maastricht': 120000.0, 'Willem II': 460000.0, 'Caracas FC': 1000000.0, 'Huachipato FC': 338000.0, 'CDUC': 1876000.0, 'CA Temperley': 22000.0, 'Mladost': 85000.0, 'FC Chiasso': 140000.0, 'Sampaio Corrêa': 264000.0, 'Quilmes': 180000.0, 'Ajaccio': 1240000.0, 'Leyton Orient': 32800.0, 'Coventry City': 2126800.0, 'Hobro IK': 416000.0, 'Belgrano': 1240000.0, 'Northampt. Town': 568000.0, 'Energie Cottbus': 200000.0, 'SönderjyskE': 280000.0, 'CFR Cluj': 280000.0, 'FCS Bucharest': 1200000.0, 'SC Wiedenbrück': 40000.0, 'Skonto Riga': 64000.0, 'Arsenal U21': 2080000.0, 'Defensa': 720000.0, 'Querétaro FC': 4560000.0, 'Pumas': 5600000.0, 'AEL Kalloni': 24000.0, 'SJK Seinäjoki': 240000.0, 'Neman Grodno': 4800.0, 'FK Slutsk': 1200.0, 'FC Bayern II': 40000.0, 'FC Köniz': 40000.0, 'Kashima Antlers': 2400000.0, 'RCD Mallorca': 2850000.0, 'Peterborough': 2706000.0, 'Columbus Crew': 40000.0, 'Man City U23': 2800000.0, 'El-Jaish': 3664000.0, 'Al-Duhail': 916000.0, 'KSK Heist': 12000.0, 'KFCO Beerschot': 3000.0, 'Stomil': 40000.0, 'AS Trencin': 2000000.0, 'Cibalia': 52000.0, 'NK Lokomotiva': 493000.0, 'Petr. Ploiesti': 8000.0, 'FC Viitorul': 1202000.0, 'FK Zira': 85000.0, 'Enppi': 320000.0, 'Halmstad': 240000.0, 'Syrianska': 60000.0, 'Östersund': 15000.0, 'Wisla Plock': 45000.0, 'Ankaragücü': 268800.0, 'Osmanlispor': 70000.0, 'Atlantas': 240000.0, 'Ternana': 640000.0, 'Foggia': 60000.0, 'FC Dordrecht': 68000.0, 'Millonarios': 720000.0, 'A. Lustenau': 80000.0, 'SCR Altach': 20000.0, 'QD Jonoon': 2160000.0, 'Adana Demirspor': 20000.0, 'Arbroath': 51200.0, 'Moghreb Tétouan': 332000.0, 'Raja Casablanca': 70000.0, 'Feyenoord U19': 64000.0, 'Juventud': 1840000.0, 'Arsenal FC': 256000.0, 'Tuzlaspor': 64000.0, 'Kastamonu 1966': 10000.0, 'Tottenham U23': 568000.0, 'Bandirmaspor': 24000.0, 'Instituto': 320000.0, 'RW Essen': 40000.0, 'Valletta': 40000.0, 'QFC': 10000.0, 'Poli Timisoara': 160000.0, 'El Shorta': 144000.0, 'Black Aces': 179200.0, 'Platinum Stars': 44800.0, 'Danubio FC': 2000000.0, 'Tours FC': 400000.0, 'Aldosivi': 1880000.0, 'Jeonbuk Motors': 4320000.0, 'CS Hammam-Lif': 80000.0, 'FC Metz': 900000.0, 'Chippa United': 231200.0, 'Kaizer Chiefs': 57800.0, 'Farense': 160000.0, 'Aydinspor 1923': 80000.0, 'FC Montréal': 320000.0, 'Stade Tunisien': 36000.0, 'AS Livorno': 720000.0, 'Manisaspor': 329600.0, 'Figueirense FC': 2400000.0, 'FK Haugesund': 600000.0, 'Darica GB': 36000.0, 'Karsiyaka': 9000.0, 'Sonnenhof-Gr.': 60000.0, 'Iskenderunspor': 36800.0, 'Pontedera': 80000.0, 'Ascoli': 20000.0, 'CA Huracán': 5850000.0, 'Odense BK': 500000.0, 'AEL Limassol': 60000.0, 'Swat Cat': 15000.0, 'Salt Lake': 2000000.0, 'Gaish': 480000.0, 'Valur': 160000.0, 'SD Huesca': 400000.0, 'CA Osasuna': 3340000.0, 'Hellas U19': 2800000.0, 'Genoa U19': 700000.0, 'Lyngby BK': 37600.0, 'Kiryat Shmona': 200000.0, 'B. Banja Luka': 20000.0, 'Almere City': 400000.0, 'Deportivo Lara': 240000.0, 'Júbilo Iwata': 240000.0, 'KVC Westerlo': 100000.0, 'ND Gorica': 640000.0, 'ETO FC Győr ': 64000.0, 'Difaa El Jadida': 88000.0, 'RS Berkane': 55400.0, 'GZ Renhe': 4544000.0, 'Chonburi FC': 228000.0, 'Suphanburi FC': 73000.0, 'Everton U21': 1120000.0, 'Rapid Suceava': 8000.0, 'FC Wacker': 4000.0, 'Hansa Rostock': 281000.0, 'Wehen Wiesbaden': 20000.0, 'Maccabi Netanya': 640000.0, 'SY Dongjin': 360000.0, 'HRB Yiteng': 90000.0, 'Nyíregyháza': 8000.0, 'Puskás AFC': 524000.0, 'Boluspor': 256000.0, 'Jagodina': 240000.0, 'White Star': 193600.0, 'Zrinjski Mostar': 160000.0, 'Hércules CF': 240000.0, 'Botafogo': 2000000.0, 'Emirates Club': 80400.0, 'Joinville': 44000.0, 'Randers FC': 552000.0, 'Parma': 2000000.0, 'Naft Talaieh': 352000.0, 'FC Niort': 740000.0, 'MAS Fes': 22400.0, 'Kawkab Marrakech': 605600.0, 'Sporting B': 344000.0, 'Central Coast': 25600.0, 'Hajduk Split': 1640000.0, 'Fiorentina U19': 180000.0, 'GKS Katowice': 20000.0, 'Miami FC': 132000.0, 'Grödig': 400000.0, 'FC Volendam': 280000.0, 'Newport County': 61600.0, 'Man Utd U23': 200000.0, 'DL Yifang': 280000.0, 'NK Maribor': 409000.0, 'Siroki Brijeg': 160000.0, 'Barletta': 80000.0, 'AC Pisa': 20000.0, 'Aalborg BK': 480000.0, 'Znicz Pruszkow': 8000.0, 'Lechia U19': 2000.0, 'FC Sochaux': 800000.0, 'AC Horsens': 280000.0, 'Sassuolo U19': 1600000.0, 'Rafaela': 360000.0, 'Motherwell FC': 608000.0, 'Atl. Kolkata': 24000.0, 'Oxford United': 2860000.0, 'GC Zürich U18': 110400.0, 'Slaven Belupo': 320000.0, 'Real Valladolid': 210000.0, 'Chrobry Glogow': 8000.0, 'Gornik Leczna': 102000.0, 'Portimonense': 680000.0, 'Miedz Legnica': 40000.0, 'ASA Tirgu Mures': 80000.0, 'Audax Italiano': 704000.0, 'Suwon Bluewings': 288000.0, 'De Graafschap': 410000.0, 'JS Kairouan': 64000.0, 'Zawisza': 120000.0, 'Argentinos': 240000.0, 'Astra Giurgiu': 560000.0, 'Real Zaragoza': 820000.0, 'Skoda Xanthi': 640000.0, 'ES Sétif': 154000.0, 'Al-Wahda': 2836000.0, 'Elche CF': 1360000.0, 'Pogon Szczecin': 400000.0, 'Indep. Santa Fe': 2560000.0, 'Chievo U19': 200000.0, 'Bucaspor': 40000.0, 'Jeju Utd.': 1600000.0, 'GS Consolat M.': 80000.0, 'Morecambe FC': 204000.0, 'AD Alcorcón': 680000.0, \"O'Higgins\": 2400000.0, 'Vancouver': 600000.0, 'JS Saoura': 120000.0, 'Slovan Liberec': 1200000.0, 'Ratchaburi FC': 1600000.0, 'Chiangrai Utd.': 272000.0, 'Spartak 2': 560000.0, 'CS Fola Esch': 12000.0, 'Toronto FC': 2800000.0, 'FK Bodø/Glimt': 736000.0, 'Rapid Wien II': 640000.0, 'SKN St. Pölten': 405600.0, 'Adelaide United': 220000.0, 'Peñarol': 4260000.0, 'C.A. Torque': 504000.0, 'Barcelona SC': 4086000.0, 'Rayo Vallecano': 3220000.0, 'Aalesunds FK': 1600000.0, 'Baltika': 7200.0, 'Erzgebirge Aue': 100000.0, 'CA Tigre': 1200000.0, 'APOEL Nicosia': 2424000.0, 'PAS Giannina': 130000.0, 'Radnik': 160000.0, 'FC Flora': 136000.0, 'Admira Wacker': 400000.0, 'Hoffenheim U19': 40000.0, 'FK Minsk': 40000.0, 'St. Mirren FC': 320000.0, 'Aberdeen FC': 80000.0, 'NMG Zhongyou': 10000.0, 'AC Le Havre': 5200000.0, 'ZJ Yiteng': 108000.0, 'SZ Renren': 27000.0, 'Nueva Chicago': 496000.0, 'UE Llagostera': 80000.0, 'Modena FC': 200000.0, 'Cremonese': 450000.0, \"J'ville Armada\": 528000.0, 'Newcastle U23': 640000.0, 'Stabaek IF': 1880000.0, 'Radnicki Nis': 40000.0, 'Cukaricki': 500000.0, 'Amkar Perm': 560000.0, 'US Ben Guerdane': 16000.0, 'FC Koper': 280000.0, 'Lok. Plovdiv': 80000.0, 'CA Fénix': 2800000.0, 'Floriana': 144000.0, 'Paços Ferreira': 5760000.0, 'MC Oran': 160000.0, 'CS Constantine': 3000.0, 'Wanderers': 360000.0, 'Deportivo Cali': 4490000.0, 'Altinordu': 2000000.0, 'FC Voluntari': 200000.0, 'Dibba Fujairah': 50000.0, 'Mosta FC': 24000.0, 'Balzan FC': 14000.0, 'Birkirkara FC': 6000.0, 'Cittadella': 216000.0, 'Travnik': 17600.0, 'FK Krupa': 4400.0, 'Melbourne City': 272000.0, 'Dinamo Tbilisi': 580000.0, 'Nea Salamis': 50000.0, 'Javor-Matis': 80000.0, 'Go Ahead Eagles': 240000.0, 'SC Cambuur': 75000.0, 'Haladás': 335000.0, 'SC Fortuna Köln': 160000.0, 'UTA Arad': 320000.0, 'Paraná': 200000.0, 'Leixões': 102000.0, 'Cercle Brugge': 160000.0, 'Atvidaberg': 256000.0, 'Slavia': 40000.0, 'Kilmarnock FC': 240000.0, 'Sutton United': 8000.0, 'Grimsby Town': 2000.0, 'KR Reykjavík': 16800.0, 'Víkingur': 4200.0, 'NK Istra': 88000.0, 'Pistoiese': 160000.0, 'Berliner AK': 9600.0, 'FC Oss': 80000.0, 'Scunthorpe Utd.': 60000.0, 'Willem II U21': 360000.0, 'Ajax U21': 90000.0, 'Melbourne': 712000.0, 'OFK Beograd': 960000.0, 'Zeljeznicar': 24000.0, 'CD Mirandés': 246000.0, 'Valenciennes FC': 1200000.0, 'Sepahan': 338000.0, 'Helsingborg': 400000.0, 'Goiás EC': 3600000.0, 'Fredrikstad': 96000.0, 'B. Jerusalem': 600000.0, 'FK Kukësi': 16000.0, 'Dover Athletic': 22400.0, 'Arsenal U23': 2320000.0, 'Juve Stabia': 280000.0, 'Hapoel Raanana': 120000.0, 'Dundee FC': 480000.0, 'Ceará SC': 300000.0, 'Diyarbekirspor': 12000.0, 'Hatayspor': 11600.0, 'Ventspils': 28000.0, 'AFC Wimbledon': 236000.0, 'CR Al Hoceima': 160000.0, 'AIK Solna': 640000.0, 'Orlando Pirates': 512000.0, 'OH Leuven': 120000.0, 'Botev Plovdiv': 140000.0, 'Western Sydney': 1112000.0, 'NK Celje ': 36000.0, 'Orduspor': 48000.0, 'Atlético Huila': 480000.0, 'MK Dons': 5304000.0, 'Bryne FK': 44000.0, 'Cizrespor 2010': 8000.0, 'Cine Madranspor': 2000.0, 'CR Belouizdad': 116000.0, 'MC Algier': 29000.0, 'FAL U18': 8000.0, 'Blau Weiss Linz': 2000.0, 'Slask Wroclaw': 240000.0, 'Omonia Nikosia': 20000.0, 'Naftan': 15200.0, 'Soligorsk': 3800.0, 'Neftchi Baku': 43200.0, 'NE Xamax': 160000.0, 'DL Transcen.': 86400.0, 'Hassania': 160800.0, 'Inter U19': 80000.0, 'Doxa Katokopias': 96000.0, 'Widzew Lodz': 40000.0, 'Mafra': 3200000.0, 'Troyes': 2060000.0, 'Monarcas': 1040000.0, 'Malmö U19': 200000.0, 'Chapecoense': 1120000.0, 'NK Domzale': 400000.0, 'Zlate Moravce': 15000.0, 'Lienden': 40000.0, 'Unterhaching': 80000.0, 'TSV Meerbusch': 4000.0, 'Metalist': 480000.0, 'Metalac': 64000.0, 'Chacarita Jrs': 216000.0, 'Boavista': 1200000.0, 'Feirense': 54000.0, 'PFC Beroe Stara Zagora': 64000.0, 'Saburtalo': 80000.0, 'CA Tucumán': 360000.0, 'Exeter City': 264000.0, 'CE Sabadell ': 120000.0, 'Shinnik': 17600.0, 'Vojvodina': 600000.0, 'Real Sociedad B': 200000.0, 'Ural': 60000.0, 'RC Arbaa': 64000.0, 'JS Kabylie': 96000.0, 'NA Hussein Dey': 20000.0, 'Braga B': 4000000.0, 'Stade Gabèsien': 217600.0, 'Stade Laval': 400000.0, 'Millwall': 102400.0, 'CE L’Hospitalet': 16000.0, 'Betis B': 3000.0, 'Carlisle United': 336000.0, 'Évian': 160000.0, 'Kansas': 2240000.0, 'Zimbru Chisinau': 76000.0, 'Rabotnicki': 112000.0, 'Vardar': 28000.0, 'Zwettl': 3200.0, 'Gaz Metan': 120000.0, 'CA Banfield': 440000.0, 'Mersin IY': 280000.0, 'Tokushima Vort.': 3120000.0, 'Roma U19': 960000.0, 'Inter Zapresic': 400000.0, 'El Dakhlia': 56000.0, 'B. Podgorica': 104000.0, 'SBV Excelsior': 600000.0, 'Vozdovac ': 9600.0, 'FAC': 160000.0, 'Karpaty': 400000.0, 'Náutico': 230400.0, 'CD Numancia': 200000.0, 'Glentoran': 56000.0, 'Racing': 960000.0, 'KF Laçi': 120000.0, 'CS Emelec': 3600000.0, 'Reggiana': 200000.0, 'Helmond Sport': 80000.0, 'Servette FC': 160000.0, 'LDU Quito': 400000.0, 'CD Tenerife': 2560000.0, 'Petrojet': 240000.0, 'Real Jaén CF': 12000.0, 'Wisla Pulawy': 120000.0, 'Wolfsberger AC': 240000.0, 'Hatta Club': 60000.0, 'Carrarese': 120000.0, 'AOK Kerkyra': 128000.0, 'SV  Ried': 240000.0, 'Sibir': 80000.0, 'Falkenberg': 216000.0, 'SV Kapfenberg': 160000.0, 'Gyirmót FC': 40000.0, 'CSKA Sofia': 640000.0, 'Tskhinvali': 240000.0, 'Rah Ahan': 240000.0, 'Hradec Králové': 240000.0, 'Mouscron': 760000.0, 'Olymp. Volos': 40000.0, 'Iraklis': 960000.0, 'Gamba Osaka': 1200000.0, 'Pohang Steelers': 1200000.0, 'Ittehad': 280000.0, 'Novi Pazar': 40000.0, 'Sandefjord': 22400.0, 'FC Brasov': 200000.0, 'Giresunspor': 13600.0}\n"
     ]
    }
   ],
   "source": [
    "print(beta)"
   ]
  },
  {
   "cell_type": "code",
   "execution_count": 115,
   "metadata": {
    "collapsed": false
   },
   "outputs": [
    {
     "data": {
      "text/plain": [
       "'Juventus'"
      ]
     },
     "execution_count": 115,
     "metadata": {},
     "output_type": "execute_result"
    }
   ],
   "source": [
    "max_beta_key = max(beta, key=lambda i: beta[i])\n",
    "max_beta = beta[max_beta_key]\n",
    "max_beta_key"
   ]
  },
  {
   "cell_type": "code",
   "execution_count": 116,
   "metadata": {
    "collapsed": false
   },
   "outputs": [
    {
     "data": {
      "text/plain": [
       "84280000.0"
      ]
     },
     "execution_count": 116,
     "metadata": {},
     "output_type": "execute_result"
    }
   ],
   "source": [
    "max_beta"
   ]
  },
  {
   "cell_type": "code",
   "execution_count": 117,
   "metadata": {
    "collapsed": true
   },
   "outputs": [],
   "source": [
    "max_beta = max(list(beta.values()))\n",
    "for node in Transfer.nodes():\n",
    "    beta[node] /= max_beta"
   ]
  },
  {
   "cell_type": "code",
   "execution_count": 118,
   "metadata": {
    "collapsed": false,
    "scrolled": true
   },
   "outputs": [
    {
     "name": "stdout",
     "output_type": "stream",
     "text": [
      "{'Nordsjaelland': 0.0026103464641670624, 'Chievo Verona': 0.005457997152349312, 'Hannover 96': 0.018984337921214997, 'GZ R&F;': 0.07071665875652587, 'Rosenborg BK': 0.019933554817275746, 'Bor. Dortmund': 0.023137161841480777, 'Norrköping': 0.007475083056478406, 'Viborg FF': 0.004034171808258187, 'FC Utrecht': 0.03393450403417181, 'Bursaspor': 0.02861888941623161, 'Steaua Bukarest': 0.010085429520645468, 'Cagliari Calcio': 0.00510204081632653, 'Sampdoria': 0.132890365448505, 'Swansea': 0.23407688656858092, 'Genoa': 0.02444233507356431, 'FSV Frankfurt': 0.003084954912197437, 'Greuther Fürth': 0.0021357380161366873, 'Stoke City': 0.02253203607024205, \"Bor. M'gladbach\": 0.01044138585666825, '1. FC Köln': 0.03203607024205031, 'Besiktas': 0.07593735168485999, 'Sevilla FC': 0.061224489795918366, 'Leicester': 0.0681063122923588, 'Cerezo Osaka': 0.013051732320835311, 'HB CFFC': 0.00854295206454675, 'GZ Evergrande': 0.07119126720455624, 'Djurgardens IF': 0.016172282866635027, 'FC Groningen': 0.004271476032273375, 'Saint-Étienne': 0.010678690080683437, 'FC Augsburg': 0.013051732320835311, 'VfB Stuttgart': 0.013763644992880873, \"1.FC K'lautern\": 0.0011865211200759373, 'Bay. Leverkusen': 0.054105363075462744, 'FC St. Pauli': 0.019577598481252966, 'Galatasaray': 0.01589938300901756, 'Bayern Munich ': 0.21357380161366873, 'Man City': 0.014997626957759849, 'Man Utd': 0.26625533934504036, 'VfL Wolfsburg': 0.1231608922638823, 'Lazio': 0.2100142382534409, 'Rapid Vienna': 0.017323208353108684, 'E. Braunschweig': 0.01020408163265306, 'Zulte Waregem': 0.0014238253440911248, 'Al-Shabab': 0.026103464641670623, 'PSV Eindhoven': 0.10939724727100142, 'Sassuolo': 0.12636449928808732, 'Kasimpasa': 0.03856193640246797, 'K. Erciyesspor': 0.0008661604176554343, 'Sivasspor': 0.022543901281442808, 'Fenerbahce': 0.08875177978168011, 'Hamburger SV': 0.0024916943521594683, 'Villarreal CF': 0.045562411010915994, 'KSC Lokeren': 0.011153298528713811, 'Al-Wahda FC': 0.007356430944470811, 'Ahli': 0.020194589463692455, 'Qarabag Agdam': 0.0018984337921214998, 'Shabab': 0.013289036544850499, 'Fluminense': 0.15899383009017562, 'Nasr': 0.03464641670621737, 'Ahly': 0.04817275747508306, 'Tigres': 0.05837683910773612, 'Sport Recife': 0.010270526815377313, 'SIPG': 0.006720455624110109, 'Chelsea': 0.09966777408637874, 'SH Shenxin': 0.011366872330327479, 'Atlético-MG': 0.07831039392501186, 'AS Roma': 0.08590412909349786, 'Club Brugge': 0.05766492643569056, 'TJ Quanjian': 0.023255813953488372, 'YB Funde': 0.003559563360227812, 'Valencia CF': 0.41172282866635024, 'Royal Antwerp': 0.0015424774560987185, 'Watford': 0.08020882771713336, 'Espanyol': 0.007831039392501186, 'CD Cruz Azul': 0.006691979117228287, 'Paris SG': 0.3559563360227812, 'Slo. Bratislava': 0.0011865211200759373, 'Termalica': 0.00018984337921214997, 'Avellino': 0.016018035121025155, 'Fiorentina': 0.018272425249169437, 'Eskisehirspor': 0.020170859041290935, 'Trabzonspor': 0.023018509729473186, 'Akhisarspor': 0.005714285714285714, 'SH Shenhua': 0.007119126720455624, 'Göztepe': 0.000775984812529663, 'FC Lorient': 0.11817750355956336, 'Gaziantep BB': 0.00047460844803037496, 'BB Erzurumspor': 0.00010915994304698623, 'Sporting CP': 0.29333175130517325, 'Olympiacos': 0.06929283341243474, 'Wolfsburg II': 0.0009492168960607499, 'Celta de Vigo': 0.17370669197911723, 'TSG Hoffenheim': 0.009819648789748458, 'RB Leipzig': 0.03986710963455149, 'Alavés': 0.00014238253440911248, 'AC Milan': 0.020170859041290935, 'Birmingham': 0.04983388704318937, 'Sheff Wed': 0.00436639772187945, 'FC Porto': 0.005771238728049359, 'Derby': 0.11604176554342667, 'West Brom': 0.03820598006644518, 'AFC Ajax': 0.1364499288087328, 'Spurs': 0.10495965828191742, '1.FSV Mainz 05': 0.004746084480303749, 'SC Freiburg': 0.013051732320835311, 'MSV Duisburg': 0.00011865211200759374, 'Málaga CF': 0.0016611295681063123, 'Baniyas SC': 0.0021120075937351686, 'Atlético Madrid': 0.17738490745135263, 'FC Ingolstadt': 0.024916943521594685, 'Gaziantepspor': 0.026506881822496442, 'FC Twente': 0.10453251067869009, 'VfL Bochum': 0.012577123872804937, 'Bröndby IF': 0.0034883720930232558, 'KV Oostende': 0.03915519696250593, 'Werder Bremen': 0.0011865211200759373, 'Liverpool': 0.054579971523493115, 'Torino': 0.009492168960607499, 'E. Frankfurt': 0.026696725201708592, 'Austria Vienna': 0.009966777408637873, 'Lechia Gdansk': 0.0007119126720455624, 'Brentford': 0.02349311817750356, '1860 Munich': 0.004746084480303749, 'Wolves': 0.008725676317038444, 'FUS Rabat': 0.002420503084954912, 'Wydad AC': 0.003960607498813479, 'Ittihad Kalba': 0.000870906502135738, 'FC Luzern': 0.008780256288561937, 'Atalanta': 0.03915519696250593, 'Rizespor': 0.021680113906027528, 'León': 0.053630754627432366, 'Latina Calcio': 0.01020408163265306, 'SSC Napoli': 0.032629330802088276, 'Middlesbrough': 0.061461794019933555, 'Udinese Calcio': 0.010678690080683437, 'Getafe CF': 0.021831988609397248, 'JS Guoxin Sainty': 0.005339345040341718, 'FC Barcelona': 0.23018509729473186, 'FC Schalke 04': 0.4750830564784053, 'Real Madrid': 0.24916943521594684, 'SD Eibar': 0.05505457997152349, 'Bournemouth': 0.020170859041290935, 'Southampton': 0.18035121025154247, 'Arsenal': 0.05695301376364499, 'JS Suning': 0.12173706691979118, 'Sunderland': 0.01210251542477456, 'Reading': 0.05620550545799715, 'Bristol City': 0.12529663028001897, 'Newcastle': 0.3391077361177029, 'Aston Villa': 0.06264831514000949, 'Wigan': 0.014095870906502135, 'Genclerbirligi': 0.00510204081632653, 'Leeds': 0.06804698623635501, 'Cherno More': 0.0009492168960607499, 'Levski Sofia': 0.00047460844803037496, 'Diósgyőr': 0.004271476032273375, 'Lech Poznan': 0.030612244897959183, '1.FC Heidenheim': 0.0033222591362126247, 'Konyaspor': 0.0014048410061699098, 'Everton': 0.5583768391077362, 'Norwich': 0.011983863312766968, 'Luton Town': 0.0027527289985761747, 'Vitesse': 0.0283578547698149, 'Marseille': 0.10915994304698623, 'Celtic': 0.02265543426672995, 'Monaco': 0.016611295681063124, 'UD Almería': 0.010678690080683437, 'Gillingham FC': 0.0016611295681063123, 'Swindon Town': 0.00965828191741813, 'QPR': 0.012861888941623162, 'Charlton': 0.013051732320835311, 'Slavia Sofia': 0.0014238253440911248, 'Cracovia Kraków': 0.04793545325106787, 'FC St. Gallen': 0.0016611295681063123, 'Stade Rennais': 0.012031324157570005, 'Partizan': 0.0010678690080683437, 'Zaglebie Lubin': 0.0029663028001898433, 'Toulouse': 0.09112482202183199, 'Union Berlin': 0.033815851922164214, 'Maccabi Haifa': 0.012221167536782155, 'FC Astana': 0.00042714760322733745, 'Benfica B': 0.01566207878500237, 'SZ FC': 0.0023730422401518746, 'Real Betis': 0.08127669672520171, 'Legia Warszawa': 0.00984812529663028, 'Arouca': 0.01044138585666825, 'FC Nantes': 0.009919316563834836, 'AJ Auxerre': 0.008780256288561937, 'Kayserispor': 0.010678690080683437, 'Internacional': 0.07658993830090176, 'SM Caen': 0.07712387280493593, 'KAA Gent': 0.0622733744660655, 'Standard Liège': 0.005457997152349312, 'Philadelphia': 0.004686758424299953, 'Arezzo': 0.0007593735168485999, 'Perugia': 0.00854295206454675, 'Catania': 0.010061699098243948, 'Bourg-en-Bresse': 0.00854295206454675, 'LOSC Lille': 0.04864736592311343, 'RSC Anderlecht': 0.052206929283341245, 'Liverpool U23': 0.028476506881822496, 'Al-Gharafa': 0.01613668723303275, 'Al-Ahli': 0.00023730422401518748, 'Ludogorets': 0.0021357380161366873, 'Tractor Sazi': 0.0011865211200759373, 'CS U Craiova': 0.00023730422401518748, 'FK Teplice': 0.00397484575225439, 'Viktoria Plzen': 0.008068343616516375, 'São Paulo': 0.029461319411485526, 'Grêmio': 0.07712387280493593, 'RB Salzburg': 0.09539629805410536, 'EC Vitória': 0.0009373516848599906, 'CQ Dangdai Lif.': 0.011865211200759373, 'Zenit S-Pb': 0.23611770289511153, 'Viking': 0.00965828191741813, 'FC Copenhagen': 0.007593735168485999, 'Antalyaspor': 0.013526340768865686, 'Al-Ahli (UAE)': 0.016611295681063124, 'Inter': 0.03915519696250593, 'Loko Moscow': 0.1817750355956336, 'Alanyaspor': 0.0007119126720455624, 'Juventus': 1.0, 'Pescara': 0.07890365448504984, 'Monterrey': 0.007831039392501186, 'Terek Grozny': 0.01969625059326056, 'GKS Belchatow': 0.0014238253440911248, 'HB Zhongji': 0.0072377788324632176, 'SV Sandhausen': 0.00023730422401518748, 'Hull City': 0.0568343616516374, 'Hertha BSC': 0.03559563360227812, 'G. Bordeaux': 0.009729473184622686, 'RC Rélizane': 0.0028476506881822496, 'Al-Shahania': 0.0007119126720455624, 'Tom Tomsk': 0.0018984337921214998, 'Rubin Kazan': 0.029259610821072615, 'Rostov': 0.04817275747508306, 'UD Las Palmas': 0.0009492168960607499, 'Estoril': 0.015187470336971999, 'Karabükspor': 0.0047864261983863315, 'CQ Lifan': 0.009914570479354533, 'Hilal': 0.11627906976744186, 'FC Wil 1900': 0.0005932605600379687, 'BJ Guoan': 0.029425723777883245, 'Karlsruher SC': 0.007593735168485999, 'Guadalajara': 0.04105363075462743, 'West Ham': 0.12624584717607973, 'Al-Jazira': 0.10868533459895587, 'Harras Hodoud': 0.0033222591362126247, 'Wadi Degla ': 0.00018984337921214997, 'Zamalek': 0.01649264356905553, 'El Makasa': 0.002800189843379212, 'FC Basel': 0.0023730422401518746, 'Wycombe': 0.005030849549121974, 'Crystal Palace': 0.07142857142857142, 'Barnsley FC': 0.057546274323682964, 'Chesterfield FC': 0.0031324157570004744, 'Cardiff': 0.03922164214523018, 'Burnley': 0.03464641670621737, 'Sheffield Utd.': 0.022259136212624583, 'Rangers': 0.01236829615567157, 'Cádiz CF': 0.007593735168485999, 'Sevilla Atl.': 0.0009492168960607499, 'Mordovia': 0.002425249169435216, 'Red Star': 0.013573801613668723, 'Faisaly': 0.0009492168960607499, 'Anzhi': 0.014712861888941622, 'M. Tel Aviv': 0.068984337921215, 'Apol. Limassol': 0.06407214048410062, 'Cruzeiro': 0.020576649264356907, 'Dnipro': 0.03369719981015662, 'HZ Greentown': 0.010892263882297104, 'Real Sociedad': 0.06881822496440437, 'Reims': 0.02444233507356431, 'Santa Cruz': 0.0005813953488372093, 'EC Bahia': 0.007036070242050309, 'Al-Nasr': 0.007119126720455624, 'Al-Wasl': 0.0010512577123872806, 'Vissel Kobe': 0.01566207878500237, 'Vitesse U19': 0.0003559563360227812, 'Corinthians': 0.024323682961556715, 'US Palermo': 0.02823920265780731, 'SD Luneng': 0.10512577123872804, 'FC Empoli': 0.09966777408637874, 'WH Zall': 0.029710488846701473, 'KRC Genk': 0.04698623635500712, 'Feyenoord': 0.006407214048410062, 'Chicago Fire': 0.021357380161366873, 'HN Jianye': 0.02, 'Fulham': 0.1362126245847176, 'Ittihad': 0.011112956810631229, 'Sharjah FC': 0.004318936877076412, 'LB Châteauroux': 0.03891789273849074, 'Olympique Lyon': 0.24347413383958236, 'Falkirk FC': 0.004508780256288562, 'Rotherham': 0.003559563360227812, 'Malmö': 0.0340531561461794, 'Huddersfield': 0.053203607024205034, 'FBC Melgar': 0.014238253440911248, '1.FC Nuremberg': 0.021476032273374464, 'OGC Nice': 0.14950166112956811, 'FC Midtjylland': 0.02800189843379212, 'Aarhus GF': 0.003690080683436165, 'Esbjerg fB': 0.00510204081632653, 'Sparta Praha': 0.004034171808258187, 'IFK Göteborg': 0.011675367821547223, 'Ipswich': 0.034907451352634074, 'Slavia Prag': 0.008068343616516375, 'Bologna': 0.13882297104888466, 'Ufa': 0.01912672045562411, 'Slavija S.': 0.00023730422401518748, 'Sloboda Tuzla': 5.932605600379687e-05, 'FK Senica': 0.0014238253440911248, 'Podbeskidzie': 0.0015424774560987185, 'MSK Zilina': 0.019814902705268155, 'CD Lugo': 0.0018984337921214998, 'Juan Aurich': 0.004746084480303749, 'Veracruz': 0.014451827242524917, 'Chiapas FC': 0.02064546748932131, 'Dinamo Zagreb': 0.005600379686758424, 'Fidelis Andria': 0.00018984337921214997, 'Novara': 0.0014712861888941623, 'FC Zürich': 0.009017560512577124, 'TOT SC': 0.0027052681537731373, 'Buriram Utd.': 0.00820360702420503, 'Muangthong Utd.': 0.014791172282866635, 'Balikesirspor': 0.001665875652586616, 'Benfica': 0.06597057427622212, 'SV Darmstadt 98': 0.015424774560987186, 'Radnik Bijelj.': 0.0037968675842429997, 'IF Elfsborg': 0.005695301376364499, 'Heerenveen': 0.02159468438538206, 'Dinamo Moscow': 0.012458471760797342, 'Crotone': 0.040223065970574276, 'PSV U21': 0.005932605600379687, 'Odds BK': 0.0007119126720455624, 'Roda JC': 0.0016611295681063123, 'Kuban Krasnodar': 0.028713811105837685, 'Spartak Moscow': 0.019031798766018036, 'AC Cesena': 0.004034171808258187, 'Ponte Preta': 0.007733744660654959, 'Braga': 0.06347887992406265, 'SJZ Ever Bright': 0.004746084480303749, 'Krasnodar': 0.054105363075462744, 'Vit. Guimarães': 0.022543901281442808, 'Nottm Forest': 0.14712861888941622, 'Athletic Bilbao': 0.018984337921214997, 'Virtus Lanciano': 0.01613668723303275, 'Pro Vercelli': 0.016967252017085904, 'Boca Juniors': 0.05289511153298529, 'CD Leganés': 0.005695301376364499, 'Újpest FC': 0.020764119601328904, 'Club Africain': 0.0002728998576174656, 'Spartak': 0.00047460844803037496, 'Cortuluá': 0.018984337921214997, 'Atl. Nacional': 0.05813953488372093, 'Toluca': 0.023208353108685336, 'Santos FC': 0.2805457997152349, 'NK Zagreb': 0.0018984337921214998, 'Rio Ave FC': 0.004746084480303749, 'NK Osijek': 0.0033222591362126247, 'Anorthosis': 0.0057546274323682966, 'FK Sarajevo': 0.001779781680113906, 'HNK Rijeka': 0.019174181300427147, 'Esperance': 0.0031134314190792594, 'Khaleej': 0.00021357380161366872, 'Marítimo': 0.011568580920740389, 'ES Sahel': 0.01945894636924537, 'CC Yatai': 0.008922638822971049, 'Porto B': 0.001969625059326056, 'USM Alger': 0.00047460844803037496, 'Al-Sadd': 0.008305647840531562, 'Degerfors': 0.0016136687233032749, 'Djurgardens U21': 0.0037968675842429997, 'Schalke 04 U19': 0.0009492168960607499, 'Waasl.-Beveren': 0.004781680113906028, 'Blackpool': 0.0006051352634076887, 'Bradford City': 0.00094921926910299, 'Bolton': 0.028476506881822496, 'AS Avellino': 0.0016611295681063123, 'Sporting Gijón': 0.00047460844803037496, 'Preston NE': 0.016741813004271477, 'Volyn Lutsk': 0.004746084480303749, 'PAOK Saloniki': 0.03500237304224015, 'Palmeiras': 0.03388704318936877, 'Sheriff': 0.00016611295681063124, 'Hamilton Acad.': 0.012339819648789748, 'BJ Renhe': 0.011589938300901756, 'FC Botosani': 0.0038205980066445184, 'Pandurii T.-Jiu': 0.005268153773137162, 'Yokohama F. M.': 0.004271476032273375, 'NEC Nijmegen': 0.024383009017560513, 'Dinamo Bukarest': 0.0070716658756525864, 'FC Tokyo': 0.007119126720455624, 'F. Düsseldorf': 0.004508780256288562, 'América': 0.05007119126720456, 'Inverness Cal.': 0.0018984337921214998, 'Empoli U19': 0.04010441385856668, 'Juventus U19': 0.009136212624584718, 'Sampdoria U19': 0.0009492168960607499, 'Hellas Verona': 0.04935927859515899, 'Brescia': 0.007593735168485999, 'San Lorenzo': 0.017916468913146653, 'MZ Hakka': 0.0009492168960607499, 'VfL Bochum U19': 0.0009492168960607499, 'RB Leipzig U19': 0.00011865211200759374, 'NK Olimpija': 0.04817275747508306, 'Carpi': 0.003559563360227812, 'Córdoba CF': 0.04864736592311343, 'G. Ajaccio': 0.0014238253440911248, 'AZ Alkmaar': 0.21072615092548647, 'Belenenses': 0.017679164689131468, 'Levante UD': 0.006169909824394874, 'Santos': 0.028713811105837685, 'Chindia': 0.00028476506881822496, 'Atromitos Athen': 0.0057664926435690555, 'Sanliurfaspor ': 0.0012458471760797341, 'Grudziadz': 0.00023730422401518748, 'Wisla Kraków': 0.0037968675842429997, 'Piast Gliwice': 0.00018984337921214997, 'J. Bialystok': 0.02384907451352634, 'ASV Geel': 0.00028476506881822496, 'Lommel United': 7.119126720455624e-05, 'Bari': 0.004864736592311343, 'Salernitana': 0.005220692928334125, 'U. de Chile': 0.01727574750830565, 'Trapani': 0.009919316563834836, 'Nacional': 0.023018509729473186, 'Virtus Entella': 0.0010204081632653062, 'Dynamo Kyiv': 0.17252017085904128, 'Colorado': 0.010678690080683437, 'Estudiantes': 0.004841006169909824, 'Sturm Graz': 0.004390128144280968, 'Alessandria': 0.0013051732320835312, 'Granada CF': 0.09670147128618889, 'CF Pachuca': 0.09575225439012815, 'Najran': 0.006483151400094922, 'Umm-Salal': 0.00023730422401518748, 'Grasshoppers': 0.03844328429046037, 'ADO Den Haag': 0.009492168960607499, 'Liaoning FC': 0.06905552918841955, 'Ferencváros': 0.018035121025154248, 'Dynamo Dresden': 0.0003559563360227812, 'Raith Rovers': 0.0009112482202183198, 'Dundee United': 0.0041765543426673, 'Heart of Midl.': 0.018699572852396772, 'Ponferradina': 0.0018984337921214998, 'QD Huanghai': 0.005695301376364499, 'Ramnicu Valcea': 0.0009492168960607499, 'Strømsgodset': 0.007344565733270052, 'RM Castilla': 0.016611295681063124, 'Kalmar': 0.022781205505457997, 'Platanias': 0.0023730422401518746, 'Panathinaikos': 0.0016611295681063123, 'Asteras Tripoli': 0.02406264831514001, 'Dijon': 0.014238253440911248, 'Lens': 0.016967252017085904, 'Junior FC': 0.021831988609397248, 'BSC Young Boys': 0.019933554817275746, 'Dep. La Coruña': 0.13336497389653537, 'AS Béziers': 0.00047460844803037496, 'Man City U21': 0.011532985287138111, 'FC Sion': 0.02937826293308021, 'Brighton': 0.0020170859041290937, 'Stade Brest 29': 0.0009492168960607499, 'Qatar SC': 0.0038775510204081634, 'Ittihad Tanger': 0.0006430944470811581, 'Korona Kielce': 0.00012339819648789747, 'Holstein Kiel': 0.004746084480303749, 'SC Paderborn': 0.002728998576174656, 'HB Köge': 0.0023730422401518746, 'Blackburn': 0.06532985287138111, 'Molde FK': 0.03156146179401993, 'CA Vélez': 0.037968675842429994, 'TJ Teda': 0.001044138585666825, 'FC Vaduz': 0.0010678690080683437, 'Breidablik': 0.0014238253440911248, 'Lilleström SK': 0.01459420977693403, 'FC Seoul': 0.018984337921214997, 'Los Angeles': 0.0340531561461794, 'RNK Split': 0.003393450403417181, 'Basaksehir': 0.02064546748932131, 'FC Ashdod': 0.010678690080683437, 'H. Beer Sheva': 0.0011865211200759373, 'América-MG': 0.0015187470336971997, 'Guingamp': 0.025510204081632654, 'K. Offenbach': 0.00028476506881822496, 'Stuttg. Kickers': 0.0034409112482202183, 'Hallescher FC': 0.00016611295681063124, 'Nîmes Olympique': 0.009492168960607499, 'SCO Angers': 0.04034171808258187, 'US Créteil': 0.004110109159943047, 'Litex Lovetch': 0.023730422401518746, 'Al-Ain FC': 0.0946843853820598, 'Timbers': 0.01964878974845752, 'Racing Club': 0.01041765543426673, 'B. Dortmund II': 0.005695301376364499, 'DL Aerbin': 0.009682012339819648, 'BJ Enterprises': 0.002728998576174656, 'Kosice': 0.0033222591362126247, 'Spezia Calcio': 0.022306597057427623, 'CA Rosario': 0.01969625059326056, 'Independiente': 0.019933554817275746, 'Envigado': 0.013289036544850499, 'RW Oberhausen': 0.00047460844803037496, 'Viktoria Köln': 0.0010678690080683437, 'Sydney FC': 0.0031324157570004744, 'Atlas': 0.010963455149501661, 'NY Red Bulls': 0.04841006169909824, 'Ruch Chorzow': 0.019221642145230186, 'PEC Zwolle': 0.01020408163265306, 'Burton Albion': 0.004485049833887043, 'Gr. Fürth U17': 0.004746084480303749, 'FC Bayern U17': 0.0011865211200759373, 'FC Barcelona B': 0.019933554817275746, 'Kyoto Sanga': 0.007119126720455624, 'FC Liefering': 9.492168960607498e-06, 'FC Dallas\\t': 0.007831039392501186, 'AS Nancy': 0.03203607024205031, 'Shakhtar D.': 0.47460844803037494, 'Banik Ostrava': 0.0037968675842429997, 'Velbert 02': 9.492168960607498e-05, 'Wuppertaler SV': 1.1865211200759373e-05, 'Walsall FC': 0.008243948742287613, 'Start': 0.005695301376364499, 'FC Winterthur': 0.0021357380161366873, 'ES Zarzis': 0.00023730422401518748, 'CA Bizertin': 0.0005030849549121975, 'CS Sfaxien': 0.024133839582344566, 'EGS Gafsa': 6.64451827242525e-05, 'FK Jablonec': 0.01044138585666825, 'Valerenga': 0.009622686283815851, 'SK Brann': 0.0016018035121025155, 'Partick Thistle': 0.0032273374466065497, 'Hibernian FC': 0.003654485049833887, 'Albacete': 0.0008780256288561936, 'Panionios': 0.0028476506881822496, 'AEK Athens': 0.004584717607973422, 'Kairat Almaty': 0.0013051732320835312, 'Daugavpils': 0.0009492168960607499, 'Riga': 0.00023730422401518748, 'San Marino': 0.005695301376364499, 'Spartak Trnava': 0.006644518272425249, 'KF Vllaznia': 0.0005790223065970574, 'Hajer': 0.00014475557664926436, 'Portsmouth FC': 0.009065021357380161, 'Videoton FC': 0.011034646416706217, 'Zalgiris': 0.0014238253440911248, 'Aktobe': 0.0004152823920265781, 'BATE Borisov': 0.007119126720455624, 'Hapoel Tel Aviv': 0.003915519696250593, 'Ismaily': 0.00028476506881822496, 'Al-Shaab': 0.0019577598481252964, 'El Sharkia': 7.119126720455624e-05, 'Urawa Reds': 0.0016611295681063123, 'Barnet': 0.00022781205505457996, 'Eastleigh FC': 5.695301376364499e-05, 'TuS Ennepetal': 0.00047460844803037496, 'Käpylän': 0.00011865211200759374, 'Deportes Tolima': 0.024679639297579496, 'Villarreal CF B': 0.04152823920265781, 'CD Godoy Cruz': 0.02524916943521595, 'Maldonado': 0.026103464641670623, 'CA Talleres': 0.0006407214048410061, 'Sounders FC\\t': 0.03858566682486948, 'Sint-Truiden': 0.01459420977693403, 'Al-Dhafra SCC': 0.0021357380161366873, 'Unión Santa Fé': 0.013407688656858091, 'FC Lugano': 0.007475083056478406, 'Bayern Hof': 0.00037968675842429994, 'Nuremberg II': 9.492168960607498e-05, 'Club Tijuana': 0.018391077361177028, 'Lecce': 0.011390602752728999, 'Aris Saloniki': 0.0008068343616516374, 'Lierse SK': 0.00020170859041290936, 'Táchira': 0.004746084480303749, 'All Boys': 0.0031324157570004744, 'Olimpo': 0.008768391077361177, \"Newell's\": 0.025996677740863786, 'Mladá Boleslav': 0.01613668723303275, 'KF Skënderbeu': 0.01079734219269103, 'Pogon Siedlce': 0.00023730422401518748, 'VfL Osnabrück': 0.0028476506881822496, 'Würzb. Kickers': 0.0011390602752728999, 'Atalanta U19': 0.0009492168960607499, 'Häcken': 0.005932605600379687, 'CSKA Moscow': 0.010560037968675842, 'Fleetwood Town': 0.00023730422401518748, 'Pasching/LASK': 0.0014238253440911248, 'Wolfsburg U19': 0.0003559563360227812, 'C. Piatra Neamt': 0.00047460844803037496, 'CD La Equidad': 0.030374940673943997, 'Kawasaki Front.': 0.028476506881822496, 'Shrewsbury': 0.013319886093972473, 'FC Thun': 0.007593735168485999, 'Montpellier': 0.011627906976744186, 'FC Aarau': 0.0072377788324632176, 'Al-Arabi': 0.09729473184622686, 'Coritiba FC': 0.0026103464641670624, 'Defensor': 0.028476506881822496, 'FC Südtirol': 0.005220692928334125, 'Jeunesse Esch': 0.00037968675842429994, 'F91 Dudelange': 9.492168960607498e-05, 'Entag El Harby': 0.00047460844803037496, 'Smouha': 8.305647840531562e-05, 'FC Vysocina': 0.009492168960607499, 'HJK Helsinki': 0.0033222591362126247, 'Zulia FC': 0.007593735168485999, 'Criciúma EC': 0.005030849549121974, 'Preußen Münster': 0.0033222591362126247, 'Dinamo Brest': 0.0005600379686758424, 'Dinamo Minsk': 0.004390128144280968, 'Moreirense ': 0.006644518272425249, 'KV Mechelen': 0.008780256288561937, 'Tottenham U21': 0.009492168960607499, 'Stalowa Wola': 7.593735168485999e-05, 'Arm. Bielefeld': 0.00011865211200759374, 'A. Klagenfurt': 0.0028476506881822496, 'LASK': 0.0007119126720455624, 'UdeConce': 0.0002562885619364025, 'Patronato': 6.407214048410062e-05, 'NAC Breda': 0.011390602752728999, 'Ventforet Kofu': 0.003084954912197437, 'Sanf. Hiroshima': 0.03873991457047935, 'Indep. Medellín': 0.030185097294731848, 'Incheon Utd.': 0.0004152823920265781, 'Seongnam FC': 0.0011390602752728999, 'Clermont Foot': 0.003274798291409587, 'SC Bastia': 0.024323682961556715, 'Sundsvall': 0.0009492168960607499, 'Hammarby': 0.009492168960607499, 'ABC': 0.0017085904129093498, 'Flamengo': 0.021357380161366873, 'Al-Rayyan': 0.0006336022781205505, 'El Masry': 0.004864736592311343, 'Górnik Zabrze': 0.00047460844803037496, 'FK Varnsdorf': 0.0007119126720455624, 'Carl Zeiss Jena': 0.0023730422401518746, 'Lausanne-Sport': 0.004508780256288562, 'Shirak Gyumri': 0.0023730422401518746, 'Torpedo Armavir': 0.000132890365448505, 'FC Zürich U21': 0.014712861888941622, \"M'gladbach II\": 0.003559563360227812, 'CD Palestino': 0.004271476032273375, 'Colo Colo': 0.022306597057427623, 'Rad': 0.004746084480303749, 'Unión Comercio': 0.0033222591362126247, 'CA Colón': 0.019197911722828667, 'River Plate': 0.049715234931181775, 'Gimnàstic': 0.0027527289985761747, 'Vasco da Gama': 0.004271476032273375, 'Al Qadisiyah': 0.0010678690080683437, 'Vitória Setúbal': 0.0037968675842429997, 'D. Calarasi': 0.00014238253440911248, 'Telstar': 0.0009492168960607499, 'VVV-Venlo': 0.003084954912197437, 'Kashiwa Reysol': 0.006644518272425249, 'Ross County': 0.0033981964878974846, 'Zamora': 0.00854295206454675, 'Enisey': 0.0018984337921214998, 'Tosno': 0.00011865211200759374, 'Zenit 2 S-Pb': 0.005220692928334125, 'KS Samara': 0.0011865211200759373, 'KV Kortrijk': 0.003203607024205031, 'Colchester Utd.': 0.006169909824394874, 'PAE Veria': 0.0003322259136212625, 'APO Levadiakos': 0.0005576649264356906, 'Girona FC': 0.003084954912197437, 'Panetolikos': 0.0009492168960607499, 'RSC Charleroi': 0.037968675842429994, 'Orlando City SC': 0.00047460844803037496, 'Debrecen': 0.004864736592311343, 'Limón FC': 0.00048410061699098245, 'LD Alajuelense': 0.004629805410536308, 'NYCFC': 0.0075818699572852396, 'FK Gabala': 0.00012814428096820125, 'Atlético-PR': 0.01271950640721405, 'LDU de Loja': 0.0008637873754152824, 'Atlante': 0.03343853820598006, 'Heracles Almelo': 0.020170859041290935, 'Gimnasia': 0.027764594209776935, 'CA Lanús': 0.08305647840531562, 'Leones Negros': 0.004864736592311343, 'Lucchese': 0.0032273374466065497, 'Vicenza': 0.005552918841955387, 'Frosinone': 0.0023730422401518746, 'Metalurg Skopje': 0.0014238253440911248, 'KF Shkendija': 0.0009254864736592311, 'Puebla': 0.004152823920265781, 'Örebro SK': 0.007593735168485999, 'Derry City': 0.00129093497864262, 'Hamburger SV II': 0.0021357380161366873, 'MVV Maastricht': 0.0014238253440911248, 'Willem II': 0.005457997152349312, 'Caracas FC': 0.011865211200759373, 'Huachipato FC': 0.004010441385856669, 'CDUC': 0.022259136212624583, 'CA Temperley': 0.00026103464641670624, 'Mladost': 0.0010085429520645468, 'FC Chiasso': 0.0016611295681063123, 'Sampaio Corrêa': 0.0031324157570004744, 'Quilmes': 0.0021357380161366873, 'Ajaccio': 0.014712861888941622, 'Leyton Orient': 0.0003891789273849074, 'Coventry City': 0.025234931181775035, 'Hobro IK': 0.004935927859515899, 'Belgrano': 0.014712861888941622, 'Northampt. Town': 0.006739439962031324, 'Energie Cottbus': 0.0023730422401518746, 'SönderjyskE': 0.0033222591362126247, 'CFR Cluj': 0.0033222591362126247, 'FCS Bucharest': 0.014238253440911248, 'SC Wiedenbrück': 0.00047460844803037496, 'Skonto Riga': 0.0007593735168485999, 'Arsenal U21': 0.024679639297579496, 'Defensa': 0.00854295206454675, 'Querétaro FC': 0.054105363075462744, 'Pumas': 0.0664451827242525, 'AEL Kalloni': 0.00028476506881822496, 'SJK Seinäjoki': 0.0028476506881822496, 'Neman Grodno': 5.695301376364499e-05, 'FK Slutsk': 1.4238253440911248e-05, 'FC Bayern II': 0.00047460844803037496, 'FC Köniz': 0.00047460844803037496, 'Kashima Antlers': 0.028476506881822496, 'RCD Mallorca': 0.033815851922164214, 'Peterborough': 0.032107261509254865, 'Columbus Crew': 0.00047460844803037496, 'Man City U23': 0.03322259136212625, 'El-Jaish': 0.043474133839582346, 'Al-Duhail': 0.010868533459895587, 'KSK Heist': 0.00014238253440911248, 'KFCO Beerschot': 3.559563360227812e-05, 'Stomil': 0.00047460844803037496, 'AS Trencin': 0.023730422401518746, 'Cibalia': 0.0006169909824394874, 'NK Lokomotiva': 0.0058495491219743715, 'Petr. Ploiesti': 9.492168960607498e-05, 'FC Viitorul': 0.014261983863312767, 'FK Zira': 0.0010085429520645468, 'Enppi': 0.0037968675842429997, 'Halmstad': 0.0028476506881822496, 'Syrianska': 0.0007119126720455624, 'Östersund': 0.0001779781680113906, 'Wisla Plock': 0.0005339345040341718, 'Ankaragücü': 0.0031893687707641198, 'Osmanlispor': 0.0008305647840531562, 'Atlantas': 0.0028476506881822496, 'Ternana': 0.007593735168485999, 'Foggia': 0.0007119126720455624, 'FC Dordrecht': 0.0008068343616516374, 'Millonarios': 0.00854295206454675, 'A. Lustenau': 0.0009492168960607499, 'SCR Altach': 0.00023730422401518748, 'QD Jonoon': 0.025628856193640248, 'Adana Demirspor': 0.00023730422401518748, 'Arbroath': 0.0006074988134788799, 'Moghreb Tétouan': 0.003939250118652112, 'Raja Casablanca': 0.0008305647840531562, 'Feyenoord U19': 0.0007593735168485999, 'Juventud': 0.021831988609397248, 'Arsenal FC': 0.0030374940673943995, 'Tuzlaspor': 0.0007593735168485999, 'Kastamonu 1966': 0.00011865211200759374, 'Tottenham U23': 0.006739439962031324, 'Bandirmaspor': 0.00028476506881822496, 'Instituto': 0.0037968675842429997, 'RW Essen': 0.00047460844803037496, 'Valletta': 0.00047460844803037496, 'QFC': 0.00011865211200759374, 'Poli Timisoara': 0.0018984337921214998, 'El Shorta': 0.0017085904129093498, 'Black Aces': 0.00212624584717608, 'Platinum Stars': 0.00053156146179402, 'Danubio FC': 0.023730422401518746, 'Tours FC': 0.004746084480303749, 'Aldosivi': 0.022306597057427623, 'Jeonbuk Motors': 0.051257712387280496, 'CS Hammam-Lif': 0.0009492168960607499, 'FC Metz': 0.010678690080683437, 'Chippa United': 0.0027432368296155672, 'Kaizer Chiefs': 0.0006858092074038918, 'Farense': 0.0018984337921214998, 'Aydinspor 1923': 0.0009492168960607499, 'FC Montréal': 0.0037968675842429997, 'Stade Tunisien': 0.00042714760322733745, 'AS Livorno': 0.00854295206454675, 'Manisaspor': 0.003910773611770289, 'Figueirense FC': 0.028476506881822496, 'FK Haugesund': 0.007119126720455624, 'Darica GB': 0.00042714760322733745, 'Karsiyaka': 0.00010678690080683436, 'Sonnenhof-Gr.': 0.0007119126720455624, 'Iskenderunspor': 0.00043663977218794494, 'Pontedera': 0.0009492168960607499, 'Ascoli': 0.00023730422401518748, 'CA Huracán': 0.06941148552444233, 'Odense BK': 0.005932605600379687, 'AEL Limassol': 0.0007119126720455624, 'Swat Cat': 0.0001779781680113906, 'Salt Lake': 0.023730422401518746, 'Gaish': 0.005695301376364499, 'Valur': 0.0018984337921214998, 'SD Huesca': 0.004746084480303749, 'CA Osasuna': 0.03962980541053631, 'Hellas U19': 0.03322259136212625, 'Genoa U19': 0.008305647840531562, 'Lyngby BK': 0.00044613194114855243, 'Kiryat Shmona': 0.0023730422401518746, 'B. Banja Luka': 0.00023730422401518748, 'Almere City': 0.004746084480303749, 'Deportivo Lara': 0.0028476506881822496, 'Júbilo Iwata': 0.0028476506881822496, 'KVC Westerlo': 0.0011865211200759373, 'ND Gorica': 0.007593735168485999, 'ETO FC Győr ': 0.0007593735168485999, 'Difaa El Jadida': 0.001044138585666825, 'RS Berkane': 0.0006573327005220693, 'GZ Renhe': 0.053915519696250594, 'Chonburi FC': 0.0027052681537731373, 'Suphanburi FC': 0.0008661604176554343, 'Everton U21': 0.013289036544850499, 'Rapid Suceava': 9.492168960607498e-05, 'FC Wacker': 4.746084480303749e-05, 'Hansa Rostock': 0.003334124347413384, 'Wehen Wiesbaden': 0.00023730422401518748, 'Maccabi Netanya': 0.007593735168485999, 'SY Dongjin': 0.004271476032273375, 'HRB Yiteng': 0.0010678690080683437, 'Nyíregyháza': 9.492168960607498e-05, 'Puskás AFC': 0.006217370669197911, 'Boluspor': 0.0030374940673943995, 'Jagodina': 0.0028476506881822496, 'White Star': 0.0022971048884670147, 'Zrinjski Mostar': 0.0018984337921214998, 'Hércules CF': 0.0028476506881822496, 'Botafogo': 0.023730422401518746, 'Emirates Club': 0.0009539629805410537, 'Joinville': 0.0005220692928334125, 'Randers FC': 0.006549596582819174, 'Parma': 0.023730422401518746, 'Naft Talaieh': 0.0041765543426673, 'FC Niort': 0.008780256288561937, 'MAS Fes': 0.00026578073089701, 'Kawkab Marrakech': 0.007185571903179876, 'Sporting B': 0.004081632653061225, 'Central Coast': 0.00030374940673943995, 'Hajduk Split': 0.01945894636924537, 'Fiorentina U19': 0.0021357380161366873, 'GKS Katowice': 0.00023730422401518748, 'Miami FC': 0.0015662078785002372, 'Grödig': 0.004746084480303749, 'FC Volendam': 0.0033222591362126247, 'Newport County': 0.0007308970099667774, 'Man Utd U23': 0.0023730422401518746, 'DL Yifang': 0.0033222591362126247, 'NK Maribor': 0.004852871381110584, 'Siroki Brijeg': 0.0018984337921214998, 'Barletta': 0.0009492168960607499, 'AC Pisa': 0.00023730422401518748, 'Aalborg BK': 0.005695301376364499, 'Znicz Pruszkow': 9.492168960607498e-05, 'Lechia U19': 2.3730422401518746e-05, 'FC Sochaux': 0.009492168960607499, 'AC Horsens': 0.0033222591362126247, 'Sassuolo U19': 0.018984337921214997, 'Rafaela': 0.004271476032273375, 'Motherwell FC': 0.007214048410061699, 'Atl. Kolkata': 0.00028476506881822496, 'Oxford United': 0.03393450403417181, 'GC Zürich U18': 0.001309919316563835, 'Slaven Belupo': 0.0037968675842429997, 'Real Valladolid': 0.0024916943521594683, 'Chrobry Glogow': 9.492168960607498e-05, 'Gornik Leczna': 0.001210251542477456, 'Portimonense': 0.008068343616516375, 'Miedz Legnica': 0.00047460844803037496, 'ASA Tirgu Mures': 0.0009492168960607499, 'Audax Italiano': 0.0083531086853346, 'Suwon Bluewings': 0.0034171808258186996, 'De Graafschap': 0.004864736592311343, 'JS Kairouan': 0.0007593735168485999, 'Zawisza': 0.0014238253440911248, 'Argentinos': 0.0028476506881822496, 'Astra Giurgiu': 0.006644518272425249, 'Real Zaragoza': 0.009729473184622686, 'Skoda Xanthi': 0.007593735168485999, 'ES Sétif': 0.0018272425249169434, 'Al-Wahda': 0.03364973896535358, 'Elche CF': 0.01613668723303275, 'Pogon Szczecin': 0.004746084480303749, 'Indep. Santa Fe': 0.030374940673943997, 'Chievo U19': 0.0023730422401518746, 'Bucaspor': 0.00047460844803037496, 'Jeju Utd.': 0.018984337921214997, 'GS Consolat M.': 0.0009492168960607499, 'Morecambe FC': 0.002420503084954912, 'AD Alcorcón': 0.008068343616516375, \"O'Higgins\": 0.028476506881822496, 'Vancouver': 0.007119126720455624, 'JS Saoura': 0.0014238253440911248, 'Slovan Liberec': 0.014238253440911248, 'Ratchaburi FC': 0.018984337921214997, 'Chiangrai Utd.': 0.0032273374466065497, 'Spartak 2': 0.006644518272425249, 'CS Fola Esch': 0.00014238253440911248, 'Toronto FC': 0.03322259136212625, 'FK Bodø/Glimt': 0.0087327954437589, 'Rapid Wien II': 0.007593735168485999, 'SKN St. Pölten': 0.004812529663028002, 'Adelaide United': 0.0026103464641670624, 'Peñarol': 0.05054579971523493, 'C.A. Torque': 0.005980066445182724, 'Barcelona SC': 0.0484812529663028, 'Rayo Vallecano': 0.03820598006644518, 'Aalesunds FK': 0.018984337921214997, 'Baltika': 8.542952064546749e-05, 'Erzgebirge Aue': 0.0011865211200759373, 'CA Tigre': 0.014238253440911248, 'APOEL Nicosia': 0.02876127195064072, 'PAS Giannina': 0.0015424774560987185, 'Radnik': 0.0018984337921214998, 'FC Flora': 0.0016136687233032749, 'Admira Wacker': 0.004746084480303749, 'Hoffenheim U19': 0.00047460844803037496, 'FK Minsk': 0.00047460844803037496, 'St. Mirren FC': 0.0037968675842429997, 'Aberdeen FC': 0.0009492168960607499, 'NMG Zhongyou': 0.00011865211200759374, 'AC Le Havre': 0.061699098243948744, 'ZJ Yiteng': 0.0012814428096820122, 'SZ Renren': 0.00032036070242050306, 'Nueva Chicago': 0.005885144755576649, 'UE Llagostera': 0.0009492168960607499, 'Modena FC': 0.0023730422401518746, 'Cremonese': 0.005339345040341718, \"J'ville Armada\": 0.006264831514000949, 'Newcastle U23': 0.007593735168485999, 'Stabaek IF': 0.022306597057427623, 'Radnicki Nis': 0.00047460844803037496, 'Cukaricki': 0.005932605600379687, 'Amkar Perm': 0.006644518272425249, 'US Ben Guerdane': 0.00018984337921214997, 'FC Koper': 0.0033222591362126247, 'Lok. Plovdiv': 0.0009492168960607499, 'CA Fénix': 0.03322259136212625, 'Floriana': 0.0017085904129093498, 'Paços Ferreira': 0.068343616516374, 'MC Oran': 0.0018984337921214998, 'CS Constantine': 3.559563360227812e-05, 'Wanderers': 0.004271476032273375, 'Deportivo Cali': 0.05327479829140959, 'Altinordu': 0.023730422401518746, 'FC Voluntari': 0.0023730422401518746, 'Dibba Fujairah': 0.0005932605600379687, 'Mosta FC': 0.00028476506881822496, 'Balzan FC': 0.00016611295681063124, 'Birkirkara FC': 7.119126720455624e-05, 'Cittadella': 0.0025628856193640245, 'Travnik': 0.00020882771713336498, 'FK Krupa': 5.2206929283341244e-05, 'Melbourne City': 0.0032273374466065497, 'Dinamo Tbilisi': 0.006881822496440437, 'Nea Salamis': 0.0005932605600379687, 'Javor-Matis': 0.0009492168960607499, 'Go Ahead Eagles': 0.0028476506881822496, 'SC Cambuur': 0.000889890840056953, 'Haladás': 0.00397484575225439, 'SC Fortuna Köln': 0.0018984337921214998, 'UTA Arad': 0.0037968675842429997, 'Paraná': 0.0023730422401518746, 'Leixões': 0.001210251542477456, 'Cercle Brugge': 0.0018984337921214998, 'Atvidaberg': 0.0030374940673943995, 'Slavia': 0.00047460844803037496, 'Kilmarnock FC': 0.0028476506881822496, 'Sutton United': 9.492168960607498e-05, 'Grimsby Town': 2.3730422401518746e-05, 'KR Reykjavík': 0.00019933554817275749, 'Víkingur': 4.983388704318937e-05, 'NK Istra': 0.001044138585666825, 'Pistoiese': 0.0018984337921214998, 'Berliner AK': 0.00011390602752728998, 'FC Oss': 0.0009492168960607499, 'Scunthorpe Utd.': 0.0007119126720455624, 'Willem II U21': 0.004271476032273375, 'Ajax U21': 0.0010678690080683437, 'Melbourne': 0.008448030374940674, 'OFK Beograd': 0.011390602752728999, 'Zeljeznicar': 0.00028476506881822496, 'CD Mirandés': 0.002918841955386806, 'Valenciennes FC': 0.014238253440911248, 'Sepahan': 0.004010441385856669, 'Helsingborg': 0.004746084480303749, 'Goiás EC': 0.04271476032273375, 'Fredrikstad': 0.0011390602752728999, 'B. Jerusalem': 0.007119126720455624, 'FK Kukësi': 0.00018984337921214997, 'Dover Athletic': 0.00026578073089701, 'Arsenal U23': 0.027527289985761746, 'Juve Stabia': 0.0033222591362126247, 'Hapoel Raanana': 0.0014238253440911248, 'Dundee FC': 0.005695301376364499, 'Ceará SC': 0.003559563360227812, 'Diyarbekirspor': 0.00014238253440911248, 'Hatayspor': 0.00013763644992880874, 'Ventspils': 0.0003322259136212625, 'AFC Wimbledon': 0.002800189843379212, 'CR Al Hoceima': 0.0018984337921214998, 'AIK Solna': 0.007593735168485999, 'Orlando Pirates': 0.006074988134788799, 'OH Leuven': 0.0014238253440911248, 'Botev Plovdiv': 0.0016611295681063123, 'Western Sydney': 0.013194114855244424, 'NK Celje ': 0.00042714760322733745, 'Orduspor': 0.0005695301376364499, 'Atlético Huila': 0.005695301376364499, 'MK Dons': 0.06293308020882772, 'Bryne FK': 0.0005220692928334125, 'Cizrespor 2010': 9.492168960607498e-05, 'Cine Madranspor': 2.3730422401518746e-05, 'CR Belouizdad': 0.0013763644992880874, 'MC Algier': 0.00034409112482202184, 'FAL U18': 9.492168960607498e-05, 'Blau Weiss Linz': 2.3730422401518746e-05, 'Slask Wroclaw': 0.0028476506881822496, 'Omonia Nikosia': 0.00023730422401518748, 'Naftan': 0.00018035121025154248, 'Soligorsk': 4.508780256288562e-05, 'Neftchi Baku': 0.000512577123872805, 'NE Xamax': 0.0018984337921214998, 'DL Transcen.': 0.00102515424774561, 'Hassania': 0.0019079259610821073, 'Inter U19': 0.0009492168960607499, 'Doxa Katokopias': 0.0011390602752728999, 'Widzew Lodz': 0.00047460844803037496, 'Mafra': 0.037968675842429994, 'Troyes': 0.02444233507356431, 'Monarcas': 0.012339819648789748, 'Malmö U19': 0.0023730422401518746, 'Chapecoense': 0.013289036544850499, 'NK Domzale': 0.004746084480303749, 'Zlate Moravce': 0.0001779781680113906, 'Lienden': 0.00047460844803037496, 'Unterhaching': 0.0009492168960607499, 'TSV Meerbusch': 4.746084480303749e-05, 'Metalist': 0.005695301376364499, 'Metalac': 0.0007593735168485999, 'Chacarita Jrs': 0.0025628856193640245, 'Boavista': 0.014238253440911248, 'Feirense': 0.0006407214048410061, 'PFC Beroe Stara Zagora': 0.0007593735168485999, 'Saburtalo': 0.0009492168960607499, 'CA Tucumán': 0.004271476032273375, 'Exeter City': 0.0031324157570004744, 'CE Sabadell ': 0.0014238253440911248, 'Shinnik': 0.00020882771713336498, 'Vojvodina': 0.007119126720455624, 'Real Sociedad B': 0.0023730422401518746, 'Ural': 0.0007119126720455624, 'RC Arbaa': 0.0007593735168485999, 'JS Kabylie': 0.0011390602752728999, 'NA Hussein Dey': 0.00023730422401518748, 'Braga B': 0.04746084480303749, 'Stade Gabèsien': 0.00258186995728524, 'Stade Laval': 0.004746084480303749, 'Millwall': 0.0012149976269577598, 'CE L’Hospitalet': 0.00018984337921214997, 'Betis B': 3.559563360227812e-05, 'Carlisle United': 0.003986710963455149, 'Évian': 0.0018984337921214998, 'Kansas': 0.026578073089700997, 'Zimbru Chisinau': 0.0009017560512577124, 'Rabotnicki': 0.00132890365448505, 'Vardar': 0.0003322259136212625, 'Zwettl': 3.7968675842429994e-05, 'Gaz Metan': 0.0014238253440911248, 'CA Banfield': 0.005220692928334125, 'Mersin IY': 0.0033222591362126247, 'Tokushima Vort.': 0.037019458946369245, 'Roma U19': 0.011390602752728999, 'Inter Zapresic': 0.004746084480303749, 'El Dakhlia': 0.000664451827242525, 'B. Podgorica': 0.0012339819648789748, 'SBV Excelsior': 0.007119126720455624, 'Vozdovac ': 0.00011390602752728998, 'FAC': 0.0018984337921214998, 'Karpaty': 0.004746084480303749, 'Náutico': 0.0027337446606549597, 'CD Numancia': 0.0023730422401518746, 'Glentoran': 0.000664451827242525, 'Racing': 0.011390602752728999, 'KF Laçi': 0.0014238253440911248, 'CS Emelec': 0.04271476032273375, 'Reggiana': 0.0023730422401518746, 'Helmond Sport': 0.0009492168960607499, 'Servette FC': 0.0018984337921214998, 'LDU Quito': 0.004746084480303749, 'CD Tenerife': 0.030374940673943997, 'Petrojet': 0.0028476506881822496, 'Real Jaén CF': 0.00014238253440911248, 'Wisla Pulawy': 0.0014238253440911248, 'Wolfsberger AC': 0.0028476506881822496, 'Hatta Club': 0.0007119126720455624, 'Carrarese': 0.0014238253440911248, 'AOK Kerkyra': 0.0015187470336971997, 'SV  Ried': 0.0028476506881822496, 'Sibir': 0.0009492168960607499, 'Falkenberg': 0.0025628856193640245, 'SV Kapfenberg': 0.0018984337921214998, 'Gyirmót FC': 0.00047460844803037496, 'CSKA Sofia': 0.007593735168485999, 'Tskhinvali': 0.0028476506881822496, 'Rah Ahan': 0.0028476506881822496, 'Hradec Králové': 0.0028476506881822496, 'Mouscron': 0.009017560512577124, 'Olymp. Volos': 0.00047460844803037496, 'Iraklis': 0.011390602752728999, 'Gamba Osaka': 0.014238253440911248, 'Pohang Steelers': 0.014238253440911248, 'Ittehad': 0.0033222591362126247, 'Novi Pazar': 0.00047460844803037496, 'Sandefjord': 0.00026578073089701, 'FC Brasov': 0.0023730422401518746, 'Giresunspor': 0.0001613668723303275}\n"
     ]
    }
   ],
   "source": [
    "print(beta)"
   ]
  },
  {
   "cell_type": "code",
   "execution_count": 119,
   "metadata": {
    "collapsed": false
   },
   "outputs": [
    {
     "data": {
      "text/plain": [
       "'FC Liefering'"
      ]
     },
     "execution_count": 119,
     "metadata": {},
     "output_type": "execute_result"
    }
   ],
   "source": [
    "min_beta_key = min(beta, key=lambda i: beta[i])\n",
    "min_beta_key"
   ]
  },
  {
   "cell_type": "code",
   "execution_count": 120,
   "metadata": {
    "collapsed": true
   },
   "outputs": [],
   "source": [
    "# reverse the percentage to be applicable as a threshold value: \n",
    "for node in Transfer.nodes():\n",
    "    beta[node] = 1-beta[node]"
   ]
  },
  {
   "cell_type": "code",
   "execution_count": 121,
   "metadata": {
    "collapsed": false
   },
   "outputs": [],
   "source": [
    "import ndlib.models.ModelConfig as mc\n",
    "import ndlib.models.epidemics.ThresholdModel as th\n",
    "from ndlib.viz.mpl.DiffusionTrend import DiffusionTrend\n",
    "\n",
    "# Model selection\n",
    "model.reset()\n",
    "model = th.ThresholdModel(Transfer)\n",
    "\n",
    "# Model Configuration\n",
    "cfg = mc.Configuration()\n",
    "\n",
    "for node in Transfer.nodes():\n",
    "    cfg.add_node_configuration(\"threshold\", node, beta[node])\n",
    "\n",
    "#cfg.add_model_parameter('beta', 0.01)\n",
    "#cfg.add_node_set_configuration('beta', beta)\n",
    "\n",
    "cfg.add_model_parameter(\"percentage_infected\", 0.05)\n",
    "model.set_initial_status(cfg)\n",
    "\n",
    "# Simulation execution\n",
    "iterations = model.iteration_bunch(200)\n",
    "trends = model.build_trends(iterations)\n",
    "\n",
    "# visualization of evolution\n",
    "viz = DiffusionTrend(model, trends)\n",
    "viz.plot(\"Money_infection.png\")"
   ]
  },
  {
   "cell_type": "markdown",
   "metadata": {},
   "source": [
    "<img src=\"Money_infection.png\">"
   ]
  },
  {
   "cell_type": "code",
   "execution_count": 130,
   "metadata": {
    "collapsed": false
   },
   "outputs": [
    {
     "data": {
      "text/plain": [
       "['Hannover 96',\n",
       " 'FSV Frankfurt',\n",
       " 'Cerezo Osaka',\n",
       " 'GZ Evergrande',\n",
       " 'Lazio',\n",
       " 'SH Shenxin',\n",
       " 'Trabzonspor',\n",
       " 'Sporting CP',\n",
       " 'AC Milan',\n",
       " 'Bröndby IF',\n",
       " 'KV Oostende',\n",
       " 'Brentford',\n",
       " 'Arsenal',\n",
       " 'Genclerbirligi',\n",
       " 'Cherno More',\n",
       " 'Diósgyőr',\n",
       " 'Cracovia Kraków',\n",
       " 'Arezzo',\n",
       " 'Al-Gharafa',\n",
       " 'Al-Ahli',\n",
       " 'Juventus',\n",
       " 'Terek Grozny',\n",
       " 'GKS Belchatow',\n",
       " 'Chesterfield FC',\n",
       " 'Anzhi',\n",
       " 'Ipswich',\n",
       " 'Dinamo Zagreb',\n",
       " 'IF Elfsborg',\n",
       " 'PSV U21',\n",
       " 'Odds BK',\n",
       " 'Roda JC',\n",
       " 'Virtus Lanciano',\n",
       " 'Újpest FC',\n",
       " 'FK Sarajevo',\n",
       " 'Bradford City',\n",
       " 'Dinamo Bukarest',\n",
       " 'Empoli U19',\n",
       " 'Belenenses',\n",
       " 'Najran',\n",
       " 'Strømsgodset',\n",
       " 'Brighton',\n",
       " 'K. Offenbach',\n",
       " 'Stuttg. Kickers',\n",
       " 'Burton Albion',\n",
       " 'ES Zarzis',\n",
       " 'Fleetwood Town',\n",
       " 'Incheon Utd.',\n",
       " 'FC Zürich U21',\n",
       " \"M'gladbach II\",\n",
       " 'Enisey',\n",
       " 'Zenit 2 S-Pb',\n",
       " 'KS Samara',\n",
       " 'KV Kortrijk',\n",
       " 'Neman Grodno',\n",
       " 'FK Slutsk',\n",
       " 'El-Jaish',\n",
       " 'Al-Duhail',\n",
       " 'Wisla Plock',\n",
       " 'Platinum Stars',\n",
       " 'Everton U21',\n",
       " 'FC Wacker',\n",
       " 'Hansa Rostock',\n",
       " 'Wehen Wiesbaden',\n",
       " 'HRB Yiteng',\n",
       " 'Real Valladolid',\n",
       " 'Pogon Szczecin',\n",
       " 'Peñarol',\n",
       " 'APOEL Nicosia',\n",
       " 'FC Koper',\n",
       " 'Wanderers',\n",
       " 'Deportivo Cali',\n",
       " 'Dinamo Tbilisi',\n",
       " 'Nea Salamis',\n",
       " 'KR Reykjavík',\n",
       " 'Víkingur',\n",
       " 'Melbourne',\n",
       " 'Hapoel Raanana',\n",
       " 'OH Leuven',\n",
       " 'SBV Excelsior',\n",
       " 'Racing',\n",
       " 'Helmond Sport',\n",
       " 'Servette FC',\n",
       " 'Wolfsberger AC',\n",
       " 'Hatta Club']"
      ]
     },
     "execution_count": 130,
     "metadata": {},
     "output_type": "execute_result"
    }
   ],
   "source": [
    "infected = [key for key in model.status.keys() if model.status[key]==1]\n",
    "infected"
   ]
  },
  {
   "cell_type": "markdown",
   "metadata": {},
   "source": [
    "# Transform a MultiDiGraph into a DiGraph\n",
    "\n",
    "For this analysis it was necessary to transform the initial Multi-Directed Graph into a Directed Graph. "
   ]
  },
  {
   "cell_type": "code",
   "execution_count": 5,
   "metadata": {
    "collapsed": true
   },
   "outputs": [],
   "source": [
    "def getDiGraph(G):\n",
    "    \"\"\"\n",
    "    Transforms a Multidirected network into a directed one.\n",
    "    Between two nodes, sum the value of each transfer (if exist) and the number of transfers.\n",
    "    \"\"\"\n",
    "    # Create the network\n",
    "    dG = nx.DiGraph()\n",
    "    dG.name = G.name\n",
    "    # Add nodes and edges iteratively\n",
    "    for u,v,data in G.edges(data=True):\n",
    "        dG.add_node(u, competition=G.node[u]['competition'])\n",
    "        dG.add_node(v, competition=G.node[v]['competition'])\n",
    "        val = float(data['transferValue']) if 'transferValue' in data else 0.0\n",
    "        if dG.has_edge(u,v):\n",
    "            dG[u][v]['transferValue'] += val\n",
    "            dG[u][v]['nbr'] += 1\n",
    "        else:\n",
    "            dG.add_edge(u, v, transferValue=val, nbr=1)\n",
    "    return dG"
   ]
  },
  {
   "cell_type": "code",
   "execution_count": 6,
   "metadata": {
    "collapsed": false
   },
   "outputs": [
    {
     "name": "stdout",
     "output_type": "stream",
     "text": [
      "Name: transfer\n",
      "Type: DiGraph\n",
      "Number of nodes: 1124\n",
      "Number of edges: 2733\n",
      "Average in degree:   2.4315\n",
      "Average out degree:   2.4315\n"
     ]
    }
   ],
   "source": [
    "DiTransfer = getDiGraph(Transfer)\n",
    "print(nx.info(DiTransfer))"
   ]
  },
  {
   "cell_type": "code",
   "execution_count": 7,
   "metadata": {
    "collapsed": false
   },
   "outputs": [
    {
     "data": {
      "text/plain": [
       "('Nordsjaelland', 'Chievo Verona', {'nbr': 1, 'transferValue': 750000.0})"
      ]
     },
     "execution_count": 7,
     "metadata": {},
     "output_type": "execute_result"
    }
   ],
   "source": [
    "DiTransfer.edges(data = True)[0]"
   ]
  },
  {
   "cell_type": "code",
   "execution_count": 8,
   "metadata": {
    "collapsed": false
   },
   "outputs": [
    {
     "data": {
      "image/png": "[encoded data removed]",
      "text/plain": [
       "<matplotlib.figure.Figure at 0x117b85588>"
      ]
     },
     "metadata": {},
     "output_type": "display_data"
    }
   ],
   "source": [
    "import matplotlib.pyplot as plt\n",
    "%matplotlib inline\n",
    "\n",
    "club_club_transfer_values = list(nx.get_edge_attributes(DiTransfer,'transferValue').values())\n",
    "\n",
    "plt.hist(club_club_transfer_values, bins=100, normed=0) #normed indicates Probability Density (sum =1)\n",
    "plt.xlabel('Club-club transfer values')\n",
    "plt.ylabel('Count')\n",
    "plt.yscale('log')\n",
    "plt.title('Histogram of club-club transfer values')\n",
    "plt.grid(True)\n",
    "plt.show()"
   ]
  },
  {
   "cell_type": "markdown",
   "metadata": {},
   "source": [
    "From this it can be seen that a vast majority of the transfer happen with relatively low amounts of money. \n",
    "Here we want to analyze the high end of transfers."
   ]
  },
  {
   "cell_type": "code",
   "execution_count": 9,
   "metadata": {
    "collapsed": false
   },
   "outputs": [
    {
     "data": {
      "image/png": "[encoded data removed]",
      "text/plain": [
       "<matplotlib.figure.Figure at 0x119dab160>"
      ]
     },
     "metadata": {},
     "output_type": "display_data"
    }
   ],
   "source": [
    "club_club_transfer_nbrs = list(nx.get_edge_attributes(DiTransfer,'nbr').values())\n",
    "\n",
    "plt.hist(club_club_transfer_nbrs, bins=50, normed=0) #normed indicates Probability Density (sum =1)\n",
    "plt.xlabel('Number of transfers between 2 clubs')\n",
    "plt.ylabel('Count')\n",
    "plt.yscale('log')\n",
    "plt.title('Histogram of number of transfers between 2 clubs')\n",
    "plt.grid(True)\n",
    "plt.show()"
   ]
  },
  {
   "cell_type": "markdown",
   "metadata": {},
   "source": [
    "This graph shows that the difference between the Directed graph and the Multi-Directed one is relatively small since few links were aggregated with each other."
   ]
  },
  {
   "cell_type": "markdown",
   "metadata": {},
   "source": [
    "## Money infection analysis second approach\n",
    "\n",
    "Here we are interested to understand how money flows into the network. \n",
    "Especially since the prices of the players seem to constantly grow, we consider that a \"money infection\" is spreading in the network. If a club pays a huge amount of money for a player, then another club will sell to that club at higher price because they see that they still buy. Similarly, when a club sells a player for a huge amount of money, the club is now rich and can now buy other players for huge amounts of money. This is how we consider the disease spreading. "
   ]
  },
  {
   "cell_type": "markdown",
   "metadata": {},
   "source": [
    "### Get the first set of infected nodes\n"
   ]
  },
  {
   "cell_type": "code",
   "execution_count": 10,
   "metadata": {
    "collapsed": false
   },
   "outputs": [
    {
     "data": {
      "image/png": "[encoded data removed]",
      "text/plain": [
       "<matplotlib.figure.Figure at 0x11a0b4a58>"
      ]
     },
     "metadata": {},
     "output_type": "display_data"
    },
    {
     "data": {
      "image/png": "[encoded data removed]",
      "text/plain": [
       "<matplotlib.figure.Figure at 0x119fd7978>"
      ]
     },
     "metadata": {},
     "output_type": "display_data"
    }
   ],
   "source": [
    "# to get the first set of infected nodes\n",
    "\n",
    "in_deg = DiTransfer.in_degree(weight = 'transferValue')\n",
    "\n",
    "hist_in_deg = list(in_deg.values())\n",
    "\n",
    "plt.hist(hist_in_deg, bins=50, normed=0) #normed indicates Probability Density (sum =1)\n",
    "plt.xlabel('Weighted in-degree')\n",
    "plt.ylabel('Count')\n",
    "plt.yscale('log')\n",
    "plt.title('Histogram of weighted in degrees of clubs')\n",
    "plt.grid(True)\n",
    "plt.show()\n",
    "\n",
    "out_deg = DiTransfer.out_degree(weight = 'transferValue')\n",
    "\n",
    "hist_out_deg = list(out_deg.values())\n",
    "\n",
    "plt.hist(hist_out_deg, bins=50, normed=0) #normed indicates Probability Density (sum =1)\n",
    "plt.xlabel('Weighted out-degree')\n",
    "plt.ylabel('Count')\n",
    "plt.yscale('log')\n",
    "plt.title('Histogram of weighted out degrees of clubs')\n",
    "plt.grid(True)\n",
    "plt.show()    "
   ]
  },
  {
   "cell_type": "markdown",
   "metadata": {},
   "source": [
    "The in- and out- degree distributions have similar characteristics, with the same extreme values observed."
   ]
  },
  {
   "cell_type": "markdown",
   "metadata": {},
   "source": [
    "To determine the initial infected we calculate a money infection coefficient the following way: \n",
    "\n",
    "$$ coef = 0.8\\cdot \\text{in_degree[money]}+0.2\\cdot \\text{out_degree[money]} $$\n",
    "\n",
    "This formula is a weighted average of the in- and out- degrees of a particular node meaning the following: \n",
    "\"If the club spends a lot money (*players in_degree*) and receives as well a lot of money (*player out_degree*), then it is more likely that this club will be infected.\" "
   ]
  },
  {
   "cell_type": "code",
   "execution_count": 125,
   "metadata": {
    "collapsed": false
   },
   "outputs": [
    {
     "data": {
      "image/png": "[encoded data removed]",
      "text/plain": [
       "<matplotlib.figure.Figure at 0x11baee2b0>"
      ]
     },
     "metadata": {},
     "output_type": "display_data"
    }
   ],
   "source": [
    "Infection_coef = {}\n",
    "for node in DiTransfer.nodes():\n",
    "    Infection_coef[node] = 0.2*out_deg[node]+0.8*in_deg[node]\n",
    "    \n",
    "hist_infection_coefs = list(Infection_coef.values())\n",
    "\n",
    "plt.hist(hist_infection_coefs, bins=50, normed=0) #normed indicates Probability Density (sum =1)\n",
    "plt.xlabel('Weighted out-degree')\n",
    "plt.ylabel('Count')\n",
    "plt.yscale('log')\n",
    "plt.title('Histogram of weighted out degrees of clubs')\n",
    "plt.grid(True)\n",
    "plt.show()   "
   ]
  },
  {
   "cell_type": "code",
   "execution_count": 244,
   "metadata": {
    "collapsed": false,
    "scrolled": false
   },
   "outputs": [
    {
     "name": "stdout",
     "output_type": "stream",
     "text": [
      "30 Highest Infection coef :\n",
      "\n",
      "Man City\n",
      "Man Utd\n",
      "Juventus\n",
      "Chelsea\n",
      "Atlético Madrid\n",
      "Inter\n",
      "Liverpool\n",
      "Valencia CF\n",
      "Paris SG\n",
      "Monaco\n",
      "Newcastle\n",
      "Spurs\n",
      "FC Barcelona\n",
      "AS Roma\n",
      "VfL Wolfsburg\n",
      "Bor. Dortmund\n",
      "Bayern Munich \n",
      "Watford\n",
      "Southampton\n",
      "Aston Villa\n",
      "SSC Napoli\n",
      "Arsenal\n",
      "Real Madrid\n",
      "Villarreal CF\n",
      "Leicester\n",
      "Sevilla FC\n",
      "AC Milan\n",
      "Everton\n",
      "GZ Evergrande\n",
      "JS Suning\n"
     ]
    }
   ],
   "source": [
    "Infection_coef_sorted = [(Infection_coef[link_key], link_key) for link_key in Infection_coef.keys()]\n",
    "Infection_coef_sorted.sort(reverse=True)\n",
    "#print(centrality_sorted)\n",
    "max30Infection_coef = [key for value,key in Infection_coef_sorted[:30]]\n",
    "print('30 Highest Infection coef :\\n')\n",
    "for club in max30Infection_coef:\n",
    "    print(club)"
   ]
  },
  {
   "cell_type": "markdown",
   "metadata": {},
   "source": [
    "Not very surprisingly, all the top hot clubs pop out on this list of the 30 highest likely to be infected clubs."
   ]
  },
  {
   "cell_type": "markdown",
   "metadata": {},
   "source": [
    "### Subgraph of the richest clubs"
   ]
  },
  {
   "cell_type": "code",
   "execution_count": 286,
   "metadata": {
    "collapsed": false
   },
   "outputs": [
    {
     "name": "stdout",
     "output_type": "stream",
     "text": [
      "Name: transfer\n",
      "Type: DiGraph\n",
      "Number of nodes: 1124\n",
      "Number of edges: 255\n",
      "Average in degree:   0.2269\n",
      "Average out degree:   0.2269\n",
      "Name: RichClubs\n",
      "Type: DiGraph\n",
      "Number of nodes: 30\n",
      "Number of edges: 100\n",
      "Average in degree:   3.3333\n",
      "Average out degree:   3.3333\n"
     ]
    }
   ],
   "source": [
    "# specify the threshold\n",
    "threshold = 10000000\n",
    "RichTransfers = DiTransfer.copy()\n",
    "#G_com_reduced = community.induced_graph(partition, G, weight='TotalValue')\n",
    "\n",
    "# Find the edges with weight less than the threshold\n",
    "edges_to_remove = [(u,v) for u,v,d in RichTransfers.edges(data=True) if d['transferValue'] < threshold]\n",
    "\n",
    "# Remove these edges from the graph\n",
    "RichTransfers.remove_edges_from(edges_to_remove)\n",
    "\n",
    "#largest_cc = max(nx.weakly_connected_components(RichTransfers), key=len)\n",
    "RichClubs = DiTransfer.copy()\n",
    "RichClubs.name = 'RichClubs'\n",
    "nbunch = [n for n in RichClubs.nodes() if n not in max30Infection_coef]\n",
    "RichClubs.remove_nodes_from(nbunch)\n",
    "\n",
    "print(nx.info(RichTransfers))\n",
    "print(nx.info(RichClubs))"
   ]
  },
  {
   "cell_type": "markdown",
   "metadata": {},
   "source": [
    "### From the initial clubs, infect others"
   ]
  },
  {
   "cell_type": "code",
   "execution_count": 292,
   "metadata": {
    "collapsed": false
   },
   "outputs": [],
   "source": [
    "def get_infected_club(G, club):\n",
    "    \"\"\"\n",
    "    This function evaluates which club to infect when a buy decision of a particular club is decided.\n",
    "    We assume here that a club only buys players from the previous clubs he bought his players off\n",
    "    and that since it will spend a lot of money (because it is infected), it is more likely for him to buy \n",
    "    from a club were it previously had bought with a lot money.\n",
    "    \"\"\"\n",
    "    infection_Proba = {}\n",
    "    # It will buy a player from it's predecessors relative to \n",
    "    # the amount of money he already paid to them\n",
    "    Potentially_infected = G.predecessors(club)\n",
    "    if len(Potentially_infected) ==0:\n",
    "        # meaning that the node has no predecessor in the graph\n",
    "        # It can infect any node with equal probability\n",
    "        random_infection = rd.sample(G.nodes(),1)[0]\n",
    "        # print('random :',random_infection)\n",
    "        return random_infection\n",
    "        # return None\n",
    "    else: \n",
    "        for pre_node in Potentially_infected:\n",
    "        # transfer value of each predecessors\n",
    "            infection_Proba[pre_node] = G.edge[pre_node][club]['transferValue']\n",
    "\n",
    "        infection_Proba_sum = np.sum(list(infection_Proba.values()))\n",
    "        for coef in infection_Proba.keys():\n",
    "        # A probability of infection of each club from (0 to 1, with the sum = 1)\n",
    "            infection_Proba[coef] = infection_Proba[coef]/infection_Proba_sum\n",
    "\n",
    "        # Based on the probability now a cumulative probability function is built\n",
    "        order_key = []\n",
    "        order_val = []\n",
    "        #cumulated_proba = {}\n",
    "\n",
    "        for key in infection_Proba.keys():\n",
    "            order_key.append(key)\n",
    "            val = infection_Proba[key]\n",
    "            order_val.append(val)\n",
    "\n",
    "            try: \n",
    "                order_val[-1] = order_val[-2]+order_val[-1]\n",
    "                #cumulated_proba[key] = order_val[-1]\n",
    "            except:\n",
    "                pass\n",
    "                #cumulated_proba[key] = val\n",
    "\n",
    "        # A random number is picked between 0 and 1, if it lower than the cumulative function in the ordered value\n",
    "        # the club corresponding to that position is infected\n",
    "        x = rd.random()\n",
    "        for i in range(0,len(order_val)):\n",
    "            #print(x,' :',order_val[i])\n",
    "            if(x < order_val[i]):\n",
    "                #print(order_key)\n",
    "                #print(i)\n",
    "                #print(len(order_val),len(order_key))\n",
    "                return order_key[i]\n",
    "    \n",
    "    print(Potentially_infected)\n",
    "    print(x)\n",
    "    return 'toto'"
   ]
  },
  {
   "cell_type": "code",
   "execution_count": 293,
   "metadata": {
    "collapsed": false
   },
   "outputs": [
    {
     "data": {
      "text/plain": [
       "['Man City',\n",
       " 'Swansea',\n",
       " 'Barnsley FC',\n",
       " 'Braga',\n",
       " 'Everton',\n",
       " 'Bursaspor',\n",
       " 'Sevilla FC',\n",
       " 'Saint-Étienne',\n",
       " 'Ponte Preta',\n",
       " 'Stoke City',\n",
       " 'Vojvodina',\n",
       " 'QPR',\n",
       " 'US Palermo',\n",
       " 'Joinville',\n",
       " 'Zulte Waregem',\n",
       " 'Cukaricki',\n",
       " 'São Paulo',\n",
       " 'PSV Eindhoven',\n",
       " 'Dinamo Moscow',\n",
       " 'Javor-Matis',\n",
       " 'Charlton',\n",
       " 'Heracles Almelo',\n",
       " 'Radnicki Nis',\n",
       " 'Racing Club',\n",
       " 'Slaven Belupo',\n",
       " 'FC Sion',\n",
       " 'Bari',\n",
       " 'Catania',\n",
       " 'Hannover 96',\n",
       " 'Ahly',\n",
       " 'Dinamo Minsk',\n",
       " 'FC Südtirol',\n",
       " 'NK Maribor',\n",
       " 'NK Celje ',\n",
       " 'FC Tokyo',\n",
       " 'Swindon Town',\n",
       " '1. FC Köln',\n",
       " 'Unión Santa Fé',\n",
       " 'Inter Zapresic',\n",
       " 'Standard Liège',\n",
       " 'KSC Lokeren',\n",
       " 'Viborg FF',\n",
       " 'Vitesse',\n",
       " 'Sampdoria',\n",
       " 'AS Avellino',\n",
       " 'Vozdovac ',\n",
       " 'IF Elfsborg',\n",
       " 'CA Banfield',\n",
       " 'FC Zürich U21',\n",
       " 'Fulham',\n",
       " 'BJ Renhe',\n",
       " 'Spartak Moscow',\n",
       " 'CS Sfaxien',\n",
       " 'Strømsgodset',\n",
       " 'Valerenga',\n",
       " 'Boavista',\n",
       " 'SC Freiburg',\n",
       " 'Olympique Lyon',\n",
       " 'Werder Bremen',\n",
       " 'Torino',\n",
       " 'West Ham',\n",
       " 'Stabaek IF',\n",
       " 'Krasnodar',\n",
       " 'Ipswich',\n",
       " 'Colorado',\n",
       " 'FC Basel',\n",
       " 'Rio Ave FC',\n",
       " '1860 Munich',\n",
       " 'SC Paderborn',\n",
       " 'Norwich',\n",
       " 'NK Zagreb',\n",
       " 'Termalica',\n",
       " 'Petrojet',\n",
       " 'SH Shenhua',\n",
       " 'KV Mechelen',\n",
       " 'TSG Hoffenheim',\n",
       " 'Estudiantes',\n",
       " 'Hércules CF',\n",
       " 'KFCO Beerschot',\n",
       " 'NAC Breda',\n",
       " 'Admira Wacker',\n",
       " 'Glentoran',\n",
       " 'D. Calarasi',\n",
       " 'RSC Anderlecht',\n",
       " 'Roma U19',\n",
       " 'Club Brugge',\n",
       " 'Marítimo',\n",
       " 'Servette FC',\n",
       " 'Paraná',\n",
       " 'Osmanlispor',\n",
       " 'Feyenoord',\n",
       " 'CS Constantine',\n",
       " 'G. Ajaccio',\n",
       " 'Peterborough',\n",
       " 'Djurgardens IF',\n",
       " 'Arsenal',\n",
       " 'FC Wil 1900',\n",
       " 'Chelsea',\n",
       " 'Dep. La Coruña',\n",
       " 'FC Luzern',\n",
       " 'SSC Napoli',\n",
       " 'Rosenborg BK',\n",
       " 'Start',\n",
       " 'Inter',\n",
       " 'M. Tel Aviv',\n",
       " 'Rapid Vienna',\n",
       " 'Sporting B',\n",
       " 'SV  Ried',\n",
       " 'Hamilton Acad.',\n",
       " 'KSK Heist',\n",
       " 'UdeConce',\n",
       " 'Esperance',\n",
       " 'FC Metz',\n",
       " 'VfL Bochum',\n",
       " 'Olimpo',\n",
       " \"Bor. M'gladbach\",\n",
       " 'Hapoel Raanana',\n",
       " 'Greuther Fürth',\n",
       " 'Dover Athletic',\n",
       " 'Diósgyőr',\n",
       " 'Olympiacos',\n",
       " 'Kawkab Marrakech',\n",
       " 'Pogon Szczecin',\n",
       " 'Wadi Degla ',\n",
       " 'Faisaly',\n",
       " 'Bay. Leverkusen',\n",
       " 'Esbjerg fB',\n",
       " 'Wehen Wiesbaden',\n",
       " 'Benfica',\n",
       " 'Udinese Calcio',\n",
       " 'SZ Renren',\n",
       " '1.FSV Mainz 05',\n",
       " 'River Plate',\n",
       " 'Zawisza',\n",
       " 'SH Shenxin',\n",
       " 'Brescia',\n",
       " 'Harras Hodoud',\n",
       " 'FC Porto',\n",
       " 'Häcken',\n",
       " 'FK Slutsk',\n",
       " 'MC Oran',\n",
       " 'Kasimpasa',\n",
       " 'Hertha BSC',\n",
       " 'Red Star',\n",
       " 'Atalanta U19',\n",
       " 'Exeter City',\n",
       " 'Slavija S.',\n",
       " 'MAS Fes',\n",
       " 'Colchester Utd.',\n",
       " 'Ternana',\n",
       " 'KRC Genk',\n",
       " 'Zlate Moravce',\n",
       " 'Vardar',\n",
       " 'FC Copenhagen',\n",
       " 'MSK Zilina',\n",
       " 'RC Rélizane',\n",
       " 'Rabotnicki',\n",
       " 'Helmond Sport',\n",
       " 'Lens',\n",
       " 'Znicz Pruszkow',\n",
       " 'Man City U23',\n",
       " 'ZJ Yiteng',\n",
       " 'E. Braunschweig',\n",
       " 'Hajduk Split',\n",
       " 'Bandirmaspor',\n",
       " 'Slovan Liberec',\n",
       " 'Bor. Dortmund',\n",
       " 'JS Kairouan',\n",
       " 'AZ Alkmaar',\n",
       " 'Juventus',\n",
       " 'Zamora',\n",
       " 'Pohang Steelers',\n",
       " 'F91 Dudelange',\n",
       " 'Kawasaki Front.',\n",
       " 'FC Schalke 04',\n",
       " 'Poli Timisoara',\n",
       " 'Nordsjaelland',\n",
       " 'Hansa Rostock',\n",
       " 'Aalesunds FK',\n",
       " 'OH Leuven',\n",
       " 'Cerezo Osaka',\n",
       " 'VfB Stuttgart',\n",
       " 'F. Düsseldorf',\n",
       " 'Ferencváros',\n",
       " 'NK Domzale',\n",
       " 'TuS Ennepetal',\n",
       " 'Saburtalo',\n",
       " 'Celta de Vigo',\n",
       " 'Sporting CP',\n",
       " 'Atl. Kolkata',\n",
       " 'Criciúma EC',\n",
       " 'Valencia CF',\n",
       " 'Mosta FC',\n",
       " 'Fluminense',\n",
       " 'KR Reykjavík',\n",
       " 'Neman Grodno',\n",
       " 'Troyes',\n",
       " 'FC Wacker',\n",
       " 'Stade Tunisien',\n",
       " 'A. Lustenau',\n",
       " 'FK Bodø/Glimt',\n",
       " 'FC Groningen',\n",
       " 'West Brom',\n",
       " 'AD Alcorcón',\n",
       " 'Panathinaikos',\n",
       " 'Aston Villa',\n",
       " 'Stade Laval',\n",
       " 'FC Brasov',\n",
       " 'Enppi',\n",
       " 'Orduspor',\n",
       " 'Dibba Fujairah',\n",
       " 'Scunthorpe Utd.',\n",
       " 'Siroki Brijeg',\n",
       " 'FC Ingolstadt',\n",
       " 'El-Jaish',\n",
       " 'BJ Enterprises',\n",
       " 'Legia Warszawa',\n",
       " 'Gillingham FC',\n",
       " 'Portsmouth FC',\n",
       " 'Benfica B',\n",
       " 'AS Roma',\n",
       " 'Lazio',\n",
       " 'Pistoiese',\n",
       " 'LOSC Lille',\n",
       " 'Santos',\n",
       " 'Arm. Bielefeld',\n",
       " 'Hobro IK',\n",
       " 'NK Istra',\n",
       " 'Haladás',\n",
       " 'Randers FC',\n",
       " 'Panionios',\n",
       " 'KV Oostende',\n",
       " 'Reims',\n",
       " 'ES Sahel',\n",
       " 'Marseille',\n",
       " 'Hammarby',\n",
       " 'Hamburger SV',\n",
       " 'FC Augsburg',\n",
       " 'Metalist',\n",
       " 'AC Cesena',\n",
       " 'FC Voluntari',\n",
       " 'Giresunspor',\n",
       " 'Chippa United',\n",
       " 'G. Bordeaux',\n",
       " 'Shakhtar D.',\n",
       " 'Aldosivi',\n",
       " 'FC Zürich',\n",
       " 'SönderjyskE',\n",
       " 'Luton Town',\n",
       " 'Burton Albion',\n",
       " 'E. Frankfurt',\n",
       " 'Junior FC',\n",
       " 'Metalurg Skopje',\n",
       " 'Górnik Zabrze',\n",
       " 'Boca Juniors',\n",
       " 'Loko Moscow',\n",
       " 'Modena FC',\n",
       " 'Holstein Kiel',\n",
       " 'Watford',\n",
       " 'HN Jianye',\n",
       " 'Debrecen',\n",
       " 'KF Vllaznia',\n",
       " 'Astra Giurgiu',\n",
       " 'VfL Wolfsburg',\n",
       " 'NE Xamax',\n",
       " 'FC Oss',\n",
       " 'Karlsruher SC',\n",
       " 'Platinum Stars',\n",
       " 'Defensor',\n",
       " 'Ismaily',\n",
       " 'CA Fénix',\n",
       " 'Nacional',\n",
       " 'Liverpool U23',\n",
       " 'Bryne FK',\n",
       " 'Virtus Entella',\n",
       " 'Club Africain',\n",
       " 'Ross County',\n",
       " 'CD Godoy Cruz',\n",
       " 'Göztepe',\n",
       " 'Black Aces',\n",
       " 'Litex Lovetch',\n",
       " 'Entag El Harby',\n",
       " 'El Makasa',\n",
       " 'FC Twente',\n",
       " 'Flamengo',\n",
       " 'Aktobe',\n",
       " 'Corinthians',\n",
       " 'Adelaide United',\n",
       " 'Partizan',\n",
       " 'Bristol City',\n",
       " 'Zalgiris',\n",
       " 'Brentford',\n",
       " 'Muangthong Utd.',\n",
       " 'Pescara',\n",
       " 'Derry City',\n",
       " 'Bologna',\n",
       " 'Rapid Wien II',\n",
       " 'APO Levadiakos',\n",
       " 'Ramnicu Valcea',\n",
       " 'Independiente',\n",
       " 'Antalyaspor',\n",
       " 'Cagliari Calcio',\n",
       " 'PAE Veria',\n",
       " 'Spurs',\n",
       " 'Atalanta',\n",
       " '1.FC Heidenheim',\n",
       " 'Kosice',\n",
       " 'Sivasspor',\n",
       " 'FK Teplice',\n",
       " 'AS Nancy',\n",
       " 'Atvidaberg',\n",
       " 'Toluca',\n",
       " 'Waasl.-Beveren',\n",
       " 'Fiorentina',\n",
       " \"Newell's\",\n",
       " 'Leones Negros',\n",
       " 'Víkingur',\n",
       " 'CR Al Hoceima',\n",
       " 'Mafra',\n",
       " 'FC Chiasso',\n",
       " 'Middlesbrough',\n",
       " 'B. Jerusalem',\n",
       " 'IFK Göteborg',\n",
       " 'JS Kabylie',\n",
       " 'Ahli',\n",
       " 'Apol. Limassol',\n",
       " 'Club Tijuana',\n",
       " 'Chesterfield FC',\n",
       " 'Atlético Madrid',\n",
       " 'SV Darmstadt 98',\n",
       " 'FC Empoli',\n",
       " 'CD Leganés',\n",
       " 'Al-Ahli',\n",
       " 'Norrköping',\n",
       " 'Sassuolo U19',\n",
       " 'Lech Poznan',\n",
       " 'Mladost',\n",
       " 'J. Bialystok',\n",
       " 'All Boys',\n",
       " 'Central Coast',\n",
       " 'Motherwell FC',\n",
       " 'FC Botosani',\n",
       " 'Crystal Palace',\n",
       " 'Sundsvall',\n",
       " 'Bröndby IF',\n",
       " 'Vit. Guimarães',\n",
       " 'CD Numancia',\n",
       " 'San Marino',\n",
       " 'Al-Sadd',\n",
       " 'Ventforet Kofu',\n",
       " 'FC Midtjylland',\n",
       " 'Atlante',\n",
       " 'RB Salzburg',\n",
       " 'Galatasaray',\n",
       " 'Nasr',\n",
       " 'Buriram Utd.',\n",
       " 'CS Fola Esch',\n",
       " 'Belgrano',\n",
       " 'Deportes Tolima',\n",
       " 'RW Essen',\n",
       " 'Dinamo Bukarest',\n",
       " 'Rapid Suceava',\n",
       " 'Envigado',\n",
       " 'Bayern Munich ',\n",
       " 'Granada CF',\n",
       " 'Tuzlaspor',\n",
       " 'FC St. Gallen',\n",
       " 'Asteras Tripoli',\n",
       " 'Aarhus GF',\n",
       " 'De Graafschap',\n",
       " 'FC Ashdod',\n",
       " 'B. Banja Luka',\n",
       " 'Hallescher FC',\n",
       " 'FC Lugano',\n",
       " 'Spartak',\n",
       " 'Käpylän',\n",
       " 'Los Angeles',\n",
       " 'FC Thun',\n",
       " 'AC Horsens',\n",
       " 'Viking',\n",
       " 'Sassuolo',\n",
       " 'FK Varnsdorf',\n",
       " 'Racing',\n",
       " 'Shirak Gyumri',\n",
       " 'Cracovia Kraków',\n",
       " 'Lilleström SK',\n",
       " 'Quilmes',\n",
       " 'SC Cambuur',\n",
       " 'Newcastle',\n",
       " 'OFK Beograd',\n",
       " 'Suwon Bluewings',\n",
       " 'LDU de Loja',\n",
       " 'Dinamo Tbilisi',\n",
       " 'GZ Evergrande',\n",
       " 'HRB Yiteng',\n",
       " 'SD Luneng',\n",
       " 'CF Pachuca',\n",
       " 'Heerenveen',\n",
       " 'Tours FC',\n",
       " 'Sydney FC',\n",
       " 'MK Dons',\n",
       " 'Lechia U19',\n",
       " 'Al-Gharafa',\n",
       " 'Sunderland',\n",
       " 'Unterhaching',\n",
       " 'Hull City',\n",
       " 'Al-Rayyan',\n",
       " 'Liverpool',\n",
       " 'Cercle Brugge',\n",
       " 'Kuban Krasnodar',\n",
       " 'Slo. Bratislava',\n",
       " 'Limón FC',\n",
       " 'NK Lokomotiva',\n",
       " 'Villarreal CF',\n",
       " 'Moreirense ',\n",
       " 'FC Vaduz',\n",
       " 'FC Lorient',\n",
       " 'Botev Plovdiv',\n",
       " 'Northampt. Town',\n",
       " 'Córdoba CF',\n",
       " 'Miami FC',\n",
       " 'KAA Gent',\n",
       " 'Viktoria Plzen',\n",
       " 'Dnipro',\n",
       " 'Dynamo Kyiv',\n",
       " 'Gimnasia',\n",
       " 'Volyn Lutsk',\n",
       " 'FC St. Pauli',\n",
       " 'Santos FC',\n",
       " 'SJK Seinäjoki',\n",
       " 'San Lorenzo',\n",
       " 'CA Huracán',\n",
       " 'Crotone',\n",
       " 'Trabzonspor',\n",
       " 'JS Guoxin Sainty',\n",
       " 'Pandurii T.-Jiu',\n",
       " 'Spartak 2',\n",
       " 'Mouscron',\n",
       " 'Wydad AC',\n",
       " 'Guingamp',\n",
       " 'Sanf. Hiroshima',\n",
       " 'Dijon',\n",
       " 'Maccabi Haifa',\n",
       " 'Monaco',\n",
       " 'DL Transcen.',\n",
       " 'Widzew Lodz',\n",
       " 'Ludogorets',\n",
       " 'Atl. Nacional',\n",
       " 'CD Cruz Azul',\n",
       " 'Würzb. Kickers',\n",
       " 'Shabab',\n",
       " 'FK Haugesund',\n",
       " 'Sonnenhof-Gr.',\n",
       " 'FC Barcelona',\n",
       " 'Qarabag Agdam',\n",
       " 'Leyton Orient',\n",
       " 'St. Mirren FC',\n",
       " \"1.FC K'lautern\",\n",
       " 'BB Erzurumspor',\n",
       " 'Celtic',\n",
       " 'Heart of Midl.',\n",
       " 'Dundee United',\n",
       " 'Wisla Kraków',\n",
       " 'SM Caen',\n",
       " 'Willem II U21',\n",
       " 'C.A. Torque',\n",
       " 'Velbert 02',\n",
       " 'Portimonense',\n",
       " 'Stuttg. Kickers',\n",
       " 'Diyarbekirspor',\n",
       " 'CA Rosario',\n",
       " 'AS Trencin',\n",
       " 'Almere City',\n",
       " 'HB Köge',\n",
       " 'El Shorta',\n",
       " 'Rad',\n",
       " 'Chonburi FC',\n",
       " 'Oxford United',\n",
       " 'Rafaela',\n",
       " 'CS Emelec',\n",
       " 'FK Gabala',\n",
       " 'Aalborg BK',\n",
       " 'Gamba Osaka',\n",
       " 'FC Liefering',\n",
       " 'Shrewsbury',\n",
       " 'WH Zall',\n",
       " 'FC Bayern II',\n",
       " 'Hibernian FC',\n",
       " 'Genoa',\n",
       " 'Ajax U21',\n",
       " 'Wigan',\n",
       " 'Slavia Prag',\n",
       " 'Zamalek',\n",
       " 'Arbroath',\n",
       " 'Sepahan',\n",
       " 'FC Nantes',\n",
       " 'Kansas',\n",
       " 'Zaglebie Lubin',\n",
       " 'Podbeskidzie',\n",
       " 'JS Suning',\n",
       " 'Zrinjski Mostar',\n",
       " 'Ural',\n",
       " 'SCO Angers',\n",
       " 'Doxa Katokopias',\n",
       " 'Chrobry Glogow',\n",
       " 'RC Arbaa',\n",
       " 'Austria Vienna',\n",
       " 'Levski Sofia',\n",
       " 'Mladá Boleslav',\n",
       " 'Zimbru Chisinau',\n",
       " 'FC Flora',\n",
       " 'Go Ahead Eagles',\n",
       " 'Dundee FC',\n",
       " 'Tigres',\n",
       " 'Defensa',\n",
       " 'Tosno',\n",
       " 'AC Milan',\n",
       " 'MVV Maastricht',\n",
       " 'Paris SG',\n",
       " 'Sampdoria U19',\n",
       " 'Yokohama F. M.',\n",
       " 'Tractor Sazi',\n",
       " 'Malmö',\n",
       " 'Blackburn',\n",
       " 'El Sharkia',\n",
       " 'Nyíregyháza',\n",
       " 'BATE Borisov',\n",
       " 'Leeds',\n",
       " 'Tottenham U23',\n",
       " 'Ankaragücü',\n",
       " 'Sibir',\n",
       " 'Sandefjord',\n",
       " 'TJ Quanjian',\n",
       " 'Colo Colo',\n",
       " 'ASA Tirgu Mures',\n",
       " 'Barcelona SC',\n",
       " 'Cibalia',\n",
       " 'SC Fortuna Köln',\n",
       " 'Kyoto Sanga',\n",
       " 'Besiktas',\n",
       " 'Melbourne',\n",
       " 'FC Koper',\n",
       " 'Iskenderunspor',\n",
       " 'FK Minsk',\n",
       " 'LB Châteauroux',\n",
       " 'Chicago Fire',\n",
       " 'Braga B',\n",
       " 'FSV Frankfurt',\n",
       " 'Nîmes Olympique',\n",
       " 'Bradford City',\n",
       " 'Man Utd',\n",
       " 'Omonia Nikosia',\n",
       " 'Helsingborg',\n",
       " 'B. Dortmund II',\n",
       " 'Botafogo',\n",
       " 'AS Béziers',\n",
       " 'Real Madrid',\n",
       " 'Al-Duhail',\n",
       " 'Breidablik',\n",
       " 'Southampton',\n",
       " 'BSC Young Boys',\n",
       " 'Sint-Truiden',\n",
       " 'Kaizer Chiefs',\n",
       " 'K. Offenbach',\n",
       " 'Estoril',\n",
       " 'Telstar',\n",
       " 'Grêmio',\n",
       " 'Blackpool',\n",
       " 'Naftan',\n",
       " 'Stade Rennais',\n",
       " 'Wanderers',\n",
       " 'Real Sociedad',\n",
       " 'HNK Rijeka',\n",
       " 'Lausanne-Sport',\n",
       " 'Riga',\n",
       " 'Odds BK',\n",
       " 'Degerfors',\n",
       " 'Újpest FC',\n",
       " 'Grimsby Town',\n",
       " 'Cruzeiro',\n",
       " 'CA Bizertin',\n",
       " 'FK Jablonec',\n",
       " 'C. Piatra Neamt',\n",
       " 'Chievo U19',\n",
       " 'Bourg-en-Bresse',\n",
       " 'PAS Giannina',\n",
       " 'FC Winterthur',\n",
       " 'NK Olimpija',\n",
       " 'A. Klagenfurt',\n",
       " 'Daugavpils',\n",
       " 'Atlético-MG',\n",
       " 'FC Köniz',\n",
       " 'SC Wiedenbrück',\n",
       " 'HB CFFC',\n",
       " 'Sheffield Utd.',\n",
       " 'Viktoria Köln',\n",
       " 'Jeunesse Esch',\n",
       " 'FC Utrecht',\n",
       " 'FC Viitorul',\n",
       " 'Náutico',\n",
       " 'Wisla Plock',\n",
       " 'RB Leipzig U19',\n",
       " 'RW Oberhausen',\n",
       " 'Stade Gabèsien',\n",
       " 'Suphanburi FC',\n",
       " 'OGC Nice',\n",
       " 'Ruch Chorzow',\n",
       " 'Platanias',\n",
       " 'Travnik',\n",
       " 'FC Astana',\n",
       " 'Juventud',\n",
       " 'Najran',\n",
       " 'Bournemouth',\n",
       " 'Ratchaburi FC',\n",
       " 'América',\n",
       " 'Al-Dhafra SCC',\n",
       " 'Torpedo Armavir',\n",
       " 'Rotherham',\n",
       " 'MSV Duisburg',\n",
       " 'ES Zarzis',\n",
       " 'FUS Rabat',\n",
       " 'Preußen Münster',\n",
       " 'Kilmarnock FC',\n",
       " 'SBV Excelsior',\n",
       " 'Eskisehirspor',\n",
       " 'Al-Wasl',\n",
       " 'LDU Quito',\n",
       " 'AS Livorno',\n",
       " 'Zeljeznicar',\n",
       " 'SV Sandhausen',\n",
       " 'Cardiff',\n",
       " 'SKN St. Pölten',\n",
       " 'Elche CF',\n",
       " 'FK Krupa',\n",
       " 'Ajaccio',\n",
       " 'Espanyol',\n",
       " 'Al-Wahda',\n",
       " 'SY Dongjin',\n",
       " 'Moghreb Tétouan',\n",
       " 'FAL U18',\n",
       " 'Arezzo',\n",
       " 'Molde FK',\n",
       " 'Sparta Praha',\n",
       " 'Kayserispor',\n",
       " 'Videoton FC',\n",
       " 'Inter U19',\n",
       " 'Altinordu',\n",
       " 'AC Le Havre',\n",
       " 'ADO Den Haag',\n",
       " 'AC Pisa',\n",
       " 'Caracas FC',\n",
       " 'Trapani',\n",
       " 'Instituto',\n",
       " 'AIK Solna',\n",
       " 'Huachipato FC',\n",
       " 'RNK Split',\n",
       " 'SC Bastia',\n",
       " 'Bolton',\n",
       " 'Roda JC',\n",
       " 'Barletta',\n",
       " 'Ufa',\n",
       " 'Juan Aurich',\n",
       " 'CR Belouizdad',\n",
       " 'CD Lugo',\n",
       " 'Palmeiras',\n",
       " 'Raja Casablanca',\n",
       " 'GS Consolat M.',\n",
       " 'UTA Arad',\n",
       " 'Rah Ahan',\n",
       " 'CD Palestino',\n",
       " 'TSV Meerbusch',\n",
       " 'Ceará SC',\n",
       " 'Goiás EC',\n",
       " 'Wolfsburg II',\n",
       " 'ES Sétif',\n",
       " 'Sutton United',\n",
       " 'Santa Cruz',\n",
       " 'VfL Bochum U19',\n",
       " 'Deportivo Cali',\n",
       " 'Cremonese',\n",
       " 'APOEL Nicosia',\n",
       " 'Leixões',\n",
       " 'CA Lanús',\n",
       " 'Guadalajara',\n",
       " '1.FC Nuremberg',\n",
       " 'Baniyas SC',\n",
       " 'Internacional',\n",
       " 'Feirense',\n",
       " 'Arsenal FC',\n",
       " 'Argentinos',\n",
       " 'Audax Italiano',\n",
       " 'FC Aarau',\n",
       " 'AEK Athens',\n",
       " 'Villarreal CF B',\n",
       " 'Cherno More',\n",
       " 'Grasshoppers',\n",
       " 'EC Bahia',\n",
       " 'CA Tucumán',\n",
       " 'ND Gorica']"
      ]
     },
     "execution_count": 293,
     "metadata": {},
     "output_type": "execute_result"
    }
   ],
   "source": [
    "import random as rd\n",
    "\n",
    "iterations = 200\n",
    "# Initial conditions\n",
    "infected_clubs = [max30Infection_coef[0]]\n",
    "# probability of an infected club to buy an expensive player at 1 time step\n",
    "buy_proba = 0.05\n",
    "\n",
    "for i in range(0,iterations):\n",
    "    for club in infected_clubs:\n",
    "        if(rd.random() < buy_proba):\n",
    "            # The infected club will buy a new expensive player from it's usual partners\n",
    "            # and therefore infect it as well\n",
    "            club_to_infect = get_infected_club(DiTransfer,club)\n",
    "            # Check if the club to infect was already infected or not\n",
    "            if(club_to_infect in infected_clubs or club_to_infect is None):\n",
    "                pass\n",
    "            else: \n",
    "                infected_clubs.append(club_to_infect)\n",
    "        else: pass\n",
    "        \n",
    "infected_clubs"
   ]
  },
  {
   "cell_type": "code",
   "execution_count": 297,
   "metadata": {
    "collapsed": false
   },
   "outputs": [],
   "source": [
    "# Initial conditions\n",
    "rd.seed(14)\n",
    "# probability of an infected club to buy an expensive player at 1 time step\n",
    "buy_proba = 0.02\n",
    "# number of iterations of spreading process\n",
    "iterations = 200\n",
    "# number of times an infection is repeated with the same initial conditions\n",
    "average_over = 100\n",
    "\n",
    "avg_infection_spread = {}\n",
    "\n",
    "for initial_condition in max30Infection_coef:\n",
    "    \n",
    "    results = []\n",
    "    for k in range(0,average_over):\n",
    "        infected_clubs = [initial_condition]\n",
    "        \n",
    "        for i in range(0,iterations):\n",
    "            for club in infected_clubs:\n",
    "                if(rd.random() < buy_proba):\n",
    "                    # The infected club will buy a new expensive player from it's usual partners\n",
    "                    # and therefore infect it as well\n",
    "                    club_to_infect = get_infected_club(RichTransfers,club)\n",
    "                    # Check if the club to infect was already infected or not\n",
    "                    if(club_to_infect in infected_clubs or club_to_infect is None):\n",
    "                        pass\n",
    "                    else: \n",
    "                        infected_clubs.append(club_to_infect)\n",
    "                else: pass\n",
    "        results.append(len(infected_clubs))\n",
    "        #print(results)\n",
    "    stats = {}\n",
    "    stats['mean'] = np.mean(results)\n",
    "    stats['std'] = np.std(results)\n",
    "    avg_infection_spread[initial_condition] = stats\n",
    "    #avg_infection_spread[initial_condition]['std'] = np.std(results)"
   ]
  },
  {
   "cell_type": "code",
   "execution_count": 298,
   "metadata": {
    "collapsed": false,
    "scrolled": false
   },
   "outputs": [
    {
     "data": {
      "text/html": [
       "<div>\n",
       "<table border=\"1\" class=\"dataframe\">\n",
       "  <thead>\n",
       "    <tr style=\"text-align: right;\">\n",
       "      <th></th>\n",
       "      <th>mean</th>\n",
       "      <th>std</th>\n",
       "    </tr>\n",
       "  </thead>\n",
       "  <tbody>\n",
       "    <tr>\n",
       "      <th>AC Milan</th>\n",
       "      <td>21.69</td>\n",
       "      <td>27.052798</td>\n",
       "    </tr>\n",
       "    <tr>\n",
       "      <th>AS Roma</th>\n",
       "      <td>33.79</td>\n",
       "      <td>31.822098</td>\n",
       "    </tr>\n",
       "    <tr>\n",
       "      <th>Arsenal</th>\n",
       "      <td>26.17</td>\n",
       "      <td>26.525857</td>\n",
       "    </tr>\n",
       "    <tr>\n",
       "      <th>Aston Villa</th>\n",
       "      <td>43.65</td>\n",
       "      <td>38.141152</td>\n",
       "    </tr>\n",
       "    <tr>\n",
       "      <th>Atlético Madrid</th>\n",
       "      <td>25.02</td>\n",
       "      <td>23.877596</td>\n",
       "    </tr>\n",
       "    <tr>\n",
       "      <th>Bayern Munich</th>\n",
       "      <td>31.38</td>\n",
       "      <td>29.187593</td>\n",
       "    </tr>\n",
       "    <tr>\n",
       "      <th>Bor. Dortmund</th>\n",
       "      <td>34.86</td>\n",
       "      <td>40.034990</td>\n",
       "    </tr>\n",
       "    <tr>\n",
       "      <th>Chelsea</th>\n",
       "      <td>25.90</td>\n",
       "      <td>20.605582</td>\n",
       "    </tr>\n",
       "    <tr>\n",
       "      <th>Everton</th>\n",
       "      <td>27.13</td>\n",
       "      <td>23.900065</td>\n",
       "    </tr>\n",
       "    <tr>\n",
       "      <th>FC Barcelona</th>\n",
       "      <td>22.08</td>\n",
       "      <td>23.070189</td>\n",
       "    </tr>\n",
       "    <tr>\n",
       "      <th>GZ Evergrande</th>\n",
       "      <td>23.64</td>\n",
       "      <td>20.719807</td>\n",
       "    </tr>\n",
       "    <tr>\n",
       "      <th>Inter</th>\n",
       "      <td>31.99</td>\n",
       "      <td>31.520944</td>\n",
       "    </tr>\n",
       "    <tr>\n",
       "      <th>JS Suning</th>\n",
       "      <td>28.07</td>\n",
       "      <td>32.063142</td>\n",
       "    </tr>\n",
       "    <tr>\n",
       "      <th>Juventus</th>\n",
       "      <td>35.01</td>\n",
       "      <td>36.197098</td>\n",
       "    </tr>\n",
       "    <tr>\n",
       "      <th>Leicester</th>\n",
       "      <td>24.45</td>\n",
       "      <td>25.200942</td>\n",
       "    </tr>\n",
       "    <tr>\n",
       "      <th>Liverpool</th>\n",
       "      <td>26.65</td>\n",
       "      <td>25.462276</td>\n",
       "    </tr>\n",
       "    <tr>\n",
       "      <th>Man City</th>\n",
       "      <td>32.34</td>\n",
       "      <td>34.368072</td>\n",
       "    </tr>\n",
       "    <tr>\n",
       "      <th>Man Utd</th>\n",
       "      <td>30.54</td>\n",
       "      <td>24.819919</td>\n",
       "    </tr>\n",
       "    <tr>\n",
       "      <th>Monaco</th>\n",
       "      <td>34.66</td>\n",
       "      <td>36.291657</td>\n",
       "    </tr>\n",
       "    <tr>\n",
       "      <th>Newcastle</th>\n",
       "      <td>29.57</td>\n",
       "      <td>30.332245</td>\n",
       "    </tr>\n",
       "    <tr>\n",
       "      <th>Paris SG</th>\n",
       "      <td>28.83</td>\n",
       "      <td>31.302414</td>\n",
       "    </tr>\n",
       "    <tr>\n",
       "      <th>Real Madrid</th>\n",
       "      <td>28.56</td>\n",
       "      <td>27.157437</td>\n",
       "    </tr>\n",
       "    <tr>\n",
       "      <th>SSC Napoli</th>\n",
       "      <td>37.28</td>\n",
       "      <td>42.279328</td>\n",
       "    </tr>\n",
       "    <tr>\n",
       "      <th>Sevilla FC</th>\n",
       "      <td>33.58</td>\n",
       "      <td>41.673536</td>\n",
       "    </tr>\n",
       "    <tr>\n",
       "      <th>Southampton</th>\n",
       "      <td>27.44</td>\n",
       "      <td>21.304610</td>\n",
       "    </tr>\n",
       "    <tr>\n",
       "      <th>Spurs</th>\n",
       "      <td>29.78</td>\n",
       "      <td>28.058361</td>\n",
       "    </tr>\n",
       "    <tr>\n",
       "      <th>Valencia CF</th>\n",
       "      <td>23.74</td>\n",
       "      <td>26.717642</td>\n",
       "    </tr>\n",
       "    <tr>\n",
       "      <th>VfL Wolfsburg</th>\n",
       "      <td>30.22</td>\n",
       "      <td>28.750854</td>\n",
       "    </tr>\n",
       "    <tr>\n",
       "      <th>Villarreal CF</th>\n",
       "      <td>29.18</td>\n",
       "      <td>27.128723</td>\n",
       "    </tr>\n",
       "    <tr>\n",
       "      <th>Watford</th>\n",
       "      <td>39.24</td>\n",
       "      <td>36.730402</td>\n",
       "    </tr>\n",
       "  </tbody>\n",
       "</table>\n",
       "</div>"
      ],
      "text/plain": [
       "                  mean        std\n",
       "AC Milan         21.69  27.052798\n",
       "AS Roma          33.79  31.822098\n",
       "Arsenal          26.17  26.525857\n",
       "Aston Villa      43.65  38.141152\n",
       "Atlético Madrid  25.02  23.877596\n",
       "Bayern Munich    31.38  29.187593\n",
       "Bor. Dortmund    34.86  40.034990\n",
       "Chelsea          25.90  20.605582\n",
       "Everton          27.13  23.900065\n",
       "FC Barcelona     22.08  23.070189\n",
       "GZ Evergrande    23.64  20.719807\n",
       "Inter            31.99  31.520944\n",
       "JS Suning        28.07  32.063142\n",
       "Juventus         35.01  36.197098\n",
       "Leicester        24.45  25.200942\n",
       "Liverpool        26.65  25.462276\n",
       "Man City         32.34  34.368072\n",
       "Man Utd          30.54  24.819919\n",
       "Monaco           34.66  36.291657\n",
       "Newcastle        29.57  30.332245\n",
       "Paris SG         28.83  31.302414\n",
       "Real Madrid      28.56  27.157437\n",
       "SSC Napoli       37.28  42.279328\n",
       "Sevilla FC       33.58  41.673536\n",
       "Southampton      27.44  21.304610\n",
       "Spurs            29.78  28.058361\n",
       "Valencia CF      23.74  26.717642\n",
       "VfL Wolfsburg    30.22  28.750854\n",
       "Villarreal CF    29.18  27.128723\n",
       "Watford          39.24  36.730402"
      ]
     },
     "execution_count": 298,
     "metadata": {},
     "output_type": "execute_result"
    }
   ],
   "source": [
    "df = pd.DataFrame(avg_infection_spread).T\n",
    "df"
   ]
  },
  {
   "cell_type": "code",
   "execution_count": 299,
   "metadata": {
    "collapsed": false
   },
   "outputs": [
    {
     "data": {
      "image/png": "[encoded data removed]",
      "text/plain": [
       "<matplotlib.figure.Figure at 0x11a9520f0>"
      ]
     },
     "metadata": {},
     "output_type": "display_data"
    }
   ],
   "source": [
    "# plot\n",
    "plt.figure(figsize=(20,10))\n",
    "plt.errorbar(range(0,len(df)), df['mean'], yerr=df['std'], fmt='o')\n",
    "#ax.set_xlabel(xlabel)\n",
    "plt.ylabel('Infected clubs',fontsize =14)\n",
    "#plt.set_yscale('yscale')\n",
    "plt.title('Statistics of infection spread, when the infection starts at a particular club',fontsize =16)\n",
    "plt.xticks(range(0,len(df)), df.index, rotation=45 ,fontsize =14, ha='right')\n",
    "plt.grid(True)\n",
    "#plt.xaxis.set_major_formatter(mdates.DateFormatter('%Y-%m-%d'))\n",
    "\n",
    "# rotate and align the tick labels so they look better\n",
    "plt.tick_params('labelright')\n",
    "#plt.autofmt_xdate()\n",
    "plt.savefig('Statistics.png')\n",
    "plt.show()\n"
   ]
  },
  {
   "cell_type": "markdown",
   "metadata": {},
   "source": [
    "### Results of the money infection analysis \n",
    "\n",
    "The algorithm developed spreads a money epidemia on the RichClubs network with every club as an initial condition. \n",
    "\n",
    "For each different initial conditions the analysis is repeated a bunch of times to average out the random effect of the disease spread. The mean and standard deviation of the epidemia can be observed in the final plot. \n",
    "\n",
    "The main clubs spreading the most the disease are Paris SG, Atlético Madrid, Man Utd and Southampton. Those are all big club that make huge transactions. But overall strong tendencies cannot be observed on this data because of the huge standard deviation. There is no statistical evidence observable. \n",
    "\n",
    "The conclusion of that is that the model does not fit properly the reality and should be further modified to put a sort of a limit of spreading based on economic power. "
   ]
  },
  {
   "cell_type": "markdown",
   "metadata": {},
   "source": [
    "# Managers analysis"
   ]
  },
  {
   "cell_type": "code",
   "execution_count": 89,
   "metadata": {
    "collapsed": false
   },
   "outputs": [
    {
     "name": "stdout",
     "output_type": "stream",
     "text": [
      "Name: \n",
      "Type: Graph\n",
      "Number of nodes: 4976\n",
      "Number of edges: 47204\n",
      "Average degree:  18.9727\n"
     ]
    }
   ],
   "source": [
    "Managers = nx.Graph()\n",
    "Managers = nx.read_gml(\"networks/managers.gml\")\n",
    "print(nx.info(Managers))"
   ]
  },
  {
   "cell_type": "code",
   "execution_count": 90,
   "metadata": {
    "collapsed": false
   },
   "outputs": [
    {
     "data": {
      "text/plain": [
       "('jiri-kotrba', 'petr-ulicny', {'club': 'Sigma Olomouc'})"
      ]
     },
     "execution_count": 90,
     "metadata": {},
     "output_type": "execute_result"
    }
   ],
   "source": [
    "Managers.edges(data = True)[0]"
   ]
  },
  {
   "cell_type": "code",
   "execution_count": 91,
   "metadata": {
    "collapsed": false
   },
   "outputs": [
    {
     "name": "stdout",
     "output_type": "stream",
     "text": [
      "The number of communities:  113.0\n"
     ]
    }
   ],
   "source": [
    "# import the Louvain algorithm\n",
    "import community as community \n",
    "\n",
    "# compute the best partition\n",
    "partition = community.best_partition(Managers)\n",
    "\n",
    "size = float(len(set(partition.values())))\n",
    "print('The number of communities: ', size)"
   ]
  },
  {
   "cell_type": "code",
   "execution_count": 93,
   "metadata": {
    "collapsed": true
   },
   "outputs": [],
   "source": [
    "com_length = {}\n",
    "\n",
    "for node in partition.keys():\n",
    "    try: \n",
    "        com_length[partition[node]]+=1;\n",
    "    except: \n",
    "        com_length[partition[node]]=1;"
   ]
  },
  {
   "cell_type": "code",
   "execution_count": 94,
   "metadata": {
    "collapsed": false
   },
   "outputs": [
    {
     "data": {
      "text/plain": [
       "<Container object of 113 artists>"
      ]
     },
     "execution_count": 94,
     "metadata": {},
     "output_type": "execute_result"
    },
    {
     "data": {
      "image/png": "[encoded data removed]",
      "text/plain": [
       "<matplotlib.figure.Figure at 0x11dcdfcc0>"
      ]
     },
     "metadata": {},
     "output_type": "display_data"
    }
   ],
   "source": [
    "plt.bar(list(com_length.keys()), list(com_length.values()), tick_label = range(0,113))"
   ]
  },
  {
   "cell_type": "code",
   "execution_count": 95,
   "metadata": {
    "collapsed": true
   },
   "outputs": [],
   "source": [
    "Community_Subgraphs = {}\n",
    "\n",
    "for com in range(0,113):\n",
    "    nbunch = [nodes for nodes in partition.keys() if partition[nodes] == com]\n",
    "    Community_Subgraphs[com] = G.subgraph(nbunch)"
   ]
  },
  {
   "cell_type": "code",
   "execution_count": 100,
   "metadata": {
    "collapsed": false,
    "scrolled": false
   },
   "outputs": [
    {
     "name": "stdout",
     "output_type": "stream",
     "text": [
      "Name: \n",
      "Type: Graph\n",
      "Number of nodes: 818\n",
      "Number of edges: 5083\n",
      "Average degree:  12.4279\n",
      "Name: \n",
      "Type: Graph\n",
      "Number of nodes: 559\n",
      "Number of edges: 7455\n",
      "Average degree:  26.6726\n",
      "Name: \n",
      "Type: Graph\n",
      "Number of nodes: 712\n",
      "Number of edges: 3587\n",
      "Average degree:  10.0758\n",
      "Name: \n",
      "Type: Graph\n",
      "Number of nodes: 619\n",
      "Number of edges: 2376\n",
      "Average degree:   7.6769\n",
      "Name: \n",
      "Type: Graph\n",
      "Number of nodes: 378\n",
      "Number of edges: 3374\n",
      "Average degree:  17.8519\n",
      "Name: \n",
      "Type: Graph\n",
      "Number of nodes: 151\n",
      "Number of edges: 1329\n",
      "Average degree:  17.6026\n",
      "Name: \n",
      "Type: Graph\n",
      "Number of nodes: 255\n",
      "Number of edges: 3798\n",
      "Average degree:  29.7882\n",
      "Name: \n",
      "Type: Graph\n",
      "Number of nodes: 270\n",
      "Number of edges: 2344\n",
      "Average degree:  17.3630\n",
      "Name: \n",
      "Type: Graph\n",
      "Number of nodes: 223\n",
      "Number of edges: 3102\n",
      "Average degree:  27.8206\n",
      "Name: \n",
      "Type: Graph\n",
      "Number of nodes: 103\n",
      "Number of edges: 994\n",
      "Average degree:  19.3010\n",
      "Name: \n",
      "Type: Graph\n",
      "Number of nodes: 227\n",
      "Number of edges: 604\n",
      "Average degree:   5.3216\n"
     ]
    }
   ],
   "source": [
    "for i in range(0,11):\n",
    "    print(nx.info(Community_Subgraphs[i]))"
   ]
  },
  {
   "cell_type": "code",
   "execution_count": 101,
   "metadata": {
    "collapsed": false
   },
   "outputs": [
    {
     "data": {
      "image/png": "[encoded data removed]",
      "text/plain": [
       "<matplotlib.figure.Figure at 0x11ba8d240>"
      ]
     },
     "metadata": {},
     "output_type": "display_data"
    }
   ],
   "source": [
    "fig = plt.figure()\n",
    "pos = nx.spring_layout(Community_Subgraphs[7])\n",
    "# Plot nodes\n",
    "nx.draw_networkx(Community_Subgraphs[7], pos, alpha=0.5, labels = None)"
   ]
  },
  {
   "cell_type": "markdown",
   "metadata": {},
   "source": [
    "Type: Graph\n",
    "Number of nodes: 818\n",
    "Number of edges: 5083\n",
    "Average degree:  12.4279\n",
    "Name: \n",
    "Type: Graph\n",
    "Number of nodes: 559\n",
    "Number of edges: 7455\n",
    "Average degree:  26.6726\n",
    "Name: \n",
    "Type: Graph\n",
    "Number of nodes: 712\n",
    "Number of edges: 3587\n",
    "Average degree:  10.0758\n",
    "Name: \n",
    "Type: Graph\n",
    "Number of nodes: 619\n",
    "Number of edges: 2376\n",
    "Average degree:   7.6769\n",
    "Name: \n",
    "Type: Graph\n",
    "Number of nodes: 378\n",
    "Number of edges: 3374\n",
    "Average degree:  17.8519\n",
    "Name: \n",
    "Type: Graph\n",
    "Number of nodes: 151\n",
    "Number of edges: 1329\n",
    "Average degree:  17.6026\n",
    "Name: \n",
    "Type: Graph\n",
    "Number of nodes: 255\n",
    "Number of edges: 3798\n",
    "Average degree:  29.7882\n",
    "Name: \n",
    "Type: Graph\n",
    "Number of nodes: 270\n",
    "Number of edges: 2344\n",
    "Average degree:  17.3630\n",
    "Name: \n",
    "Type: Graph\n",
    "Number of nodes: 223\n",
    "Number of edges: 3102\n",
    "Average degree:  27.8206\n",
    "Name: \n",
    "Type: Graph\n",
    "Number of nodes: 103\n",
    "Number of edges: 994\n",
    "Average degree:  19.3010\n",
    "Name: \n",
    "Type: Graph\n",
    "Number of nodes: 227\n",
    "Number of edges: 604\n",
    "Average degree:   5.3216\n",
    "In [101]:\n"
   ]
  },
  {
   "cell_type": "code",
   "execution_count": null,
   "metadata": {
    "collapsed": true
   },
   "outputs": [],
   "source": []
  }
 ],
 "metadata": {
  "kernelspec": {
   "display_name": "Python 3",
   "language": "python",
   "name": "python3"
  },
  "language_info": {
   "codemirror_mode": {
    "name": "ipython",
    "version": 3
   },
   "file_extension": ".py",
   "mimetype": "text/x-python",
   "name": "python",
   "nbconvert_exporter": "python",
   "pygments_lexer": "ipython3",
   "version": "3.6.0"
  }
 },
 "nbformat": 4,
 "nbformat_minor": 2
}
