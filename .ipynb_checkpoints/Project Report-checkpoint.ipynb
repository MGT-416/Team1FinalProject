{
 "cells": [
  {
   "cell_type": "markdown",
   "metadata": {
    "toc": true
   },
   "source": [
    "<h1>Table of Contents<span class=\"tocSkip\"></span></h1>\n",
    "<div class=\"toc\" style=\"margin-top: 1em;\"><ul class=\"toc-item\"><li><span><a href=\"#Abstract\" data-toc-modified-id=\"Abstract-1\"><span class=\"toc-item-num\">1&nbsp;&nbsp;</span>Abstract</a></span></li><li><span><a href=\"#Introduction\" data-toc-modified-id=\"Introduction-2\"><span class=\"toc-item-num\">2&nbsp;&nbsp;</span>Introduction</a></span></li><li><span><a href=\"#Data-Acquisition-and-Preparation\" data-toc-modified-id=\"Data-Acquisition-and-Preparation-3\"><span class=\"toc-item-num\">3&nbsp;&nbsp;</span>Data Acquisition and Preparation</a></span></li><li><span><a href=\"#Overview-of-Analysis\" data-toc-modified-id=\"Overview-of-Analysis-4\"><span class=\"toc-item-num\">4&nbsp;&nbsp;</span>Overview of Analysis</a></span></li><li><span><a href=\"#Analysis\" data-toc-modified-id=\"Analysis-5\"><span class=\"toc-item-num\">5&nbsp;&nbsp;</span>Analysis</a></span><ul class=\"toc-item\"><li><span><a href=\"#DANNY\" data-toc-modified-id=\"DANNY-5.1\"><span class=\"toc-item-num\">5.1&nbsp;&nbsp;</span>DANNY</a></span></li><li><span><a href=\"#ARTEM\" data-toc-modified-id=\"ARTEM-5.2\"><span class=\"toc-item-num\">5.2&nbsp;&nbsp;</span>ARTEM</a></span></li><li><span><a href=\"#HUGO\" data-toc-modified-id=\"HUGO-5.3\"><span class=\"toc-item-num\">5.3&nbsp;&nbsp;</span>HUGO</a></span></li></ul></li><li><span><a href=\"#Discussion\" data-toc-modified-id=\"Discussion-6\"><span class=\"toc-item-num\">6&nbsp;&nbsp;</span>Discussion</a></span></li><li><span><a href=\"#Conclusion\" data-toc-modified-id=\"Conclusion-7\"><span class=\"toc-item-num\">7&nbsp;&nbsp;</span>Conclusion</a></span></li><li><span><a href=\"#Appendix:-Project-Structure\" data-toc-modified-id=\"Appendix:-Project-Structure-8\"><span class=\"toc-item-num\">8&nbsp;&nbsp;</span>Appendix: Project Structure</a></span></li></ul></div>"
   ]
  },
  {
   "cell_type": "markdown",
   "metadata": {},
   "source": [
    "# Abstract"
   ]
  },
  {
   "cell_type": "markdown",
   "metadata": {},
   "source": [
    "For this project, we want to analyze football transfers. The data to build our network is web scraped from [`transfermarkt.com`](https://www.transfermarkt.com/), a football-specialized website. This website records all transfers between clubs all around the world, from major leagues to less-popular ones. The data does not concern only the first-level leagues, but also second and inferior divisions. Due to the great granularity of the data stored in this website, our analysis will only take into account all transfers from the 1st January 2015 to the 31 December 2016.\n",
    "\n",
    "Our network is composed of football clubs. Each node represents a club who participate in at least one transfer between the two years of interest. A transfer between two clubs is encapsulated as an edge.\n",
    "\n",
    "A first step in this project will be to analyze the differences between the major three types of transfers: Free transfers, loans, and monetary transfers. Each type of transfers has its own specificities, regarding the type of clubs or the characteristics of players. In a second phase, we will look more deeply in the monetary transfers network and the way money flows in this market.\n",
    "\n",
    "Our project shows that the difference between bla bla bla **TODO**"
   ]
  },
  {
   "cell_type": "markdown",
   "metadata": {},
   "source": [
    "# Introduction"
   ]
  },
  {
   "cell_type": "code",
   "execution_count": null,
   "metadata": {},
   "outputs": [],
   "source": [
    "\n",
    "\n",
    "\n",
    "All nodes stores the league they are part of as an attribute. A transfer between two clubs is encapsulated as an edge. As for the nodes, each edge stores information about its transfer, like player's characteristics or clubs' characteristics."
   ]
  },
  {
   "cell_type": "markdown",
   "metadata": {},
   "source": [
    "# Data Acquisition and Preparation"
   ]
  },
  {
   "cell_type": "code",
   "execution_count": null,
   "metadata": {},
   "outputs": [],
   "source": []
  },
  {
   "cell_type": "markdown",
   "metadata": {},
   "source": [
    "# Overview of Analysis"
   ]
  },
  {
   "cell_type": "code",
   "execution_count": null,
   "metadata": {},
   "outputs": [],
   "source": []
  },
  {
   "cell_type": "markdown",
   "metadata": {},
   "source": [
    "# Analysis"
   ]
  },
  {
   "cell_type": "code",
   "execution_count": null,
   "metadata": {},
   "outputs": [],
   "source": []
  },
  {
   "cell_type": "markdown",
   "metadata": {},
   "source": [
    "## DANNY"
   ]
  },
  {
   "cell_type": "markdown",
   "metadata": {},
   "source": [
    "## ARTEM"
   ]
  },
  {
   "cell_type": "markdown",
   "metadata": {},
   "source": [
    "## HUGO"
   ]
  },
  {
   "cell_type": "markdown",
   "metadata": {},
   "source": [
    "# Discussion"
   ]
  },
  {
   "cell_type": "code",
   "execution_count": null,
   "metadata": {},
   "outputs": [],
   "source": []
  },
  {
   "cell_type": "markdown",
   "metadata": {},
   "source": [
    "# Conclusion"
   ]
  },
  {
   "cell_type": "code",
   "execution_count": null,
   "metadata": {},
   "outputs": [],
   "source": []
  },
  {
   "cell_type": "markdown",
   "metadata": {},
   "source": [
    "# Appendix: Project Structure"
   ]
  }
 ],
 "metadata": {
  "kernelspec": {
   "display_name": "Python 3",
   "language": "python",
   "name": "python3"
  },
  "language_info": {
   "codemirror_mode": {
    "name": "ipython",
    "version": 3
   },
   "file_extension": ".py",
   "mimetype": "text/x-python",
   "name": "python",
   "nbconvert_exporter": "python",
   "pygments_lexer": "ipython3",
   "version": "3.6.0"
  },
  "toc": {
   "nav_menu": {},
   "number_sections": true,
   "sideBar": true,
   "skip_h1_title": false,
   "toc_cell": true,
   "toc_position": {},
   "toc_section_display": "block",
   "toc_window_display": false
  }
 },
 "nbformat": 4,
 "nbformat_minor": 2
}
