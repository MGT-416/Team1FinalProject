{
 "cells": [
  {
   "cell_type": "markdown",
   "metadata": {
    "toc": "true"
   },
   "source": [
    "<h1>Table of Contents<span class=\"tocSkip\"></span></h1>\n",
    "<div class=\"toc\" style=\"margin-top: 1em;\"><ul class=\"toc-item\"><li><span><a href=\"#Imports\" data-toc-modified-id=\"Imports-1\"><span class=\"toc-item-num\">1&nbsp;&nbsp;</span>Imports</a></span></li><li><span><a href=\"#Web-Scrap---Transfers\" data-toc-modified-id=\"Web-Scrap---Transfers-2\"><span class=\"toc-item-num\">2&nbsp;&nbsp;</span>Web Scrap - Transfers</a></span></li><li><span><a href=\"#Web-Scrap---Player-Agents\" data-toc-modified-id=\"Web-Scrap---Player-Agents-3\"><span class=\"toc-item-num\">3&nbsp;&nbsp;</span>Web Scrap - Player Agents</a></span></li><li><span><a href=\"#Web-Scrap---Manager-Agents\" data-toc-modified-id=\"Web-Scrap---Manager-Agents-4\"><span class=\"toc-item-num\">4&nbsp;&nbsp;</span>Web Scrap - Manager Agents</a></span></li><li><span><a href=\"#Merge-data\" data-toc-modified-id=\"Merge-data-5\"><span class=\"toc-item-num\">5&nbsp;&nbsp;</span>Merge data</a></span></li><li><span><a href=\"#Clean-data\" data-toc-modified-id=\"Clean-data-6\"><span class=\"toc-item-num\">6&nbsp;&nbsp;</span>Clean data</a></span><ul class=\"toc-item\"><li><span><a href=\"#Create-Transfer-type\" data-toc-modified-id=\"Create-Transfer-type-6.1\"><span class=\"toc-item-num\">6.1&nbsp;&nbsp;</span>Create Transfer type</a></span></li><li><span><a href=\"#Transfer-fee---integer-amount\" data-toc-modified-id=\"Transfer-fee---integer-amount-6.2\"><span class=\"toc-item-num\">6.2&nbsp;&nbsp;</span>Transfer fee - integer amount</a></span></li></ul></li><li><span><a href=\"#Build-Network\" data-toc-modified-id=\"Build-Network-7\"><span class=\"toc-item-num\">7&nbsp;&nbsp;</span>Build Network</a></span><ul class=\"toc-item\"><li><span><a href=\"#Nodes\" data-toc-modified-id=\"Nodes-7.1\"><span class=\"toc-item-num\">7.1&nbsp;&nbsp;</span>Nodes</a></span></li><li><span><a href=\"#Edges\" data-toc-modified-id=\"Edges-7.2\"><span class=\"toc-item-num\">7.2&nbsp;&nbsp;</span>Edges</a></span></li><li><span><a href=\"#Network\" data-toc-modified-id=\"Network-7.3\"><span class=\"toc-item-num\">7.3&nbsp;&nbsp;</span>Network</a></span></li><li><span><a href=\"#Export\" data-toc-modified-id=\"Export-7.4\"><span class=\"toc-item-num\">7.4&nbsp;&nbsp;</span>Export</a></span></li><li><span><a href=\"#Build-Network-for-each-transfer-type\" data-toc-modified-id=\"Build-Network-for-each-transfer-type-7.5\"><span class=\"toc-item-num\">7.5&nbsp;&nbsp;</span>Build Network for each transfer type</a></span></li></ul></li></ul></div>"
   ]
  },
  {
   "cell_type": "markdown",
   "metadata": {},
   "source": [
    "# Imports"
   ]
  },
  {
   "cell_type": "code",
   "execution_count": 1,
   "metadata": {
    "ExecuteTime": {
     "end_time": "2017-12-04T12:28:35.994477Z",
     "start_time": "2017-12-04T12:28:34.773411Z"
    }
   },
   "outputs": [],
   "source": [
    "# Beautiful Soup for web scrapping data\n",
    "from bs4 import BeautifulSoup\n",
    "import requests\n",
    "\n",
    "# Save into csv file\n",
    "import csv\n",
    "\n",
    "# Pandas to reimport csv data\n",
    "import pandas as pd\n",
    "\n",
    "# Numpy for array manipulation\n",
    "import numpy as np\n",
    "\n",
    "# NetworkX\n",
    "import networkx as nx"
   ]
  },
  {
   "cell_type": "markdown",
   "metadata": {},
   "source": [
    "Use it for progess bar (https://github.com/alexanderkuk/log-progress)"
   ]
  },
  {
   "cell_type": "code",
   "execution_count": 9,
   "metadata": {
    "ExecuteTime": {
     "end_time": "2017-12-01T10:40:16.907289Z",
     "start_time": "2017-12-01T10:40:16.820738Z"
    }
   },
   "outputs": [],
   "source": [
    "def log_progress(sequence, every=None, size=None, name='Items', delete=False):\n",
    "    from ipywidgets import IntProgress, HTML, VBox\n",
    "    from IPython.display import display\n",
    "\n",
    "    is_iterator = False\n",
    "    if size is None:\n",
    "        try:\n",
    "            size = len(sequence)\n",
    "        except TypeError:\n",
    "            is_iterator = True\n",
    "    if size is not None:\n",
    "        if every is None:\n",
    "            if size <= 200:\n",
    "                every = 1\n",
    "            else:\n",
    "                every = int(size / 200)     # every 0.5%\n",
    "    else:\n",
    "        assert every is not None, 'sequence is iterator, set every'\n",
    "\n",
    "    if is_iterator:\n",
    "        progress = IntProgress(min=0, max=1, value=1)\n",
    "        progress.bar_style = 'info'\n",
    "    else:\n",
    "        progress = IntProgress(min=0, max=size, value=0)\n",
    "    label = HTML()\n",
    "    box = VBox(children=[label, progress])\n",
    "    display(box)\n",
    "\n",
    "    index = 0\n",
    "    try:\n",
    "        for index, record in enumerate(sequence, 1):\n",
    "            if index == 1 or index % every == 0:\n",
    "                if is_iterator:\n",
    "                    label.value = '{name}: {index} / ?'.format(\n",
    "                        name=name,\n",
    "                        index=index\n",
    "                    )\n",
    "                else:\n",
    "                    progress.value = index\n",
    "                    label.value = u'{name}: {index} / {size}'.format(\n",
    "                        name=name,\n",
    "                        index=index,\n",
    "                        size=size\n",
    "                    )\n",
    "            yield record\n",
    "    except:\n",
    "        progress.bar_style = 'danger'\n",
    "        raise\n",
    "    else:\n",
    "        progress.bar_style = 'success'\n",
    "        progress.value = index\n",
    "        label.value = \"{name}: {index}\".format(\n",
    "            name=name,\n",
    "            index=str(index or '?')\n",
    "        )\n",
    "        if delete:\n",
    "            box.close()"
   ]
  },
  {
   "cell_type": "markdown",
   "metadata": {},
   "source": [
    "# Web Scrap - Transfers"
   ]
  },
  {
   "cell_type": "code",
   "execution_count": 3,
   "metadata": {
    "ExecuteTime": {
     "end_time": "2017-11-25T22:55:58.240662",
     "start_time": "2017-11-25T22:55:58.233307"
    },
    "collapsed": true
   },
   "outputs": [],
   "source": [
    "transfer_infos = [\"Player Name\", \"Player Link\", \"Player position\", \"From club\", \"To club\", \"From competition\", \"To competition\", \"From manager\", \"From manager link\", \"To manager\", \"To manager link\", \"Market value\", \"Fee\", \"Age\"]"
   ]
  },
  {
   "cell_type": "code",
   "execution_count": 4,
   "metadata": {
    "ExecuteTime": {
     "end_time": "2017-11-25T22:55:58.245964",
     "start_time": "2017-11-25T22:55:58.242602"
    }
   },
   "outputs": [],
   "source": [
    "base_url = \"https://www.transfermarkt.com\"\n",
    "transfer_url = base_url + '/transfers/transfertagedetail/statistik/top/land_id_zu/0/land_id_ab/0/leihe//datum/{0}/page/{1}'"
   ]
  },
  {
   "cell_type": "code",
   "execution_count": 5,
   "metadata": {
    "ExecuteTime": {
     "end_time": "2017-11-25T22:55:58.253044",
     "start_time": "2017-11-25T22:55:58.248055"
    }
   },
   "outputs": [],
   "source": [
    "headers = {'User-Agent': 'Mozilla/5.00'}"
   ]
  },
  {
   "cell_type": "code",
   "execution_count": 6,
   "metadata": {
    "ExecuteTime": {
     "end_time": "2017-11-26T06:56:40.363297",
     "start_time": "2017-11-25T22:55:58.255367"
    },
    "scrolled": false
   },
   "outputs": [
    {
     "name": "stdout",
     "output_type": "stream",
     "text": [
      "Error with 147\n",
      "Error with 1\n",
      "Error with 2\n"
     ]
    },
    {
     "ename": "ConnectionError",
     "evalue": "HTTPSConnectionPool(host='www.transfermarkt.com', port=443): Max retries exceeded with url: /transfers/transfertagedetail/statistik/top/land_id_zu/0/land_id_ab/0/leihe//datum/2016-7-16/page/1 (Caused by NewConnectionError('<urllib3.connection.VerifiedHTTPSConnection object at 0x7f7f28c4ab70>: Failed to establish a new connection: [Errno -2] Name or service not known',))",
     "output_type": "error",
     "traceback": [
      "\u001b[0;31m---------------------------------------------------------------------------\u001b[0m",
      "\u001b[0;31mgaierror\u001b[0m                                  Traceback (most recent call last)",
      "\u001b[0;32m/home/ra-danny/anaconda36/lib/python3.6/site-packages/urllib3/connection.py\u001b[0m in \u001b[0;36m_new_conn\u001b[0;34m(self)\u001b[0m\n\u001b[1;32m    140\u001b[0m             conn = connection.create_connection(\n\u001b[0;32m--> 141\u001b[0;31m                 (self.host, self.port), self.timeout, **extra_kw)\n\u001b[0m\u001b[1;32m    142\u001b[0m \u001b[0;34m\u001b[0m\u001b[0m\n",
      "\u001b[0;32m/home/ra-danny/anaconda36/lib/python3.6/site-packages/urllib3/util/connection.py\u001b[0m in \u001b[0;36mcreate_connection\u001b[0;34m(address, timeout, source_address, socket_options)\u001b[0m\n\u001b[1;32m     59\u001b[0m \u001b[0;34m\u001b[0m\u001b[0m\n\u001b[0;32m---> 60\u001b[0;31m     \u001b[0;32mfor\u001b[0m \u001b[0mres\u001b[0m \u001b[0;32min\u001b[0m \u001b[0msocket\u001b[0m\u001b[0;34m.\u001b[0m\u001b[0mgetaddrinfo\u001b[0m\u001b[0;34m(\u001b[0m\u001b[0mhost\u001b[0m\u001b[0;34m,\u001b[0m \u001b[0mport\u001b[0m\u001b[0;34m,\u001b[0m \u001b[0mfamily\u001b[0m\u001b[0;34m,\u001b[0m \u001b[0msocket\u001b[0m\u001b[0;34m.\u001b[0m\u001b[0mSOCK_STREAM\u001b[0m\u001b[0;34m)\u001b[0m\u001b[0;34m:\u001b[0m\u001b[0;34m\u001b[0m\u001b[0m\n\u001b[0m\u001b[1;32m     61\u001b[0m         \u001b[0maf\u001b[0m\u001b[0;34m,\u001b[0m \u001b[0msocktype\u001b[0m\u001b[0;34m,\u001b[0m \u001b[0mproto\u001b[0m\u001b[0;34m,\u001b[0m \u001b[0mcanonname\u001b[0m\u001b[0;34m,\u001b[0m \u001b[0msa\u001b[0m \u001b[0;34m=\u001b[0m \u001b[0mres\u001b[0m\u001b[0;34m\u001b[0m\u001b[0m\n",
      "\u001b[0;32m/home/ra-danny/anaconda36/lib/python3.6/socket.py\u001b[0m in \u001b[0;36mgetaddrinfo\u001b[0;34m(host, port, family, type, proto, flags)\u001b[0m\n\u001b[1;32m    742\u001b[0m     \u001b[0maddrlist\u001b[0m \u001b[0;34m=\u001b[0m \u001b[0;34m[\u001b[0m\u001b[0;34m]\u001b[0m\u001b[0;34m\u001b[0m\u001b[0m\n\u001b[0;32m--> 743\u001b[0;31m     \u001b[0;32mfor\u001b[0m \u001b[0mres\u001b[0m \u001b[0;32min\u001b[0m \u001b[0m_socket\u001b[0m\u001b[0;34m.\u001b[0m\u001b[0mgetaddrinfo\u001b[0m\u001b[0;34m(\u001b[0m\u001b[0mhost\u001b[0m\u001b[0;34m,\u001b[0m \u001b[0mport\u001b[0m\u001b[0;34m,\u001b[0m \u001b[0mfamily\u001b[0m\u001b[0;34m,\u001b[0m \u001b[0mtype\u001b[0m\u001b[0;34m,\u001b[0m \u001b[0mproto\u001b[0m\u001b[0;34m,\u001b[0m \u001b[0mflags\u001b[0m\u001b[0;34m)\u001b[0m\u001b[0;34m:\u001b[0m\u001b[0;34m\u001b[0m\u001b[0m\n\u001b[0m\u001b[1;32m    744\u001b[0m         \u001b[0maf\u001b[0m\u001b[0;34m,\u001b[0m \u001b[0msocktype\u001b[0m\u001b[0;34m,\u001b[0m \u001b[0mproto\u001b[0m\u001b[0;34m,\u001b[0m \u001b[0mcanonname\u001b[0m\u001b[0;34m,\u001b[0m \u001b[0msa\u001b[0m \u001b[0;34m=\u001b[0m \u001b[0mres\u001b[0m\u001b[0;34m\u001b[0m\u001b[0m\n",
      "\u001b[0;31mgaierror\u001b[0m: [Errno -2] Name or service not known",
      "\nDuring handling of the above exception, another exception occurred:\n",
      "\u001b[0;31mNewConnectionError\u001b[0m                        Traceback (most recent call last)",
      "\u001b[0;32m/home/ra-danny/anaconda36/lib/python3.6/site-packages/urllib3/connectionpool.py\u001b[0m in \u001b[0;36murlopen\u001b[0;34m(self, method, url, body, headers, retries, redirect, assert_same_host, timeout, pool_timeout, release_conn, chunked, body_pos, **response_kw)\u001b[0m\n\u001b[1;32m    600\u001b[0m                                                   \u001b[0mbody\u001b[0m\u001b[0;34m=\u001b[0m\u001b[0mbody\u001b[0m\u001b[0;34m,\u001b[0m \u001b[0mheaders\u001b[0m\u001b[0;34m=\u001b[0m\u001b[0mheaders\u001b[0m\u001b[0;34m,\u001b[0m\u001b[0;34m\u001b[0m\u001b[0m\n\u001b[0;32m--> 601\u001b[0;31m                                                   chunked=chunked)\n\u001b[0m\u001b[1;32m    602\u001b[0m \u001b[0;34m\u001b[0m\u001b[0m\n",
      "\u001b[0;32m/home/ra-danny/anaconda36/lib/python3.6/site-packages/urllib3/connectionpool.py\u001b[0m in \u001b[0;36m_make_request\u001b[0;34m(self, conn, method, url, timeout, chunked, **httplib_request_kw)\u001b[0m\n\u001b[1;32m    345\u001b[0m         \u001b[0;32mtry\u001b[0m\u001b[0;34m:\u001b[0m\u001b[0;34m\u001b[0m\u001b[0m\n\u001b[0;32m--> 346\u001b[0;31m             \u001b[0mself\u001b[0m\u001b[0;34m.\u001b[0m\u001b[0m_validate_conn\u001b[0m\u001b[0;34m(\u001b[0m\u001b[0mconn\u001b[0m\u001b[0;34m)\u001b[0m\u001b[0;34m\u001b[0m\u001b[0m\n\u001b[0m\u001b[1;32m    347\u001b[0m         \u001b[0;32mexcept\u001b[0m \u001b[0;34m(\u001b[0m\u001b[0mSocketTimeout\u001b[0m\u001b[0;34m,\u001b[0m \u001b[0mBaseSSLError\u001b[0m\u001b[0;34m)\u001b[0m \u001b[0;32mas\u001b[0m \u001b[0me\u001b[0m\u001b[0;34m:\u001b[0m\u001b[0;34m\u001b[0m\u001b[0m\n",
      "\u001b[0;32m/home/ra-danny/anaconda36/lib/python3.6/site-packages/urllib3/connectionpool.py\u001b[0m in \u001b[0;36m_validate_conn\u001b[0;34m(self, conn)\u001b[0m\n\u001b[1;32m    849\u001b[0m         \u001b[0;32mif\u001b[0m \u001b[0;32mnot\u001b[0m \u001b[0mgetattr\u001b[0m\u001b[0;34m(\u001b[0m\u001b[0mconn\u001b[0m\u001b[0;34m,\u001b[0m \u001b[0;34m'sock'\u001b[0m\u001b[0;34m,\u001b[0m \u001b[0;32mNone\u001b[0m\u001b[0;34m)\u001b[0m\u001b[0;34m:\u001b[0m  \u001b[0;31m# AppEngine might not have  `.sock`\u001b[0m\u001b[0;34m\u001b[0m\u001b[0m\n\u001b[0;32m--> 850\u001b[0;31m             \u001b[0mconn\u001b[0m\u001b[0;34m.\u001b[0m\u001b[0mconnect\u001b[0m\u001b[0;34m(\u001b[0m\u001b[0;34m)\u001b[0m\u001b[0;34m\u001b[0m\u001b[0m\n\u001b[0m\u001b[1;32m    851\u001b[0m \u001b[0;34m\u001b[0m\u001b[0m\n",
      "\u001b[0;32m/home/ra-danny/anaconda36/lib/python3.6/site-packages/urllib3/connection.py\u001b[0m in \u001b[0;36mconnect\u001b[0;34m(self)\u001b[0m\n\u001b[1;32m    283\u001b[0m         \u001b[0;31m# Add certificate verification\u001b[0m\u001b[0;34m\u001b[0m\u001b[0;34m\u001b[0m\u001b[0m\n\u001b[0;32m--> 284\u001b[0;31m         \u001b[0mconn\u001b[0m \u001b[0;34m=\u001b[0m \u001b[0mself\u001b[0m\u001b[0;34m.\u001b[0m\u001b[0m_new_conn\u001b[0m\u001b[0;34m(\u001b[0m\u001b[0;34m)\u001b[0m\u001b[0;34m\u001b[0m\u001b[0m\n\u001b[0m\u001b[1;32m    285\u001b[0m \u001b[0;34m\u001b[0m\u001b[0m\n",
      "\u001b[0;32m/home/ra-danny/anaconda36/lib/python3.6/site-packages/urllib3/connection.py\u001b[0m in \u001b[0;36m_new_conn\u001b[0;34m(self)\u001b[0m\n\u001b[1;32m    149\u001b[0m             raise NewConnectionError(\n\u001b[0;32m--> 150\u001b[0;31m                 self, \"Failed to establish a new connection: %s\" % e)\n\u001b[0m\u001b[1;32m    151\u001b[0m \u001b[0;34m\u001b[0m\u001b[0m\n",
      "\u001b[0;31mNewConnectionError\u001b[0m: <urllib3.connection.VerifiedHTTPSConnection object at 0x7f7f28c4ab70>: Failed to establish a new connection: [Errno -2] Name or service not known",
      "\nDuring handling of the above exception, another exception occurred:\n",
      "\u001b[0;31mMaxRetryError\u001b[0m                             Traceback (most recent call last)",
      "\u001b[0;32m/home/ra-danny/anaconda36/lib/python3.6/site-packages/requests/adapters.py\u001b[0m in \u001b[0;36msend\u001b[0;34m(self, request, stream, timeout, verify, cert, proxies)\u001b[0m\n\u001b[1;32m    439\u001b[0m                     \u001b[0mretries\u001b[0m\u001b[0;34m=\u001b[0m\u001b[0mself\u001b[0m\u001b[0;34m.\u001b[0m\u001b[0mmax_retries\u001b[0m\u001b[0;34m,\u001b[0m\u001b[0;34m\u001b[0m\u001b[0m\n\u001b[0;32m--> 440\u001b[0;31m                     \u001b[0mtimeout\u001b[0m\u001b[0;34m=\u001b[0m\u001b[0mtimeout\u001b[0m\u001b[0;34m\u001b[0m\u001b[0m\n\u001b[0m\u001b[1;32m    441\u001b[0m                 )\n",
      "\u001b[0;32m/home/ra-danny/anaconda36/lib/python3.6/site-packages/urllib3/connectionpool.py\u001b[0m in \u001b[0;36murlopen\u001b[0;34m(self, method, url, body, headers, retries, redirect, assert_same_host, timeout, pool_timeout, release_conn, chunked, body_pos, **response_kw)\u001b[0m\n\u001b[1;32m    638\u001b[0m             retries = retries.increment(method, url, error=e, _pool=self,\n\u001b[0;32m--> 639\u001b[0;31m                                         _stacktrace=sys.exc_info()[2])\n\u001b[0m\u001b[1;32m    640\u001b[0m             \u001b[0mretries\u001b[0m\u001b[0;34m.\u001b[0m\u001b[0msleep\u001b[0m\u001b[0;34m(\u001b[0m\u001b[0;34m)\u001b[0m\u001b[0;34m\u001b[0m\u001b[0m\n",
      "\u001b[0;32m/home/ra-danny/anaconda36/lib/python3.6/site-packages/urllib3/util/retry.py\u001b[0m in \u001b[0;36mincrement\u001b[0;34m(self, method, url, response, error, _pool, _stacktrace)\u001b[0m\n\u001b[1;32m    387\u001b[0m         \u001b[0;32mif\u001b[0m \u001b[0mnew_retry\u001b[0m\u001b[0;34m.\u001b[0m\u001b[0mis_exhausted\u001b[0m\u001b[0;34m(\u001b[0m\u001b[0;34m)\u001b[0m\u001b[0;34m:\u001b[0m\u001b[0;34m\u001b[0m\u001b[0m\n\u001b[0;32m--> 388\u001b[0;31m             \u001b[0;32mraise\u001b[0m \u001b[0mMaxRetryError\u001b[0m\u001b[0;34m(\u001b[0m\u001b[0m_pool\u001b[0m\u001b[0;34m,\u001b[0m \u001b[0murl\u001b[0m\u001b[0;34m,\u001b[0m \u001b[0merror\u001b[0m \u001b[0;32mor\u001b[0m \u001b[0mResponseError\u001b[0m\u001b[0;34m(\u001b[0m\u001b[0mcause\u001b[0m\u001b[0;34m)\u001b[0m\u001b[0;34m)\u001b[0m\u001b[0;34m\u001b[0m\u001b[0m\n\u001b[0m\u001b[1;32m    389\u001b[0m \u001b[0;34m\u001b[0m\u001b[0m\n",
      "\u001b[0;31mMaxRetryError\u001b[0m: HTTPSConnectionPool(host='www.transfermarkt.com', port=443): Max retries exceeded with url: /transfers/transfertagedetail/statistik/top/land_id_zu/0/land_id_ab/0/leihe//datum/2016-7-16/page/1 (Caused by NewConnectionError('<urllib3.connection.VerifiedHTTPSConnection object at 0x7f7f28c4ab70>: Failed to establish a new connection: [Errno -2] Name or service not known',))",
      "\nDuring handling of the above exception, another exception occurred:\n",
      "\u001b[0;31mConnectionError\u001b[0m                           Traceback (most recent call last)",
      "\u001b[0;32m<ipython-input-6-a5045dca4492>\u001b[0m in \u001b[0;36m<module>\u001b[0;34m()\u001b[0m\n\u001b[1;32m     17\u001b[0m \u001b[0;34m\u001b[0m\u001b[0m\n\u001b[1;32m     18\u001b[0m             \u001b[0murl\u001b[0m \u001b[0;34m=\u001b[0m \u001b[0mtransfer_url\u001b[0m\u001b[0;34m.\u001b[0m\u001b[0mformat\u001b[0m\u001b[0;34m(\u001b[0m\u001b[0mdate\u001b[0m\u001b[0;34m,\u001b[0m \u001b[0;36m1\u001b[0m\u001b[0;34m)\u001b[0m\u001b[0;34m\u001b[0m\u001b[0m\n\u001b[0;32m---> 19\u001b[0;31m             \u001b[0mr\u001b[0m  \u001b[0;34m=\u001b[0m \u001b[0mrequests\u001b[0m\u001b[0;34m.\u001b[0m\u001b[0mget\u001b[0m\u001b[0;34m(\u001b[0m\u001b[0murl\u001b[0m\u001b[0;34m,\u001b[0m \u001b[0mheaders\u001b[0m\u001b[0;34m=\u001b[0m\u001b[0mheaders\u001b[0m\u001b[0;34m)\u001b[0m\u001b[0;34m\u001b[0m\u001b[0m\n\u001b[0m\u001b[1;32m     20\u001b[0m             \u001b[0mtranfer_data_page\u001b[0m \u001b[0;34m=\u001b[0m \u001b[0mBeautifulSoup\u001b[0m\u001b[0;34m(\u001b[0m\u001b[0mr\u001b[0m\u001b[0;34m.\u001b[0m\u001b[0mtext\u001b[0m\u001b[0;34m,\u001b[0m \u001b[0;34m'html.parser'\u001b[0m\u001b[0;34m)\u001b[0m\u001b[0;34m\u001b[0m\u001b[0m\n\u001b[1;32m     21\u001b[0m \u001b[0;34m\u001b[0m\u001b[0m\n",
      "\u001b[0;32m/home/ra-danny/anaconda36/lib/python3.6/site-packages/requests/api.py\u001b[0m in \u001b[0;36mget\u001b[0;34m(url, params, **kwargs)\u001b[0m\n\u001b[1;32m     70\u001b[0m \u001b[0;34m\u001b[0m\u001b[0m\n\u001b[1;32m     71\u001b[0m     \u001b[0mkwargs\u001b[0m\u001b[0;34m.\u001b[0m\u001b[0msetdefault\u001b[0m\u001b[0;34m(\u001b[0m\u001b[0;34m'allow_redirects'\u001b[0m\u001b[0;34m,\u001b[0m \u001b[0;32mTrue\u001b[0m\u001b[0;34m)\u001b[0m\u001b[0;34m\u001b[0m\u001b[0m\n\u001b[0;32m---> 72\u001b[0;31m     \u001b[0;32mreturn\u001b[0m \u001b[0mrequest\u001b[0m\u001b[0;34m(\u001b[0m\u001b[0;34m'get'\u001b[0m\u001b[0;34m,\u001b[0m \u001b[0murl\u001b[0m\u001b[0;34m,\u001b[0m \u001b[0mparams\u001b[0m\u001b[0;34m=\u001b[0m\u001b[0mparams\u001b[0m\u001b[0;34m,\u001b[0m \u001b[0;34m**\u001b[0m\u001b[0mkwargs\u001b[0m\u001b[0;34m)\u001b[0m\u001b[0;34m\u001b[0m\u001b[0m\n\u001b[0m\u001b[1;32m     73\u001b[0m \u001b[0;34m\u001b[0m\u001b[0m\n\u001b[1;32m     74\u001b[0m \u001b[0;34m\u001b[0m\u001b[0m\n",
      "\u001b[0;32m/home/ra-danny/anaconda36/lib/python3.6/site-packages/requests/api.py\u001b[0m in \u001b[0;36mrequest\u001b[0;34m(method, url, **kwargs)\u001b[0m\n\u001b[1;32m     56\u001b[0m     \u001b[0;31m# cases, and look like a memory leak in others.\u001b[0m\u001b[0;34m\u001b[0m\u001b[0;34m\u001b[0m\u001b[0m\n\u001b[1;32m     57\u001b[0m     \u001b[0;32mwith\u001b[0m \u001b[0msessions\u001b[0m\u001b[0;34m.\u001b[0m\u001b[0mSession\u001b[0m\u001b[0;34m(\u001b[0m\u001b[0;34m)\u001b[0m \u001b[0;32mas\u001b[0m \u001b[0msession\u001b[0m\u001b[0;34m:\u001b[0m\u001b[0;34m\u001b[0m\u001b[0m\n\u001b[0;32m---> 58\u001b[0;31m         \u001b[0;32mreturn\u001b[0m \u001b[0msession\u001b[0m\u001b[0;34m.\u001b[0m\u001b[0mrequest\u001b[0m\u001b[0;34m(\u001b[0m\u001b[0mmethod\u001b[0m\u001b[0;34m=\u001b[0m\u001b[0mmethod\u001b[0m\u001b[0;34m,\u001b[0m \u001b[0murl\u001b[0m\u001b[0;34m=\u001b[0m\u001b[0murl\u001b[0m\u001b[0;34m,\u001b[0m \u001b[0;34m**\u001b[0m\u001b[0mkwargs\u001b[0m\u001b[0;34m)\u001b[0m\u001b[0;34m\u001b[0m\u001b[0m\n\u001b[0m\u001b[1;32m     59\u001b[0m \u001b[0;34m\u001b[0m\u001b[0m\n\u001b[1;32m     60\u001b[0m \u001b[0;34m\u001b[0m\u001b[0m\n",
      "\u001b[0;32m/home/ra-danny/anaconda36/lib/python3.6/site-packages/requests/sessions.py\u001b[0m in \u001b[0;36mrequest\u001b[0;34m(self, method, url, params, data, headers, cookies, files, auth, timeout, allow_redirects, proxies, hooks, stream, verify, cert, json)\u001b[0m\n\u001b[1;32m    506\u001b[0m         }\n\u001b[1;32m    507\u001b[0m         \u001b[0msend_kwargs\u001b[0m\u001b[0;34m.\u001b[0m\u001b[0mupdate\u001b[0m\u001b[0;34m(\u001b[0m\u001b[0msettings\u001b[0m\u001b[0;34m)\u001b[0m\u001b[0;34m\u001b[0m\u001b[0m\n\u001b[0;32m--> 508\u001b[0;31m         \u001b[0mresp\u001b[0m \u001b[0;34m=\u001b[0m \u001b[0mself\u001b[0m\u001b[0;34m.\u001b[0m\u001b[0msend\u001b[0m\u001b[0;34m(\u001b[0m\u001b[0mprep\u001b[0m\u001b[0;34m,\u001b[0m \u001b[0;34m**\u001b[0m\u001b[0msend_kwargs\u001b[0m\u001b[0;34m)\u001b[0m\u001b[0;34m\u001b[0m\u001b[0m\n\u001b[0m\u001b[1;32m    509\u001b[0m \u001b[0;34m\u001b[0m\u001b[0m\n\u001b[1;32m    510\u001b[0m         \u001b[0;32mreturn\u001b[0m \u001b[0mresp\u001b[0m\u001b[0;34m\u001b[0m\u001b[0m\n",
      "\u001b[0;32m/home/ra-danny/anaconda36/lib/python3.6/site-packages/requests/sessions.py\u001b[0m in \u001b[0;36msend\u001b[0;34m(self, request, **kwargs)\u001b[0m\n\u001b[1;32m    616\u001b[0m \u001b[0;34m\u001b[0m\u001b[0m\n\u001b[1;32m    617\u001b[0m         \u001b[0;31m# Send the request\u001b[0m\u001b[0;34m\u001b[0m\u001b[0;34m\u001b[0m\u001b[0m\n\u001b[0;32m--> 618\u001b[0;31m         \u001b[0mr\u001b[0m \u001b[0;34m=\u001b[0m \u001b[0madapter\u001b[0m\u001b[0;34m.\u001b[0m\u001b[0msend\u001b[0m\u001b[0;34m(\u001b[0m\u001b[0mrequest\u001b[0m\u001b[0;34m,\u001b[0m \u001b[0;34m**\u001b[0m\u001b[0mkwargs\u001b[0m\u001b[0;34m)\u001b[0m\u001b[0;34m\u001b[0m\u001b[0m\n\u001b[0m\u001b[1;32m    619\u001b[0m \u001b[0;34m\u001b[0m\u001b[0m\n\u001b[1;32m    620\u001b[0m         \u001b[0;31m# Total elapsed time of the request (approximately)\u001b[0m\u001b[0;34m\u001b[0m\u001b[0;34m\u001b[0m\u001b[0m\n",
      "\u001b[0;32m/home/ra-danny/anaconda36/lib/python3.6/site-packages/requests/adapters.py\u001b[0m in \u001b[0;36msend\u001b[0;34m(self, request, stream, timeout, verify, cert, proxies)\u001b[0m\n\u001b[1;32m    506\u001b[0m                 \u001b[0;32mraise\u001b[0m \u001b[0mSSLError\u001b[0m\u001b[0;34m(\u001b[0m\u001b[0me\u001b[0m\u001b[0;34m,\u001b[0m \u001b[0mrequest\u001b[0m\u001b[0;34m=\u001b[0m\u001b[0mrequest\u001b[0m\u001b[0;34m)\u001b[0m\u001b[0;34m\u001b[0m\u001b[0m\n\u001b[1;32m    507\u001b[0m \u001b[0;34m\u001b[0m\u001b[0m\n\u001b[0;32m--> 508\u001b[0;31m             \u001b[0;32mraise\u001b[0m \u001b[0mConnectionError\u001b[0m\u001b[0;34m(\u001b[0m\u001b[0me\u001b[0m\u001b[0;34m,\u001b[0m \u001b[0mrequest\u001b[0m\u001b[0;34m=\u001b[0m\u001b[0mrequest\u001b[0m\u001b[0;34m)\u001b[0m\u001b[0;34m\u001b[0m\u001b[0m\n\u001b[0m\u001b[1;32m    509\u001b[0m \u001b[0;34m\u001b[0m\u001b[0m\n\u001b[1;32m    510\u001b[0m         \u001b[0;32mexcept\u001b[0m \u001b[0mClosedPoolError\u001b[0m \u001b[0;32mas\u001b[0m \u001b[0me\u001b[0m\u001b[0;34m:\u001b[0m\u001b[0;34m\u001b[0m\u001b[0m\n",
      "\u001b[0;31mConnectionError\u001b[0m: HTTPSConnectionPool(host='www.transfermarkt.com', port=443): Max retries exceeded with url: /transfers/transfertagedetail/statistik/top/land_id_zu/0/land_id_ab/0/leihe//datum/2016-7-16/page/1 (Caused by NewConnectionError('<urllib3.connection.VerifiedHTTPSConnection object at 0x7f7f28c4ab70>: Failed to establish a new connection: [Errno -2] Name or service not known',))"
     ]
    }
   ],
   "source": [
    "i=0\n",
    "nbr_failure = 0\n",
    "\n",
    "\n",
    "YearRange = range(2015,2017) # 2015 - 2016\n",
    "Months = range(1,13)\n",
    "DaysInMonths = [0,31,28,31,30,31,30,31,31,30,31,30,31]\n",
    "\n",
    "\n",
    "for year in YearRange:\n",
    "    for month in log_progress(Months, name=\"Month\"):\n",
    "        for day in log_progress(range(1,DaysInMonths[month]+1), name=\"Day\", delete=True):\n",
    "            date = str(year)+'-'+str(month)+'-'+str(day)\n",
    "\n",
    "            # create file handle\n",
    "            csvfile = open('data/data-transfer-day/data-test'+date+'.csv', 'w')\n",
    "            \n",
    "            url = transfer_url.format(date, 1)\n",
    "            r  = requests.get(url, headers=headers)\n",
    "            tranfer_data_page = BeautifulSoup(r.text, 'html.parser')\n",
    "            \n",
    "            try:\n",
    "                nbr_pages = int(tranfer_data_page.find('li', attrs={\"class\":\"letzte-seite\"}).find('a')['href'].split('page/')[1])\n",
    "            except:\n",
    "                nbr_pages = 1\n",
    "\n",
    "            try:\n",
    "                for page in log_progress(range(1,nbr_pages+1), every=1, name=\"Date: \"+date+\"    - Page\", delete=True): #Progress bar for each page for a given day\n",
    "                    url = transfer_url.format(date, page)\n",
    "                    r  = requests.get(url, headers=headers)\n",
    "                    tranfer_data_page = BeautifulSoup(r.text, 'html.parser')\n",
    "\n",
    "\n",
    "                    links = tranfer_data_page.find_all('a', href=True)\n",
    "                    for a in log_progress([l for l in links if \"/jumplist/transfers/\" in l['href']], every=1, name=\"Page \"+str(page)+\"   - Player\", delete=True): #Progress bar for each transfer in a page\n",
    "                        i += 1\n",
    "\n",
    "                        try:\n",
    "                            # Player page - Transfer details\n",
    "                            p_transfer_url = base_url + a['href']\n",
    "                            r2  = requests.get(p_transfer_url, headers=headers)\n",
    "                            soup = BeautifulSoup(r2.text, 'html.parser')\n",
    "\n",
    "                            # Player info\n",
    "                            player_link = soup.find(\"li\", attrs={\"id\":\"Profile\"}).find(\"a\")['href']\n",
    "                            player_name = player_link.split('/')[1]\n",
    "                            player_position = soup.find(\"span\", text=\"Position:\").find_next().get_text()\n",
    "                            player_position = player_position.replace(\"\\r\", \"\").replace(\"\\t\", \"\").replace(\"\\n\", \"\")\n",
    "\n",
    "                            # Clubs\n",
    "                            clubs = soup.find(\"td\", attrs={\"class\":\"zentriert hauptlink no-border-rechts no-border-links\"})\n",
    "                            from_club = clubs.find_previous('td').find_all('a')[-1].text\n",
    "                            to_club   = clubs.find_next('td').find_all('a')[-1].text\n",
    "\n",
    "                            # Competition\n",
    "                            competitions = soup.find(\"td\", text=\"Competition\")\n",
    "                            from_competition = competitions.find_previous('td').find_all('a')[-1].text\n",
    "                            to_competition   = competitions.find_next('td').find_all('a')[-1].text\n",
    "\n",
    "                            # Managers\n",
    "                            managers = soup.find(\"td\", text=\"Manager(s)\")\n",
    "                            from_manager = managers.find_previous('td').find_all('a')[-1].text\n",
    "                            from_manager_link = managers.find_previous('td').find('a')['href']\n",
    "                            to_manager   = managers.find_next('td').find_all('a')[-1].text\n",
    "                            to_manager_link = managers.find_next('td').find('a')['href']\n",
    "\n",
    "                            # Market Value\n",
    "                            market_value = soup.find(\"b\", text=\"Market value at time of change\").find_parent().text.split(\"Market value at time of change\")[-1]\n",
    "\n",
    "                            # Fee\n",
    "                            fee = soup.find(\"b\", text=\"Transfer fee\").find_next().find_next().text\n",
    "\n",
    "                            # Age\n",
    "                            age = soup.find(\"b\", text=\"Age at the time of the transfer\").find_parent().text.split(\"Age at the time of the transfer\")[-1]\n",
    "\n",
    "\n",
    "                            # Write to CSV file\n",
    "                            csvfile.write(\"|\".join([player_name, player_link, player_position, from_club, to_club, from_competition, to_competition, from_manager, from_manager_link, to_manager, to_manager_link, market_value, fee, age])+\"\\n\")\n",
    "\n",
    "                        except:\n",
    "                            nbr_failure += 1\n",
    "            except:\n",
    "                print(\"Error with\", page)\n",
    "                pass\n",
    "\n",
    "\n",
    "            # Close CSV file\n",
    "            csvfile.close()"
   ]
  },
  {
   "cell_type": "code",
   "execution_count": null,
   "metadata": {
    "ExecuteTime": {
     "end_time": "2017-11-26T06:56:40.363937",
     "start_time": "2017-11-25T21:55:57.297Z"
    }
   },
   "outputs": [],
   "source": [
    "# Merge everythin\n",
    "!cat data/data-transfer-day/*.csv > data/data-transfer-day/entire_data.csv"
   ]
  },
  {
   "cell_type": "markdown",
   "metadata": {},
   "source": [
    "# Web Scrap - Player Agents"
   ]
  },
  {
   "cell_type": "code",
   "execution_count": null,
   "metadata": {
    "ExecuteTime": {
     "end_time": "2017-11-26T06:56:40.364292",
     "start_time": "2017-11-25T21:55:57.352Z"
    }
   },
   "outputs": [],
   "source": [
    "df = pd.read_csv(\"data/data-transfer-day/entire_data.csv\", sep='|', names=transfer_infos)\n",
    "df.head(2)"
   ]
  },
  {
   "cell_type": "code",
   "execution_count": null,
   "metadata": {
    "collapsed": true
   },
   "outputs": [],
   "source": [
    "df.describe()"
   ]
  },
  {
   "cell_type": "code",
   "execution_count": null,
   "metadata": {
    "ExecuteTime": {
     "end_time": "2017-11-26T06:56:40.364640",
     "start_time": "2017-11-25T21:55:57.358Z"
    },
    "scrolled": true
   },
   "outputs": [],
   "source": [
    "df['Player Agent'] = None\n",
    "\n",
    "for pl in log_progress(df['Player Link'].unique()):\n",
    "    r = requests.get(base_url+pl, headers=headers)\n",
    "    soup = BeautifulSoup(r.text, 'html.parser')\n",
    "    try:\n",
    "        agent = soup.find('th', text=\"Player agents:\").find_next().text.replace(\"\\n\",\"\")\n",
    "        df.loc[df['Player Link'] == pl,'Player Agent'] = agent\n",
    "    except:\n",
    "        pass"
   ]
  },
  {
   "cell_type": "markdown",
   "metadata": {},
   "source": [
    "# Web Scrap - Manager Agents"
   ]
  },
  {
   "cell_type": "code",
   "execution_count": null,
   "metadata": {
    "collapsed": true
   },
   "outputs": [],
   "source": [
    "fml = df['From manager link'].unique()\n",
    "print(\"Nbr of 'From managers':    \",len(fml))\n",
    "      \n",
    "tml = df['To manager link'].unique()\n",
    "print(\"Nbr of 'To managers':      \",len(tml))\n",
    "\n",
    "print(\"Nbr of unique mangers:     \", len(list(set(np.concatenate((fml,tml))))))"
   ]
  },
  {
   "cell_type": "code",
   "execution_count": null,
   "metadata": {
    "collapsed": true
   },
   "outputs": [],
   "source": [
    "df_manager = pd.DataFrame(list(set(np.concatenate((fml,tml)))), columns=[\"ManagerLink\"])\n",
    "\n",
    "df['From manager agent'] = None\n",
    "df['To manager agent'] = None\n",
    "\n",
    "\n",
    "for pl in log_progress(df_manager['ManagerLink'].unique(), every=1):\n",
    "    r = requests.get(base_url+pl, headers=headers)\n",
    "    soup = BeautifulSoup(r.text, 'html.parser')\n",
    "    try:\n",
    "        agent = soup.find('span', text=\"Agents:\").find_next().text.replace(\"\\n\",\"\")\n",
    "        df.loc[df['From manager link'] == pl,'From manager agent'] = agent\n",
    "        df.loc[df['To manager link'] == pl,'To manager agent'] = agent\n",
    "    except:\n",
    "        pass"
   ]
  },
  {
   "cell_type": "markdown",
   "metadata": {},
   "source": [
    "# Merge data"
   ]
  },
  {
   "cell_type": "code",
   "execution_count": null,
   "metadata": {
    "ExecuteTime": {
     "end_time": "2017-11-26T06:56:40.365443",
     "start_time": "2017-11-25T21:55:57.483Z"
    },
    "collapsed": true
   },
   "outputs": [],
   "source": [
    "df.to_csv(\"data/data.csv\")"
   ]
  },
  {
   "cell_type": "markdown",
   "metadata": {},
   "source": [
    "# Clean data"
   ]
  },
  {
   "cell_type": "code",
   "execution_count": 10,
   "metadata": {
    "ExecuteTime": {
     "end_time": "2017-12-01T10:40:28.027103Z",
     "start_time": "2017-12-01T10:40:27.665149Z"
    }
   },
   "outputs": [
    {
     "data": {
      "text/html": [
       "<div>\n",
       "<style>\n",
       "    .dataframe thead tr:only-child th {\n",
       "        text-align: right;\n",
       "    }\n",
       "\n",
       "    .dataframe thead th {\n",
       "        text-align: left;\n",
       "    }\n",
       "\n",
       "    .dataframe tbody tr th {\n",
       "        vertical-align: top;\n",
       "    }\n",
       "</style>\n",
       "<table border=\"1\" class=\"dataframe\">\n",
       "  <thead>\n",
       "    <tr style=\"text-align: right;\">\n",
       "      <th></th>\n",
       "      <th>Player Name</th>\n",
       "      <th>Player Link</th>\n",
       "      <th>Player position</th>\n",
       "      <th>From club</th>\n",
       "      <th>To club</th>\n",
       "      <th>From competition</th>\n",
       "      <th>To competition</th>\n",
       "      <th>From manager</th>\n",
       "      <th>From manager link</th>\n",
       "      <th>To manager</th>\n",
       "      <th>To manager link</th>\n",
       "      <th>Market value</th>\n",
       "      <th>Fee</th>\n",
       "      <th>Age</th>\n",
       "      <th>From manager agent</th>\n",
       "      <th>To manager agent</th>\n",
       "      <th>Player Agent</th>\n",
       "    </tr>\n",
       "  </thead>\n",
       "  <tbody>\n",
       "    <tr>\n",
       "      <th>24058</th>\n",
       "      <td>milan-nikolic</td>\n",
       "      <td>/milan-nikolic/profil/spieler/195776</td>\n",
       "      <td>Centre-Back</td>\n",
       "      <td>Banska Bystrica</td>\n",
       "      <td>Global FC</td>\n",
       "      <td>II. Liga Ost Relegation</td>\n",
       "      <td>United Football League</td>\n",
       "      <td>Lubomir Faktor</td>\n",
       "      <td>/lubomir-faktor/profil/trainer/50393</td>\n",
       "      <td>Leigh Manson</td>\n",
       "      <td>/leigh-manson/profil/trainer/33022</td>\n",
       "      <td>75 Th. €</td>\n",
       "      <td>?</td>\n",
       "      <td>27 years 11 months 11 days</td>\n",
       "      <td>NaN</td>\n",
       "      <td>NaN</td>\n",
       "      <td>DS GLOBAL SPORT MANAGEMENT</td>\n",
       "    </tr>\n",
       "    <tr>\n",
       "      <th>17375</th>\n",
       "      <td>andy-ryan</td>\n",
       "      <td>/andy-ryan/profil/spieler/186589</td>\n",
       "      <td>Centre-Forward</td>\n",
       "      <td>Hamilton Acad.</td>\n",
       "      <td>Arbroath</td>\n",
       "      <td>Scottish Premiership</td>\n",
       "      <td>Scottish League Two</td>\n",
       "      <td>Martin Canning</td>\n",
       "      <td>/martin-canning/profil/trainer/38293</td>\n",
       "      <td>Todd Lumsden</td>\n",
       "      <td>/todd-lumsden/profil/trainer/10746</td>\n",
       "      <td>100 Th. €</td>\n",
       "      <td>Loan</td>\n",
       "      <td>20 years 10 months 15 days</td>\n",
       "      <td>NaN</td>\n",
       "      <td>NaN</td>\n",
       "      <td>NaN</td>\n",
       "    </tr>\n",
       "    <tr>\n",
       "      <th>10374</th>\n",
       "      <td>kamil-vacek</td>\n",
       "      <td>/kamil-vacek/profil/spieler/35645</td>\n",
       "      <td>Central Midfield</td>\n",
       "      <td>Sparta Praha</td>\n",
       "      <td>Piast Gliwice</td>\n",
       "      <td>Gambrinus Liga</td>\n",
       "      <td>Ekstraklasa</td>\n",
       "      <td>Zdeněk Sčasný</td>\n",
       "      <td>/zden%C4%9Bk-s%C4%8Dasny/profil/trainer/1636</td>\n",
       "      <td>Radoslav Latal</td>\n",
       "      <td>/radoslav-latal/profil/trainer/8131</td>\n",
       "      <td>650 Th. €</td>\n",
       "      <td>Loan</td>\n",
       "      <td>28 years 01 month 13 days</td>\n",
       "      <td>The Footballers ...</td>\n",
       "      <td>NaN</td>\n",
       "      <td>SPORT INVEST International, a. s.</td>\n",
       "    </tr>\n",
       "    <tr>\n",
       "      <th>1665</th>\n",
       "      <td>loic-ombala</td>\n",
       "      <td>/loic-ombala/profil/spieler/363270</td>\n",
       "      <td>Centre-Back</td>\n",
       "      <td>Team Vaud U18</td>\n",
       "      <td>Team Vaud U21</td>\n",
       "      <td>Swiss U18 Elite League</td>\n",
       "      <td>1.Liga Classic Gruppe 1</td>\n",
       "      <td>Laurent Gasser</td>\n",
       "      <td>/laurent-gasser/profil/trainer/56418</td>\n",
       "      <td>Jean-Yves Aymon</td>\n",
       "      <td>/jean-yves-aymon/profil/trainer/35644</td>\n",
       "      <td>-</td>\n",
       "      <td>-</td>\n",
       "      <td>17 years 09 months 01 day</td>\n",
       "      <td>NaN</td>\n",
       "      <td>NaN</td>\n",
       "      <td>no agent</td>\n",
       "    </tr>\n",
       "    <tr>\n",
       "      <th>30524</th>\n",
       "      <td>oleksiy-kurilov</td>\n",
       "      <td>/oleksiy-kurilov/profil/spieler/59423</td>\n",
       "      <td>Centre-Back</td>\n",
       "      <td>Schachtjor K.</td>\n",
       "      <td>Fakel Voronezh</td>\n",
       "      <td>Premier Liga</td>\n",
       "      <td>1.Division</td>\n",
       "      <td>Jozef Vukusic</td>\n",
       "      <td>/jozef-vukusic/profil/trainer/13568</td>\n",
       "      <td>Pavel Gusev</td>\n",
       "      <td>/pavel-gusev/profil/trainer/24258</td>\n",
       "      <td>500 Th. €</td>\n",
       "      <td>Free transfer</td>\n",
       "      <td>28 years 02 months 07 days</td>\n",
       "      <td>NaN</td>\n",
       "      <td>NaN</td>\n",
       "      <td>OFA</td>\n",
       "    </tr>\n",
       "  </tbody>\n",
       "</table>\n",
       "</div>"
      ],
      "text/plain": [
       "           Player Name                            Player Link  \\\n",
       "24058    milan-nikolic   /milan-nikolic/profil/spieler/195776   \n",
       "17375        andy-ryan       /andy-ryan/profil/spieler/186589   \n",
       "10374      kamil-vacek      /kamil-vacek/profil/spieler/35645   \n",
       "1665       loic-ombala     /loic-ombala/profil/spieler/363270   \n",
       "30524  oleksiy-kurilov  /oleksiy-kurilov/profil/spieler/59423   \n",
       "\n",
       "                                    Player position        From club  \\\n",
       "24058       Centre-Back                              Banska Bystrica   \n",
       "17375    Centre-Forward                               Hamilton Acad.   \n",
       "10374  Central Midfield                                 Sparta Praha   \n",
       "1665        Centre-Back                                Team Vaud U18   \n",
       "30524       Centre-Back                                Schachtjor K.   \n",
       "\n",
       "              To club         From competition           To competition  \\\n",
       "24058       Global FC  II. Liga Ost Relegation   United Football League   \n",
       "17375        Arbroath     Scottish Premiership      Scottish League Two   \n",
       "10374   Piast Gliwice           Gambrinus Liga              Ekstraklasa   \n",
       "1665    Team Vaud U21   Swiss U18 Elite League  1.Liga Classic Gruppe 1   \n",
       "30524  Fakel Voronezh             Premier Liga               1.Division   \n",
       "\n",
       "         From manager                             From manager link  \\\n",
       "24058  Lubomir Faktor          /lubomir-faktor/profil/trainer/50393   \n",
       "17375  Martin Canning          /martin-canning/profil/trainer/38293   \n",
       "10374   Zdeněk Sčasný  /zden%C4%9Bk-s%C4%8Dasny/profil/trainer/1636   \n",
       "1665   Laurent Gasser          /laurent-gasser/profil/trainer/56418   \n",
       "30524   Jozef Vukusic           /jozef-vukusic/profil/trainer/13568   \n",
       "\n",
       "            To manager                        To manager link Market value  \\\n",
       "24058     Leigh Manson     /leigh-manson/profil/trainer/33022     75 Th. €   \n",
       "17375     Todd Lumsden     /todd-lumsden/profil/trainer/10746    100 Th. €   \n",
       "10374   Radoslav Latal    /radoslav-latal/profil/trainer/8131    650 Th. €   \n",
       "1665   Jean-Yves Aymon  /jean-yves-aymon/profil/trainer/35644            -   \n",
       "30524      Pavel Gusev      /pavel-gusev/profil/trainer/24258    500 Th. €   \n",
       "\n",
       "                 Fee                          Age    From manager agent  \\\n",
       "24058              ?  27 years 11 months 11 days                    NaN   \n",
       "17375           Loan  20 years 10 months 15 days                    NaN   \n",
       "10374           Loan   28 years 01 month 13 days   The Footballers ...    \n",
       "1665               -   17 years 09 months 01 day                    NaN   \n",
       "30524  Free transfer  28 years 02 months 07 days                    NaN   \n",
       "\n",
       "      To manager agent                        Player Agent  \n",
       "24058              NaN         DS GLOBAL SPORT MANAGEMENT   \n",
       "17375              NaN                                 NaN  \n",
       "10374              NaN  SPORT INVEST International, a. s.   \n",
       "1665               NaN                           no agent   \n",
       "30524              NaN                                OFA   "
      ]
     },
     "execution_count": 10,
     "metadata": {},
     "output_type": "execute_result"
    }
   ],
   "source": [
    "df = pd.read_csv(\"data/data.csv\", index_col=0)\n",
    "df.sample(5)"
   ]
  },
  {
   "cell_type": "code",
   "execution_count": 11,
   "metadata": {
    "ExecuteTime": {
     "end_time": "2017-12-01T10:40:28.308531Z",
     "start_time": "2017-12-01T10:40:28.029493Z"
    }
   },
   "outputs": [
    {
     "data": {
      "text/html": [
       "<div>\n",
       "<style>\n",
       "    .dataframe thead tr:only-child th {\n",
       "        text-align: right;\n",
       "    }\n",
       "\n",
       "    .dataframe thead th {\n",
       "        text-align: left;\n",
       "    }\n",
       "\n",
       "    .dataframe tbody tr th {\n",
       "        vertical-align: top;\n",
       "    }\n",
       "</style>\n",
       "<table border=\"1\" class=\"dataframe\">\n",
       "  <thead>\n",
       "    <tr style=\"text-align: right;\">\n",
       "      <th></th>\n",
       "      <th>Player Name</th>\n",
       "      <th>Player Link</th>\n",
       "      <th>Player position</th>\n",
       "      <th>From club</th>\n",
       "      <th>To club</th>\n",
       "      <th>From competition</th>\n",
       "      <th>To competition</th>\n",
       "      <th>From manager</th>\n",
       "      <th>From manager link</th>\n",
       "      <th>To manager</th>\n",
       "      <th>To manager link</th>\n",
       "      <th>Market value</th>\n",
       "      <th>Fee</th>\n",
       "      <th>Age</th>\n",
       "      <th>From manager agent</th>\n",
       "      <th>To manager agent</th>\n",
       "      <th>Player Agent</th>\n",
       "    </tr>\n",
       "  </thead>\n",
       "  <tbody>\n",
       "    <tr>\n",
       "      <th>count</th>\n",
       "      <td>44778</td>\n",
       "      <td>44778</td>\n",
       "      <td>44778</td>\n",
       "      <td>44778</td>\n",
       "      <td>44778</td>\n",
       "      <td>44778</td>\n",
       "      <td>44778</td>\n",
       "      <td>44778</td>\n",
       "      <td>44778</td>\n",
       "      <td>44778</td>\n",
       "      <td>44778</td>\n",
       "      <td>44778</td>\n",
       "      <td>44767</td>\n",
       "      <td>44778</td>\n",
       "      <td>6046</td>\n",
       "      <td>5469</td>\n",
       "      <td>22993</td>\n",
       "    </tr>\n",
       "    <tr>\n",
       "      <th>unique</th>\n",
       "      <td>31221</td>\n",
       "      <td>31793</td>\n",
       "      <td>16</td>\n",
       "      <td>3600</td>\n",
       "      <td>3474</td>\n",
       "      <td>327</td>\n",
       "      <td>316</td>\n",
       "      <td>5210</td>\n",
       "      <td>5220</td>\n",
       "      <td>5104</td>\n",
       "      <td>5113</td>\n",
       "      <td>141</td>\n",
       "      <td>613</td>\n",
       "      <td>7066</td>\n",
       "      <td>244</td>\n",
       "      <td>233</td>\n",
       "      <td>2015</td>\n",
       "    </tr>\n",
       "    <tr>\n",
       "      <th>top</th>\n",
       "      <td>paulinho</td>\n",
       "      <td>/william-palacios/profil/spieler/265982</td>\n",
       "      <td>Centre-Forward</td>\n",
       "      <td>Juventus</td>\n",
       "      <td>Monza</td>\n",
       "      <td>Serie A</td>\n",
       "      <td>Primera División</td>\n",
       "      <td>Massimiliano Allegri</td>\n",
       "      <td>/massimiliano-allegri/profil/trainer/7671</td>\n",
       "      <td>Hüseyin Kalpar</td>\n",
       "      <td>/huseyin-kalpar/profil/trainer/12053</td>\n",
       "      <td>-</td>\n",
       "      <td>Free transfer</td>\n",
       "      <td>23 years 03 months 13 days</td>\n",
       "      <td>no agent</td>\n",
       "      <td>no agent</td>\n",
       "      <td>no agent</td>\n",
       "    </tr>\n",
       "    <tr>\n",
       "      <th>freq</th>\n",
       "      <td>18</td>\n",
       "      <td>6</td>\n",
       "      <td>7653</td>\n",
       "      <td>151</td>\n",
       "      <td>55</td>\n",
       "      <td>1599</td>\n",
       "      <td>1121</td>\n",
       "      <td>151</td>\n",
       "      <td>151</td>\n",
       "      <td>50</td>\n",
       "      <td>50</td>\n",
       "      <td>7234</td>\n",
       "      <td>19743</td>\n",
       "      <td>26</td>\n",
       "      <td>593</td>\n",
       "      <td>493</td>\n",
       "      <td>2275</td>\n",
       "    </tr>\n",
       "  </tbody>\n",
       "</table>\n",
       "</div>"
      ],
      "text/plain": [
       "       Player Name                              Player Link  \\\n",
       "count        44778                                    44778   \n",
       "unique       31221                                    31793   \n",
       "top       paulinho  /william-palacios/profil/spieler/265982   \n",
       "freq            18                                        6   \n",
       "\n",
       "                                   Player position From club To club  \\\n",
       "count                                        44778     44778   44778   \n",
       "unique                                          16      3600    3474   \n",
       "top     Centre-Forward                              Juventus   Monza   \n",
       "freq                                          7653       151      55   \n",
       "\n",
       "       From competition    To competition          From manager  \\\n",
       "count             44778             44778                 44778   \n",
       "unique              327               316                  5210   \n",
       "top             Serie A  Primera División  Massimiliano Allegri   \n",
       "freq               1599              1121                   151   \n",
       "\n",
       "                                From manager link      To manager  \\\n",
       "count                                       44778           44778   \n",
       "unique                                       5220            5104   \n",
       "top     /massimiliano-allegri/profil/trainer/7671  Hüseyin Kalpar   \n",
       "freq                                          151              50   \n",
       "\n",
       "                             To manager link Market value            Fee  \\\n",
       "count                                  44778        44778          44767   \n",
       "unique                                  5113          141            613   \n",
       "top     /huseyin-kalpar/profil/trainer/12053            -  Free transfer   \n",
       "freq                                      50         7234          19743   \n",
       "\n",
       "                                Age From manager agent To manager agent  \\\n",
       "count                         44778               6046             5469   \n",
       "unique                         7066                244              233   \n",
       "top     23 years 03 months 13 days           no agent         no agent    \n",
       "freq                             26                593              493   \n",
       "\n",
       "       Player Agent  \n",
       "count         22993  \n",
       "unique         2015  \n",
       "top       no agent   \n",
       "freq           2275  "
      ]
     },
     "execution_count": 11,
     "metadata": {},
     "output_type": "execute_result"
    }
   ],
   "source": [
    "df.describe()"
   ]
  },
  {
   "cell_type": "markdown",
   "metadata": {},
   "source": [
    "## Create Transfer type"
   ]
  },
  {
   "cell_type": "code",
   "execution_count": 12,
   "metadata": {
    "ExecuteTime": {
     "end_time": "2017-12-01T10:40:28.314737Z",
     "start_time": "2017-12-01T10:40:28.310161Z"
    }
   },
   "outputs": [],
   "source": [
    "transfer = ['Mill. €', 'Th. €', '1 €']\n",
    "loan = ['Loan fee:', 'Loan']\n",
    "free = ['gratuito', 'Gratuito', 'free transfer', 'Draft', 'draft', 'Free transfer', 'nan', 'Libre para traspaso', '-', '?', '0', 'free', 'frei', 'svincolato', 'bez odstępnego', 'a']\n",
    "swap = ['Swap deal', 'Trade', 'trade', 'Tausch', 'Spielertausch']"
   ]
  },
  {
   "cell_type": "code",
   "execution_count": 13,
   "metadata": {
    "ExecuteTime": {
     "end_time": "2017-12-01T10:40:28.322136Z",
     "start_time": "2017-12-01T10:40:28.317158Z"
    }
   },
   "outputs": [],
   "source": [
    "df['Transfer Type'] = None"
   ]
  },
  {
   "cell_type": "code",
   "execution_count": 14,
   "metadata": {
    "ExecuteTime": {
     "end_time": "2017-12-01T10:40:37.457793Z",
     "start_time": "2017-12-01T10:40:28.324476Z"
    },
    "scrolled": true
   },
   "outputs": [],
   "source": [
    "df['Transfer Type'] = None\n",
    "\n",
    "for tranfer_type in [\"loan\", \"swap\", \"transfer\", \"free\"]:\n",
    "    df2 = df['Transfer Type'].isnull()\n",
    "    for fee in log_progress(df[df2]['Fee'].unique(), every=1):\n",
    "        if str(fee)=='nan': continue\n",
    "\n",
    "        for type_fee in eval(tranfer_type):\n",
    "            if type_fee in fee:\n",
    "                df.loc[df['Fee']==fee, 'Transfer Type'] = tranfer_type"
   ]
  },
  {
   "cell_type": "code",
   "execution_count": 15,
   "metadata": {
    "ExecuteTime": {
     "end_time": "2017-12-01T10:40:37.485006Z",
     "start_time": "2017-12-01T10:40:37.461057Z"
    }
   },
   "outputs": [
    {
     "data": {
      "text/plain": [
       "free        30994\n",
       "loan        10773\n",
       "transfer     2913\n",
       "swap           87\n",
       "Name: Transfer Type, dtype: int64"
      ]
     },
     "execution_count": 15,
     "metadata": {},
     "output_type": "execute_result"
    }
   ],
   "source": [
    "df['Transfer Type'].value_counts()"
   ]
  },
  {
   "cell_type": "code",
   "execution_count": 16,
   "metadata": {
    "ExecuteTime": {
     "end_time": "2017-12-01T10:40:37.611095Z",
     "start_time": "2017-12-01T10:40:37.489802Z"
    },
    "scrolled": true
   },
   "outputs": [
    {
     "data": {
      "text/html": [
       "<div>\n",
       "<style>\n",
       "    .dataframe thead tr:only-child th {\n",
       "        text-align: right;\n",
       "    }\n",
       "\n",
       "    .dataframe thead th {\n",
       "        text-align: left;\n",
       "    }\n",
       "\n",
       "    .dataframe tbody tr th {\n",
       "        vertical-align: top;\n",
       "    }\n",
       "</style>\n",
       "<table border=\"1\" class=\"dataframe\">\n",
       "  <thead>\n",
       "    <tr style=\"text-align: right;\">\n",
       "      <th></th>\n",
       "      <th>Player Name</th>\n",
       "      <th>Player Link</th>\n",
       "      <th>Player position</th>\n",
       "      <th>From club</th>\n",
       "      <th>To club</th>\n",
       "      <th>From competition</th>\n",
       "      <th>To competition</th>\n",
       "      <th>From manager</th>\n",
       "      <th>From manager link</th>\n",
       "      <th>To manager</th>\n",
       "      <th>To manager link</th>\n",
       "      <th>Market value</th>\n",
       "      <th>Fee</th>\n",
       "      <th>Age</th>\n",
       "      <th>From manager agent</th>\n",
       "      <th>To manager agent</th>\n",
       "      <th>Player Agent</th>\n",
       "      <th>Transfer Type</th>\n",
       "    </tr>\n",
       "  </thead>\n",
       "  <tbody>\n",
       "    <tr>\n",
       "      <th>2572</th>\n",
       "      <td>afran-izmailov</td>\n",
       "      <td>/afran-izmailov/profil/spieler/121842</td>\n",
       "      <td>Right Wing</td>\n",
       "      <td>Xäzär Länkäran</td>\n",
       "      <td>Inter Baku</td>\n",
       "      <td>Premyer Liqasi</td>\n",
       "      <td>Premyer Liqasi</td>\n",
       "      <td>Elbeus Mammadov</td>\n",
       "      <td>/elbeus-mammadov/profil/trainer/38668</td>\n",
       "      <td>Kakhaber Tskhadadze</td>\n",
       "      <td>/kakhaber-tskhadadze/profil/trainer/10419</td>\n",
       "      <td>400 Th. €</td>\n",
       "      <td>NaN</td>\n",
       "      <td>26 years 02 months 25 days</td>\n",
       "      <td>NaN</td>\n",
       "      <td>NaN</td>\n",
       "      <td>Cosmosport</td>\n",
       "      <td>None</td>\n",
       "    </tr>\n",
       "    <tr>\n",
       "      <th>7081</th>\n",
       "      <td>aly-hassan</td>\n",
       "      <td>/aly-hassan/profil/spieler/220993</td>\n",
       "      <td>Centre-Forward</td>\n",
       "      <td>Fort Lauderdale</td>\n",
       "      <td>Ottawa Fury</td>\n",
       "      <td>NASL Fall Championship</td>\n",
       "      <td>NASL Fall Championship</td>\n",
       "      <td>Iván Guerrero</td>\n",
       "      <td>/ivan-guerrero/profil/trainer/40766</td>\n",
       "      <td>Marc Dos Santos</td>\n",
       "      <td>/marc-dos-santos/profil/trainer/13259</td>\n",
       "      <td>50 Th. €</td>\n",
       "      <td>NaN</td>\n",
       "      <td>26 years 01 month 11 days</td>\n",
       "      <td>NaN</td>\n",
       "      <td>Gold World Stars</td>\n",
       "      <td>NaN</td>\n",
       "      <td>None</td>\n",
       "    </tr>\n",
       "    <tr>\n",
       "      <th>12780</th>\n",
       "      <td>alexander-langen</td>\n",
       "      <td>/alexander-langen/profil/spieler/303311</td>\n",
       "      <td>Right-Back</td>\n",
       "      <td>TSV 1860 U17</td>\n",
       "      <td>Ingolstadt U19</td>\n",
       "      <td>B-Jgd. BL Süd/Südwest</td>\n",
       "      <td>A-Jgd. BL Süd/Südwest</td>\n",
       "      <td>Josef Albersinger</td>\n",
       "      <td>/josef-albersinger/profil/trainer/9904</td>\n",
       "      <td>Roberto Pätzold</td>\n",
       "      <td>/roberto-patzold/profil/trainer/35740</td>\n",
       "      <td>-</td>\n",
       "      <td>NaN</td>\n",
       "      <td>17 years 05 months 02 days</td>\n",
       "      <td>NaN</td>\n",
       "      <td>NaN</td>\n",
       "      <td>BoaVista Consulting GmbH</td>\n",
       "      <td>None</td>\n",
       "    </tr>\n",
       "    <tr>\n",
       "      <th>24305</th>\n",
       "      <td>dejan-gavric</td>\n",
       "      <td>/dejan-gavric/profil/spieler/330108</td>\n",
       "      <td>Right Midfield</td>\n",
       "      <td>FK Derventa</td>\n",
       "      <td>FK Krupa</td>\n",
       "      <td>Prva Liga RS</td>\n",
       "      <td>Prva Liga RS</td>\n",
       "      <td>Bojan Magazin</td>\n",
       "      <td>/bojan-magazin/profil/trainer/47459</td>\n",
       "      <td>Slobodan Starcevic</td>\n",
       "      <td>/slobodan-starcevic/profil/trainer/25027</td>\n",
       "      <td>25 Th. €</td>\n",
       "      <td>NaN</td>\n",
       "      <td>18 years 06 months 03 days</td>\n",
       "      <td>NaN</td>\n",
       "      <td>NaN</td>\n",
       "      <td>NaN</td>\n",
       "      <td>None</td>\n",
       "    </tr>\n",
       "    <tr>\n",
       "      <th>26536</th>\n",
       "      <td>dae-ho-kim</td>\n",
       "      <td>/dae-ho-kim/profil/spieler/134743</td>\n",
       "      <td>Keeper</td>\n",
       "      <td>Asan Mugunghwa</td>\n",
       "      <td>Jeonnam Dragons</td>\n",
       "      <td>K-League Challenge</td>\n",
       "      <td>K-League Classic</td>\n",
       "      <td>Heung-sil Lee</td>\n",
       "      <td>/heung-sil-lee/profil/trainer/23161</td>\n",
       "      <td>Sang-rae No</td>\n",
       "      <td>/sang-rae-no/profil/trainer/37358</td>\n",
       "      <td>150 Th. €</td>\n",
       "      <td>NaN</td>\n",
       "      <td>30 years 08 months 16 days</td>\n",
       "      <td>NaN</td>\n",
       "      <td>NaN</td>\n",
       "      <td>NaN</td>\n",
       "      <td>None</td>\n",
       "    </tr>\n",
       "    <tr>\n",
       "      <th>27310</th>\n",
       "      <td>sinan-jakupovic</td>\n",
       "      <td>/sinan-jakupovic/profil/spieler/284989</td>\n",
       "      <td>Right Midfield</td>\n",
       "      <td>HNK Capljina</td>\n",
       "      <td>Velez Mostar</td>\n",
       "      <td>Prva liga FBiH</td>\n",
       "      <td>Premijer Liga</td>\n",
       "      <td>Damir Borovac</td>\n",
       "      <td>/damir-borovac/profil/trainer/29604</td>\n",
       "      <td>Zijo Tojaga</td>\n",
       "      <td>/zijo-tojaga/profil/trainer/45696</td>\n",
       "      <td>50 Th. €</td>\n",
       "      <td>NaN</td>\n",
       "      <td>21 years 05 months 05 days</td>\n",
       "      <td>NaN</td>\n",
       "      <td>NaN</td>\n",
       "      <td>no agent</td>\n",
       "      <td>None</td>\n",
       "    </tr>\n",
       "    <tr>\n",
       "      <th>28235</th>\n",
       "      <td>kevin-oliveira</td>\n",
       "      <td>/kevin-oliveira/profil/spieler/312744</td>\n",
       "      <td>Attacking Midfield</td>\n",
       "      <td>Benfica B</td>\n",
       "      <td>Swope Park</td>\n",
       "      <td>Segunda Liga</td>\n",
       "      <td>USL Pro</td>\n",
       "      <td>Hélder Cristóvão</td>\n",
       "      <td>/helder-cristovao/profil/trainer/11055</td>\n",
       "      <td>Marc Dos Santos</td>\n",
       "      <td>/marc-dos-santos/profil/trainer/13259</td>\n",
       "      <td>-</td>\n",
       "      <td>NaN</td>\n",
       "      <td>19 years 07 months 26 days</td>\n",
       "      <td>NaN</td>\n",
       "      <td>Gold World Stars</td>\n",
       "      <td>Soccer Features Limited</td>\n",
       "      <td>None</td>\n",
       "    </tr>\n",
       "    <tr>\n",
       "      <th>28555</th>\n",
       "      <td>seong-nam-ahn</td>\n",
       "      <td>/seong-nam-ahn/profil/spieler/113532</td>\n",
       "      <td>Attacking Midfield</td>\n",
       "      <td>Gwangju FC</td>\n",
       "      <td>Gyeongnam FC</td>\n",
       "      <td>K-League Classic</td>\n",
       "      <td>K-League Challenge</td>\n",
       "      <td>Ki-Il Nam</td>\n",
       "      <td>/ki-il-nam/profil/trainer/34529</td>\n",
       "      <td>Jong-bu Kim</td>\n",
       "      <td>/jong-bu-kim/profil/trainer/54825</td>\n",
       "      <td>600 Th. €</td>\n",
       "      <td>NaN</td>\n",
       "      <td>31 years 10 months 13 days</td>\n",
       "      <td>NaN</td>\n",
       "      <td>NaN</td>\n",
       "      <td>NaN</td>\n",
       "      <td>None</td>\n",
       "    </tr>\n",
       "    <tr>\n",
       "      <th>36912</th>\n",
       "      <td>chang-kyun-im</td>\n",
       "      <td>/chang-kyun-im/profil/spieler/263882</td>\n",
       "      <td>Attacking Midfield</td>\n",
       "      <td>Gyeongnam FC</td>\n",
       "      <td>Suwon FC</td>\n",
       "      <td>K-League Challenge</td>\n",
       "      <td>K-League Classic</td>\n",
       "      <td>Jong-bu Kim</td>\n",
       "      <td>/jong-bu-kim/profil/trainer/54825</td>\n",
       "      <td>Deok-Je Cho</td>\n",
       "      <td>/deok-je-cho/profil/trainer/28144</td>\n",
       "      <td>50 Th. €</td>\n",
       "      <td>NaN</td>\n",
       "      <td>26 years 02 months 29 days</td>\n",
       "      <td>NaN</td>\n",
       "      <td>NaN</td>\n",
       "      <td>NaN</td>\n",
       "      <td>None</td>\n",
       "    </tr>\n",
       "    <tr>\n",
       "      <th>38465</th>\n",
       "      <td>harallamb-qaqi</td>\n",
       "      <td>/harallamb-qaqi/profil/spieler/189690</td>\n",
       "      <td>Centre-Back</td>\n",
       "      <td>Hellas Verona</td>\n",
       "      <td>KF Laçi</td>\n",
       "      <td>Serie B</td>\n",
       "      <td>Kategoria Superiore</td>\n",
       "      <td>Fabio Pecchia</td>\n",
       "      <td>/fabio-pecchia/profil/trainer/19635</td>\n",
       "      <td>Marcello Troisi</td>\n",
       "      <td>/marcello-troisi/profil/trainer/41047</td>\n",
       "      <td>25 Th. €</td>\n",
       "      <td>NaN</td>\n",
       "      <td>22 years 10 months 10 days</td>\n",
       "      <td>NaN</td>\n",
       "      <td>NaN</td>\n",
       "      <td>NaN</td>\n",
       "      <td>None</td>\n",
       "    </tr>\n",
       "    <tr>\n",
       "      <th>39344</th>\n",
       "      <td>hen-ezra</td>\n",
       "      <td>/hen-ezra/profil/spieler/129364</td>\n",
       "      <td>Left Wing</td>\n",
       "      <td>Maccabi Haifa</td>\n",
       "      <td>Hapoel Tel Aviv</td>\n",
       "      <td>Ligat ha Al</td>\n",
       "      <td>Ligat ha Al</td>\n",
       "      <td>Ronny Levy</td>\n",
       "      <td>/ronny-levy/profil/trainer/1561</td>\n",
       "      <td>Eli Guttman</td>\n",
       "      <td>/eli-guttman/profil/trainer/5513</td>\n",
       "      <td>850 Th. €</td>\n",
       "      <td>NaN</td>\n",
       "      <td>27 years 05 months 16 days</td>\n",
       "      <td>Elite Consulting ...</td>\n",
       "      <td>NaN</td>\n",
       "      <td>A.B SOCCER LTD</td>\n",
       "      <td>None</td>\n",
       "    </tr>\n",
       "  </tbody>\n",
       "</table>\n",
       "</div>"
      ],
      "text/plain": [
       "            Player Name                              Player Link  \\\n",
       "2572     afran-izmailov    /afran-izmailov/profil/spieler/121842   \n",
       "7081         aly-hassan        /aly-hassan/profil/spieler/220993   \n",
       "12780  alexander-langen  /alexander-langen/profil/spieler/303311   \n",
       "24305      dejan-gavric      /dejan-gavric/profil/spieler/330108   \n",
       "26536        dae-ho-kim        /dae-ho-kim/profil/spieler/134743   \n",
       "27310   sinan-jakupovic   /sinan-jakupovic/profil/spieler/284989   \n",
       "28235    kevin-oliveira    /kevin-oliveira/profil/spieler/312744   \n",
       "28555     seong-nam-ahn     /seong-nam-ahn/profil/spieler/113532   \n",
       "36912     chang-kyun-im     /chang-kyun-im/profil/spieler/263882   \n",
       "38465    harallamb-qaqi    /harallamb-qaqi/profil/spieler/189690   \n",
       "39344          hen-ezra          /hen-ezra/profil/spieler/129364   \n",
       "\n",
       "                                      Player position        From club  \\\n",
       "2572           Right Wing                               Xäzär Länkäran   \n",
       "7081       Centre-Forward                              Fort Lauderdale   \n",
       "12780          Right-Back                                 TSV 1860 U17   \n",
       "24305      Right Midfield                                  FK Derventa   \n",
       "26536              Keeper                               Asan Mugunghwa   \n",
       "27310      Right Midfield                                 HNK Capljina   \n",
       "28235  Attacking Midfield                                    Benfica B   \n",
       "28555  Attacking Midfield                                   Gwangju FC   \n",
       "36912  Attacking Midfield                                 Gyeongnam FC   \n",
       "38465         Centre-Back                                Hellas Verona   \n",
       "39344           Left Wing                                Maccabi Haifa   \n",
       "\n",
       "               To club        From competition          To competition  \\\n",
       "2572        Inter Baku          Premyer Liqasi          Premyer Liqasi   \n",
       "7081       Ottawa Fury  NASL Fall Championship  NASL Fall Championship   \n",
       "12780   Ingolstadt U19  B-Jgd. BL Süd/Südwest    A-Jgd. BL Süd/Südwest   \n",
       "24305         FK Krupa            Prva Liga RS            Prva Liga RS   \n",
       "26536  Jeonnam Dragons      K-League Challenge        K-League Classic   \n",
       "27310     Velez Mostar          Prva liga FBiH           Premijer Liga   \n",
       "28235       Swope Park            Segunda Liga                 USL Pro   \n",
       "28555     Gyeongnam FC        K-League Classic      K-League Challenge   \n",
       "36912         Suwon FC      K-League Challenge        K-League Classic   \n",
       "38465          KF Laçi                 Serie B     Kategoria Superiore   \n",
       "39344  Hapoel Tel Aviv             Ligat ha Al             Ligat ha Al   \n",
       "\n",
       "            From manager                       From manager link  \\\n",
       "2572     Elbeus Mammadov   /elbeus-mammadov/profil/trainer/38668   \n",
       "7081       Iván Guerrero     /ivan-guerrero/profil/trainer/40766   \n",
       "12780  Josef Albersinger  /josef-albersinger/profil/trainer/9904   \n",
       "24305      Bojan Magazin     /bojan-magazin/profil/trainer/47459   \n",
       "26536      Heung-sil Lee     /heung-sil-lee/profil/trainer/23161   \n",
       "27310      Damir Borovac     /damir-borovac/profil/trainer/29604   \n",
       "28235   Hélder Cristóvão  /helder-cristovao/profil/trainer/11055   \n",
       "28555          Ki-Il Nam         /ki-il-nam/profil/trainer/34529   \n",
       "36912        Jong-bu Kim       /jong-bu-kim/profil/trainer/54825   \n",
       "38465      Fabio Pecchia     /fabio-pecchia/profil/trainer/19635   \n",
       "39344         Ronny Levy         /ronny-levy/profil/trainer/1561   \n",
       "\n",
       "                To manager                            To manager link  \\\n",
       "2572   Kakhaber Tskhadadze  /kakhaber-tskhadadze/profil/trainer/10419   \n",
       "7081       Marc Dos Santos      /marc-dos-santos/profil/trainer/13259   \n",
       "12780      Roberto Pätzold      /roberto-patzold/profil/trainer/35740   \n",
       "24305   Slobodan Starcevic   /slobodan-starcevic/profil/trainer/25027   \n",
       "26536          Sang-rae No          /sang-rae-no/profil/trainer/37358   \n",
       "27310          Zijo Tojaga          /zijo-tojaga/profil/trainer/45696   \n",
       "28235      Marc Dos Santos      /marc-dos-santos/profil/trainer/13259   \n",
       "28555          Jong-bu Kim          /jong-bu-kim/profil/trainer/54825   \n",
       "36912          Deok-Je Cho          /deok-je-cho/profil/trainer/28144   \n",
       "38465      Marcello Troisi      /marcello-troisi/profil/trainer/41047   \n",
       "39344          Eli Guttman           /eli-guttman/profil/trainer/5513   \n",
       "\n",
       "      Market value  Fee                          Age     From manager agent  \\\n",
       "2572     400 Th. €  NaN  26 years 02 months 25 days                     NaN   \n",
       "7081      50 Th. €  NaN   26 years 01 month 11 days                     NaN   \n",
       "12780            -  NaN  17 years 05 months 02 days                     NaN   \n",
       "24305     25 Th. €  NaN  18 years 06 months 03 days                     NaN   \n",
       "26536    150 Th. €  NaN  30 years 08 months 16 days                     NaN   \n",
       "27310     50 Th. €  NaN  21 years 05 months 05 days                     NaN   \n",
       "28235            -  NaN  19 years 07 months 26 days                     NaN   \n",
       "28555    600 Th. €  NaN  31 years 10 months 13 days                     NaN   \n",
       "36912     50 Th. €  NaN  26 years 02 months 29 days                     NaN   \n",
       "38465     25 Th. €  NaN  22 years 10 months 10 days                     NaN   \n",
       "39344    850 Th. €  NaN  27 years 05 months 16 days   Elite Consulting ...    \n",
       "\n",
       "        To manager agent               Player Agent Transfer Type  \n",
       "2572                 NaN                Cosmosport           None  \n",
       "7081   Gold World Stars                         NaN          None  \n",
       "12780                NaN  BoaVista Consulting GmbH           None  \n",
       "24305                NaN                        NaN          None  \n",
       "26536                NaN                        NaN          None  \n",
       "27310                NaN                  no agent           None  \n",
       "28235  Gold World Stars    Soccer Features Limited           None  \n",
       "28555                NaN                        NaN          None  \n",
       "36912                NaN                        NaN          None  \n",
       "38465                NaN                        NaN          None  \n",
       "39344                NaN            A.B SOCCER LTD           None  "
      ]
     },
     "execution_count": 16,
     "metadata": {},
     "output_type": "execute_result"
    }
   ],
   "source": [
    "df[df.Fee.isnull()]"
   ]
  },
  {
   "cell_type": "markdown",
   "metadata": {},
   "source": [
    "## Transfer fee - integer amount"
   ]
  },
  {
   "cell_type": "code",
   "execution_count": 17,
   "metadata": {
    "ExecuteTime": {
     "end_time": "2017-12-01T10:40:45.259289Z",
     "start_time": "2017-12-01T10:40:37.619039Z"
    }
   },
   "outputs": [],
   "source": [
    "df[\"Transfer Value\"] = 0\n",
    "\n",
    "for fee in df[df['Transfer Type'] == 'transfer']['Fee'].unique():\n",
    "    if \" Mill\" in fee:\n",
    "        value = float(fee.split(\" Mill\")[0].replace(',','.'))*1000000\n",
    "    \n",
    "    if \" Th.\" in fee:\n",
    "        value = float(fee.split(\" Th\")[0].replace(',','.'))*1000\n",
    "    \n",
    "    if \"1 €\" == fee:\n",
    "        value = 1\n",
    "        \n",
    "    df.loc[df['Fee']==fee, 'Transfer Value'] = value"
   ]
  },
  {
   "cell_type": "markdown",
   "metadata": {},
   "source": [
    "# Build Network"
   ]
  },
  {
   "cell_type": "code",
   "execution_count": 18,
   "metadata": {
    "ExecuteTime": {
     "end_time": "2017-12-01T10:40:45.268261Z",
     "start_time": "2017-12-01T10:40:45.264859Z"
    }
   },
   "outputs": [],
   "source": [
    "G = nx.MultiGraph()"
   ]
  },
  {
   "cell_type": "markdown",
   "metadata": {},
   "source": [
    "> We are using **Multigraph**: Is it a problem ?"
   ]
  },
  {
   "cell_type": "markdown",
   "metadata": {},
   "source": [
    "## Nodes\n",
    "\n",
    "Nodes are clubs"
   ]
  },
  {
   "cell_type": "code",
   "execution_count": 19,
   "metadata": {
    "ExecuteTime": {
     "end_time": "2017-12-01T10:40:45.296775Z",
     "start_time": "2017-12-01T10:40:45.272114Z"
    }
   },
   "outputs": [],
   "source": [
    "fc = df[\"From club\"].unique()\n",
    "tc = df[\"To club\"].unique()\n",
    "all_clubs = list(set(np.concatenate((fc,tc))))"
   ]
  },
  {
   "cell_type": "code",
   "execution_count": 20,
   "metadata": {
    "ExecuteTime": {
     "end_time": "2017-12-01T10:41:11.694035Z",
     "start_time": "2017-12-01T10:40:45.304974Z"
    },
    "scrolled": true
   },
   "outputs": [],
   "source": [
    "for c in log_progress(all_clubs, every=1):\n",
    "    clubs = df[df[\"From club\"]==c]\n",
    "    \n",
    "    if len(clubs)==0:\n",
    "        clubs = df[df[\"To club\"]==c]\n",
    "        competition = clubs[:1][\"To competition\"].values[0]\n",
    "    else:\n",
    "        competition = clubs[:1][\"From competition\"].values[0]\n",
    "    \n",
    "    G.add_node(c, competition=competition)"
   ]
  },
  {
   "cell_type": "markdown",
   "metadata": {},
   "source": [
    "## Edges"
   ]
  },
  {
   "cell_type": "code",
   "execution_count": 21,
   "metadata": {
    "ExecuteTime": {
     "end_time": "2017-12-01T10:41:26.015598Z",
     "start_time": "2017-12-01T10:41:11.697657Z"
    }
   },
   "outputs": [],
   "source": [
    "for tranfer in log_progress(df.iterrows(), every=10):\n",
    "    data = tranfer[1]\n",
    "    from_club = data[\"From club\"]\n",
    "    to_club = data[\"To club\"]\n",
    "    \n",
    "    player = data[\"Player Name\"]\n",
    "    player_position = data[\"Player position\"]\n",
    "    player_age = data[\"Age\"]\n",
    "    player_agent = data[\"Player Agent\"]\n",
    "    \n",
    "    transfer_type = data[\"Transfer Type\"]\n",
    "    transfer_value = data[\"Transfer Value\"]\n",
    "    \n",
    "    from_manager = data[\"From manager\"]\n",
    "    from_manager_agent = data[\"From manager agent\"]\n",
    "    to_manager = data[\"To manager\"]\n",
    "    to_manager_agent = data[\"To manager agent\"]\n",
    "    \n",
    "    G.add_edge(from_club, str(to_club),\n",
    "                  player = str(player),\n",
    "                  playerPosition = str(player_position),\n",
    "                  playerAge = str(player_age),\n",
    "                  transferType = str(transfer_type),\n",
    "                  transferValue = str(transfer_value),\n",
    "                  fromManager = str(from_manager),\n",
    "                  fromManagerAgent = str(from_manager_agent),\n",
    "                  toManager = str(to_manager),\n",
    "                  toManagerAgent = str(to_manager_agent)\n",
    "              )"
   ]
  },
  {
   "cell_type": "markdown",
   "metadata": {},
   "source": [
    "## Network"
   ]
  },
  {
   "cell_type": "code",
   "execution_count": 22,
   "metadata": {
    "ExecuteTime": {
     "end_time": "2017-12-01T10:41:26.060266Z",
     "start_time": "2017-12-01T10:41:26.017118Z"
    }
   },
   "outputs": [
    {
     "name": "stdout",
     "output_type": "stream",
     "text": [
      "Name: \n",
      "Type: MultiGraph\n",
      "Number of nodes: 3904\n",
      "Number of edges: 44778\n",
      "Average degree:  22.9395\n"
     ]
    }
   ],
   "source": [
    "print(nx.info(G))"
   ]
  },
  {
   "cell_type": "markdown",
   "metadata": {},
   "source": [
    "## Export"
   ]
  },
  {
   "cell_type": "code",
   "execution_count": 23,
   "metadata": {
    "ExecuteTime": {
     "end_time": "2017-12-01T10:41:28.995635Z",
     "start_time": "2017-12-01T10:41:26.062084Z"
    }
   },
   "outputs": [],
   "source": [
    "nx.write_gml(G, \"networks/all_transfers_network.gml\")"
   ]
  },
  {
   "cell_type": "markdown",
   "metadata": {},
   "source": [
    "## Build Network for each transfer type"
   ]
  },
  {
   "cell_type": "code",
   "execution_count": 30,
   "metadata": {
    "ExecuteTime": {
     "end_time": "2017-12-04T12:37:54.866512Z",
     "start_time": "2017-12-04T12:36:59.498956Z"
    }
   },
   "outputs": [
    {
     "name": "stdout",
     "output_type": "stream",
     "text": [
      "Name: loan\n",
      "Type: DiGraph\n",
      "Number of nodes: 2664\n",
      "Number of edges: 8412\n",
      "Average in degree:   3.1577\n",
      "Average out degree:   3.1577\n",
      "\n",
      "Name: swap\n",
      "Type: DiGraph\n",
      "Number of nodes: 76\n",
      "Number of edges: 61\n",
      "Average in degree:   0.8026\n",
      "Average out degree:   0.8026\n",
      "\n",
      "Name: transfer\n",
      "Type: DiGraph\n",
      "Number of nodes: 1124\n",
      "Number of edges: 2661\n",
      "Average in degree:   2.3674\n",
      "Average out degree:   2.3674\n",
      "\n",
      "Name: free\n",
      "Type: DiGraph\n",
      "Number of nodes: 3851\n",
      "Number of edges: 22791\n",
      "Average in degree:   5.9182\n",
      "Average out degree:   5.9182\n",
      "\n"
     ]
    }
   ],
   "source": [
    "for transferType in [\"loan\", \"swap\", \"transfer\", \"free\"]:\n",
    "\n",
    "    new_g = nx.DiGraph()\n",
    "    new_g.name = transferType\n",
    "    \n",
    "    for n1,n2,e in G.edges(data=True):\n",
    "        if e[\"transferType\"] == transferType:\n",
    "            new_g.add_nodes_from(G.subgraph([n1,n2]).nodes(data=True))\n",
    "            new_g.add_edge(n1, n2)\n",
    "            for k,v in e.items():\n",
    "                new_g[n1][n2].update({k: v})\n",
    "    \n",
    "    print(nx.info(new_g))\n",
    "    nx.write_gml(new_g, \"networks/transfers_{0}_network.gml\".format(transferType))\n",
    "    print()"
   ]
  }
 ],
 "metadata": {
  "kernelspec": {
   "display_name": "Python 3",
   "language": "python",
   "name": "python3"
  },
  "language_info": {
   "codemirror_mode": {
    "name": "ipython",
    "version": 3
   },
   "file_extension": ".py",
   "mimetype": "text/x-python",
   "name": "python",
   "nbconvert_exporter": "python",
   "pygments_lexer": "ipython3",
   "version": "3.6.0"
  },
  "toc": {
   "nav_menu": {
    "height": "277px",
    "width": "208px"
   },
   "number_sections": true,
   "sideBar": true,
   "skip_h1_title": false,
   "toc_cell": true,
   "toc_position": {
    "height": "1081px",
    "left": "0px",
    "right": "1458.92px",
    "top": "111px",
    "width": "214px"
   },
   "toc_section_display": "block",
   "toc_window_display": true
  }
 },
 "nbformat": 4,
 "nbformat_minor": 2
}
