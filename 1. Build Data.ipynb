{
 "cells": [
  {
   "cell_type": "markdown",
   "metadata": {
    "toc": "true"
   },
   "source": [
    "<h1>Table of Contents<span class=\"tocSkip\"></span></h1>\n",
    "<div class=\"toc\" style=\"margin-top: 1em;\"><ul class=\"toc-item\"><li><span><a href=\"#Imports\" data-toc-modified-id=\"Imports-1\"><span class=\"toc-item-num\">1&nbsp;&nbsp;</span>Imports</a></span></li><li><span><a href=\"#Web-Scrap---Transfers\" data-toc-modified-id=\"Web-Scrap---Transfers-2\"><span class=\"toc-item-num\">2&nbsp;&nbsp;</span>Web Scrap - Transfers</a></span></li><li><span><a href=\"#Open-data\" data-toc-modified-id=\"Open-data-3\"><span class=\"toc-item-num\">3&nbsp;&nbsp;</span>Open data</a></span></li><li><span><a href=\"#Web-Scrap-Agents\" data-toc-modified-id=\"Web-Scrap-Agents-4\"><span class=\"toc-item-num\">4&nbsp;&nbsp;</span>Web Scrap Agents</a></span><ul class=\"toc-item\"><li><span><a href=\"#Player-Agents\" data-toc-modified-id=\"Player-Agents-4.1\"><span class=\"toc-item-num\">4.1&nbsp;&nbsp;</span>Player Agents</a></span></li><li><span><a href=\"#Manager-Agents\" data-toc-modified-id=\"Manager-Agents-4.2\"><span class=\"toc-item-num\">4.2&nbsp;&nbsp;</span>Manager Agents</a></span></li></ul></li><li><span><a href=\"#Save-data\" data-toc-modified-id=\"Save-data-5\"><span class=\"toc-item-num\">5&nbsp;&nbsp;</span>Save data</a></span></li><li><span><a href=\"#Transform-data\" data-toc-modified-id=\"Transform-data-6\"><span class=\"toc-item-num\">6&nbsp;&nbsp;</span>Transform data</a></span><ul class=\"toc-item\"><li><span><a href=\"#Create-Transfer-type\" data-toc-modified-id=\"Create-Transfer-type-6.1\"><span class=\"toc-item-num\">6.1&nbsp;&nbsp;</span>Create Transfer type</a></span></li><li><span><a href=\"#Transfer-fee---integer-amount\" data-toc-modified-id=\"Transfer-fee---integer-amount-6.2\"><span class=\"toc-item-num\">6.2&nbsp;&nbsp;</span>Transfer fee - integer amount</a></span></li></ul></li><li><span><a href=\"#Build-Network\" data-toc-modified-id=\"Build-Network-7\"><span class=\"toc-item-num\">7&nbsp;&nbsp;</span>Build Network</a></span><ul class=\"toc-item\"><li><span><a href=\"#Nodes\" data-toc-modified-id=\"Nodes-7.1\"><span class=\"toc-item-num\">7.1&nbsp;&nbsp;</span>Nodes</a></span></li><li><span><a href=\"#Edges\" data-toc-modified-id=\"Edges-7.2\"><span class=\"toc-item-num\">7.2&nbsp;&nbsp;</span>Edges</a></span></li><li><span><a href=\"#Network\" data-toc-modified-id=\"Network-7.3\"><span class=\"toc-item-num\">7.3&nbsp;&nbsp;</span>Network</a></span></li><li><span><a href=\"#Export\" data-toc-modified-id=\"Export-7.4\"><span class=\"toc-item-num\">7.4&nbsp;&nbsp;</span>Export</a></span></li><li><span><a href=\"#Build-Network-for-each-transfer-type\" data-toc-modified-id=\"Build-Network-for-each-transfer-type-7.5\"><span class=\"toc-item-num\">7.5&nbsp;&nbsp;</span>Build Network for each transfer type</a></span></li></ul></li></ul></div>"
   ]
  },
  {
   "cell_type": "markdown",
   "metadata": {},
   "source": [
    "# Imports"
   ]
  },
  {
   "cell_type": "code",
   "execution_count": 2,
   "metadata": {
    "ExecuteTime": {
     "end_time": "2017-12-05T13:24:52.539483Z",
     "start_time": "2017-12-05T13:24:51.438005Z"
    }
   },
   "outputs": [],
   "source": [
    "# Beautiful Soup for web scrapping data\n",
    "from bs4 import BeautifulSoup\n",
    "import requests\n",
    "\n",
    "# Save into csv file\n",
    "import csv\n",
    "\n",
    "# Pandas to reimport csv data\n",
    "import pandas as pd\n",
    "\n",
    "# Numpy for array manipulation\n",
    "import numpy as np\n",
    "\n",
    "# NetworkX\n",
    "import networkx as nx"
   ]
  },
  {
   "cell_type": "markdown",
   "metadata": {},
   "source": [
    "Use it for progess bar (https://github.com/alexanderkuk/log-progress)"
   ]
  },
  {
   "cell_type": "code",
   "execution_count": 3,
   "metadata": {
    "ExecuteTime": {
     "end_time": "2017-12-05T13:24:53.010039Z",
     "start_time": "2017-12-05T13:24:52.901547Z"
    }
   },
   "outputs": [],
   "source": [
    "def log_progress(sequence, every=None, size=None, name='Items', delete=False):\n",
    "    from ipywidgets import IntProgress, HTML, VBox\n",
    "    from IPython.display import display\n",
    "\n",
    "    is_iterator = False\n",
    "    if size is None:\n",
    "        try:\n",
    "            size = len(sequence)\n",
    "        except TypeError:\n",
    "            is_iterator = True\n",
    "    if size is not None:\n",
    "        if every is None:\n",
    "            if size <= 200:\n",
    "                every = 1\n",
    "            else:\n",
    "                every = int(size / 200)     # every 0.5%\n",
    "    else:\n",
    "        assert every is not None, 'sequence is iterator, set every'\n",
    "\n",
    "    if is_iterator:\n",
    "        progress = IntProgress(min=0, max=1, value=1)\n",
    "        progress.bar_style = 'info'\n",
    "    else:\n",
    "        progress = IntProgress(min=0, max=size, value=0)\n",
    "    label = HTML()\n",
    "    box = VBox(children=[label, progress])\n",
    "    display(box)\n",
    "\n",
    "    index = 0\n",
    "    try:\n",
    "        for index, record in enumerate(sequence, 1):\n",
    "            if index == 1 or index % every == 0:\n",
    "                if is_iterator:\n",
    "                    label.value = '{name}: {index} / ?'.format(\n",
    "                        name=name,\n",
    "                        index=index\n",
    "                    )\n",
    "                else:\n",
    "                    progress.value = index\n",
    "                    label.value = u'{name}: {index} / {size}'.format(\n",
    "                        name=name,\n",
    "                        index=index,\n",
    "                        size=size\n",
    "                    )\n",
    "            yield record\n",
    "    except:\n",
    "        progress.bar_style = 'danger'\n",
    "        raise\n",
    "    else:\n",
    "        progress.bar_style = 'success'\n",
    "        progress.value = index\n",
    "        label.value = \"{name}: {index}\".format(\n",
    "            name=name,\n",
    "            index=str(index or '?')\n",
    "        )\n",
    "        if delete:\n",
    "            box.close()"
   ]
  },
  {
   "cell_type": "markdown",
   "metadata": {},
   "source": [
    "# Web Scrap - Transfers"
   ]
  },
  {
   "cell_type": "markdown",
   "metadata": {},
   "source": [
    "For this project, we want to analyze football transfers. The data to build our network will be web scraped from `transfermarkt.com`, a football-specialized website. This website records all transfers between clubs all around the world, from major leagues to less-popular ones. The data do not concern only the first-level leagues, but also second and inferior divisions.\n",
    "\n",
    "For each transfer, the website stores a lot of infomation, from the player name to the selling club director. Only a subset of those records are of interest for our project:\n",
    "\n",
    "- Player attributes:\n",
    "    - **Player Name**: Name of the player\n",
    "    - **Player Link**: Transfetrmarkt.com url for the player's profile\n",
    "    - **Player position**: Position of the player\n",
    "    - **Age**: Age of the player at the time of the transfer\n",
    "\n",
    "\n",
    "- Tranfer money:\n",
    "    - **Fee**: Monetary value, if any, of the transfer\n",
    "    - **Market value**: Theoritical value of the player, computed by Transfermarkt.com\n",
    "\n",
    "- Clubs\n",
    "    - **From club**: Club/Team that the player leaves\n",
    "    - **To club**: Club/Team that the player joins.\n",
    "    - **From manager**: Manager of the club that the player leaves.\n",
    "    - **To manager**: Manager of the club that the player joins.\n",
    "    - **From manager link**: Transfetrmarkt.com url for the manager of the club that the player leaves.\n",
    "    - **To manager link**: Transfetrmarkt.com url for the manager of the club that the player joins.\n",
    "    \n",
    "    \n",
    "- Competitions\n",
    "    - **From competition**: Competition/League where the `from club` participate\n",
    "    - **To competition**: Competition/League where the `to club`  participate"
   ]
  },
  {
   "cell_type": "markdown",
   "metadata": {},
   "source": [
    "Web scraping strategy:\n",
    "- `Transfermarkt.com` has an URL for each transfers occurring at a specific date.\n",
    "- The transfers happening at a specific day can be spread across multiple pages.\n",
    "- For each transfer, a detailed version - containing the information we are interested in - is available through a link.\n",
    "- Create one csv file per day. At the end, merge all csv files into one (so if an error occurs, no need to start everything)\n",
    "- All transfers happening in **2015** and **2016** will be retrieved."
   ]
  },
  {
   "cell_type": "code",
   "execution_count": 13,
   "metadata": {
    "ExecuteTime": {
     "end_time": "2017-12-05T14:13:26.149398Z",
     "start_time": "2017-12-05T14:13:26.141255Z"
    }
   },
   "outputs": [],
   "source": [
    "# URL informations\n",
    "base_url = \"https://www.transfermarkt.com\"\n",
    "transfer_url = base_url + '/transfers/transfertagedetail/statistik/top/land_id_zu/0/land_id_ab/0/leihe//datum/{0}/page/{1}'"
   ]
  },
  {
   "cell_type": "code",
   "execution_count": 15,
   "metadata": {
    "ExecuteTime": {
     "end_time": "2017-12-05T14:14:17.520974Z",
     "start_time": "2017-12-05T14:14:17.516730Z"
    }
   },
   "outputs": [],
   "source": [
    "# Web Scraping helper\n",
    "headers = {'User-Agent': 'Mozilla/5.00'}"
   ]
  },
  {
   "cell_type": "code",
   "execution_count": null,
   "metadata": {
    "ExecuteTime": {
     "start_time": "2017-12-05T14:15:05.986Z"
    },
    "scrolled": false
   },
   "outputs": [],
   "source": [
    "# Keep track of all possible problems\n",
    "nbr_failure = 0 \n",
    "\n",
    "# Dates to retrieve\n",
    "YearRange = range(2015,2017) # 2015 - 2016\n",
    "Months = range(1,13) # 12 Months in a year\n",
    "DaysInMonths = [0,31,28,31,30,31,30,31,31,30,31,30,31] # Number of days per month\n",
    "\n",
    "\n",
    "for year in YearRange:\n",
    "    for month in log_progress(Months, name=\"Month\"):\n",
    "        for day in log_progress(range(1,DaysInMonths[month]+1), name=\"Day\", delete=True):\n",
    "            date = str(year)+'-'+str(month)+'-'+str(day)\n",
    "\n",
    "            # create csv file for the current day\n",
    "            csvfile = open('data/data-transfer-day/data-test'+date+'.csv', 'w')\n",
    "            \n",
    "            # Retrieve the first page of transfers for the current day\n",
    "            url = transfer_url.format(date, 1)\n",
    "            r  = requests.get(url, headers=headers)\n",
    "            tranfer_data_page = BeautifulSoup(r.text, 'html.parser')\n",
    "            \n",
    "            # Retrieve the number of pages containing transfers for the current day\n",
    "            try:\n",
    "                nbr_pages = int(tranfer_data_page.find('li', attrs={\"class\":\"letzte-seite\"}).find('a')['href'].split('page/')[1])\n",
    "            except:\n",
    "                nbr_pages = 1\n",
    "\n",
    "            # Retrieve each tranfers for each page\n",
    "            try:\n",
    "                for page in log_progress(range(1,nbr_pages+1), every=1, name=\"Date: \"+date+\"    - Page\", delete=True): #Progress bar for each page for a given day\n",
    "                    url = transfer_url.format(date, page)\n",
    "                    r  = requests.get(url, headers=headers)\n",
    "                    tranfer_data_page = BeautifulSoup(r.text, 'html.parser')\n",
    "\n",
    "\n",
    "                    links = tranfer_data_page.find_all('a', href=True)\n",
    "                    for a in log_progress([l for l in links if \"/jumplist/transfers/\" in l['href']], every=1, name=\"Page \"+str(page)+\"   - Player\", delete=True): #Progress bar for each transfer in a page\n",
    "                        i += 1\n",
    "\n",
    "                        try:\n",
    "                            # Player page - Transfer details\n",
    "                            p_transfer_url = base_url + a['href']\n",
    "                            r2  = requests.get(p_transfer_url, headers=headers)\n",
    "                            soup = BeautifulSoup(r2.text, 'html.parser')\n",
    "\n",
    "                            # Player info\n",
    "                            player_link = soup.find(\"li\", attrs={\"id\":\"Profile\"}).find(\"a\")['href']\n",
    "                            player_name = player_link.split('/')[1]\n",
    "                            player_position = soup.find(\"span\", text=\"Position:\").find_next().get_text()\n",
    "                            player_position = player_position.replace(\"\\r\", \"\").replace(\"\\t\", \"\").replace(\"\\n\", \"\")\n",
    "\n",
    "                            # Clubs\n",
    "                            clubs = soup.find(\"td\", attrs={\"class\":\"zentriert hauptlink no-border-rechts no-border-links\"})\n",
    "                            from_club = clubs.find_previous('td').find_all('a')[-1].text\n",
    "                            to_club   = clubs.find_next('td').find_all('a')[-1].text\n",
    "\n",
    "                            # Competition\n",
    "                            competitions = soup.find(\"td\", text=\"Competition\")\n",
    "                            from_competition = competitions.find_previous('td').find_all('a')[-1].text\n",
    "                            to_competition   = competitions.find_next('td').find_all('a')[-1].text\n",
    "\n",
    "                            # Managers\n",
    "                            managers = soup.find(\"td\", text=\"Manager(s)\")\n",
    "                            from_manager = managers.find_previous('td').find_all('a')[-1].text\n",
    "                            from_manager_link = managers.find_previous('td').find('a')['href']\n",
    "                            to_manager   = managers.find_next('td').find_all('a')[-1].text\n",
    "                            to_manager_link = managers.find_next('td').find('a')['href']\n",
    "\n",
    "                            # Market Value\n",
    "                            market_value = soup.find(\"b\", text=\"Market value at time of change\").find_parent().text.split(\"Market value at time of change\")[-1]\n",
    "\n",
    "                            # Fee\n",
    "                            fee = soup.find(\"b\", text=\"Transfer fee\").find_next().find_next().text\n",
    "\n",
    "                            # Age\n",
    "                            age = soup.find(\"b\", text=\"Age at the time of the transfer\").find_parent().text.split(\"Age at the time of the transfer\")[-1]\n",
    "\n",
    "\n",
    "                            # Write to CSV file\n",
    "                            csvfile.write(\"|\".join([player_name, player_link, player_position, from_club, to_club, from_competition, to_competition, from_manager, from_manager_link, to_manager, to_manager_link, market_value, fee, age])+\"\\n\")\n",
    "\n",
    "                        except:\n",
    "                            nbr_failure += 1\n",
    "            except:\n",
    "                print(\"Error with\", page)\n",
    "                pass\n",
    "\n",
    "\n",
    "            # Close CSV file\n",
    "            csvfile.close()"
   ]
  },
  {
   "cell_type": "markdown",
   "metadata": {},
   "source": [
    "All transfers are stored into several csv files, one csv file per day. Merge those files using the bash command `cat`"
   ]
  },
  {
   "cell_type": "code",
   "execution_count": null,
   "metadata": {
    "ExecuteTime": {
     "end_time": "2017-11-26T06:56:40.363937",
     "start_time": "2017-11-25T21:55:57.297Z"
    }
   },
   "outputs": [],
   "source": [
    "# Merge everything into a single file\n",
    "!cat data/data-transfer-day/*.csv > data/data-transfer-day/entire_data.csv"
   ]
  },
  {
   "cell_type": "markdown",
   "metadata": {},
   "source": [
    "# Open data\n",
    "\n",
    "Load the csv files with all transfers into a pandas Dataframe."
   ]
  },
  {
   "cell_type": "code",
   "execution_count": 14,
   "metadata": {
    "ExecuteTime": {
     "end_time": "2017-12-05T14:13:35.351560Z",
     "start_time": "2017-12-05T14:13:35.342637Z"
    }
   },
   "outputs": [],
   "source": [
    "# Data of interest for each tranfer\n",
    "transfer_infos = [\"Player Name\", \"Player Link\", \"Player position\", \"From club\", \"To club\", \"From competition\", \"To competition\", \"From manager\", \"From manager link\", \"To manager\", \"To manager link\", \"Market value\", \"Fee\", \"Age\"]"
   ]
  },
  {
   "cell_type": "code",
   "execution_count": null,
   "metadata": {
    "ExecuteTime": {
     "end_time": "2017-11-26T06:56:40.364292",
     "start_time": "2017-11-25T21:55:57.352Z"
    }
   },
   "outputs": [],
   "source": [
    "df = pd.read_csv(\"data/data-transfer-day/entire_data.csv\", sep='|', names=transfer_infos)\n",
    "df.head(2)"
   ]
  },
  {
   "cell_type": "code",
   "execution_count": null,
   "metadata": {
    "collapsed": true
   },
   "outputs": [],
   "source": [
    "df.describe()"
   ]
  },
  {
   "cell_type": "markdown",
   "metadata": {},
   "source": [
    "# Web Scrap Agents\n",
    "\n",
    "As explained above, the website stores information about player and managers agents. We want also to retrieve it, reason why we kept the profile's link for each player and manager."
   ]
  },
  {
   "cell_type": "markdown",
   "metadata": {},
   "source": [
    "## Player Agents"
   ]
  },
  {
   "cell_type": "code",
   "execution_count": null,
   "metadata": {
    "ExecuteTime": {
     "end_time": "2017-11-26T06:56:40.364640",
     "start_time": "2017-11-25T21:55:57.358Z"
    },
    "scrolled": true
   },
   "outputs": [],
   "source": [
    "df['Player Agent'] = None\n",
    "\n",
    "for pl in log_progress(df['Player Link'].unique()):\n",
    "    r = requests.get(base_url+pl, headers=headers)\n",
    "    soup = BeautifulSoup(r.text, 'html.parser')\n",
    "    try:\n",
    "        agent = soup.find('th', text=\"Player agents:\").find_next().text.replace(\"\\n\",\"\")\n",
    "        df.loc[df['Player Link'] == pl,'Player Agent'] = agent\n",
    "    except:\n",
    "        pass"
   ]
  },
  {
   "cell_type": "markdown",
   "metadata": {},
   "source": [
    "## Manager Agents"
   ]
  },
  {
   "cell_type": "code",
   "execution_count": null,
   "metadata": {
    "collapsed": true
   },
   "outputs": [],
   "source": [
    "fml = df['From manager link'].unique()\n",
    "print(\"Nbr of 'From managers':    \",len(fml))\n",
    "      \n",
    "tml = df['To manager link'].unique()\n",
    "print(\"Nbr of 'To managers':      \",len(tml))\n",
    "\n",
    "print(\"Nbr of unique mangers:     \", len(list(set(np.concatenate((fml,tml))))))"
   ]
  },
  {
   "cell_type": "code",
   "execution_count": null,
   "metadata": {
    "collapsed": true
   },
   "outputs": [],
   "source": [
    "df_manager = pd.DataFrame(list(set(np.concatenate((fml,tml)))), columns=[\"ManagerLink\"])\n",
    "\n",
    "df['From manager agent'] = None\n",
    "df['To manager agent'] = None\n",
    "\n",
    "\n",
    "for pl in log_progress(df_manager['ManagerLink'].unique(), every=1):\n",
    "    r = requests.get(base_url+pl, headers=headers)\n",
    "    soup = BeautifulSoup(r.text, 'html.parser')\n",
    "    try:\n",
    "        agent = soup.find('span', text=\"Agents:\").find_next().text.replace(\"\\n\",\"\")\n",
    "        df.loc[df['From manager link'] == pl,'From manager agent'] = agent\n",
    "        df.loc[df['To manager link'] == pl,'To manager agent'] = agent\n",
    "    except:\n",
    "        pass"
   ]
  },
  {
   "cell_type": "markdown",
   "metadata": {},
   "source": [
    "# Save data\n",
    "\n",
    "Save the data, completed with the agents information, from the pandas Dataframe to a csv file."
   ]
  },
  {
   "cell_type": "code",
   "execution_count": null,
   "metadata": {
    "ExecuteTime": {
     "end_time": "2017-11-26T06:56:40.365443",
     "start_time": "2017-11-25T21:55:57.483Z"
    },
    "collapsed": true
   },
   "outputs": [],
   "source": [
    "df.to_csv(\"data/data.csv\")"
   ]
  },
  {
   "cell_type": "markdown",
   "metadata": {},
   "source": [
    "# Transform data\n",
    "\n",
    "There is still one thing we want to deal with before building a network of transfers: deal with transfers fees. `Transfermarkt.com` categorizes transfers into different categories: \n",
    "- **\"Normal\" transfers**, in which clubs exchange player against money\n",
    "- **Loans** The player will come back to its 'original' team.\n",
    "- **Free**: The player had no contract, the club spend no money to transfer him.\n",
    "- **Swap**: Two clubs exchange two player.\n",
    "\n",
    "Unfortunately, the website stores the transfer type information inside the `Fee` amount. We will need to divide this `Fee` information into two columns: **Transfer type** and **Transfer Value** (amount of money spend on a player from the buying club (*to club*)\n",
    "\n",
    "\n",
    "Note that for the loans, `Transfermarkt.com` stores two transfers activity: begin and end of loan. We didn't retrieve the end of loan transfers."
   ]
  },
  {
   "cell_type": "markdown",
   "metadata": {},
   "source": [
    "**Start by loading the data**"
   ]
  },
  {
   "cell_type": "code",
   "execution_count": 31,
   "metadata": {
    "ExecuteTime": {
     "end_time": "2017-12-04T15:14:12.590662Z",
     "start_time": "2017-12-04T15:14:12.298929Z"
    }
   },
   "outputs": [
    {
     "data": {
      "text/html": [
       "<div>\n",
       "<style>\n",
       "    .dataframe thead tr:only-child th {\n",
       "        text-align: right;\n",
       "    }\n",
       "\n",
       "    .dataframe thead th {\n",
       "        text-align: left;\n",
       "    }\n",
       "\n",
       "    .dataframe tbody tr th {\n",
       "        vertical-align: top;\n",
       "    }\n",
       "</style>\n",
       "<table border=\"1\" class=\"dataframe\">\n",
       "  <thead>\n",
       "    <tr style=\"text-align: right;\">\n",
       "      <th></th>\n",
       "      <th>Player Name</th>\n",
       "      <th>Player Link</th>\n",
       "      <th>Player position</th>\n",
       "      <th>From club</th>\n",
       "      <th>To club</th>\n",
       "      <th>From competition</th>\n",
       "      <th>To competition</th>\n",
       "      <th>From manager</th>\n",
       "      <th>From manager link</th>\n",
       "      <th>To manager</th>\n",
       "      <th>To manager link</th>\n",
       "      <th>Market value</th>\n",
       "      <th>Fee</th>\n",
       "      <th>Age</th>\n",
       "      <th>From manager agent</th>\n",
       "      <th>To manager agent</th>\n",
       "      <th>Player Agent</th>\n",
       "    </tr>\n",
       "  </thead>\n",
       "  <tbody>\n",
       "    <tr>\n",
       "      <th>7842</th>\n",
       "      <td>joao-vilela</td>\n",
       "      <td>/joao-vilela/profil/spieler/37950</td>\n",
       "      <td>Central Midfield</td>\n",
       "      <td>Gil Vicente</td>\n",
       "      <td>Belenenses</td>\n",
       "      <td>Segunda Liga</td>\n",
       "      <td>Primeira Liga</td>\n",
       "      <td>Nandinho</td>\n",
       "      <td>/nandinho/profil/trainer/40496</td>\n",
       "      <td>Sá Pinto</td>\n",
       "      <td>/sa-pinto/profil/trainer/12110</td>\n",
       "      <td>1,20 Mill. €</td>\n",
       "      <td>Free transfer</td>\n",
       "      <td>29 years 09 months 22 days</td>\n",
       "      <td>NaN</td>\n",
       "      <td>NaN</td>\n",
       "      <td>Super Stadium</td>\n",
       "    </tr>\n",
       "    <tr>\n",
       "      <th>27056</th>\n",
       "      <td>joao-vitor</td>\n",
       "      <td>/joao-vitor/profil/spieler/112624</td>\n",
       "      <td>Defensive Midfield</td>\n",
       "      <td>Maldonado</td>\n",
       "      <td>Ponte Preta</td>\n",
       "      <td>Segunda División Profesional - Segunda Etapa</td>\n",
       "      <td>Campeonato Brasileiro Série A</td>\n",
       "      <td>Edgardo Arias</td>\n",
       "      <td>/edgardo-arias/profil/trainer/17932</td>\n",
       "      <td>Vinícius Eutrópio</td>\n",
       "      <td>/vinicius-eutropio/profil/trainer/10810</td>\n",
       "      <td>1,25 Mill. €</td>\n",
       "      <td>Loan</td>\n",
       "      <td>27 years 08 months 00 days</td>\n",
       "      <td>NaN</td>\n",
       "      <td>NaN</td>\n",
       "      <td>no agent</td>\n",
       "    </tr>\n",
       "    <tr>\n",
       "      <th>31474</th>\n",
       "      <td>musa-araz</td>\n",
       "      <td>/musa-araz/profil/spieler/147037</td>\n",
       "      <td>Attacking Midfield</td>\n",
       "      <td>FC Basel</td>\n",
       "      <td>Lausanne-Sport</td>\n",
       "      <td>Raiffeisen Super League</td>\n",
       "      <td>Raiffeisen Super League</td>\n",
       "      <td>Urs Fischer</td>\n",
       "      <td>/urs-fischer/profil/trainer/5965</td>\n",
       "      <td>Fabio Celestini</td>\n",
       "      <td>/fabio-celestini/profil/trainer/17687</td>\n",
       "      <td>300 Th. €</td>\n",
       "      <td>Free transfer</td>\n",
       "      <td>22 years 05 months 14 days</td>\n",
       "      <td>FPA Fairplay Agency ...</td>\n",
       "      <td>NaN</td>\n",
       "      <td>Gold-Kick &amp; Sport Service</td>\n",
       "    </tr>\n",
       "    <tr>\n",
       "      <th>43575</th>\n",
       "      <td>santiago-colombatto</td>\n",
       "      <td>/santiago-colombatto/profil/spieler/395122</td>\n",
       "      <td>Defensive Midfield</td>\n",
       "      <td>Cagliari Calcio</td>\n",
       "      <td>Trapani</td>\n",
       "      <td>Serie A</td>\n",
       "      <td>Serie B</td>\n",
       "      <td>Massimo Rastelli</td>\n",
       "      <td>/massimo-rastelli/profil/trainer/16377</td>\n",
       "      <td>Serse Cosmi</td>\n",
       "      <td>/serse-cosmi/profil/trainer/520</td>\n",
       "      <td>150 Th. €</td>\n",
       "      <td>Loan</td>\n",
       "      <td>19 years 07 months 14 days</td>\n",
       "      <td>NaN</td>\n",
       "      <td>Football Agents ...</td>\n",
       "      <td>Avios Soccer</td>\n",
       "    </tr>\n",
       "    <tr>\n",
       "      <th>6749</th>\n",
       "      <td>roberto-cereceda</td>\n",
       "      <td>/roberto-cereceda/profil/spieler/63391</td>\n",
       "      <td>Left-Back</td>\n",
       "      <td>U. de Chile</td>\n",
       "      <td>Figueirense FC</td>\n",
       "      <td>Primera División Clausura</td>\n",
       "      <td>Campeonato Brasileiro Série A</td>\n",
       "      <td>Martín Lasarte</td>\n",
       "      <td>/martin-lasarte/profil/trainer/10302</td>\n",
       "      <td>Argel Fucks</td>\n",
       "      <td>/argel-fucks/profil/trainer/10334</td>\n",
       "      <td>1,00 Mill. €</td>\n",
       "      <td>Free transfer</td>\n",
       "      <td>30 years 04 months 24 days</td>\n",
       "      <td>NaN</td>\n",
       "      <td>NaN</td>\n",
       "      <td>no agent</td>\n",
       "    </tr>\n",
       "  </tbody>\n",
       "</table>\n",
       "</div>"
      ],
      "text/plain": [
       "               Player Name                                 Player Link  \\\n",
       "7842           joao-vilela           /joao-vilela/profil/spieler/37950   \n",
       "27056           joao-vitor           /joao-vitor/profil/spieler/112624   \n",
       "31474            musa-araz            /musa-araz/profil/spieler/147037   \n",
       "43575  santiago-colombatto  /santiago-colombatto/profil/spieler/395122   \n",
       "6749      roberto-cereceda      /roberto-cereceda/profil/spieler/63391   \n",
       "\n",
       "                                      Player position        From club  \\\n",
       "7842     Central Midfield                                  Gil Vicente   \n",
       "27056  Defensive Midfield                                    Maldonado   \n",
       "31474  Attacking Midfield                                     FC Basel   \n",
       "43575  Defensive Midfield                              Cagliari Calcio   \n",
       "6749            Left-Back                                  U. de Chile   \n",
       "\n",
       "              To club                              From competition  \\\n",
       "7842       Belenenses                                  Segunda Liga   \n",
       "27056     Ponte Preta  Segunda División Profesional - Segunda Etapa   \n",
       "31474  Lausanne-Sport                       Raiffeisen Super League   \n",
       "43575         Trapani                                       Serie A   \n",
       "6749   Figueirense FC                     Primera División Clausura   \n",
       "\n",
       "                      To competition      From manager  \\\n",
       "7842                   Primeira Liga          Nandinho   \n",
       "27056  Campeonato Brasileiro Série A     Edgardo Arias   \n",
       "31474        Raiffeisen Super League       Urs Fischer   \n",
       "43575                        Serie B  Massimo Rastelli   \n",
       "6749   Campeonato Brasileiro Série A    Martín Lasarte   \n",
       "\n",
       "                            From manager link         To manager  \\\n",
       "7842           /nandinho/profil/trainer/40496           Sá Pinto   \n",
       "27056     /edgardo-arias/profil/trainer/17932  Vinícius Eutrópio   \n",
       "31474        /urs-fischer/profil/trainer/5965    Fabio Celestini   \n",
       "43575  /massimo-rastelli/profil/trainer/16377        Serse Cosmi   \n",
       "6749     /martin-lasarte/profil/trainer/10302        Argel Fucks   \n",
       "\n",
       "                               To manager link  Market value            Fee  \\\n",
       "7842            /sa-pinto/profil/trainer/12110  1,20 Mill. €  Free transfer   \n",
       "27056  /vinicius-eutropio/profil/trainer/10810  1,25 Mill. €           Loan   \n",
       "31474    /fabio-celestini/profil/trainer/17687     300 Th. €  Free transfer   \n",
       "43575          /serse-cosmi/profil/trainer/520     150 Th. €           Loan   \n",
       "6749         /argel-fucks/profil/trainer/10334  1,00 Mill. €  Free transfer   \n",
       "\n",
       "                               Age        From manager agent  \\\n",
       "7842   29 years 09 months 22 days                        NaN   \n",
       "27056  27 years 08 months 00 days                        NaN   \n",
       "31474  22 years 05 months 14 days   FPA Fairplay Agency ...    \n",
       "43575  19 years 07 months 14 days                        NaN   \n",
       "6749   30 years 04 months 24 days                        NaN   \n",
       "\n",
       "           To manager agent                Player Agent  \n",
       "7842                    NaN              Super Stadium   \n",
       "27056                   NaN                   no agent   \n",
       "31474                   NaN  Gold-Kick & Sport Service   \n",
       "43575  Football Agents ...                Avios Soccer   \n",
       "6749                    NaN                   no agent   "
      ]
     },
     "execution_count": 31,
     "metadata": {},
     "output_type": "execute_result"
    }
   ],
   "source": [
    "df = pd.read_csv(\"data/data.csv\", index_col=0)\n",
    "df.sample(5)"
   ]
  },
  {
   "cell_type": "code",
   "execution_count": 32,
   "metadata": {
    "ExecuteTime": {
     "end_time": "2017-12-04T15:14:13.313586Z",
     "start_time": "2017-12-04T15:14:13.044451Z"
    }
   },
   "outputs": [
    {
     "data": {
      "text/html": [
       "<div>\n",
       "<style>\n",
       "    .dataframe thead tr:only-child th {\n",
       "        text-align: right;\n",
       "    }\n",
       "\n",
       "    .dataframe thead th {\n",
       "        text-align: left;\n",
       "    }\n",
       "\n",
       "    .dataframe tbody tr th {\n",
       "        vertical-align: top;\n",
       "    }\n",
       "</style>\n",
       "<table border=\"1\" class=\"dataframe\">\n",
       "  <thead>\n",
       "    <tr style=\"text-align: right;\">\n",
       "      <th></th>\n",
       "      <th>Player Name</th>\n",
       "      <th>Player Link</th>\n",
       "      <th>Player position</th>\n",
       "      <th>From club</th>\n",
       "      <th>To club</th>\n",
       "      <th>From competition</th>\n",
       "      <th>To competition</th>\n",
       "      <th>From manager</th>\n",
       "      <th>From manager link</th>\n",
       "      <th>To manager</th>\n",
       "      <th>To manager link</th>\n",
       "      <th>Market value</th>\n",
       "      <th>Fee</th>\n",
       "      <th>Age</th>\n",
       "      <th>From manager agent</th>\n",
       "      <th>To manager agent</th>\n",
       "      <th>Player Agent</th>\n",
       "    </tr>\n",
       "  </thead>\n",
       "  <tbody>\n",
       "    <tr>\n",
       "      <th>count</th>\n",
       "      <td>44778</td>\n",
       "      <td>44778</td>\n",
       "      <td>44778</td>\n",
       "      <td>44778</td>\n",
       "      <td>44778</td>\n",
       "      <td>44778</td>\n",
       "      <td>44778</td>\n",
       "      <td>44778</td>\n",
       "      <td>44778</td>\n",
       "      <td>44778</td>\n",
       "      <td>44778</td>\n",
       "      <td>44778</td>\n",
       "      <td>44767</td>\n",
       "      <td>44778</td>\n",
       "      <td>6046</td>\n",
       "      <td>5469</td>\n",
       "      <td>22993</td>\n",
       "    </tr>\n",
       "    <tr>\n",
       "      <th>unique</th>\n",
       "      <td>31221</td>\n",
       "      <td>31793</td>\n",
       "      <td>16</td>\n",
       "      <td>3600</td>\n",
       "      <td>3474</td>\n",
       "      <td>327</td>\n",
       "      <td>316</td>\n",
       "      <td>5210</td>\n",
       "      <td>5220</td>\n",
       "      <td>5104</td>\n",
       "      <td>5113</td>\n",
       "      <td>141</td>\n",
       "      <td>613</td>\n",
       "      <td>7066</td>\n",
       "      <td>244</td>\n",
       "      <td>233</td>\n",
       "      <td>2015</td>\n",
       "    </tr>\n",
       "    <tr>\n",
       "      <th>top</th>\n",
       "      <td>paulinho</td>\n",
       "      <td>/william-palacios/profil/spieler/265982</td>\n",
       "      <td>Centre-Forward</td>\n",
       "      <td>Juventus</td>\n",
       "      <td>Monza</td>\n",
       "      <td>Serie A</td>\n",
       "      <td>Primera División</td>\n",
       "      <td>Massimiliano Allegri</td>\n",
       "      <td>/massimiliano-allegri/profil/trainer/7671</td>\n",
       "      <td>Hüseyin Kalpar</td>\n",
       "      <td>/huseyin-kalpar/profil/trainer/12053</td>\n",
       "      <td>-</td>\n",
       "      <td>Free transfer</td>\n",
       "      <td>23 years 03 months 13 days</td>\n",
       "      <td>no agent</td>\n",
       "      <td>no agent</td>\n",
       "      <td>no agent</td>\n",
       "    </tr>\n",
       "    <tr>\n",
       "      <th>freq</th>\n",
       "      <td>18</td>\n",
       "      <td>6</td>\n",
       "      <td>7653</td>\n",
       "      <td>151</td>\n",
       "      <td>55</td>\n",
       "      <td>1599</td>\n",
       "      <td>1121</td>\n",
       "      <td>151</td>\n",
       "      <td>151</td>\n",
       "      <td>50</td>\n",
       "      <td>50</td>\n",
       "      <td>7234</td>\n",
       "      <td>19743</td>\n",
       "      <td>26</td>\n",
       "      <td>593</td>\n",
       "      <td>493</td>\n",
       "      <td>2275</td>\n",
       "    </tr>\n",
       "  </tbody>\n",
       "</table>\n",
       "</div>"
      ],
      "text/plain": [
       "       Player Name                              Player Link  \\\n",
       "count        44778                                    44778   \n",
       "unique       31221                                    31793   \n",
       "top       paulinho  /william-palacios/profil/spieler/265982   \n",
       "freq            18                                        6   \n",
       "\n",
       "                                   Player position From club To club  \\\n",
       "count                                        44778     44778   44778   \n",
       "unique                                          16      3600    3474   \n",
       "top     Centre-Forward                              Juventus   Monza   \n",
       "freq                                          7653       151      55   \n",
       "\n",
       "       From competition    To competition          From manager  \\\n",
       "count             44778             44778                 44778   \n",
       "unique              327               316                  5210   \n",
       "top             Serie A  Primera División  Massimiliano Allegri   \n",
       "freq               1599              1121                   151   \n",
       "\n",
       "                                From manager link      To manager  \\\n",
       "count                                       44778           44778   \n",
       "unique                                       5220            5104   \n",
       "top     /massimiliano-allegri/profil/trainer/7671  Hüseyin Kalpar   \n",
       "freq                                          151              50   \n",
       "\n",
       "                             To manager link Market value            Fee  \\\n",
       "count                                  44778        44778          44767   \n",
       "unique                                  5113          141            613   \n",
       "top     /huseyin-kalpar/profil/trainer/12053            -  Free transfer   \n",
       "freq                                      50         7234          19743   \n",
       "\n",
       "                                Age From manager agent To manager agent  \\\n",
       "count                         44778               6046             5469   \n",
       "unique                         7066                244              233   \n",
       "top     23 years 03 months 13 days           no agent         no agent    \n",
       "freq                             26                593              493   \n",
       "\n",
       "       Player Agent  \n",
       "count         22993  \n",
       "unique         2015  \n",
       "top       no agent   \n",
       "freq           2275  "
      ]
     },
     "execution_count": 32,
     "metadata": {},
     "output_type": "execute_result"
    }
   ],
   "source": [
    "df.describe()"
   ]
  },
  {
   "cell_type": "markdown",
   "metadata": {},
   "source": [
    "## Create Transfer type"
   ]
  },
  {
   "cell_type": "code",
   "execution_count": 33,
   "metadata": {
    "ExecuteTime": {
     "end_time": "2017-12-04T15:14:18.182287Z",
     "start_time": "2017-12-04T15:14:18.165829Z"
    }
   },
   "outputs": [],
   "source": [
    "transfer = ['Mill. €', 'Th. €', '1 €']\n",
    "loan = ['Loan fee:', 'Loan']\n",
    "free = ['gratuito', 'Gratuito', 'free transfer', 'Draft', 'draft', 'Free transfer', 'nan', 'Libre para traspaso', '-', '?', '0', 'free', 'frei', 'svincolato', 'bez odstępnego', 'a']\n",
    "swap = ['Swap deal', 'Trade', 'trade', 'Tausch', 'Spielertausch']"
   ]
  },
  {
   "cell_type": "code",
   "execution_count": 39,
   "metadata": {
    "ExecuteTime": {
     "end_time": "2017-12-04T15:14:41.761132Z",
     "start_time": "2017-12-04T15:14:33.538534Z"
    },
    "scrolled": true
   },
   "outputs": [],
   "source": [
    "df['Transfer Type'] = None\n",
    "\n",
    "for tranfer_type in [\"loan\", \"swap\", \"transfer\", \"free\"]:\n",
    "    df2 = df['Transfer Type'].isnull()\n",
    "    for fee in log_progress(df[df2]['Fee'].unique(), every=1):\n",
    "        if str(fee)=='nan': continue\n",
    "\n",
    "        for type_fee in eval(tranfer_type):\n",
    "            if type_fee in fee:\n",
    "                df.loc[df['Fee']==fee, 'Transfer Type'] = tranfer_type"
   ]
  },
  {
   "cell_type": "code",
   "execution_count": 40,
   "metadata": {
    "ExecuteTime": {
     "end_time": "2017-12-04T15:14:41.786162Z",
     "start_time": "2017-12-04T15:14:41.763702Z"
    }
   },
   "outputs": [
    {
     "data": {
      "text/plain": [
       "free        30994\n",
       "loan        10773\n",
       "transfer     2913\n",
       "swap           87\n",
       "Name: Transfer Type, dtype: int64"
      ]
     },
     "execution_count": 40,
     "metadata": {},
     "output_type": "execute_result"
    }
   ],
   "source": [
    "df['Transfer Type'].value_counts()"
   ]
  },
  {
   "cell_type": "code",
   "execution_count": 41,
   "metadata": {
    "ExecuteTime": {
     "end_time": "2017-12-04T15:14:41.850492Z",
     "start_time": "2017-12-04T15:14:41.789420Z"
    },
    "scrolled": true
   },
   "outputs": [
    {
     "data": {
      "text/html": [
       "<div>\n",
       "<style>\n",
       "    .dataframe thead tr:only-child th {\n",
       "        text-align: right;\n",
       "    }\n",
       "\n",
       "    .dataframe thead th {\n",
       "        text-align: left;\n",
       "    }\n",
       "\n",
       "    .dataframe tbody tr th {\n",
       "        vertical-align: top;\n",
       "    }\n",
       "</style>\n",
       "<table border=\"1\" class=\"dataframe\">\n",
       "  <thead>\n",
       "    <tr style=\"text-align: right;\">\n",
       "      <th></th>\n",
       "      <th>Player Name</th>\n",
       "      <th>Player Link</th>\n",
       "      <th>Player position</th>\n",
       "      <th>From club</th>\n",
       "      <th>To club</th>\n",
       "      <th>From competition</th>\n",
       "      <th>To competition</th>\n",
       "      <th>From manager</th>\n",
       "      <th>From manager link</th>\n",
       "      <th>To manager</th>\n",
       "      <th>To manager link</th>\n",
       "      <th>Market value</th>\n",
       "      <th>Fee</th>\n",
       "      <th>Age</th>\n",
       "      <th>From manager agent</th>\n",
       "      <th>To manager agent</th>\n",
       "      <th>Player Agent</th>\n",
       "      <th>Transfer Type</th>\n",
       "    </tr>\n",
       "  </thead>\n",
       "  <tbody>\n",
       "    <tr>\n",
       "      <th>2572</th>\n",
       "      <td>afran-izmailov</td>\n",
       "      <td>/afran-izmailov/profil/spieler/121842</td>\n",
       "      <td>Right Wing</td>\n",
       "      <td>Xäzär Länkäran</td>\n",
       "      <td>Inter Baku</td>\n",
       "      <td>Premyer Liqasi</td>\n",
       "      <td>Premyer Liqasi</td>\n",
       "      <td>Elbeus Mammadov</td>\n",
       "      <td>/elbeus-mammadov/profil/trainer/38668</td>\n",
       "      <td>Kakhaber Tskhadadze</td>\n",
       "      <td>/kakhaber-tskhadadze/profil/trainer/10419</td>\n",
       "      <td>400 Th. €</td>\n",
       "      <td>NaN</td>\n",
       "      <td>26 years 02 months 25 days</td>\n",
       "      <td>NaN</td>\n",
       "      <td>NaN</td>\n",
       "      <td>Cosmosport</td>\n",
       "      <td>None</td>\n",
       "    </tr>\n",
       "    <tr>\n",
       "      <th>7081</th>\n",
       "      <td>aly-hassan</td>\n",
       "      <td>/aly-hassan/profil/spieler/220993</td>\n",
       "      <td>Centre-Forward</td>\n",
       "      <td>Fort Lauderdale</td>\n",
       "      <td>Ottawa Fury</td>\n",
       "      <td>NASL Fall Championship</td>\n",
       "      <td>NASL Fall Championship</td>\n",
       "      <td>Iván Guerrero</td>\n",
       "      <td>/ivan-guerrero/profil/trainer/40766</td>\n",
       "      <td>Marc Dos Santos</td>\n",
       "      <td>/marc-dos-santos/profil/trainer/13259</td>\n",
       "      <td>50 Th. €</td>\n",
       "      <td>NaN</td>\n",
       "      <td>26 years 01 month 11 days</td>\n",
       "      <td>NaN</td>\n",
       "      <td>Gold World Stars</td>\n",
       "      <td>NaN</td>\n",
       "      <td>None</td>\n",
       "    </tr>\n",
       "    <tr>\n",
       "      <th>12780</th>\n",
       "      <td>alexander-langen</td>\n",
       "      <td>/alexander-langen/profil/spieler/303311</td>\n",
       "      <td>Right-Back</td>\n",
       "      <td>TSV 1860 U17</td>\n",
       "      <td>Ingolstadt U19</td>\n",
       "      <td>B-Jgd. BL Süd/Südwest</td>\n",
       "      <td>A-Jgd. BL Süd/Südwest</td>\n",
       "      <td>Josef Albersinger</td>\n",
       "      <td>/josef-albersinger/profil/trainer/9904</td>\n",
       "      <td>Roberto Pätzold</td>\n",
       "      <td>/roberto-patzold/profil/trainer/35740</td>\n",
       "      <td>-</td>\n",
       "      <td>NaN</td>\n",
       "      <td>17 years 05 months 02 days</td>\n",
       "      <td>NaN</td>\n",
       "      <td>NaN</td>\n",
       "      <td>BoaVista Consulting GmbH</td>\n",
       "      <td>None</td>\n",
       "    </tr>\n",
       "    <tr>\n",
       "      <th>24305</th>\n",
       "      <td>dejan-gavric</td>\n",
       "      <td>/dejan-gavric/profil/spieler/330108</td>\n",
       "      <td>Right Midfield</td>\n",
       "      <td>FK Derventa</td>\n",
       "      <td>FK Krupa</td>\n",
       "      <td>Prva Liga RS</td>\n",
       "      <td>Prva Liga RS</td>\n",
       "      <td>Bojan Magazin</td>\n",
       "      <td>/bojan-magazin/profil/trainer/47459</td>\n",
       "      <td>Slobodan Starcevic</td>\n",
       "      <td>/slobodan-starcevic/profil/trainer/25027</td>\n",
       "      <td>25 Th. €</td>\n",
       "      <td>NaN</td>\n",
       "      <td>18 years 06 months 03 days</td>\n",
       "      <td>NaN</td>\n",
       "      <td>NaN</td>\n",
       "      <td>NaN</td>\n",
       "      <td>None</td>\n",
       "    </tr>\n",
       "    <tr>\n",
       "      <th>26536</th>\n",
       "      <td>dae-ho-kim</td>\n",
       "      <td>/dae-ho-kim/profil/spieler/134743</td>\n",
       "      <td>Keeper</td>\n",
       "      <td>Asan Mugunghwa</td>\n",
       "      <td>Jeonnam Dragons</td>\n",
       "      <td>K-League Challenge</td>\n",
       "      <td>K-League Classic</td>\n",
       "      <td>Heung-sil Lee</td>\n",
       "      <td>/heung-sil-lee/profil/trainer/23161</td>\n",
       "      <td>Sang-rae No</td>\n",
       "      <td>/sang-rae-no/profil/trainer/37358</td>\n",
       "      <td>150 Th. €</td>\n",
       "      <td>NaN</td>\n",
       "      <td>30 years 08 months 16 days</td>\n",
       "      <td>NaN</td>\n",
       "      <td>NaN</td>\n",
       "      <td>NaN</td>\n",
       "      <td>None</td>\n",
       "    </tr>\n",
       "    <tr>\n",
       "      <th>27310</th>\n",
       "      <td>sinan-jakupovic</td>\n",
       "      <td>/sinan-jakupovic/profil/spieler/284989</td>\n",
       "      <td>Right Midfield</td>\n",
       "      <td>HNK Capljina</td>\n",
       "      <td>Velez Mostar</td>\n",
       "      <td>Prva liga FBiH</td>\n",
       "      <td>Premijer Liga</td>\n",
       "      <td>Damir Borovac</td>\n",
       "      <td>/damir-borovac/profil/trainer/29604</td>\n",
       "      <td>Zijo Tojaga</td>\n",
       "      <td>/zijo-tojaga/profil/trainer/45696</td>\n",
       "      <td>50 Th. €</td>\n",
       "      <td>NaN</td>\n",
       "      <td>21 years 05 months 05 days</td>\n",
       "      <td>NaN</td>\n",
       "      <td>NaN</td>\n",
       "      <td>no agent</td>\n",
       "      <td>None</td>\n",
       "    </tr>\n",
       "    <tr>\n",
       "      <th>28235</th>\n",
       "      <td>kevin-oliveira</td>\n",
       "      <td>/kevin-oliveira/profil/spieler/312744</td>\n",
       "      <td>Attacking Midfield</td>\n",
       "      <td>Benfica B</td>\n",
       "      <td>Swope Park</td>\n",
       "      <td>Segunda Liga</td>\n",
       "      <td>USL Pro</td>\n",
       "      <td>Hélder Cristóvão</td>\n",
       "      <td>/helder-cristovao/profil/trainer/11055</td>\n",
       "      <td>Marc Dos Santos</td>\n",
       "      <td>/marc-dos-santos/profil/trainer/13259</td>\n",
       "      <td>-</td>\n",
       "      <td>NaN</td>\n",
       "      <td>19 years 07 months 26 days</td>\n",
       "      <td>NaN</td>\n",
       "      <td>Gold World Stars</td>\n",
       "      <td>Soccer Features Limited</td>\n",
       "      <td>None</td>\n",
       "    </tr>\n",
       "    <tr>\n",
       "      <th>28555</th>\n",
       "      <td>seong-nam-ahn</td>\n",
       "      <td>/seong-nam-ahn/profil/spieler/113532</td>\n",
       "      <td>Attacking Midfield</td>\n",
       "      <td>Gwangju FC</td>\n",
       "      <td>Gyeongnam FC</td>\n",
       "      <td>K-League Classic</td>\n",
       "      <td>K-League Challenge</td>\n",
       "      <td>Ki-Il Nam</td>\n",
       "      <td>/ki-il-nam/profil/trainer/34529</td>\n",
       "      <td>Jong-bu Kim</td>\n",
       "      <td>/jong-bu-kim/profil/trainer/54825</td>\n",
       "      <td>600 Th. €</td>\n",
       "      <td>NaN</td>\n",
       "      <td>31 years 10 months 13 days</td>\n",
       "      <td>NaN</td>\n",
       "      <td>NaN</td>\n",
       "      <td>NaN</td>\n",
       "      <td>None</td>\n",
       "    </tr>\n",
       "    <tr>\n",
       "      <th>36912</th>\n",
       "      <td>chang-kyun-im</td>\n",
       "      <td>/chang-kyun-im/profil/spieler/263882</td>\n",
       "      <td>Attacking Midfield</td>\n",
       "      <td>Gyeongnam FC</td>\n",
       "      <td>Suwon FC</td>\n",
       "      <td>K-League Challenge</td>\n",
       "      <td>K-League Classic</td>\n",
       "      <td>Jong-bu Kim</td>\n",
       "      <td>/jong-bu-kim/profil/trainer/54825</td>\n",
       "      <td>Deok-Je Cho</td>\n",
       "      <td>/deok-je-cho/profil/trainer/28144</td>\n",
       "      <td>50 Th. €</td>\n",
       "      <td>NaN</td>\n",
       "      <td>26 years 02 months 29 days</td>\n",
       "      <td>NaN</td>\n",
       "      <td>NaN</td>\n",
       "      <td>NaN</td>\n",
       "      <td>None</td>\n",
       "    </tr>\n",
       "    <tr>\n",
       "      <th>38465</th>\n",
       "      <td>harallamb-qaqi</td>\n",
       "      <td>/harallamb-qaqi/profil/spieler/189690</td>\n",
       "      <td>Centre-Back</td>\n",
       "      <td>Hellas Verona</td>\n",
       "      <td>KF Laçi</td>\n",
       "      <td>Serie B</td>\n",
       "      <td>Kategoria Superiore</td>\n",
       "      <td>Fabio Pecchia</td>\n",
       "      <td>/fabio-pecchia/profil/trainer/19635</td>\n",
       "      <td>Marcello Troisi</td>\n",
       "      <td>/marcello-troisi/profil/trainer/41047</td>\n",
       "      <td>25 Th. €</td>\n",
       "      <td>NaN</td>\n",
       "      <td>22 years 10 months 10 days</td>\n",
       "      <td>NaN</td>\n",
       "      <td>NaN</td>\n",
       "      <td>NaN</td>\n",
       "      <td>None</td>\n",
       "    </tr>\n",
       "    <tr>\n",
       "      <th>39344</th>\n",
       "      <td>hen-ezra</td>\n",
       "      <td>/hen-ezra/profil/spieler/129364</td>\n",
       "      <td>Left Wing</td>\n",
       "      <td>Maccabi Haifa</td>\n",
       "      <td>Hapoel Tel Aviv</td>\n",
       "      <td>Ligat ha Al</td>\n",
       "      <td>Ligat ha Al</td>\n",
       "      <td>Ronny Levy</td>\n",
       "      <td>/ronny-levy/profil/trainer/1561</td>\n",
       "      <td>Eli Guttman</td>\n",
       "      <td>/eli-guttman/profil/trainer/5513</td>\n",
       "      <td>850 Th. €</td>\n",
       "      <td>NaN</td>\n",
       "      <td>27 years 05 months 16 days</td>\n",
       "      <td>Elite Consulting ...</td>\n",
       "      <td>NaN</td>\n",
       "      <td>A.B SOCCER LTD</td>\n",
       "      <td>None</td>\n",
       "    </tr>\n",
       "  </tbody>\n",
       "</table>\n",
       "</div>"
      ],
      "text/plain": [
       "            Player Name                              Player Link  \\\n",
       "2572     afran-izmailov    /afran-izmailov/profil/spieler/121842   \n",
       "7081         aly-hassan        /aly-hassan/profil/spieler/220993   \n",
       "12780  alexander-langen  /alexander-langen/profil/spieler/303311   \n",
       "24305      dejan-gavric      /dejan-gavric/profil/spieler/330108   \n",
       "26536        dae-ho-kim        /dae-ho-kim/profil/spieler/134743   \n",
       "27310   sinan-jakupovic   /sinan-jakupovic/profil/spieler/284989   \n",
       "28235    kevin-oliveira    /kevin-oliveira/profil/spieler/312744   \n",
       "28555     seong-nam-ahn     /seong-nam-ahn/profil/spieler/113532   \n",
       "36912     chang-kyun-im     /chang-kyun-im/profil/spieler/263882   \n",
       "38465    harallamb-qaqi    /harallamb-qaqi/profil/spieler/189690   \n",
       "39344          hen-ezra          /hen-ezra/profil/spieler/129364   \n",
       "\n",
       "                                      Player position        From club  \\\n",
       "2572           Right Wing                               Xäzär Länkäran   \n",
       "7081       Centre-Forward                              Fort Lauderdale   \n",
       "12780          Right-Back                                 TSV 1860 U17   \n",
       "24305      Right Midfield                                  FK Derventa   \n",
       "26536              Keeper                               Asan Mugunghwa   \n",
       "27310      Right Midfield                                 HNK Capljina   \n",
       "28235  Attacking Midfield                                    Benfica B   \n",
       "28555  Attacking Midfield                                   Gwangju FC   \n",
       "36912  Attacking Midfield                                 Gyeongnam FC   \n",
       "38465         Centre-Back                                Hellas Verona   \n",
       "39344           Left Wing                                Maccabi Haifa   \n",
       "\n",
       "               To club        From competition          To competition  \\\n",
       "2572        Inter Baku          Premyer Liqasi          Premyer Liqasi   \n",
       "7081       Ottawa Fury  NASL Fall Championship  NASL Fall Championship   \n",
       "12780   Ingolstadt U19  B-Jgd. BL Süd/Südwest    A-Jgd. BL Süd/Südwest   \n",
       "24305         FK Krupa            Prva Liga RS            Prva Liga RS   \n",
       "26536  Jeonnam Dragons      K-League Challenge        K-League Classic   \n",
       "27310     Velez Mostar          Prva liga FBiH           Premijer Liga   \n",
       "28235       Swope Park            Segunda Liga                 USL Pro   \n",
       "28555     Gyeongnam FC        K-League Classic      K-League Challenge   \n",
       "36912         Suwon FC      K-League Challenge        K-League Classic   \n",
       "38465          KF Laçi                 Serie B     Kategoria Superiore   \n",
       "39344  Hapoel Tel Aviv             Ligat ha Al             Ligat ha Al   \n",
       "\n",
       "            From manager                       From manager link  \\\n",
       "2572     Elbeus Mammadov   /elbeus-mammadov/profil/trainer/38668   \n",
       "7081       Iván Guerrero     /ivan-guerrero/profil/trainer/40766   \n",
       "12780  Josef Albersinger  /josef-albersinger/profil/trainer/9904   \n",
       "24305      Bojan Magazin     /bojan-magazin/profil/trainer/47459   \n",
       "26536      Heung-sil Lee     /heung-sil-lee/profil/trainer/23161   \n",
       "27310      Damir Borovac     /damir-borovac/profil/trainer/29604   \n",
       "28235   Hélder Cristóvão  /helder-cristovao/profil/trainer/11055   \n",
       "28555          Ki-Il Nam         /ki-il-nam/profil/trainer/34529   \n",
       "36912        Jong-bu Kim       /jong-bu-kim/profil/trainer/54825   \n",
       "38465      Fabio Pecchia     /fabio-pecchia/profil/trainer/19635   \n",
       "39344         Ronny Levy         /ronny-levy/profil/trainer/1561   \n",
       "\n",
       "                To manager                            To manager link  \\\n",
       "2572   Kakhaber Tskhadadze  /kakhaber-tskhadadze/profil/trainer/10419   \n",
       "7081       Marc Dos Santos      /marc-dos-santos/profil/trainer/13259   \n",
       "12780      Roberto Pätzold      /roberto-patzold/profil/trainer/35740   \n",
       "24305   Slobodan Starcevic   /slobodan-starcevic/profil/trainer/25027   \n",
       "26536          Sang-rae No          /sang-rae-no/profil/trainer/37358   \n",
       "27310          Zijo Tojaga          /zijo-tojaga/profil/trainer/45696   \n",
       "28235      Marc Dos Santos      /marc-dos-santos/profil/trainer/13259   \n",
       "28555          Jong-bu Kim          /jong-bu-kim/profil/trainer/54825   \n",
       "36912          Deok-Je Cho          /deok-je-cho/profil/trainer/28144   \n",
       "38465      Marcello Troisi      /marcello-troisi/profil/trainer/41047   \n",
       "39344          Eli Guttman           /eli-guttman/profil/trainer/5513   \n",
       "\n",
       "      Market value  Fee                          Age     From manager agent  \\\n",
       "2572     400 Th. €  NaN  26 years 02 months 25 days                     NaN   \n",
       "7081      50 Th. €  NaN   26 years 01 month 11 days                     NaN   \n",
       "12780            -  NaN  17 years 05 months 02 days                     NaN   \n",
       "24305     25 Th. €  NaN  18 years 06 months 03 days                     NaN   \n",
       "26536    150 Th. €  NaN  30 years 08 months 16 days                     NaN   \n",
       "27310     50 Th. €  NaN  21 years 05 months 05 days                     NaN   \n",
       "28235            -  NaN  19 years 07 months 26 days                     NaN   \n",
       "28555    600 Th. €  NaN  31 years 10 months 13 days                     NaN   \n",
       "36912     50 Th. €  NaN  26 years 02 months 29 days                     NaN   \n",
       "38465     25 Th. €  NaN  22 years 10 months 10 days                     NaN   \n",
       "39344    850 Th. €  NaN  27 years 05 months 16 days   Elite Consulting ...    \n",
       "\n",
       "        To manager agent               Player Agent Transfer Type  \n",
       "2572                 NaN                Cosmosport           None  \n",
       "7081   Gold World Stars                         NaN          None  \n",
       "12780                NaN  BoaVista Consulting GmbH           None  \n",
       "24305                NaN                        NaN          None  \n",
       "26536                NaN                        NaN          None  \n",
       "27310                NaN                  no agent           None  \n",
       "28235  Gold World Stars    Soccer Features Limited           None  \n",
       "28555                NaN                        NaN          None  \n",
       "36912                NaN                        NaN          None  \n",
       "38465                NaN                        NaN          None  \n",
       "39344                NaN            A.B SOCCER LTD           None  "
      ]
     },
     "execution_count": 41,
     "metadata": {},
     "output_type": "execute_result"
    }
   ],
   "source": [
    "df[df.Fee.isnull()]"
   ]
  },
  {
   "cell_type": "markdown",
   "metadata": {},
   "source": [
    "## Transfer fee - integer amount"
   ]
  },
  {
   "cell_type": "code",
   "execution_count": 42,
   "metadata": {
    "ExecuteTime": {
     "end_time": "2017-12-04T15:14:45.255010Z",
     "start_time": "2017-12-04T15:14:41.853496Z"
    }
   },
   "outputs": [],
   "source": [
    "df[\"Transfer Value\"] = 0\n",
    "\n",
    "for fee in df[df['Transfer Type'] == 'transfer']['Fee'].unique():\n",
    "    if \" Mill\" in fee:\n",
    "        value = float(fee.split(\" Mill\")[0].replace(',','.'))*1000000\n",
    "    \n",
    "    if \" Th.\" in fee:\n",
    "        value = float(fee.split(\" Th\")[0].replace(',','.'))*1000\n",
    "    \n",
    "    if \"1 €\" == fee:\n",
    "        value = 1\n",
    "        \n",
    "    df.loc[df['Fee']==fee, 'Transfer Value'] = value"
   ]
  },
  {
   "cell_type": "markdown",
   "metadata": {},
   "source": [
    "# Build Network\n",
    "\n",
    "Now that we have build our dataset, we can create the Network of transfers. \n",
    "\n",
    "The network will be composed of:\n",
    "\n",
    "- **Nodes**: Each club is represented in a node. Each node stores the `Competition` in which its club is registered.\n",
    "- **Edges**: Each transfer is represented by an edge. Edges are directed: the edge goes from the selling to the buying club (`From club` to `To club`). Each edge contains information about the transfer, such as the player name, managers infos, transfer type, value, ... . Note that there might be multiple edges between two nodes, so we will deal with a **Multi Directed Graph**."
   ]
  },
  {
   "cell_type": "code",
   "execution_count": 43,
   "metadata": {
    "ExecuteTime": {
     "end_time": "2017-12-04T15:14:45.259307Z",
     "start_time": "2017-12-04T15:14:45.256816Z"
    }
   },
   "outputs": [],
   "source": [
    "G = nx.MultiDiGraph()"
   ]
  },
  {
   "cell_type": "markdown",
   "metadata": {},
   "source": [
    "## Nodes\n",
    "\n",
    "Nodes are clubs"
   ]
  },
  {
   "cell_type": "code",
   "execution_count": 44,
   "metadata": {
    "ExecuteTime": {
     "end_time": "2017-12-04T15:14:45.271453Z",
     "start_time": "2017-12-04T15:14:45.260811Z"
    }
   },
   "outputs": [],
   "source": [
    "fc = df[\"From club\"].unique()\n",
    "tc = df[\"To club\"].unique()\n",
    "all_clubs = list(set(np.concatenate((fc,tc))))"
   ]
  },
  {
   "cell_type": "code",
   "execution_count": 45,
   "metadata": {
    "ExecuteTime": {
     "end_time": "2017-12-04T15:15:13.714161Z",
     "start_time": "2017-12-04T15:14:45.273636Z"
    },
    "scrolled": true
   },
   "outputs": [],
   "source": [
    "for c in log_progress(all_clubs, every=1):\n",
    "    clubs = df[df[\"From club\"]==c]\n",
    "    \n",
    "    if len(clubs)==0:\n",
    "        clubs = df[df[\"To club\"]==c]\n",
    "        competition = clubs[:1][\"To competition\"].values[0]\n",
    "    else:\n",
    "        competition = clubs[:1][\"From competition\"].values[0]\n",
    "    \n",
    "    G.add_node(c, competition=competition)"
   ]
  },
  {
   "cell_type": "markdown",
   "metadata": {},
   "source": [
    "## Edges"
   ]
  },
  {
   "cell_type": "code",
   "execution_count": 46,
   "metadata": {
    "ExecuteTime": {
     "end_time": "2017-12-04T15:15:26.528242Z",
     "start_time": "2017-12-04T15:15:13.716497Z"
    }
   },
   "outputs": [],
   "source": [
    "for tranfer in log_progress(df.iterrows(), every=10):\n",
    "    data = tranfer[1]\n",
    "    from_club = data[\"From club\"]\n",
    "    to_club = data[\"To club\"]\n",
    "    \n",
    "    player = data[\"Player Name\"]\n",
    "    player_position = data[\"Player position\"]\n",
    "    player_age = data[\"Age\"]\n",
    "    player_agent = data[\"Player Agent\"]\n",
    "    \n",
    "    transfer_type = data[\"Transfer Type\"]\n",
    "    transfer_value = data[\"Transfer Value\"]\n",
    "    \n",
    "    from_manager = data[\"From manager\"]\n",
    "    from_manager_agent = data[\"From manager agent\"]\n",
    "    to_manager = data[\"To manager\"]\n",
    "    to_manager_agent = data[\"To manager agent\"]\n",
    "    \n",
    "    G.add_edge(from_club, str(to_club),\n",
    "                  player = str(player),\n",
    "                  playerPosition = str(player_position),\n",
    "                  playerAge = str(player_age),\n",
    "                  transferType = str(transfer_type),\n",
    "                  transferValue = str(transfer_value),\n",
    "                  fromManager = str(from_manager),\n",
    "                  fromManagerAgent = str(from_manager_agent),\n",
    "                  toManager = str(to_manager),\n",
    "                  toManagerAgent = str(to_manager_agent)\n",
    "              )"
   ]
  },
  {
   "cell_type": "markdown",
   "metadata": {},
   "source": [
    "## Network"
   ]
  },
  {
   "cell_type": "code",
   "execution_count": 47,
   "metadata": {
    "ExecuteTime": {
     "end_time": "2017-12-04T15:15:26.621457Z",
     "start_time": "2017-12-04T15:15:26.531830Z"
    }
   },
   "outputs": [
    {
     "name": "stdout",
     "output_type": "stream",
     "text": [
      "Name: \n",
      "Type: MultiDiGraph\n",
      "Number of nodes: 3904\n",
      "Number of edges: 44778\n",
      "Average in degree:  11.4698\n",
      "Average out degree:  11.4698\n"
     ]
    }
   ],
   "source": [
    "print(nx.info(G))"
   ]
  },
  {
   "cell_type": "markdown",
   "metadata": {},
   "source": [
    "## Export"
   ]
  },
  {
   "cell_type": "code",
   "execution_count": 48,
   "metadata": {
    "ExecuteTime": {
     "end_time": "2017-12-04T15:15:29.721216Z",
     "start_time": "2017-12-04T15:15:26.623675Z"
    }
   },
   "outputs": [],
   "source": [
    "nx.write_gml(G, \"networks/all_transfers_network.gml\")"
   ]
  },
  {
   "cell_type": "markdown",
   "metadata": {},
   "source": [
    "## Build Network for each transfer type"
   ]
  },
  {
   "cell_type": "code",
   "execution_count": 49,
   "metadata": {
    "ExecuteTime": {
     "end_time": "2017-12-04T15:16:25.772994Z",
     "start_time": "2017-12-04T15:15:29.723325Z"
    }
   },
   "outputs": [
    {
     "name": "stdout",
     "output_type": "stream",
     "text": [
      "Name: loan\n",
      "Type: MultiDiGraph\n",
      "Number of nodes: 2664\n",
      "Number of edges: 10773\n",
      "Average in degree:   4.0439\n",
      "Average out degree:   4.0439\n",
      "\n",
      "Name: swap\n",
      "Type: MultiDiGraph\n",
      "Number of nodes: 76\n",
      "Number of edges: 87\n",
      "Average in degree:   1.1447\n",
      "Average out degree:   1.1447\n",
      "\n",
      "Name: transfer\n",
      "Type: MultiDiGraph\n",
      "Number of nodes: 1124\n",
      "Number of edges: 2913\n",
      "Average in degree:   2.5916\n",
      "Average out degree:   2.5916\n",
      "\n",
      "Name: free\n",
      "Type: MultiDiGraph\n",
      "Number of nodes: 3851\n",
      "Number of edges: 30994\n",
      "Average in degree:   8.0483\n",
      "Average out degree:   8.0483\n",
      "\n"
     ]
    }
   ],
   "source": [
    "for transferType in [\"loan\", \"swap\", \"transfer\", \"free\"]:\n",
    "\n",
    "    new_g = nx.MultiDiGraph()\n",
    "    new_g.name = transferType\n",
    "    \n",
    "    for n1,n2,e in G.edges(data=True):\n",
    "        if e[\"transferType\"] == transferType:\n",
    "            new_g.add_nodes_from(G.subgraph([n1,n2]).nodes(data=True))\n",
    "            new_g.add_edge(n1, n2, \n",
    "                          player = e['player'],\n",
    "                          playerPosition = e['playerPosition'],\n",
    "                          playerAge = e['playerAge'],\n",
    "                          transferType = e['transferType'],\n",
    "                          transferValue = e['transferValue'],\n",
    "                          fromManager = e['fromManager'],\n",
    "                          fromManagerAgent = e['fromManagerAgent'],\n",
    "                          toManager = e['toManager'],\n",
    "                          toManagerAgent = e['toManagerAgent'])\n",
    "    \n",
    "    print(nx.info(new_g))\n",
    "    nx.write_gml(new_g, \"networks/transfers_{0}_network.gml\".format(transferType))\n",
    "    print()"
   ]
  }
 ],
 "metadata": {
  "kernelspec": {
   "display_name": "Python 3",
   "language": "python",
   "name": "python3"
  },
  "language_info": {
   "codemirror_mode": {
    "name": "ipython",
    "version": 3
   },
   "file_extension": ".py",
   "mimetype": "text/x-python",
   "name": "python",
   "nbconvert_exporter": "python",
   "pygments_lexer": "ipython3",
   "version": "3.6.0"
  },
  "toc": {
   "nav_menu": {
    "height": "277px",
    "width": "208px"
   },
   "number_sections": true,
   "sideBar": true,
   "skip_h1_title": false,
   "toc_cell": true,
   "toc_position": {
    "height": "1114px",
    "left": "0px",
    "right": "2132.67px",
    "top": "111px",
    "width": "214px"
   },
   "toc_section_display": "block",
   "toc_window_display": false
  }
 },
 "nbformat": 4,
 "nbformat_minor": 2
}
