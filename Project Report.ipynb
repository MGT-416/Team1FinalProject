{
 "cells": [
  {
   "cell_type": "markdown",
   "metadata": {},
   "source": [
    "# Abstract"
   ]
  },
  {
   "cell_type": "markdown",
   "metadata": {},
   "source": [
    "For this project, we want to analyze football transfers. The data to build our network is web scraped from [`transfermarkt.com`](https://www.transfermarkt.com/), a football-specialized website. This website records all transfers between clubs all around the world, from major leagues to less-popular ones. The data does not concern only the first-level leagues, but also second and inferior divisions. Due to the great granularity of the data stored in this website, our analysis will only take into account all transfers from the 1st January 2015 to the 31 December 2016.\n",
    "\n",
    "Our network is composed of football clubs. Each node represents a club who participate in at least one transfer between the two years of interest. A transfer between two clubs is encapsulated as an edge.\n",
    "\n",
    "A first step in this project will be to analyze the differences between the major three types of transfers: Free transfers, loans, and monetary transfers. Each type of transfers has its own specificities, regarding the type of clubs or the characteristics of players. In a second phase, we will look more deeply in the monetary transfers network and the way money flows in this market.\n",
    "\n",
    "Our project shows that the difference between bla bla bla **TODO**"
   ]
  },
  {
   "cell_type": "markdown",
   "metadata": {},
   "source": [
    "> **Tip**: For a better experience reading this notebook, we advice you, dear reader, to open it with [nbviewer](https://nbviewer.jupyter.org/github/MGT-416/Team1FinalProject/blob/master/Project%20Report.ipynb#Introduction)"
   ]
  },
  {
   "cell_type": "markdown",
   "metadata": {
    "toc": true
   },
   "source": [
    "<h1>Table of Contents<span class=\"tocSkip\"></span></h1>\n",
    "<div class=\"toc\" style=\"margin-top: 1em;\"><ul class=\"toc-item\"><li><span><a href=\"#Abstract\" data-toc-modified-id=\"Abstract-1\"><span class=\"toc-item-num\">1&nbsp;&nbsp;</span>Abstract</a></span></li><li><span><a href=\"#Introduction\" data-toc-modified-id=\"Introduction-2\"><span class=\"toc-item-num\">2&nbsp;&nbsp;</span>Introduction</a></span></li><li><span><a href=\"#Data-Acquisition-and-Preparation\" data-toc-modified-id=\"Data-Acquisition-and-Preparation-3\"><span class=\"toc-item-num\">3&nbsp;&nbsp;</span>Data Acquisition and Preparation</a></span></li><li><span><a href=\"#Overview-of-Analysis\" data-toc-modified-id=\"Overview-of-Analysis-4\"><span class=\"toc-item-num\">4&nbsp;&nbsp;</span>Overview of Analysis</a></span></li><li><span><a href=\"#Analysis\" data-toc-modified-id=\"Analysis-5\"><span class=\"toc-item-num\">5&nbsp;&nbsp;</span>Analysis</a></span><ul class=\"toc-item\"><li><span><a href=\"#Centralities-analysis\" data-toc-modified-id=\"Centralities-analysis-5.1\"><span class=\"toc-item-num\">5.1&nbsp;&nbsp;</span>Centralities analysis</a></span><ul class=\"toc-item\"><li><span><a href=\"#Centralities-analysis---Club-Level\" data-toc-modified-id=\"Centralities-analysis---Club-Level-5.1.1\"><span class=\"toc-item-num\">5.1.1&nbsp;&nbsp;</span>Centralities analysis - Club Level</a></span></li><li><span><a href=\"#Centralities-analysis---League-Level\" data-toc-modified-id=\"Centralities-analysis---League-Level-5.1.2\"><span class=\"toc-item-num\">5.1.2&nbsp;&nbsp;</span>Centralities analysis - League Level</a></span></li></ul></li><li><span><a href=\"#Communities\" data-toc-modified-id=\"Communities-5.2\"><span class=\"toc-item-num\">5.2&nbsp;&nbsp;</span>Communities</a></span></li><li><span><a href=\"#ARTEM\" data-toc-modified-id=\"ARTEM-5.3\"><span class=\"toc-item-num\">5.3&nbsp;&nbsp;</span>ARTEM</a></span></li><li><span><a href=\"#HUGO\" data-toc-modified-id=\"HUGO-5.4\"><span class=\"toc-item-num\">5.4&nbsp;&nbsp;</span>HUGO</a></span></li></ul></li><li><span><a href=\"#Discussion\" data-toc-modified-id=\"Discussion-6\"><span class=\"toc-item-num\">6&nbsp;&nbsp;</span>Discussion</a></span></li><li><span><a href=\"#Conclusion\" data-toc-modified-id=\"Conclusion-7\"><span class=\"toc-item-num\">7&nbsp;&nbsp;</span>Conclusion</a></span></li><li><span><a href=\"#Appendix:-Project-Structure\" data-toc-modified-id=\"Appendix:-Project-Structure-8\"><span class=\"toc-item-num\">8&nbsp;&nbsp;</span>Appendix: Project Structure</a></span></li></ul></div>"
   ]
  },
  {
   "cell_type": "markdown",
   "metadata": {},
   "source": [
    "# Introduction"
   ]
  },
  {
   "cell_type": "markdown",
   "metadata": {},
   "source": [
    "Football is the probably the most popular sport in the world. It also one of the sports with the most money flowing around it. With all the financial stakes involved in football, the transfer market is a key moment in a club's sporting and marketing success. In the football transfer market, each club can hire players. If a player already has a contract with another club, both clubs can find a financial agreement for the player leaving a club, the selling club, to join a new team, the buying club. This is what we call **monetary transfers** in this project. Another possibility for a club, or team, to sign a new player is to sign it for free, when the player has no current contract. This is referred to as **free transfer**. Another type of transfer possible is the **loan**, when a player, with a contract with a club, joins a new team for a pre-defined amount of time, negotiated between the two clubs.\n",
    "\n",
    "In this project, we model the football transfer market as a network. Each node represents a club. All nodes have an attribute: the league the club is part. A transfer between two clubs is encapsulated as an edge. As for the nodes, each edge stores information about its transfer, like player or clubs characteristics. When a player leaves club A and sign a new contract with club B, this is represented as a directed edge, from club A to club B. Note that two players might leave club A and join club B: this is represented with two directed edges, from club A node to club B node. Thus, this project will deal with a **Multi Directed Network**.\n",
    "\n",
    "The question we want to answer with this data is: Does the monetary transfers have the same characteristics as the loans on the free transfers? What is the kind of clubs participating in these type of transfers? What are the differences between clubs doing a lot of monetary transfers and the clubs doing loans? What are the interactions between clubs of the same country? Of the same league division? We will also look at the players and try to create a player's profile for each type of transfers. We will also look exclusively at the monetary transfers and try to understand how the money flows between clubs, which are the *key* clubs in this network, which clubs have the more effect on the amount of money involving transfers?\n",
    "\n",
    "To answer these questions, we will mainly rely on centralities measures, like the degree centrality or the PageRank centrality. Diffusion models will also be a key part of our analysis of monetary transfers."
   ]
  },
  {
   "cell_type": "markdown",
   "metadata": {},
   "source": [
    "# Data Acquisition and Preparation"
   ]
  },
  {
   "cell_type": "markdown",
   "metadata": {},
   "source": [
    "> The notebook with the code detailed in this section is **`1. Buid Data`** into our github repository."
   ]
  },
  {
   "cell_type": "markdown",
   "metadata": {},
   "source": [
    "Our analysis will be based on the data available on [Transfer Mart](https://www.transfermarkt.com/), one of the most complete open platform about Football data. This website is often used by journalists to estimate the monetary value of a player in the transfer market. Regarding, our project and the analysis we wish to do, the website most important features is its transfers history. Almost all transfers happening in the football world, from the one involving millions of millions to the ones between two small clubs playing in a small division of eastern Europe, are recorded and categorized. \n",
    "\n",
    "For example, if someone wants to know all transfers that were made on the 12th of August 2015, the website has this information accessible at [https://www.transfermarkt.com/transfers/transfertagedetail/statistik/top/land_id_zu/0/land_id_ab/0/leihe//datum/2015-08-12/page/1](https://www.transfermarkt.com/transfers/transfertagedetail/statistik/top/land_id_zu/0/land_id_ab/0/leihe//datum/2015-08-12/page/1). Within this URL, three things need to be stated:\n",
    "\n",
    "- Once the page is open, we can see that all transfers are organized into an array, with information about the player, the selling club, the buying club and the transfer's type, among all other information. We can also notice that the player and clubs are represented with a *hyperlink* attached to it, enabling us to have the URL will all other information for a player or a club.\n",
    "- The date is present just after **datum** in the URL, in format *year-month-day*. To get the data for transfers between 2015 and 2016, we will use this URL with the appropriate date.\n",
    "- For a given day, it might have been a lot of transfers. The website only shows 25 transfers per HTML page, but we can iterate through all pages with the last component of the URL."
   ]
  },
  {
   "cell_type": "markdown",
   "metadata": {
    "ExecuteTime": {
     "end_time": "2017-12-17T18:39:21.735199Z",
     "start_time": "2017-12-17T18:39:21.689217Z"
    }
   },
   "source": [
    "For each transfer, the website stores a lot of information, from the player's name to the selling club director. Only a subset of those records are of interest for our project:\n",
    "\n",
    "- Player attributes:\n",
    "    - **Player Name**: Name of the player\n",
    "    - **Player Link**: *Transfermarkt** URL for the player's profile\n",
    "    - **Player position**: Position of the player\n",
    "    - **Age**: Age of the player at the time of the transfer\n",
    "\n",
    "\n",
    "- Transfer money:\n",
    "    - **Fee**: Monetary value, if any, of the transfer\n",
    "    - **Market value**: Theoretical value of the player, computed by Transfermarkt.com\n",
    "\n",
    "- Clubs\n",
    "    - **From club**: Club/Team that the player leaves\n",
    "    - **To club**: Club/Team that the player joins.\n",
    "    - **From manager**: Manager of the club that the player leaves.\n",
    "    - **To manager**: Manager of the club that the player joins.\n",
    "    - **From manager link**: Transfermarkt** URL for the manager of the club that the player leaves.\n",
    "    - **To manager link**: Transfermarkt** URL for the manager of the club that the player joins.\n",
    "    \n",
    "    \n",
    "- Competitions\n",
    "    - **From competition**: Competition/League where the `from club` participates in\n",
    "    - **To competition**: Competition/League where the `to club`  participates in"
   ]
  },
  {
   "cell_type": "markdown",
   "metadata": {},
   "source": [
    "**Web scraping strategy**:\n",
    "- `Transfermarkt.com` has an URL for each transfers occurring at a specific date.\n",
    "- The transfers happening on a specific day can be spread across multiple pages.\n",
    "- For each transfer, a detailed version - containing the information we are interested in - is available through a link.\n",
    "- Create one csv file per day. At the end, merge all csv files into one (so if an error occurs, no need to start everything)\n",
    "- All transfers happening in **2015** and **2016** will be retrieved."
   ]
  },
  {
   "cell_type": "markdown",
   "metadata": {},
   "source": [
    "Once retrieved, all *.csv* files will be merged into a single one and feed to **Pandas** to build a Dataframe. The data looks like:"
   ]
  },
  {
   "cell_type": "code",
   "execution_count": 4,
   "metadata": {
    "ExecuteTime": {
     "end_time": "2017-12-17T18:42:51.619136Z",
     "start_time": "2017-12-17T18:42:51.313581Z"
    }
   },
   "outputs": [
    {
     "data": {
      "text/html": [
       "<div>\n",
       "<style>\n",
       "    .dataframe thead tr:only-child th {\n",
       "        text-align: right;\n",
       "    }\n",
       "\n",
       "    .dataframe thead th {\n",
       "        text-align: left;\n",
       "    }\n",
       "\n",
       "    .dataframe tbody tr th {\n",
       "        vertical-align: top;\n",
       "    }\n",
       "</style>\n",
       "<table border=\"1\" class=\"dataframe\">\n",
       "  <thead>\n",
       "    <tr style=\"text-align: right;\">\n",
       "      <th></th>\n",
       "      <th>Player Name</th>\n",
       "      <th>Player Link</th>\n",
       "      <th>Player position</th>\n",
       "      <th>From club</th>\n",
       "      <th>To club</th>\n",
       "      <th>From competition</th>\n",
       "      <th>To competition</th>\n",
       "      <th>From manager</th>\n",
       "      <th>From manager link</th>\n",
       "      <th>To manager</th>\n",
       "      <th>To manager link</th>\n",
       "      <th>Market value</th>\n",
       "      <th>Fee</th>\n",
       "      <th>Age</th>\n",
       "      <th>From manager agent</th>\n",
       "      <th>To manager agent</th>\n",
       "      <th>Player Agent</th>\n",
       "    </tr>\n",
       "  </thead>\n",
       "  <tbody>\n",
       "    <tr>\n",
       "      <th>17432</th>\n",
       "      <td>chris-kettings</td>\n",
       "      <td>/chris-kettings/profil/spieler/177953</td>\n",
       "      <td>Keeper</td>\n",
       "      <td>Crystal Palace</td>\n",
       "      <td>Stevenage FC</td>\n",
       "      <td>Premier League</td>\n",
       "      <td>League Two</td>\n",
       "      <td>Alan Pardew</td>\n",
       "      <td>/alan-pardew/profil/trainer/1988</td>\n",
       "      <td>Teddy Sheringham</td>\n",
       "      <td>/teddy-sheringham/profil/trainer/37240</td>\n",
       "      <td>250 Th. €</td>\n",
       "      <td>Loan</td>\n",
       "      <td>22 years 09 months 20 days</td>\n",
       "      <td>NaN</td>\n",
       "      <td>NaN</td>\n",
       "      <td>NaN</td>\n",
       "    </tr>\n",
       "    <tr>\n",
       "      <th>18784</th>\n",
       "      <td>yonathan-del-valle</td>\n",
       "      <td>/yonathan-del-valle/profil/spieler/72643</td>\n",
       "      <td>Right Wing</td>\n",
       "      <td>Rio Ave FC</td>\n",
       "      <td>Kasimpasa</td>\n",
       "      <td>Primeira Liga</td>\n",
       "      <td>Süper Lig</td>\n",
       "      <td>Pedro Martins</td>\n",
       "      <td>/pedro-martins/profil/trainer/16027</td>\n",
       "      <td>Riza Calimbay</td>\n",
       "      <td>/riza-calimbay/profil/trainer/789</td>\n",
       "      <td>1,80 Mill. €</td>\n",
       "      <td>Loan</td>\n",
       "      <td>25 years 02 months 06 days</td>\n",
       "      <td>NaN</td>\n",
       "      <td>NaN</td>\n",
       "      <td>TGC - Sports Management, Events &amp; Trading</td>\n",
       "    </tr>\n",
       "    <tr>\n",
       "      <th>3666</th>\n",
       "      <td>kevin-van-veen</td>\n",
       "      <td>/kevin-van-veen/profil/spieler/159894</td>\n",
       "      <td>Centre-Forward</td>\n",
       "      <td>FC Oss</td>\n",
       "      <td>Scunthorpe Utd.</td>\n",
       "      <td>Jupiler League</td>\n",
       "      <td>League One</td>\n",
       "      <td>Wil Boessen</td>\n",
       "      <td>/wil-boessen/profil/trainer/2199</td>\n",
       "      <td>Mark Robins</td>\n",
       "      <td>/mark-robins/profil/trainer/1569</td>\n",
       "      <td>250 Th. €</td>\n",
       "      <td>300 Th. €</td>\n",
       "      <td>23 years 07 months 29 days</td>\n",
       "      <td>NaN</td>\n",
       "      <td>NaN</td>\n",
       "      <td>Futuralis Football Group</td>\n",
       "    </tr>\n",
       "    <tr>\n",
       "      <th>4297</th>\n",
       "      <td>kosuke-nakamura</td>\n",
       "      <td>/kosuke-nakamura/profil/spieler/165794</td>\n",
       "      <td>Keeper</td>\n",
       "      <td>Kashiwa Reysol</td>\n",
       "      <td>Avispa Fukuoka</td>\n",
       "      <td>J. League Division 1 – Second Stage</td>\n",
       "      <td>J. League Division 2</td>\n",
       "      <td>Tatsuma Yoshida</td>\n",
       "      <td>/tatsuma-yoshida/profil/trainer/38838</td>\n",
       "      <td>Masami Ihara</td>\n",
       "      <td>/masami-ihara/profil/trainer/10924</td>\n",
       "      <td>50 Th. €</td>\n",
       "      <td>Loan</td>\n",
       "      <td>19 years 10 months 11 days</td>\n",
       "      <td>NaN</td>\n",
       "      <td>NaN</td>\n",
       "      <td>NaN</td>\n",
       "    </tr>\n",
       "    <tr>\n",
       "      <th>33464</th>\n",
       "      <td>alex-sirri</td>\n",
       "      <td>/alex-sirri/profil/spieler/132688</td>\n",
       "      <td>Centre-Back</td>\n",
       "      <td>Alessandria</td>\n",
       "      <td>Arezzo</td>\n",
       "      <td>Prima Divisione - A</td>\n",
       "      <td>Prima Divisione - A</td>\n",
       "      <td>Angelo Gregucci</td>\n",
       "      <td>/angelo-gregucci/profil/trainer/2130</td>\n",
       "      <td>Stefano Sottili</td>\n",
       "      <td>/stefano-sottili/profil/trainer/19861</td>\n",
       "      <td>125 Th. €</td>\n",
       "      <td>?</td>\n",
       "      <td>24 years 09 months 19 days</td>\n",
       "      <td>NaN</td>\n",
       "      <td>NaN</td>\n",
       "      <td>Italian Managers Group s.r.l.</td>\n",
       "    </tr>\n",
       "  </tbody>\n",
       "</table>\n",
       "</div>"
      ],
      "text/plain": [
       "              Player Name                               Player Link  \\\n",
       "17432      chris-kettings     /chris-kettings/profil/spieler/177953   \n",
       "18784  yonathan-del-valle  /yonathan-del-valle/profil/spieler/72643   \n",
       "3666       kevin-van-veen     /kevin-van-veen/profil/spieler/159894   \n",
       "4297      kosuke-nakamura    /kosuke-nakamura/profil/spieler/165794   \n",
       "33464          alex-sirri         /alex-sirri/profil/spieler/132688   \n",
       "\n",
       "                                  Player position       From club  \\\n",
       "17432          Keeper                              Crystal Palace   \n",
       "18784      Right Wing                                  Rio Ave FC   \n",
       "3666   Centre-Forward                                      FC Oss   \n",
       "4297           Keeper                              Kashiwa Reysol   \n",
       "33464     Centre-Back                                 Alessandria   \n",
       "\n",
       "               To club                     From competition  \\\n",
       "17432     Stevenage FC                       Premier League   \n",
       "18784        Kasimpasa                        Primeira Liga   \n",
       "3666   Scunthorpe Utd.                       Jupiler League   \n",
       "4297    Avispa Fukuoka  J. League Division 1 – Second Stage   \n",
       "33464           Arezzo                  Prima Divisione - A   \n",
       "\n",
       "             To competition     From manager  \\\n",
       "17432            League Two      Alan Pardew   \n",
       "18784             Süper Lig    Pedro Martins   \n",
       "3666             League One      Wil Boessen   \n",
       "4297   J. League Division 2  Tatsuma Yoshida   \n",
       "33464   Prima Divisione - A  Angelo Gregucci   \n",
       "\n",
       "                           From manager link        To manager  \\\n",
       "17432       /alan-pardew/profil/trainer/1988  Teddy Sheringham   \n",
       "18784    /pedro-martins/profil/trainer/16027     Riza Calimbay   \n",
       "3666        /wil-boessen/profil/trainer/2199       Mark Robins   \n",
       "4297   /tatsuma-yoshida/profil/trainer/38838      Masami Ihara   \n",
       "33464   /angelo-gregucci/profil/trainer/2130   Stefano Sottili   \n",
       "\n",
       "                              To manager link  Market value        Fee  \\\n",
       "17432  /teddy-sheringham/profil/trainer/37240     250 Th. €       Loan   \n",
       "18784       /riza-calimbay/profil/trainer/789  1,80 Mill. €       Loan   \n",
       "3666         /mark-robins/profil/trainer/1569     250 Th. €  300 Th. €   \n",
       "4297       /masami-ihara/profil/trainer/10924      50 Th. €       Loan   \n",
       "33464   /stefano-sottili/profil/trainer/19861     125 Th. €          ?   \n",
       "\n",
       "                               Age From manager agent To manager agent  \\\n",
       "17432  22 years 09 months 20 days                 NaN              NaN   \n",
       "18784  25 years 02 months 06 days                 NaN              NaN   \n",
       "3666   23 years 07 months 29 days                 NaN              NaN   \n",
       "4297   19 years 10 months 11 days                 NaN              NaN   \n",
       "33464  24 years 09 months 19 days                 NaN              NaN   \n",
       "\n",
       "                                     Player Agent  \n",
       "17432                                         NaN  \n",
       "18784  TGC - Sports Management, Events & Trading   \n",
       "3666                    Futuralis Football Group   \n",
       "4297                                          NaN  \n",
       "33464              Italian Managers Group s.r.l.   "
      ]
     },
     "execution_count": 4,
     "metadata": {},
     "output_type": "execute_result"
    }
   ],
   "source": [
    "import pandas as pd\n",
    "\n",
    "df = pd.read_csv(\"data/data.csv\", index_col=0)\n",
    "df.sample(5)"
   ]
  },
  {
   "cell_type": "markdown",
   "metadata": {},
   "source": [
    "This data needs to be modified a bit in order to use it perfectly for our analyses:\n",
    "- Create the **transfer type**: As stated above, there is not a unique type of transfers in the football market. The website stores the type of a transfer, but all under the same column and with several and different formats. Based on all possible entries for the **transfer fee** column in *Transfermarkt.com*, we create **four types** of transfers: **Free**, **loan**, **swap** and monetary **transfer**. Note that the *swap* transfers will be discarded due to the small amount of transfers.\n",
    "- For the monetary type and the loans, some money might have been involved in the transfer. This information is also stored under the **transfer fee** column in *Transfermatk.com*. The fee specified will be extracted and stored in a new column in our data under the *integer* type.\n",
    "- During the web scraping phase, whitespaces have been appended with **player position** data. Those need to be removed.\n",
    "- The each of the player is stored as a string, with multiple formats: sometimes with the year, month and day information (*21 years 09 months 04 days*) or sometimes only with the years and month (*31 years and 01 months*). The age will be converted into a single float variable, stored into a new column."
   ]
  },
  {
   "cell_type": "markdown",
   "metadata": {},
   "source": [
    "Finally, the data is ready to be used for creating networks. **Five networks** are created:\n",
    "- All transfers\n",
    "- Only monetary transfers\n",
    "- Only loans\n",
    "- Only free transfers\n",
    "- Only swap transfers\n",
    "\n",
    "All networks are **Multi Directed Graph**. Below is the output of NetworkX's function *info*:\n",
    "\n",
    "> Name: loan<br/>\n",
    "> Type: MultiDiGraph<br/>\n",
    "> Number of nodes: 2664<br/>\n",
    "> Number of edges: 10773<br/>\n",
    "> Average in degree:   4.0439<br/>\n",
    "> Average out degree:   4.0439<br/>\n",
    "\n",
    "> Name: swap<br/>\n",
    "> Type: MultiDiGraph<br/>\n",
    "> Number of nodes: 76<br/>\n",
    "> Number of edges: 87<br/>\n",
    "> Average in degree:   1.1447<br/>\n",
    "> Average out degree:   1.1447<br/>\n",
    "\n",
    "> Name: transfer<br/>\n",
    "> Type: MultiDiGraph<br/>\n",
    "> Number of nodes: 1124<br/>\n",
    "> Number of edges: 2913<br/>\n",
    "> Average in degree:   2.5916<br/>\n",
    "> Average out degree:   2.5916<br/>\n",
    "\n",
    "> Name: free<br/>\n",
    "> Type: MultiDiGraph<br/>\n",
    "> Number of nodes: 3851<br/>\n",
    "> Number of edges: 30994<br/>\n",
    "> Average in degree:   8.0483<br/>\n",
    "> Average out degree:   8.0483<br/>"
   ]
  },
  {
   "cell_type": "markdown",
   "metadata": {},
   "source": [
    "# Overview of Analysis"
   ]
  },
  {
   "cell_type": "code",
   "execution_count": null,
   "metadata": {},
   "outputs": [],
   "source": []
  },
  {
   "cell_type": "markdown",
   "metadata": {},
   "source": [
    "# Analysis"
   ]
  },
  {
   "cell_type": "code",
   "execution_count": 11,
   "metadata": {
    "ExecuteTime": {
     "end_time": "2017-12-17T20:18:04.707519Z",
     "start_time": "2017-12-17T20:18:04.393931Z"
    }
   },
   "outputs": [],
   "source": [
    "import networkx as nx"
   ]
  },
  {
   "cell_type": "code",
   "execution_count": 12,
   "metadata": {
    "ExecuteTime": {
     "end_time": "2017-12-17T20:18:14.110892Z",
     "start_time": "2017-12-17T20:18:05.413471Z"
    }
   },
   "outputs": [],
   "source": [
    "G_monetary  = nx.read_gml(\"networks/transfers_transfer_network.gml\")\n",
    "G_loans     = nx.read_gml(\"networks/transfers_loan_network.gml\")\n",
    "G_free      = nx.read_gml(\"networks/transfers_free_network.gml\")"
   ]
  },
  {
   "cell_type": "markdown",
   "metadata": {},
   "source": [
    "## Centralities analysis\n",
    "\n",
    "In a first touch with the data, we want to compute some centralities measures and understand the differences betwenn the three types of transfers for each measures. \n",
    "\n",
    "Please refer to the notebook **`Transfers vs Loan vs Free`** for the complete code. Below, only the findings are presented."
   ]
  },
  {
   "cell_type": "markdown",
   "metadata": {},
   "source": [
    "### Centralities analysis - Club Level"
   ]
  },
  {
   "cell_type": "markdown",
   "metadata": {},
   "source": [
    "**In-degree**\n",
    "\n",
    "The **in-degree** centrality deals with the number of new players clubs acquire. In the **monetary transfers**, we can see clubs from primary leagues, with centralities values close one to the others. The **free** and **loan** network versions have top-ranked club less popular, from inferior divisions leagues. This is a first step in confirming the above assumption: popular clubs with money, which are fewer, participate in less transfers and in the vast majority of the monetary ones."
   ]
  },
  {
   "cell_type": "markdown",
   "metadata": {
    "ExecuteTime": {
     "end_time": "2017-12-17T20:01:06.152111Z",
     "start_time": "2017-12-17T20:01:06.120221Z"
    }
   },
   "source": [
    "**Out-degree**\n",
    "\n",
    "- we can see again that popular clubs are the owns *selling* the most players. \n",
    "- The **free** ranking is a bit different, compare to the *in-degree* version. There is almost only clubs from primary divisions. One assumption could be that players in the final phase of their careers leave a mid-table club for free and return to their home country league. It will be interesting to compare those findings with the ones taking player's age into account.\n",
    "- The **loan** version contains clubs exclusively from primary divisions. This makes sens, as top clubs have the habit to buy young and promising players and directly \"send\" them to less stressful teams in order to win experiences. This ranking is composed a lot of italian clubs and the club leading this ranking is **Juventus**, the previous winner of the primary italian division. We can note that in the **in-degree** version, the *loan* ranking was also composed of a lot of italian clubs, but this time from inferior divisions. One possible explanation is that clubs from primary division \"send\" their young players to teams playing in the secondary and tertiary italian divisions.\n",
    "\n",
    "> **Interesting fact**: In the **free** ranking, the club **Parma** appears first, with a centrality value 60% higher than the second one. Why ? Because this football club had has financial troubles and had to declare bankruptcy in 2015. Thus a lot of player left the club for free.\n",
    "    \n",
    "> **Interesting fact #2**: As pointed out previously, there is a lot of italian clubs in the **loan** rankings, both in and out degree versions. This might be a cultural thing: in Italy, some clubs have a reputation of being **farm clubs** club. taking young players on loan from bigger teams. Why in Italy mainly ? Because the italian rules allow italian clubs [to *co-own* players](http://www.bbc.com/sport/football/34125476)."
   ]
  },
  {
   "cell_type": "markdown",
   "metadata": {},
   "source": [
    "**Closeness**\n",
    "\n",
    "As previously, one top-clubs compose the monetary transfers ranking. Those clubs are all european and mainly from England and italy. It's interesting to know that Watford, the ranking leader, was managed in 2016/2016 by an italian manager and it's now managed by a portuguese one. The closeness centralities values are pretty close one to the others.\n",
    "\n",
    "The loan ranking is interesting, as there is some portuguese clubs. Portuguese clubs are known for making transfers with south-american players, mostly Brazilian ones, wishing to have a career in Europe. Why Portugal? Because of the cultural and language proximity. Those players are then sell to higher-value european clubs, or go back at home in case of failure. Thus, founding portuguese clubs in this ranking isn't surprising.\n",
    "\n",
    "We can notice that in this centrality rankings, almost all clubs are from first division leagues.\n"
   ]
  },
  {
   "cell_type": "markdown",
   "metadata": {},
   "source": [
    "**Betwenness**\n",
    "The betweenness rankings are a bit more difficutly to make sens of. As before, we can notice that each of those has italian clubs among the top ones."
   ]
  },
  {
   "cell_type": "markdown",
   "metadata": {},
   "source": [
    "**PageRank**\n",
    "\n",
    "In the **transfer** version, weighted with the number of transfers, almost all clubs are from England, primary or secondary division mixed. But in the **free** ranking, there is no club from a first division, only *small* clubs. Interestingly, first both clubs are from Switzerland. We note the same behavior on the **loan** ranking, mainly composed of clubs from inferior divisions. This conforts our previous findings: clubs from the primary division are mainly important in the monetary transfers, but not so in the loans and free version.\n",
    "\n",
    "In the transfer version, but weighted with transfer's fees, most *famous* clubs are present. There is mainly clubs from England, with a lot of financial power, or clubs recently bought by new investors, like Paris SG and Valencia."
   ]
  },
  {
   "cell_type": "markdown",
   "metadata": {},
   "source": [
    "### Centralities analysis - League Level\n",
    "\n",
    "Perform the same centralities analysis, but this time at the league level. All clubs evolving within the same league will be merged together."
   ]
  },
  {
   "cell_type": "markdown",
   "metadata": {},
   "source": [
    "**In-degree**\n",
    "\n",
    "We first see that there is a much bigger variation in the centralities values compare to the club version.\n",
    "\n",
    "In the **transfer** ranking, the first two leagues are the primary leagues from **China** and **Turkey**. It's interesting since no clubs from those leagues were present in the club ranking version. This means that chinese and turkish clubs are pretty homogeneous in terms of transfers: there is no club that does more transfer than the others, they all follow the same transfer strategy. Clubs from the **Jupiler Pro League**, from Belgium, also have the same type of attitude. \n",
    "\n",
    "Even if the leagues in this ranking are mainly issued from primary division, two secondary division leagues are present: **Championship** is the England second division and one of the \"richest\" league in Europe, **Serie B** is from Italy and confirms a fact already observed with clubs - Italian clubs where highly active in monetary transfers last years.\n",
    "\n",
    "> Note that the network doesn't take transfer value in consideration.\n",
    "\n",
    "Among the top 3 leagues in the **loan** ranking, the primary and secondary divisions from **Spain** are present. And once again, there was no spanish club in the same ranking at club-level. Following the same analysis as for Chinese and Turkish clubs in the monetary transfers, this means that spanish clubs have a *football loan* culture, as for Italy. But the difference is that in Italy, only a subset of clubs participate in this type of transfers, where in Spain it appears that much more clubs follow the same \"loan strategy\". Similar behavior can be observer with **Portuguese** clubs (*Primeira Liga* and *Segunda Liga*)."
   ]
  },
  {
   "cell_type": "markdown",
   "metadata": {},
   "source": [
    "**Out-degree**\n",
    "Comparing the in-degree and out-degree monetary transfers ranking, we can notice that Chinese and Turkish leagues don't appear in the second one: In 2015-2016, football players go more often to those countries that they leave. This is expected, as both countries have increase football interests recently. Another expected fact: find the Brazilian primary league in this out-degree ranking. The brazilian league is present in the top-10 ranking for monetary transfers, and is at second position in the loan rankings. This must be linked directly with Spanish and Portuguese clubs in the in-degree ranking version.\n",
    "\n",
    "The german league (1. Bundesliga) in present in the top-5 of both version of the monetary transfers ranking: german top clubs seem to have less stable teams in those last years.\n",
    "\n",
    "The free versions of the in and out degree centralities are the only ones to contains leagues from eastern Europe, where there is less money flowing. But money flowing in leagues isn't the key differentiator, because the english league is present everywhere. Compare to the two other rankings, the free ones have a lot of overlap between the in and out degree version."
   ]
  },
  {
   "cell_type": "markdown",
   "metadata": {},
   "source": [
    "**Closeness**\n",
    "\n",
    "First, we can notice that the closeness centralities are all high, almost at 0.5.\n",
    "\n",
    "The monetary ranking is coherent with the in-degree ranking, with the Turkish and Chinese leagues in the top of rankings. One more time, the Championship (England) is the only secondary division league present in the monetary ranking. This clearly demonstrates the importance of this league in the transfer market. But this centrality measure also gives results more complicated to analyse: the belgium and swiss leagues appear in this ranking, quite surprisingly. Otherw§ise, the big 5 is always present: Germany, Italy, England, France and Spain.\n",
    "\n",
    "In the free transfers ranking, we can directly notice that all centralities values are pretty close one to the others. There is no league with a lot of money flowing in and out, the ranking is mainly composed of inferiors division. The fact of having such close centralities values also means that there is no outstanding or central league, they are close in a network point of view.\n",
    "\n",
    "The loan ranking also has close centralities values. We can notice, as before, the presence of the primary and secondary divisions from Spain and Portugal."
   ]
  },
  {
   "cell_type": "markdown",
   "metadata": {},
   "source": [
    "**Betweenness**\n",
    "\n",
    "All centralities values are small, but in can see as before that the **top five** plus Swiss and Belgium leagues are present in the **monetary transfers** ranking. Western Europe is really the central place for monetary transfers.\n",
    "\n",
    "As for the *closeness centrality*, the rankings for **free** and **loan** transfers are very different from the ones of in/out-degree, with a mix of inferior division and some primary ones. We can note that the **Premier League** is present everywhere."
   ]
  },
  {
   "cell_type": "markdown",
   "metadata": {},
   "source": [
    "**PageRank**\n",
    "\n",
    "The pagerank centrality for the transfer version is interesting, with the **Chinese** league being first, with a centrality value bigger than the second one. This is due to the massive offensive of chinese clubs in the transger market these last three years. Most surprisingly, the Turkish and Belgium league appear in this top 5. Below, the centralities are very close ones to the others, but we can se that a small spanish division seems important. The free and loan rankings are mainly composed of inferior division, once more asserting our assumption of popular and powerful clubs making business almost entirely with monetary transfers."
   ]
  },
  {
   "cell_type": "markdown",
   "metadata": {},
   "source": [
    "## Communities"
   ]
  },
  {
   "cell_type": "code",
   "execution_count": 16,
   "metadata": {
    "ExecuteTime": {
     "end_time": "2017-12-17T20:18:37.425349Z",
     "start_time": "2017-12-17T20:18:37.417790Z"
    }
   },
   "outputs": [],
   "source": [
    "# import the Louvain algorithm\n",
    "import community as community\n",
    "import operator"
   ]
  },
  {
   "cell_type": "markdown",
   "metadata": {},
   "source": [
    "Take only a subset of the graph: All edges where one of the two nodes is part of the main european leagues."
   ]
  },
  {
   "cell_type": "code",
   "execution_count": 17,
   "metadata": {
    "ExecuteTime": {
     "end_time": "2017-12-17T20:18:38.502424Z",
     "start_time": "2017-12-17T20:18:38.496439Z"
    }
   },
   "outputs": [],
   "source": [
    "leagues = ['Premier League', 'Championship', 'Serie A', 'Ligue 1', '1.Bundesliga', 'Primera División', 'Primeira Liga', ]"
   ]
  },
  {
   "cell_type": "code",
   "execution_count": 18,
   "metadata": {
    "ExecuteTime": {
     "end_time": "2017-12-17T20:18:40.471558Z",
     "start_time": "2017-12-17T20:18:39.435736Z"
    },
    "scrolled": false
   },
   "outputs": [
    {
     "name": "stdout",
     "output_type": "stream",
     "text": [
      "================================================ transfer ================================================\n",
      "\n",
      "The number of communities:  13\n",
      "Community 0\n",
      "\t1.   1.Bundesliga                       17   (22.37  %)\n",
      "\t2.   2.Bundesliga                       13   (17.11  %)\n",
      "\t3.   Raiffeisen Super League            6    (7.89   %)\n",
      "\t4.   3.Liga                             6    (7.89   %)\n",
      "\t5.   Bundesliga                         3    (3.95   %)\n",
      "\n",
      "Community 1\n",
      "\t1.   Ligue 1                            5    (13.16  %)\n",
      "\t2.   Campeonato Brasileiro Série A      4    (10.53  %)\n",
      "\t3.   Premier League                     3    (7.89   %)\n",
      "\t4.   Primera División                   3    (7.89   %)\n",
      "\t5.   Chinese Super League               3    (7.89   %)\n",
      "\n",
      "Community 2\n",
      "\t1.   Championship                       23   (22.12  %)\n",
      "\t2.   Premier League                     12   (11.54  %)\n",
      "\t3.   League One                         12   (11.54  %)\n",
      "\t4.   League Two                         10   (9.62   %)\n",
      "\t5.   Eredivisie                         6    (5.77   %)\n",
      "\n",
      "Community 3\n",
      "\t1.   Primera División                   13   (22.81  %)\n",
      "\t2.   Segunda División                   8    (14.04  %)\n",
      "\t3.   Premier Liga                       5    (8.77   %)\n",
      "\t4.   Primeira Liga                      4    (7.02   %)\n",
      "\t5.   SuperLiga                          3    (5.26   %)\n",
      "\n",
      "Community 4\n",
      "\t1.   Ligue 1                            12   (19.05  %)\n",
      "\t2.   Ligue 2                            11   (17.46  %)\n",
      "\t3.   Primeira Liga                      4    (6.35   %)\n",
      "\t4.   Ligue Professionelle 1             3    (4.76   %)\n",
      "\t5.   Chinese Super League               3    (4.76   %)\n",
      "\n",
      "Community 5\n",
      "\t1.   Serie B                            16   (25.81  %)\n",
      "\t2.   Serie A                            15   (24.19  %)\n",
      "\t3.   Prima Divisione - A                2    (3.23   %)\n",
      "\t4.   Liga MX Clausura                   2    (3.23   %)\n",
      "\t5.   SuperLiga                          2    (3.23   %)\n",
      "\n",
      "Community 6\n",
      "\t1.   Serie A                            5    (12.82  %)\n",
      "\t2.   Premier Liga                       4    (10.26  %)\n",
      "\t3.   Ekstraklasa                        3    (7.69   %)\n",
      "\t4.   Campeonato Brasileiro Série A      2    (5.13   %)\n",
      "\t5.   Jupiler Pro League                 2    (5.13   %)\n",
      "\n",
      "Community 7\n",
      "\t1.   Primera División                   28   (37.84  %)\n",
      "\t2.   Liga MX Clausura                   10   (13.51  %)\n",
      "\t3.   Liga Postobon II                   5    (6.76   %)\n",
      "\t4.   Segunda División                   4    (5.41   %)\n",
      "\t5.   Primera B Nacional                 4    (5.41   %)\n",
      "\n",
      "Community 8\n",
      "\t1.   Premier League                     2    (100.00 %)\n",
      "\n",
      "Community 9\n",
      "\t1.   Primera División Clausura          1    (50.00  %)\n",
      "\t2.   Primera División                   1    (50.00  %)\n",
      "\n",
      "Community 10\n",
      "\t1.   Premier League                     3    (100.00 %)\n",
      "\n",
      "Community 11\n",
      "\t1.   Primera División Clausura          1    (50.00  %)\n",
      "\t2.   Primera División                   1    (50.00  %)\n",
      "\n",
      "Community 12\n",
      "\t1.   Premier League                     1    (50.00  %)\n",
      "\t2.   Campionato Primavera Girone A      1    (50.00  %)\n",
      "\n",
      "================================================ free ================================================\n",
      "\n",
      "The number of communities:  13\n",
      "Community 0\n",
      "\t1.   Segunda Liga                       24   (18.46  %)\n",
      "\t2.   Primeira Liga                      17   (13.08  %)\n",
      "\t3.   Campeonato Brasileiro Série B      7    (5.38   %)\n",
      "\t4.   Campeonato Brasileiro Série A      6    (4.62   %)\n",
      "\t5.   Saudi Professional League          5    (3.85   %)\n",
      "\n",
      "Community 1\n",
      "\t1.   Premier League                     6    (27.27  %)\n",
      "\t2.   Egyptian Premier League            4    (18.18  %)\n",
      "\t3.   Jupiler Pro League                 2    (9.09   %)\n",
      "\t4.   Bundesliga                         1    (4.55   %)\n",
      "\t5.   Botola Pro                         1    (4.55   %)\n",
      "\n",
      "Community 2\n",
      "\t1.   Serie A                            20   (9.52   %)\n",
      "\t2.   Prima Divisione - B                20   (9.52   %)\n",
      "\t3.   Serie B                            18   (8.57   %)\n",
      "\t4.   Prima Divisione - A                15   (7.14   %)\n",
      "\t5.   Prima Divisione - Girone C         10   (4.76   %)\n",
      "\n",
      "Community 3\n",
      "\t1.   Championship                       25   (12.69  %)\n",
      "\t2.   League One                         24   (12.18  %)\n",
      "\t3.   League Two                         22   (11.17  %)\n",
      "\t4.   U21 Premier League                 21   (10.66  %)\n",
      "\t5.   Premier League                     15   (7.61   %)\n",
      "\n",
      "Community 4\n",
      "\t1.   1.Bundesliga                       15   (15.00  %)\n",
      "\t2.   3.Liga                             14   (14.00  %)\n",
      "\t3.   2.Bundesliga                       11   (11.00  %)\n",
      "\t4.   Regionalliga Südwest               5    (5.00   %)\n",
      "\t5.   A-Jgd. BL Süd/Südwest              5    (5.00   %)\n",
      "\n",
      "Community 5\n",
      "\t1.   Segunda División                   18   (17.14  %)\n",
      "\t2.   Primera División                   16   (15.24  %)\n",
      "\t3.   Segunda División B - Grupo IV      11   (10.48  %)\n",
      "\t4.   Segunda División B - Grupo II      9    (8.57   %)\n",
      "\t5.   Segunda División B - Grupo III     9    (8.57   %)\n",
      "\n",
      "Community 6\n",
      "\t1.   Premier League                     16   (16.84  %)\n",
      "\t2.   Prima Divisione - Girone C         5    (5.26   %)\n",
      "\t3.   Division A                         4    (4.21   %)\n",
      "\t4.   Prva liga                          4    (4.21   %)\n",
      "\t5.   Prva Crnogorska Liga               3    (3.16   %)\n",
      "\n",
      "Community 7\n",
      "\t1.   Primera División                   30   (18.99  %)\n",
      "\t2.   Primera B Nacional                 21   (13.29  %)\n",
      "\t3.   Ascenso MX Clausura                11   (6.96   %)\n",
      "\t4.   Primera División Clausura          10   (6.33   %)\n",
      "\t5.   Liga MX Clausura                   10   (6.33   %)\n",
      "\n",
      "Community 8\n",
      "\t1.   Ligue 1                            21   (18.75  %)\n",
      "\t2.   Ligue 2                            18   (16.07  %)\n",
      "\t3.   Süper Lig                          10   (8.93   %)\n",
      "\t4.   Jupiler Pro League                 6    (5.36   %)\n",
      "\t5.   Championnat National               5    (4.46   %)\n",
      "\n",
      "Community 9\n",
      "\t1.   Segunda División B - Grupo III     2    (33.33  %)\n",
      "\t2.   Primera División                   2    (33.33  %)\n",
      "\t3.   Premier Liga                       1    (16.67  %)\n",
      "\t4.   Jupiler League                     1    (16.67  %)\n",
      "\n",
      "Community 10\n",
      "\t1.   1.Bundesliga                       3    (17.65  %)\n",
      "\t2.   Regionalliga West                  2    (11.76  %)\n",
      "\t3.   Campeonato Brasileiro Série A      2    (11.76  %)\n",
      "\t4.   Gambrinus Liga                     2    (11.76  %)\n",
      "\t5.   2.Bundesliga                       2    (11.76  %)\n",
      "\n",
      "Community 11\n",
      "\t1.   Primeira Liga                      1    (20.00  %)\n",
      "\t2.   Segunda División B - Grupo II      1    (20.00  %)\n",
      "\t3.   Primera División                   1    (20.00  %)\n",
      "\t4.   Segunda Liga                       1    (20.00  %)\n",
      "\t5.   Liga Postobon II                   1    (20.00  %)\n",
      "\n",
      "Community 12\n",
      "\t1.   2.Bundesliga                       1    (16.67  %)\n",
      "\t2.   Bundesliga                         1    (16.67  %)\n",
      "\t3.   A-Jgd. BL West                     1    (16.67  %)\n",
      "\t4.   1.Bundesliga                       1    (16.67  %)\n",
      "\t5.   3.Liga                             1    (16.67  %)\n",
      "\n",
      "================================================ loan ================================================\n",
      "\n",
      "The number of communities:  10\n",
      "Community 0\n",
      "\t1.   Ligue 2                            18   (22.50  %)\n",
      "\t2.   Ligue 1                            17   (21.25  %)\n",
      "\t3.   Championnat National               10   (12.50  %)\n",
      "\t4.   Jupiler Pro League                 9    (11.25  %)\n",
      "\t5.   Premier Liga                       4    (5.00   %)\n",
      "\n",
      "Community 1\n",
      "\t1.   Primera División                   21   (24.14  %)\n",
      "\t2.   Segunda División                   19   (21.84  %)\n",
      "\t3.   Segunda División B - Grupo III     6    (6.90   %)\n",
      "\t4.   Segunda División B - Grupo II      5    (5.75   %)\n",
      "\t5.   Segunda División B - Grupo IV      5    (5.75   %)\n",
      "\n",
      "Community 2\n",
      "\t1.   Championship                       25   (14.79  %)\n",
      "\t2.   League One                         24   (14.20  %)\n",
      "\t3.   League Two                         24   (14.20  %)\n",
      "\t4.   Conference National                19   (11.24  %)\n",
      "\t5.   Premier League                     17   (10.06  %)\n",
      "\n",
      "Community 3\n",
      "\t1.   1.Bundesliga                       17   (21.52  %)\n",
      "\t2.   2.Bundesliga                       17   (21.52  %)\n",
      "\t3.   3.Liga                             11   (13.92  %)\n",
      "\t4.   Raiffeisen Super League            4    (5.06   %)\n",
      "\t5.   Süper Lig                          3    (3.80   %)\n",
      "\n",
      "Community 4\n",
      "\t1.   Segunda Liga                       23   (24.21  %)\n",
      "\t2.   Primeira Liga                      18   (18.95  %)\n",
      "\t3.   Campeonato Brasileiro Série A      8    (8.42   %)\n",
      "\t4.   Campeonato Brasileiro Série B      5    (5.26   %)\n",
      "\t5.   Süper Lig                          3    (3.16   %)\n",
      "\n",
      "Community 5\n",
      "\t1.   Prima Divisione - B                22   (11.17  %)\n",
      "\t2.   Serie B                            21   (10.66  %)\n",
      "\t3.   Prima Divisione - Girone C         21   (10.66  %)\n",
      "\t4.   Serie A                            20   (10.15  %)\n",
      "\t5.   Prima Divisione - A                18   (9.14   %)\n",
      "\n",
      "Community 6\n",
      "\t1.   Primera División                   30   (26.79  %)\n",
      "\t2.   Primera B Nacional                 18   (16.07  %)\n",
      "\t3.   Primera Division Clausura          7    (6.25   %)\n",
      "\t4.   Primera División Clausura          7    (6.25   %)\n",
      "\t5.   Serie A Segunda Etapa              6    (5.36   %)\n",
      "\n",
      "Community 7\n",
      "\t1.   Premier League                     13   (76.47  %)\n",
      "\t2.   Prima Divisione - A                1    (5.88   %)\n",
      "\t3.   Campionato Primavera Girone B      1    (5.88   %)\n",
      "\t4.   K-League Challenge                 1    (5.88   %)\n",
      "\t5.   Corgon liga                        1    (5.88   %)\n",
      "\n",
      "Community 8\n",
      "\t1.   Lebanese Premier League            1    (50.00  %)\n",
      "\t2.   Premier League                     1    (50.00  %)\n",
      "\n",
      "Community 9\n",
      "\t1.   Premier League                     1    (50.00  %)\n",
      "\t2.   Lebanese Premier League            1    (50.00  %)\n",
      "\n"
     ]
    }
   ],
   "source": [
    "for G in [G_monetary, G_free, G_loans]:\n",
    "    G_new = nx.MultiDiGraph()\n",
    "\n",
    "    print(\"================================================\", G.name,\"================================================\")\n",
    "    print()\n",
    "    \n",
    "    for n1,n2,e in G.edges(data=True):\n",
    "        if G.node[n1]['competition'] in leagues or G.node[n2]['competition'] in leagues:\n",
    "            G_new.add_edge(n1,n2)\n",
    "\n",
    "    # compute the best partition\n",
    "    partition = community.best_partition(G_new.to_undirected())\n",
    "\n",
    "    size = len(set(partition.values()))\n",
    "    print('The number of communities: ', size)\n",
    "\n",
    "    # For each communitiy, group the students per major\n",
    "    nbrToPrint = 5\n",
    "\n",
    "    for i in range(size):\n",
    "        # Retrieve nodes inside the community\n",
    "        community_i = [nodes for nodes in partition.keys() if partition[nodes] == i]\n",
    "\n",
    "        # Majors frequency dict\n",
    "        majors = {}\n",
    "        for n in community_i:\n",
    "            major = G.nodes[n]['competition']\n",
    "            majors[major] = majors.get(major, 0) + 1\n",
    "\n",
    "        tot = sum(majors.values())\n",
    "        majors = sorted(majors.items(), key=operator.itemgetter(1), reverse=True)\n",
    "\n",
    "        print(\"Community\",i)\n",
    "        for en,c in enumerate(majors[:nbrToPrint]):\n",
    "            print(\"\\t{}.   {:<35}{:<5}({:<7.2f}%)\".format(en+1, c[0], c[1], 100*c[1]/tot))\n",
    "        print()"
   ]
  },
  {
   "cell_type": "markdown",
   "metadata": {},
   "source": [
    "In the **loan transfers** and **free transfers** network, the communities are clearly organized after the countries. Primary, secondary and tertiary divisions all always cluster together. There is also some more hybrid communities, like the ones composed of leagues from Portugal and Brazil or Spain and South America countries. The language plays a crucial role in these types of transfers. As for the Portugal-Brazil or Spanish-speaking countries, France and the Belgium primary divisions are clustered together.\n",
    "\n",
    "> **Interesting fact**: In the free transfer, the community containing french clubs also contains clubs from the **Qatar Stars League**. This league has never showed up in the analysis before,\n",
    "\n",
    "The **monetary transfers** communities are also tied to this notion of countries, but in a less strong way. Within this network, there are some communities composed mainly by clubs from one country (Germany, England, France), but also communities composed of clubs from more diverse countries, like *Community 3* with clubs from Portugal, Spain, France, Brazil and China. One conclusion that can be made is that when it comes to loans and free transfers, clubs have a preference to deal with close clubs, regarding the country and language. This \"restriction* is less obvious when money is involved. This observation was expected: the more good a player is, the more money its transfer will cost. Good players have the tendency to join big european clubs, thus leaving their home countries in most of the cases."
   ]
  },
  {
   "cell_type": "markdown",
   "metadata": {},
   "source": [
    "## ARTEM"
   ]
  },
  {
   "cell_type": "markdown",
   "metadata": {},
   "source": [
    "## HUGO"
   ]
  },
  {
   "cell_type": "markdown",
   "metadata": {},
   "source": [
    "# Discussion"
   ]
  },
  {
   "cell_type": "code",
   "execution_count": null,
   "metadata": {},
   "outputs": [],
   "source": []
  },
  {
   "cell_type": "markdown",
   "metadata": {},
   "source": [
    "# Conclusion"
   ]
  },
  {
   "cell_type": "code",
   "execution_count": null,
   "metadata": {},
   "outputs": [],
   "source": []
  },
  {
   "cell_type": "markdown",
   "metadata": {},
   "source": [
    "# Appendix: Project Structure"
   ]
  }
 ],
 "metadata": {
  "kernelspec": {
   "display_name": "Python 3",
   "language": "python",
   "name": "python3"
  },
  "language_info": {
   "codemirror_mode": {
    "name": "ipython",
    "version": 3
   },
   "file_extension": ".py",
   "mimetype": "text/x-python",
   "name": "python",
   "nbconvert_exporter": "python",
   "pygments_lexer": "ipython3",
   "version": "3.6.0"
  },
  "toc": {
   "nav_menu": {},
   "number_sections": true,
   "sideBar": true,
   "skip_h1_title": false,
   "toc_cell": true,
   "toc_position": {},
   "toc_section_display": "block",
   "toc_window_display": true
  }
 },
 "nbformat": 4,
 "nbformat_minor": 2
}
