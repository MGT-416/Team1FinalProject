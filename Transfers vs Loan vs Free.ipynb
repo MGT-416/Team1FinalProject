{
 "cells": [
  {
   "cell_type": "markdown",
   "metadata": {
    "toc": true
   },
   "source": [
    "<h1>Table of Contents<span class=\"tocSkip\"></span></h1>\n",
    "<div class=\"toc\" style=\"margin-top: 1em;\"><ul class=\"toc-item\"><li><span><a href=\"#Goal\" data-toc-modified-id=\"Goal-1\"><span class=\"toc-item-num\">1&nbsp;&nbsp;</span>Goal</a></span></li><li><span><a href=\"#Load-networks\" data-toc-modified-id=\"Load-networks-2\"><span class=\"toc-item-num\">2&nbsp;&nbsp;</span>Load networks</a></span></li><li><span><a href=\"#Centralities\" data-toc-modified-id=\"Centralities-3\"><span class=\"toc-item-num\">3&nbsp;&nbsp;</span>Centralities</a></span><ul class=\"toc-item\"><li><span><a href=\"#In-degree\" data-toc-modified-id=\"In-degree-3.1\"><span class=\"toc-item-num\">3.1&nbsp;&nbsp;</span>In-degree</a></span></li><li><span><a href=\"#Out-degree\" data-toc-modified-id=\"Out-degree-3.2\"><span class=\"toc-item-num\">3.2&nbsp;&nbsp;</span>Out-degree</a></span></li><li><span><a href=\"#Closeness\" data-toc-modified-id=\"Closeness-3.3\"><span class=\"toc-item-num\">3.3&nbsp;&nbsp;</span>Closeness</a></span></li><li><span><a href=\"#Betweenness\" data-toc-modified-id=\"Betweenness-3.4\"><span class=\"toc-item-num\">3.4&nbsp;&nbsp;</span>Betweenness</a></span></li><li><span><a href=\"#PageRank\" data-toc-modified-id=\"PageRank-3.5\"><span class=\"toc-item-num\">3.5&nbsp;&nbsp;</span>PageRank</a></span></li></ul></li><li><span><a href=\"#League-level\" data-toc-modified-id=\"League-level-4\"><span class=\"toc-item-num\">4&nbsp;&nbsp;</span>League-level</a></span><ul class=\"toc-item\"><li><span><a href=\"#In-degree\" data-toc-modified-id=\"In-degree-4.1\"><span class=\"toc-item-num\">4.1&nbsp;&nbsp;</span>In-degree</a></span></li><li><span><a href=\"#Out-degree\" data-toc-modified-id=\"Out-degree-4.2\"><span class=\"toc-item-num\">4.2&nbsp;&nbsp;</span>Out-degree</a></span></li><li><span><a href=\"#Closeness\" data-toc-modified-id=\"Closeness-4.3\"><span class=\"toc-item-num\">4.3&nbsp;&nbsp;</span>Closeness</a></span></li><li><span><a href=\"#Betweenness\" data-toc-modified-id=\"Betweenness-4.4\"><span class=\"toc-item-num\">4.4&nbsp;&nbsp;</span>Betweenness</a></span></li><li><span><a href=\"#PageRank\" data-toc-modified-id=\"PageRank-4.5\"><span class=\"toc-item-num\">4.5&nbsp;&nbsp;</span>PageRank</a></span></li></ul></li><li><span><a href=\"#Simple-facts\" data-toc-modified-id=\"Simple-facts-5\"><span class=\"toc-item-num\">5&nbsp;&nbsp;</span>Simple facts</a></span><ul class=\"toc-item\"><li><span><a href=\"#Degree-distribution\" data-toc-modified-id=\"Degree-distribution-5.1\"><span class=\"toc-item-num\">5.1&nbsp;&nbsp;</span>Degree distribution</a></span></li><li><span><a href=\"#Neighborhood-overlap\" data-toc-modified-id=\"Neighborhood-overlap-5.2\"><span class=\"toc-item-num\">5.2&nbsp;&nbsp;</span>Neighborhood overlap</a></span></li><li><span><a href=\"#Communities\" data-toc-modified-id=\"Communities-5.3\"><span class=\"toc-item-num\">5.3&nbsp;&nbsp;</span>Communities</a></span></li></ul></li></ul></div>"
   ]
  },
  {
   "cell_type": "markdown",
   "metadata": {},
   "source": [
    "# Goal"
   ]
  },
  {
   "cell_type": "markdown",
   "metadata": {},
   "source": [
    "The goal of this notebook is to perform centralities analysis of the clubs participating in transfers. We want to see the variations that exists between the three type of transfers: **Monetary Transfers**, **Free transfers** and **loans**. We will not take into account the swaps, as it represents less than 100 transfers in our data."
   ]
  },
  {
   "cell_type": "markdown",
   "metadata": {},
   "source": [
    "# Load networks\n",
    "\n",
    "As explained in the previous notebooks, the **nodes** in the networks represent football clubs. An edge between two nodes represents a **transfer**: one football player leaves *Club A* and goes playing for *Club B*. Each edge stores information about the transfer, like the player name or the managers of the two clubs. We are dealing with **Multi Directed Graphs**"
   ]
  },
  {
   "cell_type": "code",
   "execution_count": 5,
   "metadata": {
    "ExecuteTime": {
     "end_time": "2017-12-17T14:51:34.011806Z",
     "start_time": "2017-12-17T14:51:34.008652Z"
    }
   },
   "outputs": [],
   "source": [
    "import networkx as nx"
   ]
  },
  {
   "cell_type": "code",
   "execution_count": 6,
   "metadata": {
    "ExecuteTime": {
     "end_time": "2017-12-17T14:51:44.584678Z",
     "start_time": "2017-12-17T14:51:35.148879Z"
    }
   },
   "outputs": [],
   "source": [
    "G_monetary  = nx.read_gml(\"networks/transfers_transfer_network.gml\")\n",
    "G_loans     = nx.read_gml(\"networks/transfers_loan_network.gml\")\n",
    "G_free      = nx.read_gml(\"networks/transfers_free_network.gml\")"
   ]
  },
  {
   "cell_type": "code",
   "execution_count": 82,
   "metadata": {
    "ExecuteTime": {
     "end_time": "2017-12-12T20:40:06.369083Z",
     "start_time": "2017-12-12T20:40:04.846622Z"
    }
   },
   "outputs": [
    {
     "name": "stdout",
     "output_type": "stream",
     "text": [
      "Name: transfer\n",
      "Type: MultiDiGraph\n",
      "Number of nodes: 1124\n",
      "Number of edges: 2913\n",
      "Average in degree:   2.5916\n",
      "Average out degree:   2.5916\n",
      "Is connected: False\n",
      "\n",
      "Name: loan\n",
      "Type: MultiDiGraph\n",
      "Number of nodes: 2664\n",
      "Number of edges: 10773\n",
      "Average in degree:   4.0439\n",
      "Average out degree:   4.0439\n",
      "Is connected: False\n",
      "\n",
      "Name: free\n",
      "Type: MultiDiGraph\n",
      "Number of nodes: 3851\n",
      "Number of edges: 30994\n",
      "Average in degree:   8.0483\n",
      "Average out degree:   8.0483\n",
      "Is connected: False\n"
     ]
    }
   ],
   "source": [
    "print(nx.info(G_monetary))\n",
    "print(\"Is connected:\", nx.is_connected(G_monetary.to_undirected()))\n",
    "print()\n",
    "print(nx.info(G_loans))\n",
    "print(\"Is connected:\", nx.is_connected(G_loans.to_undirected()))\n",
    "print()\n",
    "print(nx.info(G_free))\n",
    "print(\"Is connected:\", nx.is_connected(G_free.to_undirected()))"
   ]
  },
  {
   "cell_type": "markdown",
   "metadata": {},
   "source": [
    "> If we compare the basic informations for the three networks, we can see that there is three times more **loans** than **monetary transfers** and three times more **free transfers** than loans. The average degree is also bigger in loan than transfers, and in free than loan.\n",
    ">\n",
    "> This shows that the clubs in our data don't do a lot of monetary transfers. One assumption to explain this fact could be that the data used to create the networks comes from a website doing a very good job at recording transfers in secondary and below leagues, where there is less money flowing compare to primary leagues. The next part of this notebook will verify this hypothesis."
   ]
  },
  {
   "cell_type": "markdown",
   "metadata": {},
   "source": [
    "# Centralities"
   ]
  },
  {
   "cell_type": "code",
   "execution_count": 10,
   "metadata": {
    "ExecuteTime": {
     "end_time": "2017-12-17T14:52:15.528831Z",
     "start_time": "2017-12-17T14:52:15.509959Z"
    }
   },
   "outputs": [],
   "source": [
    "import operator\n",
    "import pprint\n",
    "\n",
    "def centralities(centrality_func, networks, n=10):        \n",
    "    for G in networks:\n",
    "        print(G.name)\n",
    "        centrality = dict(centrality_func(G))\n",
    "\n",
    "        # Centralities are dictionaries : first sort by value, then take only the first n entries\n",
    "        c_sort = sorted(centrality.items(), key=operator.itemgetter(1), reverse=True)[:n]\n",
    "        # Print\n",
    "        pprint.pprint([(x,y, G.node[x]['competition']) for x,y in c_sort])\n",
    "        print()\n",
    "        print()"
   ]
  },
  {
   "cell_type": "markdown",
   "metadata": {},
   "source": [
    "## In-degree"
   ]
  },
  {
   "cell_type": "code",
   "execution_count": 84,
   "metadata": {
    "ExecuteTime": {
     "end_time": "2017-12-12T20:40:06.437459Z",
     "start_time": "2017-12-12T20:40:06.389202Z"
    }
   },
   "outputs": [
    {
     "name": "stdout",
     "output_type": "stream",
     "text": [
      "transfer\n",
      "[('AS Roma', 0.019590382902938557, 'Serie A'),\n",
      " ('Aston Villa', 0.016918967052537846, 'Premier League'),\n",
      " ('Watford', 0.016918967052537846, 'Championship'),\n",
      " ('Monaco', 0.016028495102404273, 'Ligue 1'),\n",
      " ('Newcastle', 0.016028495102404273, 'A-League'),\n",
      " ('Bologna', 0.016028495102404273, 'Serie B'),\n",
      " ('Man City', 0.016028495102404273, 'Premier League'),\n",
      " ('TSG Hoffenheim', 0.014247551202137132, '1.Bundesliga'),\n",
      " ('Sunderland', 0.014247551202137132, 'Premier League'),\n",
      " ('VfL Wolfsburg', 0.014247551202137132, '1.Bundesliga')]\n",
      "\n",
      "\n",
      "free\n",
      "[('Monza', 0.00987012987012987, 'Prima Divisione - A'),\n",
      " ('AE Larisa', 0.00909090909090909, 'Football League Nord'),\n",
      " ('Boluspor', 0.008831168831168832, '1.Lig'),\n",
      " ('Machine Sazi', 0.008831168831168832, 'Azadegan League'),\n",
      " ('Venezia', 0.008571428571428572, 'Serie D - Girone C'),\n",
      " ('Fortuna Sittard', 0.008311688311688312, 'Jupiler League'),\n",
      " ('Vozdovac ', 0.008311688311688312, 'SuperLiga'),\n",
      " ('Energie Cottbus', 0.008311688311688312, '3.Liga'),\n",
      " ('Deportivo Pasto', 0.008311688311688312, 'Liga Postobon II'),\n",
      " ('Borac Cacak', 0.008051948051948052, 'SuperLiga')]\n",
      "\n",
      "\n",
      "loan\n",
      "[('Santarcangelo', 0.013518588058580548, 'Prima Divisione - B'),\n",
      " ('Granada CF', 0.011641006383777694, 'Primera División'),\n",
      " ('Pistoiese', 0.011641006383777694, 'Prima Divisione - B'),\n",
      " ('Carpi', 0.010514457378895982, 'Serie B'),\n",
      " ('Paganese', 0.010138941043935411, 'Prima Divisione - Girone C'),\n",
      " ('Barnsley FC', 0.010138941043935411, 'League One'),\n",
      " ('Como', 0.010138941043935411, 'Serie B'),\n",
      " ('Rotherham', 0.00976342470897484, 'Championship'),\n",
      " ('Ascoli', 0.00976342470897484, 'Prima Divisione - B'),\n",
      " ('Brescia', 0.00976342470897484, 'Serie B')]\n",
      "\n",
      "\n"
     ]
    }
   ],
   "source": [
    "centralities(nx.in_degree_centrality, [G_monetary, G_free, G_loans])"
   ]
  },
  {
   "cell_type": "markdown",
   "metadata": {},
   "source": [
    "The **in-degree** centrality deals with the number of new players clubs acquire. In the **monetary transfers**, we can see clubs from primary leagues, with centralities values close one to the others. The **free** and **loan** network versions have top-ranked club less popular, from inferior divisions leagues. This is a first step in confirming the above assumption: popular clubs with money, which are fewer, participate in less transfers and in the vast majority of the monetary ones."
   ]
  },
  {
   "cell_type": "markdown",
   "metadata": {},
   "source": [
    "## Out-degree"
   ]
  },
  {
   "cell_type": "code",
   "execution_count": 85,
   "metadata": {
    "ExecuteTime": {
     "end_time": "2017-12-12T20:40:06.518101Z",
     "start_time": "2017-12-12T20:40:06.442582Z"
    }
   },
   "outputs": [
    {
     "name": "stdout",
     "output_type": "stream",
     "text": [
      "transfer\n",
      "[('AS Roma', 0.017809439002671415, 'Serie A'),\n",
      " ('Juventus', 0.016918967052537846, 'Serie A'),\n",
      " ('Inter', 0.016028495102404273, 'Serie A'),\n",
      " ('TSG Hoffenheim', 0.015138023152270703, '1.Bundesliga'),\n",
      " ('Benfica', 0.015138023152270703, 'Primeira Liga'),\n",
      " ('VfB Stuttgart', 0.015138023152270703, '1.Bundesliga'),\n",
      " ('Spurs', 0.014247551202137132, 'Premier League'),\n",
      " ('Fiorentina', 0.013357079252003561, 'Serie A'),\n",
      " ('Bor. Dortmund', 0.01246660730186999, '1.Bundesliga'),\n",
      " ('Genoa', 0.01246660730186999, 'Serie A')]\n",
      "\n",
      "\n",
      "free\n",
      "[('Parma', 0.016363636363636365, 'Serie A'),\n",
      " ('Nacional', 0.01038961038961039, 'Primera Division Clausura'),\n",
      " ('Borac Cacak', 0.01012987012987013, 'SuperLiga'),\n",
      " ('Grosseto', 0.00987012987012987, 'Prima Divisione - B'),\n",
      " ('Jagodina', 0.00961038961038961, 'SuperLiga'),\n",
      " ('OFK Beograd', 0.00935064935064935, 'SuperLiga'),\n",
      " ('Monza', 0.008831168831168832, 'Prima Divisione - A'),\n",
      " ('Chiajna', 0.008831168831168832, 'Liga 1'),\n",
      " ('Tosno', 0.008571428571428572, '1.Division'),\n",
      " ('River Plate', 0.008571428571428572, 'Primera División')]\n",
      "\n",
      "\n",
      "loan\n",
      "[('Juventus', 0.040555764175741645, 'Serie A'),\n",
      " ('Atalanta', 0.0334209538114908, 'Serie A'),\n",
      " ('Chievo Verona', 0.03191888847164852, 'Serie A'),\n",
      " ('Udinese Calcio', 0.025535110777318813, 'Serie A'),\n",
      " ('Inter', 0.02403304543747653, 'Serie A'),\n",
      " ('AS Roma', 0.02328201276755539, 'Serie A'),\n",
      " ('Chelsea', 0.021404431092752536, 'Premier League'),\n",
      " ('Palmeiras', 0.01877581674802854, 'Campeonato Brasileiro Série A'),\n",
      " ('Cruzeiro', 0.018024784078107398, 'Campeonato Brasileiro Série A'),\n",
      " ('Sampdoria', 0.018024784078107398, 'Serie A')]\n",
      "\n",
      "\n"
     ]
    }
   ],
   "source": [
    "centralities(nx.out_degree_centrality, [G_monetary, G_free, G_loans])"
   ]
  },
  {
   "cell_type": "markdown",
   "metadata": {},
   "source": [
    "Regarding the **out-degree** centralities:\n",
    "- we can see again that popular clubs are the owns *selling* the most players. \n",
    "- The **free** ranking is a bit different, compare to the *in-degree* version. There is almost only clubs from primary divisions. One assumption could be that players in the final phase of their careers leave a mid-table club for free and return to their home country league. It will be interesting to compare those findings with the ones taking player's age into account.\n",
    "- The **loan** version contains clubs exclusively from primary divisions. This makes sens, as top clubs have the habit to buy young and promising players and directly \"send\" them to less stressful teams in order to win experiences. This ranking is composed a lot of italian clubs and the club leading this ranking is **Juventus**, the previous winner of the primary italian division. We can note that in the **in-degree** version, the *loan* ranking was also composed of a lot of italian clubs, but this time from inferior divisions. One possible explanation is that clubs from primary division \"send\" their young players to teams playing in the secondary and tertiary italian divisions."
   ]
  },
  {
   "cell_type": "markdown",
   "metadata": {},
   "source": [
    "> **Interesting fact**: In the **free** ranking, the club **Parma** appears first, with a centrality value 60% higher than the second one. Why ? Because this football club had has financial troubles and had to declare bankruptcy in 2015. Thus a lot of player left the club for free."
   ]
  },
  {
   "cell_type": "markdown",
   "metadata": {},
   "source": [
    "> **Interesting fact #2**: As pointed out previously, there is a lot of italian clubs in the **loan** rankings, both in and out degree versions. This might be a cultural thing: in Italy, some clubs have a reputation of being **farm clubs** club. taking young players on loan from bigger teams. Why in Italy mainly ? Because the italian rules allow italian clubs [to *co-own* players](http://www.bbc.com/sport/football/34125476)."
   ]
  },
  {
   "cell_type": "markdown",
   "metadata": {},
   "source": [
    "## Closeness"
   ]
  },
  {
   "cell_type": "code",
   "execution_count": 86,
   "metadata": {
    "ExecuteTime": {
     "end_time": "2017-12-12T20:42:35.767850Z",
     "start_time": "2017-12-12T20:40:06.522234Z"
    }
   },
   "outputs": [
    {
     "name": "stdout",
     "output_type": "stream",
     "text": [
      "transfer\n",
      "[('Watford', 0.21876649240023918, 'Championship'),\n",
      " ('Inter', 0.20834204880264393, 'Serie A'),\n",
      " ('Aston Villa', 0.20619704597538321, 'Premier League'),\n",
      " ('AS Roma', 0.2051749191777524, 'Serie A'),\n",
      " ('Man City', 0.2051749191777524, 'Premier League'),\n",
      " ('Werder Bremen', 0.20490406119863988, '1.Bundesliga'),\n",
      " ('Sevilla FC', 0.20289519785355517, 'Primera División'),\n",
      " ('Olympiacos', 0.2024321178454121, 'Super League'),\n",
      " ('Hamburger SV', 0.20216844852877855, '1.Bundesliga'),\n",
      " ('Southampton', 0.2017086762286806, 'Premier League')]\n",
      "\n",
      "\n",
      "free\n",
      "[('AEL Limassol', 0.2415727602705824, 'Division A'),\n",
      " ('Ethnikos', 0.23970572385519484, 'Division A'),\n",
      " ('Omonia Nikosia', 0.23854227761485827, 'Division A'),\n",
      " ('Ermis Aradippou', 0.23816880502633128, 'Division A'),\n",
      " ('Poli Timisoara', 0.23485944580342463, 'Liga II - Seria II'),\n",
      " ('AOK Kerkyra', 0.2343425896286812, 'Super League'),\n",
      " ('Dinamo Bukarest', 0.23382800335369505, 'Liga 1'),\n",
      " ('Boluspor', 0.23314539350592484, '1.Lig'),\n",
      " ('FC Koper', 0.2323653027217182, 'Prva Liga'),\n",
      " ('AE Larisa', 0.23204461261118484, 'Football League Nord')]\n",
      "\n",
      "\n",
      "loan\n",
      "[('Olhanense', 0.06041424858554498, 'Segunda Liga'),\n",
      " ('Nacional', 0.058699403953470494, 'Primera Division Clausura'),\n",
      " ('Stevenage FC', 0.058086805774124395, 'League Two'),\n",
      " ('Atlético CP', 0.05736620872981682, 'Segunda Liga'),\n",
      " ('Tondela', 0.056731676776680014, 'Primeira Liga'),\n",
      " ('Newport County', 0.056627579903499384, 'League Two'),\n",
      " ('Carpi', 0.05662030729019025, 'Serie B'),\n",
      " ('Granada CF', 0.056229316821203176, 'Primera División'),\n",
      " ('Estoril', 0.05605995140909112, 'Primeira Liga'),\n",
      " ('Arezzo', 0.05595386458436906, 'Prima Divisione - A')]\n",
      "\n",
      "\n"
     ]
    }
   ],
   "source": [
    "centralities(nx.closeness_centrality, [G_monetary, G_free, G_loans])"
   ]
  },
  {
   "cell_type": "markdown",
   "metadata": {},
   "source": [
    "As previously, one top-clubs compose the **monetary transfers** ranking. Those clubs are all european and mainly from **England** and **italy**. It's interesting to know that **Watford**, the ranking leader, was managed in 2016/2016 by an italian manager and it's now managed by a portuguese one. The closeness centralities values are pretty close one to the others.\n",
    "\n",
    "The **loan** ranking is interesting, as there is some **portuguese clubs**. Portuguese clubs are known for making transfers with south-american players, mostly Brazilian ones, wishing to have a career in Europe. Why Portugal? Because of the cultural and language proximity. Those players are then sell to higher-value european clubs, or go back at home in case of failure. Thus, founding portuguese clubs in this ranking isn't surprising.\n",
    "\n",
    "We can notice that in this centrality rankings, almost all clubs are from first division leagues."
   ]
  },
  {
   "cell_type": "markdown",
   "metadata": {},
   "source": [
    "## Betweenness"
   ]
  },
  {
   "cell_type": "code",
   "execution_count": 87,
   "metadata": {
    "ExecuteTime": {
     "end_time": "2017-12-12T20:44:17.141257Z",
     "start_time": "2017-12-12T20:42:35.770420Z"
    },
    "scrolled": false
   },
   "outputs": [
    {
     "name": "stdout",
     "output_type": "stream",
     "text": [
      "transfer\n",
      "[('AS Roma', 0.01711181831280997, 'Serie A'),\n",
      " ('Inter', 0.016617393196635806, 'Serie A'),\n",
      " ('TSG Hoffenheim', 0.01475359410206666, '1.Bundesliga'),\n",
      " ('Torino', 0.014615233829005703, 'Serie A'),\n",
      " ('Juventus', 0.013337017474766328, 'Serie A'),\n",
      " ('FC Basel', 0.013041044100401324, 'Raiffeisen Super League'),\n",
      " ('Sampdoria', 0.012365327870391015, 'Serie A'),\n",
      " ('Man City', 0.01205023063322892, 'Premier League'),\n",
      " ('Standard Liège', 0.011989378492321491, 'Jupiler Pro League'),\n",
      " ('Newcastle', 0.011927555874244468, 'A-League')]\n",
      "\n",
      "\n",
      "free\n",
      "[('Nacional', 0.014837642999531478, 'Primera Division Clausura'),\n",
      " ('Parma', 0.012455154882935818, 'Serie A'),\n",
      " ('FC Koper', 0.011914946819203992, 'Prva Liga'),\n",
      " ('RNK Split', 0.010033090258060571, '1.HNL'),\n",
      " ('Borac Cacak', 0.00959899371237437, 'SuperLiga'),\n",
      " ('Catania', 0.008819051113285592, 'Serie B'),\n",
      " ('FSV Frankfurt', 0.008621873303667102, '2.Bundesliga'),\n",
      " ('FC Chiasso', 0.008493548002931128, 'Challenge League'),\n",
      " ('Petr. Ploiesti', 0.00832572760337677, 'Liga 1'),\n",
      " ('Erzgebirge Aue', 0.008178114131746957, '2.Bundesliga')]\n",
      "\n",
      "\n",
      "loan\n",
      "[('AS Roma', 0.02777496467498756, 'Serie A'),\n",
      " ('Cagliari Calcio', 0.02307614198107256, 'Serie A'),\n",
      " ('Mladá Boleslav', 0.019460256802908676, 'Gambrinus Liga'),\n",
      " ('Sparta Praha', 0.019244952688071876, 'Gambrinus Liga'),\n",
      " ('Benfica', 0.018677413412990843, 'Primeira Liga'),\n",
      " ('Braga', 0.018556204718156038, 'Primeira Liga'),\n",
      " ('Catania', 0.0180495943979893, 'Serie B'),\n",
      " ('Nacional', 0.017982379369663723, 'Primera Division Clausura'),\n",
      " ('Fiorentina', 0.016528321470074984, 'Serie A'),\n",
      " ('Peñarol', 0.015671308249028015, 'Primera Division Clausura')]\n",
      "\n",
      "\n"
     ]
    }
   ],
   "source": [
    "centralities(nx.betweenness_centrality, [G_monetary, G_free, G_loans])"
   ]
  },
  {
   "cell_type": "markdown",
   "metadata": {},
   "source": [
    "The **betweenness** rankings are a bit more difficutly to make sens of.\n",
    "As before, we can notice that each of those has **italian clubs** among the top ones."
   ]
  },
  {
   "cell_type": "markdown",
   "metadata": {},
   "source": [
    "## PageRank"
   ]
  },
  {
   "cell_type": "code",
   "execution_count": 12,
   "metadata": {
    "ExecuteTime": {
     "end_time": "2017-12-17T14:54:52.990292Z",
     "start_time": "2017-12-17T14:54:52.956616Z"
    }
   },
   "outputs": [],
   "source": [
    "def getDiGraph(G):\n",
    "    \"\"\"\n",
    "    Transforms a Multidirected network into a directed one.\n",
    "    Between two nodes, sum the value of each transfer (if exist) and the number of transfers.\n",
    "    \"\"\"\n",
    "    # Create the network\n",
    "    dG = nx.DiGraph()\n",
    "    dG.name = G.name\n",
    "    # Add nodes and edges iteratively\n",
    "    for u,v,data in G.edges(data=True):\n",
    "        dG.add_node(u, competition=G.node[u]['competition'])\n",
    "        dG.add_node(v, competition=G.node[v]['competition'])\n",
    "        val = float(data['transferValue']) if 'transferValue' in data else 0.0\n",
    "        if dG.has_edge(u,v):\n",
    "            dG[u][v]['transferValue'] += val\n",
    "            dG[u][v]['nbr'] += 1\n",
    "        else:\n",
    "            dG.add_edge(u, v, transferValue=val, nbr=1)\n",
    "    return dG"
   ]
  },
  {
   "cell_type": "code",
   "execution_count": 13,
   "metadata": {
    "ExecuteTime": {
     "end_time": "2017-12-17T14:54:59.534382Z",
     "start_time": "2017-12-17T14:54:58.093753Z"
    }
   },
   "outputs": [
    {
     "name": "stdout",
     "output_type": "stream",
     "text": [
      "transfer\n",
      "[('Aston Villa', 0.009450807341304417, 'Premier League'),\n",
      " ('Man City', 0.00800889271244839, 'Premier League'),\n",
      " ('Derby', 0.007285361960911124, 'Championship'),\n",
      " ('Bournemouth', 0.006922364431278031, 'Championship'),\n",
      " ('Leicester', 0.006632989708004769, 'Premier League'),\n",
      " ('Newcastle', 0.0063326818309913475, 'A-League'),\n",
      " ('Trabzonspor', 0.006261604784312014, 'Süper Lig'),\n",
      " ('Watford', 0.006177541484911631, 'Championship'),\n",
      " ('TSG Hoffenheim', 0.005915994184669219, '1.Bundesliga'),\n",
      " ('Middlesbrough', 0.005755649948965327, 'Championship')]\n",
      "\n",
      "\n",
      "free\n",
      "[('Rapperswil-Jona', 0.001388524998732724, '1.Liga Promotion '),\n",
      " ('SC YF Juventus', 0.0013280124179460438, '1.Liga Promotion '),\n",
      " (\"L'Aquila\", 0.0013002560090644346, 'Prima Divisione - B'),\n",
      " ('Nigde Belediye', 0.0012009487887170078, '2.Lig Kirmizi'),\n",
      " ('FC UNA Strassen', 0.0011096557281470988, 'BGL Ligue'),\n",
      " ('US Esch', 0.0010876549848712884, 'Ehrenpromotion'),\n",
      " ('KFC Uerdingen', 0.0010759409870058057, 'Regionalliga West'),\n",
      " ('Tepecikspor', 0.0010658156999180583, '2.Lig Kirmizi'),\n",
      " ('Rot Weiss Ahlen', 0.001061516572925499, 'Regionalliga West'),\n",
      " ('FC Tuggen', 0.001027545927222711, '1.Liga Promotion ')]\n",
      "\n",
      "\n",
      "loan\n",
      "[('Gateshead FC', 0.002508101835157717, 'Conference National'),\n",
      " ('Grimsby Town', 0.002128375372367211, 'Conference National'),\n",
      " ('York City', 0.00200639503312458, 'League Two'),\n",
      " ('Mezőkövesd', 0.0019469329962153834, 'Nemzeti Bajnokság II'),\n",
      " ('Savona', 0.0017171038850986088, 'Prima Divisione - B'),\n",
      " ('Cremonese', 0.0016919147765155505, 'Prima Divisione - A'),\n",
      " ('Altrincham', 0.0016755127167646434, 'Conference National'),\n",
      " ('Macclesfield', 0.0016597758845157337, 'Conference National'),\n",
      " ('Grosseto', 0.001651453411084812, 'Prima Divisione - B'),\n",
      " ('Delfín SC', 0.0016146291768547665, 'Serie A Segunda Etapa')]\n",
      "\n",
      "\n"
     ]
    }
   ],
   "source": [
    "centralities(nx.pagerank, [getDiGraph(G_monetary), getDiGraph(G_free), getDiGraph(G_loans)])"
   ]
  },
  {
   "cell_type": "code",
   "execution_count": 14,
   "metadata": {
    "ExecuteTime": {
     "end_time": "2017-12-17T14:55:05.089144Z",
     "start_time": "2017-12-17T14:55:04.921626Z"
    }
   },
   "outputs": [
    {
     "name": "stdout",
     "output_type": "stream",
     "text": [
      "transfer - weighted\n",
      "[('Man City', 0.03103175159030256, 'Premier League'),\n",
      " ('Chelsea', 0.018859219692449972, 'Premier League'),\n",
      " ('Liverpool', 0.016521512559772838, 'Premier League'),\n",
      " ('Man Utd', 0.015378885890160468, 'Premier League'),\n",
      " ('Paris SG', 0.014836339027604669, 'Ligue 1'),\n",
      " ('Valencia CF', 0.014563069120729754, 'Primera División'),\n",
      " ('AS Roma', 0.01363052049819213, 'Serie A'),\n",
      " ('Juventus', 0.012463074676151075, 'Serie A'),\n",
      " ('Newcastle', 0.01236200859199397, 'A-League'),\n",
      " ('Crystal Palace', 0.01235362406093607, 'Premier League')]\n"
     ]
    }
   ],
   "source": [
    "print(\"transfer - weighted\")\n",
    "G = getDiGraph(G_monetary)\n",
    "centrality = nx.pagerank(G, weight='transferValue')\n",
    "c_sort = sorted(centrality.items(), key=operator.itemgetter(1), reverse=True)[:10]\n",
    "pprint.pprint([(x,y, G.node[x]['competition']) for x,y in c_sort])"
   ]
  },
  {
   "cell_type": "markdown",
   "metadata": {},
   "source": [
    "In the **transfer** version, weighted with the number of transfers, almost all clubs are from England, primary or secondary division mixed. But in the **free** ranking, there is no club from a first division, only *small* clubs. Interestingly, first both clubs are from Switzerland. We note the same behavior on the **loan** ranking, mainly composed of clubs from inferior divisions. This conforts our previous findings: clubs from the primary division are mainly important in the monetary transfers, but not so in the loans and free version.\n",
    "\n",
    "In the transfer version, but weighted with transfer's fees, most *famous* clubs are present. There is mainly clubs from England, with a lot of financial power, or clubs recently bought by new investors, like Paris SG and Valencia."
   ]
  },
  {
   "cell_type": "markdown",
   "metadata": {},
   "source": [
    "# League-level"
   ]
  },
  {
   "cell_type": "markdown",
   "metadata": {},
   "source": [
    "Build the same network, but at the league level.\n",
    "\n",
    "- **Nodes** are competitions where club evolve.\n",
    "- **Edges** represente the number of transfer from a competition to another one."
   ]
  },
  {
   "cell_type": "code",
   "execution_count": 16,
   "metadata": {
    "ExecuteTime": {
     "end_time": "2017-12-17T20:10:21.509725Z",
     "start_time": "2017-12-17T20:10:21.473243Z"
    }
   },
   "outputs": [],
   "source": [
    "def Graph_leaguelevel(G):\n",
    "    leagues = list(nx.get_node_attributes(G,'competition').values())\n",
    "    \n",
    "    G_leagues = nx.DiGraph()\n",
    "    G_leagues.name = G.name\n",
    "    G_leagues.add_nodes_from(list(set(leagues)))\n",
    "    \n",
    "    for n1,n2,e in G.edges(data=True):\n",
    "        c1 = G.nodes[n1]['competition']\n",
    "        c2 = G.nodes[n2]['competition']\n",
    "\n",
    "        if G_leagues.has_edge(c1, c2):\n",
    "            G_leagues[c1][c2]['nbr'] += 1\n",
    "        else:\n",
    "            G_leagues.add_edge(c1, c2, nbr=1)\n",
    "    \n",
    "    return G_leagues"
   ]
  },
  {
   "cell_type": "code",
   "execution_count": 17,
   "metadata": {
    "ExecuteTime": {
     "end_time": "2017-12-17T20:10:22.436378Z",
     "start_time": "2017-12-17T20:10:22.201749Z"
    }
   },
   "outputs": [],
   "source": [
    "G_league_monetary = Graph_leaguelevel(G_monetary)\n",
    "G_league_free     = Graph_leaguelevel(G_free)\n",
    "G_league_loan     = Graph_leaguelevel(G_loans)"
   ]
  },
  {
   "cell_type": "code",
   "execution_count": 80,
   "metadata": {
    "ExecuteTime": {
     "end_time": "2017-12-12T08:49:38.792058Z",
     "start_time": "2017-12-12T08:49:38.692686Z"
    }
   },
   "outputs": [
    {
     "name": "stdout",
     "output_type": "stream",
     "text": [
      "Name: transfer\n",
      "Type: DiGraph\n",
      "Number of nodes: 157\n",
      "Number of edges: 967\n",
      "Average in degree:   6.1592\n",
      "Average out degree:   6.1592\n",
      "Is connected: False\n",
      "\n",
      "Name: loan\n",
      "Type: DiGraph\n",
      "Number of nodes: 234\n",
      "Number of edges: 1636\n",
      "Average in degree:   6.9915\n",
      "Average out degree:   6.9915\n",
      "Is connected: False\n",
      "\n",
      "Name: free\n",
      "Type: DiGraph\n",
      "Number of nodes: 321\n",
      "Number of edges: 5051\n",
      "Average in degree:  15.7352\n",
      "Average out degree:  15.7352\n",
      "Is connected: False\n"
     ]
    }
   ],
   "source": [
    "print(nx.info(G_league_monetary))\n",
    "print(\"Is connected:\", nx.is_connected(G_league_monetary.to_undirected()))\n",
    "print()\n",
    "print(nx.info(G_league_loan))\n",
    "print(\"Is connected:\", nx.is_connected(G_league_loan.to_undirected()))\n",
    "print()\n",
    "print(nx.info(G_league_free))\n",
    "print(\"Is connected:\", nx.is_connected(G_league_free.to_undirected()))"
   ]
  },
  {
   "cell_type": "markdown",
   "metadata": {},
   "source": [
    "## In-degree"
   ]
  },
  {
   "cell_type": "code",
   "execution_count": 12,
   "metadata": {
    "ExecuteTime": {
     "end_time": "2017-12-11T23:12:36.429176Z",
     "start_time": "2017-12-11T23:12:36.417633Z"
    }
   },
   "outputs": [],
   "source": [
    "def centralities_league(centrality_func, networks, n=10):\n",
    "    for G in networks:\n",
    "        print(G.name)\n",
    "        centrality = dict(centrality_func(G))\n",
    "\n",
    "        # Centralities are dictionaries : first sort by value, then take only the first n entries\n",
    "        c_sort = sorted(centrality.items(), key=operator.itemgetter(1), reverse=True)[:n]\n",
    "        # Print\n",
    "        pprint.pprint(c_sort)\n",
    "        print()\n",
    "        print()"
   ]
  },
  {
   "cell_type": "code",
   "execution_count": 13,
   "metadata": {
    "ExecuteTime": {
     "end_time": "2017-12-11T23:12:36.446025Z",
     "start_time": "2017-12-11T23:12:36.430818Z"
    }
   },
   "outputs": [
    {
     "name": "stdout",
     "output_type": "stream",
     "text": [
      "transfer\n",
      "[('Chinese Super League', 0.2564102564102564),\n",
      " ('Süper Lig', 0.25),\n",
      " ('1.Bundesliga', 0.23717948717948717),\n",
      " ('Serie A', 0.22435897435897434),\n",
      " ('Jupiler Pro League', 0.21794871794871795),\n",
      " ('Premier League', 0.20512820512820512),\n",
      " ('Ligue 1', 0.1987179487179487),\n",
      " ('Championship', 0.1923076923076923),\n",
      " ('Primera División', 0.1858974358974359),\n",
      " ('Serie B', 0.15384615384615385)]\n",
      "\n",
      "\n",
      "free\n",
      "[('Division A', 0.22187500000000002),\n",
      " ('Liga 1', 0.2),\n",
      " ('Ekstraklasa', 0.19375),\n",
      " ('Super League', 0.18125000000000002),\n",
      " ('Premier Liga', 0.17500000000000002),\n",
      " ('Primera División', 0.171875),\n",
      " ('Premier League', 0.16562500000000002),\n",
      " ('1.Lig', 0.1625),\n",
      " ('Süper Lig', 0.15937500000000002),\n",
      " ('Jupiler League', 0.15625)]\n",
      "\n",
      "\n",
      "loan\n",
      "[('Primera División', 0.15450643776824036),\n",
      " ('Serie A', 0.11587982832618025),\n",
      " ('Segunda División', 0.1072961373390558),\n",
      " ('Championship', 0.10300429184549356),\n",
      " ('Campeonato Brasileiro Série A', 0.10300429184549356),\n",
      " ('Jupiler Pro League', 0.10300429184549356),\n",
      " ('Primeira Liga', 0.10300429184549356),\n",
      " ('Major League Soccer', 0.10300429184549356),\n",
      " ('Segunda Liga', 0.10300429184549356),\n",
      " ('Serie B', 0.09871244635193133)]\n",
      "\n",
      "\n"
     ]
    }
   ],
   "source": [
    "centralities_league(nx.in_degree_centrality, [G_league_monetary, G_league_free, G_league_loan])"
   ]
  },
  {
   "cell_type": "markdown",
   "metadata": {},
   "source": [
    "We first see that there is a much bigger variation in the centralities values compare to the club version.\n",
    "\n",
    "In the **transfer** ranking, the first two leagues are the primary leagues from **China** and **Turkey**. It's interesting since no clubs from those leagues were present in the club ranking version. This means that chinese and turkish clubs are pretty homogeneous in terms of transfers: there is no club that does more transfer than the others, they all follow the same transfer strategy. Clubs from the **Jupiler Pro League**, from Belgium, also have the same type of attitude. \n",
    "\n",
    "Even if the leagues in this ranking are mainly issued from primary division, two secondary division leagues are present: **Championship** is the England second division and one of the \"richest\" league in Europe, **Serie B** is from Italy and confirms a fact already observed with clubs - Italian clubs where highly active in monetary transfers last years.\n",
    "\n",
    "> Note that the network doesn't take transfer value in consideration.\n",
    "\n",
    "Among the top 3 leagues in the **loan** ranking, the primary and secondary divisions from **Spain** are present. And once again, there was no spanish club in the same ranking at club-level. Following the same analysis as for Chinese and Turkish clubs in the monetary transfers, this means that spanish clubs have a *football loan* culture, as for Italy. But the difference is that in Italy, only a subset of clubs participate in this type of transfers, where in Spain it appears that much more clubs follow the same \"loan strategy\". Similar behavior can be observer with **Portuguese** clubs (*Primeira Liga* and *Segunda Liga*)."
   ]
  },
  {
   "cell_type": "markdown",
   "metadata": {},
   "source": [
    "## Out-degree"
   ]
  },
  {
   "cell_type": "code",
   "execution_count": 14,
   "metadata": {
    "ExecuteTime": {
     "end_time": "2017-12-11T23:12:36.460213Z",
     "start_time": "2017-12-11T23:12:36.449309Z"
    }
   },
   "outputs": [
    {
     "name": "stdout",
     "output_type": "stream",
     "text": [
      "transfer\n",
      "[('Serie A', 0.1794871794871795),\n",
      " ('Ligue 1', 0.1794871794871795),\n",
      " ('1.Bundesliga', 0.17307692307692307),\n",
      " ('SuperLiga', 0.17307692307692307),\n",
      " ('Primera División', 0.16666666666666666),\n",
      " ('Eredivisie', 0.16666666666666666),\n",
      " ('Campeonato Brasileiro Série A', 0.15384615384615385),\n",
      " ('Superligaen', 0.14743589743589744),\n",
      " ('1.HNL', 0.14743589743589744),\n",
      " ('Liga 1', 0.14102564102564102)]\n",
      "\n",
      "\n",
      "free\n",
      "[('Liga 1', 0.225),\n",
      " ('Premier League', 0.21250000000000002),\n",
      " ('Premier Liga', 0.21250000000000002),\n",
      " ('Serie A', 0.2),\n",
      " ('SuperLiga', 0.2),\n",
      " ('Division A', 0.19687500000000002),\n",
      " ('Primera División', 0.19062500000000002),\n",
      " ('Primeira Liga', 0.184375),\n",
      " ('Super League', 0.18125000000000002),\n",
      " ('Jupiler Pro League', 0.178125)]\n",
      "\n",
      "\n",
      "loan\n",
      "[('Serie A', 0.2575107296137339),\n",
      " ('Campeonato Brasileiro Série A', 0.18884120171673818),\n",
      " ('Primera División', 0.17167381974248927),\n",
      " ('Primeira Liga', 0.17167381974248927),\n",
      " ('Jupiler Pro League', 0.1630901287553648),\n",
      " ('Premier Liga', 0.15450643776824036),\n",
      " ('Premier League', 0.15021459227467812),\n",
      " ('Serie B', 0.15021459227467812),\n",
      " ('Championship', 0.14163090128755365),\n",
      " ('Super League', 0.13304721030042918)]\n",
      "\n",
      "\n"
     ]
    }
   ],
   "source": [
    "centralities_league(nx.out_degree_centrality, [G_league_monetary, G_league_free, G_league_loan])"
   ]
  },
  {
   "cell_type": "markdown",
   "metadata": {},
   "source": [
    "Comparing the in-degree and out-degree **monetary transfers** ranking, we can notice that Chinese and Turkish leagues don't appear in the second one: In 2015-2016, football players go more often to those countries that they leave. This is expected, as both countries have increase football interests recently. Another expected fact: find the **Brazilian** primary league in this out-degree ranking. The brazilian league is present in the top-10 ranking for monetary transfers, and is at second position in the **loan** rankings. This must be linked directly with Spanish and Portuguese clubs in the in-degree ranking version.\n",
    "\n",
    "The german league (*1. Bundesliga*) in present in the top-5 of both version of the monetary transfers ranking: german top clubs seem to have less stable teams in those last years.\n",
    "\n",
    "The **free** versions of the in and out degree centralities are the only ones to contains leagues from eastern Europe, where there is less money flowing. But money flowing in leagues isn't the key differentiator, because the english league is present everywhere. Compare to the two other rankings, the free ones have a lot of overlap between the in and out degree version."
   ]
  },
  {
   "cell_type": "markdown",
   "metadata": {},
   "source": [
    "## Closeness"
   ]
  },
  {
   "cell_type": "code",
   "execution_count": 15,
   "metadata": {
    "ExecuteTime": {
     "end_time": "2017-12-11T23:12:38.252105Z",
     "start_time": "2017-12-11T23:12:36.465860Z"
    }
   },
   "outputs": [
    {
     "name": "stdout",
     "output_type": "stream",
     "text": [
      "transfer\n",
      "[('Süper Lig', 0.46814825900429013),\n",
      " ('1.Bundesliga', 0.4540154813739719),\n",
      " ('Chinese Super League', 0.4523086562560247),\n",
      " ('Jupiler Pro League', 0.44726432179963777),\n",
      " ('Serie A', 0.4439634780963195),\n",
      " ('Premier League', 0.44233125942684764),\n",
      " ('Ligue 1', 0.43434694066463014),\n",
      " ('Championship', 0.42664575377341335),\n",
      " ('Primera División', 0.42364120621162876),\n",
      " ('Raiffeisen Super League', 0.4092316413744985)]\n",
      "\n",
      "\n",
      "free\n",
      "[('Division A', 0.4867301458670989),\n",
      " ('Liga 1', 0.4835950080515298),\n",
      " ('Premier Liga', 0.4782046178343949),\n",
      " ('Ekstraklasa', 0.4774443561208267),\n",
      " ('2.Bundesliga', 0.4766865079365079),\n",
      " ('3.Liga', 0.4766865079365079),\n",
      " ('Corgon liga', 0.472189465408805),\n",
      " ('1.Lig', 0.4707092476489028),\n",
      " ('Jupiler League', 0.46416151468315303),\n",
      " ('Super League', 0.4620192307692308)]\n",
      "\n",
      "\n",
      "loan\n",
      "[('Primera División', 0.3331792670848465),\n",
      " ('Jupiler Pro League', 0.3123555628920436),\n",
      " ('Serie A', 0.3116065087843888),\n",
      " ('Primeira Liga', 0.30864587687194805),\n",
      " ('Segunda Liga', 0.30430893246625323),\n",
      " ('Major League Soccer', 0.30289024280440585),\n",
      " ('Süper Lig', 0.3007868383404864),\n",
      " ('Serie B', 0.29940072387808786),\n",
      " ('Segunda División', 0.2966664706919866),\n",
      " ('2.Bundesliga', 0.2959906928544194)]\n",
      "\n",
      "\n"
     ]
    }
   ],
   "source": [
    "centralities_league(nx.closeness_centrality, [G_league_monetary, G_league_free, G_league_loan])"
   ]
  },
  {
   "cell_type": "markdown",
   "metadata": {},
   "source": [
    "First, we can notice that the closeness centralities are all high, almost at 0.5.\n",
    "\n",
    "The **monetary** ranking is coherent with the in-degree ranking, with the **Turkish** and **Chinese** leagues in the top of rankings. One more time, the **Championship** (England) is the only secondary division league present in the monetary ranking. This clearly demonstrates the importance of this league in the transfer market. But this centrality measure also gives results more complicated to analyse: the belgium and swiss leagues appear in this ranking, quite surprisingly. Otherw§ise, the **big 5** is always present: Germany, Italy, England, France and Spain.\n",
    "\n",
    "In the **free** transfers ranking, we can directly notice that all centralities values are pretty close one to the others. There is no league with a lot of money flowing in and out, the ranking is mainly composed of inferiors division. The fact of having such close centralities values also means that there is no *outstanding* or *central* league, they are close in a network point of view.\n",
    "\n",
    "The **loan** ranking also has close centralities values. We can notice, as before, the presence of the primary and secondary divisions from **Spain** and **Portugal**."
   ]
  },
  {
   "cell_type": "markdown",
   "metadata": {},
   "source": [
    "## Betweenness"
   ]
  },
  {
   "cell_type": "code",
   "execution_count": 16,
   "metadata": {
    "ExecuteTime": {
     "end_time": "2017-12-11T23:12:40.265912Z",
     "start_time": "2017-12-11T23:12:38.254669Z"
    },
    "scrolled": false
   },
   "outputs": [
    {
     "name": "stdout",
     "output_type": "stream",
     "text": [
      "transfer\n",
      "[('1.Bundesliga', 0.06382851020381158),\n",
      " ('Primera División', 0.06304277466256948),\n",
      " ('Serie A', 0.06119675273113488),\n",
      " ('Süper Lig', 0.05070767600901971),\n",
      " ('Jupiler Pro League', 0.048578695833943655),\n",
      " ('Ligue 1', 0.04757196511009603),\n",
      " ('Premier League', 0.04163758959531061),\n",
      " ('Raiffeisen Super League', 0.03854387927826382),\n",
      " ('Serie B', 0.037547214260061926),\n",
      " ('Ekstraklasa', 0.03408583402475891)]\n",
      "\n",
      "\n",
      "free\n",
      "[('Veikkausliiga', 0.04928273686522184),\n",
      " ('Regionalliga Nord', 0.04258825523924995),\n",
      " ('3.Liga', 0.042458697849449584),\n",
      " ('Regionalliga West', 0.0422944928643607),\n",
      " ('Premier League', 0.03630490765204241),\n",
      " ('Jupiler League', 0.03435896121485405),\n",
      " ('Liga 1', 0.03299071071058927),\n",
      " ('Regionalliga Nordost', 0.02785347926715838),\n",
      " ('Regionalliga Südwest', 0.026083645058399108),\n",
      " ('Corgon liga', 0.02575889295636737)]\n",
      "\n",
      "\n",
      "loan\n",
      "[('Serie A', 0.07622959440686158),\n",
      " ('Primera División', 0.0674186653750084),\n",
      " ('Campeonato Brasileiro Série A', 0.05930308384892326),\n",
      " ('Primeira Liga', 0.05855355957338626),\n",
      " ('Premier Liga', 0.05498616768798763),\n",
      " ('Veikkausliiga', 0.04934051781487897),\n",
      " ('Jupiler Pro League', 0.04803922846464394),\n",
      " ('Allsvenskan', 0.04436790060445975),\n",
      " ('2.Bundesliga', 0.04413099895947296),\n",
      " ('Premier League', 0.042079115204786334)]\n",
      "\n",
      "\n"
     ]
    }
   ],
   "source": [
    "centralities_league(nx.betweenness_centrality, [G_league_monetary, G_league_free, G_league_loan])"
   ]
  },
  {
   "cell_type": "markdown",
   "metadata": {},
   "source": [
    "All centralities values are small, but in can see as before that the **top five** plus Swiss and Belgium leagues are present in the **monetary transfers** ranking. Western Europe is really the central place for monetary transfers.\n",
    "\n",
    "As for the *closeness centrality*, the rankings for **free** and **loan** transfers are very different from the ones of in/out-degree, with a mix of inferior division and some primary ones. We can note that the **Premier League** is present everywhere."
   ]
  },
  {
   "cell_type": "markdown",
   "metadata": {},
   "source": [
    "## PageRank"
   ]
  },
  {
   "cell_type": "code",
   "execution_count": 21,
   "metadata": {
    "ExecuteTime": {
     "end_time": "2017-12-17T20:12:24.584273Z",
     "start_time": "2017-12-17T20:12:24.557743Z"
    }
   },
   "outputs": [],
   "source": [
    "def getDiGraph_League(G):\n",
    "    \"\"\"\n",
    "    Transforms a Multidirected network into a directed one.\n",
    "    Between two nodes, sum the value of each transfer (if exist) and the number of transfers.\n",
    "    \"\"\"\n",
    "    # Create the network\n",
    "    dG = nx.DiGraph()\n",
    "    dG.name = G.name\n",
    "    # Add nodes and edges iteratively\n",
    "    for u,v,data in G.edges(data=True):\n",
    "        dG.add_node(u)\n",
    "        dG.add_node(v)\n",
    "        val = float(data['transferValue']) if 'transferValue' in data else 0.0\n",
    "        if dG.has_edge(u,v):\n",
    "            dG[u][v]['transferValue'] += val\n",
    "            dG[u][v]['nbr'] += 1\n",
    "        else:\n",
    "            dG.add_edge(u, v, transferValue=val, nbr=1)\n",
    "    return dG"
   ]
  },
  {
   "cell_type": "code",
   "execution_count": 23,
   "metadata": {
    "ExecuteTime": {
     "end_time": "2017-12-17T20:13:05.815914Z",
     "start_time": "2017-12-17T20:13:05.796385Z"
    }
   },
   "outputs": [],
   "source": [
    "def centralities_leagues(centrality_func, networks, n=10):        \n",
    "    for G in networks:\n",
    "        print(G.name)\n",
    "        centrality = dict(centrality_func(G))\n",
    "\n",
    "        # Centralities are dictionaries : first sort by value, then take only the first n entries\n",
    "        c_sort = sorted(centrality.items(), key=operator.itemgetter(1), reverse=True)[:n]\n",
    "        # Print\n",
    "        pprint.pprint([(x,y) for x,y in c_sort])\n",
    "        print()\n",
    "        print()"
   ]
  },
  {
   "cell_type": "code",
   "execution_count": 26,
   "metadata": {
    "ExecuteTime": {
     "end_time": "2017-12-17T20:13:24.728496Z",
     "start_time": "2017-12-17T20:13:24.318634Z"
    }
   },
   "outputs": [
    {
     "name": "stdout",
     "output_type": "stream",
     "text": [
      "transfer\n",
      "[('Chinese Super League', 0.04129375525146698),\n",
      " ('1.Bundesliga', 0.03487473615462927),\n",
      " ('Süper Lig', 0.03301167140580481),\n",
      " ('Premier League', 0.03203026390562154),\n",
      " ('Jupiler Pro League', 0.028370508863583895),\n",
      " ('Championship', 0.0265286310996927),\n",
      " ('Primera División', 0.02571415662825804),\n",
      " ('Segunda División B - Grupo IV', 0.02539338974453924),\n",
      " ('Serie A', 0.02444504826841174),\n",
      " ('Serie B', 0.022150168233590867)]\n",
      "\n",
      "\n",
      "free\n",
      "[('Division A', 0.011490550755201277),\n",
      " ('Liga 1', 0.010342253569735855),\n",
      " ('Ekstraklasa', 0.01027708638849847),\n",
      " ('Corgon liga', 0.009187072376846824),\n",
      " ('Jupiler League', 0.00902245108502861),\n",
      " ('Regionalliga Nord', 0.008980868758455997),\n",
      " ('Super League', 0.008932109664010581),\n",
      " ('Premier League', 0.008925114608356138),\n",
      " ('Premier Liga', 0.008850450123241545),\n",
      " ('Primera División', 0.008752693845141386)]\n",
      "\n",
      "\n",
      "loan\n",
      "[('Kategoria Superiore', 0.026209369873113723),\n",
      " ('First Division League', 0.014534880712728961),\n",
      " ('Serie D - Girone G', 0.013136346983172844),\n",
      " ('Premium Liiga', 0.01206816754295675),\n",
      " ('Effodeildin', 0.011951345942539222),\n",
      " ('Superettan', 0.011861898477983166),\n",
      " ('Serie D - Girone F', 0.011830250812507883),\n",
      " ('Japan Football League', 0.011388770853875138),\n",
      " ('Major League Soccer', 0.011144241499523151),\n",
      " ('Liga II - Seria I', 0.011061498727964653)]\n",
      "\n",
      "\n"
     ]
    }
   ],
   "source": [
    "centralities_leagues(nx.pagerank, [getDiGraph_League(G_league_monetary), getDiGraph_League(G_league_free), getDiGraph_League(G_league_loan)])"
   ]
  },
  {
   "cell_type": "markdown",
   "metadata": {},
   "source": [
    "The pagerank centrality for the transfer version is interesting, with the **Chinese** league being first, with a centrality value bigger than the second one. This is due to the massive offensive of chinese clubs in the transger market these last three years. Most surprisingly, the Turkish and Belgium league appear in this top 5. Below, the centralities are very close ones to the others, but we can se that a small spanish division seems important. The free and loan rankings are mainly composed of inferior division, once more asserting our assumption of popular and powerful clubs making business almost entirely with monetary transfers."
   ]
  },
  {
   "cell_type": "markdown",
   "metadata": {},
   "source": [
    "# Simple facts"
   ]
  },
  {
   "cell_type": "markdown",
   "metadata": {},
   "source": [
    "## Degree distribution"
   ]
  },
  {
   "cell_type": "code",
   "execution_count": 23,
   "metadata": {
    "ExecuteTime": {
     "end_time": "2017-12-11T23:35:31.112477Z",
     "start_time": "2017-12-11T23:35:31.073146Z"
    }
   },
   "outputs": [],
   "source": [
    "import matplotlib.pyplot as plt\n",
    "def nx_hist(x, bins, i=-1, normed = False, title = None, yscale = 'linear', xlabel = 'Degree', ylabel = 'Probability'): \n",
    "    density = None\n",
    "    if(normed):\n",
    "        density = 1\n",
    "    if i != -1:\n",
    "        plt.subplot(1,2,i)\n",
    "    plt.hist(x, bins=bins, normed=density)\n",
    "    plt.xlabel(xlabel)\n",
    "    plt.ylabel(ylabel)\n",
    "    plt.yscale(yscale)\n",
    "    plt.title(title)\n",
    "    plt.grid(True)"
   ]
  },
  {
   "cell_type": "code",
   "execution_count": 88,
   "metadata": {
    "ExecuteTime": {
     "end_time": "2017-12-12T09:25:28.250568Z",
     "start_time": "2017-12-12T09:25:25.549303Z"
    }
   },
   "outputs": [
    {
     "name": "stdout",
     "output_type": "stream",
     "text": [
      "transfer\n"
     ]
    },
    {
     "data": {
      "image/png": "[encoded data removed]",
      "text/plain": [
       "<matplotlib.figure.Figure at 0x7f94d8d3c1d0>"
      ]
     },
     "metadata": {},
     "output_type": "display_data"
    },
    {
     "name": "stdout",
     "output_type": "stream",
     "text": [
      "free\n"
     ]
    },
    {
     "data": {
      "image/png": "[encoded data removed]",
      "text/plain": [
       "<matplotlib.figure.Figure at 0x7f94d8c452e8>"
      ]
     },
     "metadata": {},
     "output_type": "display_data"
    },
    {
     "name": "stdout",
     "output_type": "stream",
     "text": [
      "loan\n"
     ]
    },
    {
     "data": {
      "image/png": "[encoded data removed]",
      "text/plain": [
       "<matplotlib.figure.Figure at 0x7f94d78370b8>"
      ]
     },
     "metadata": {},
     "output_type": "display_data"
    }
   ],
   "source": [
    "for G in [G_monetary, G_free, G_loans]:\n",
    "    print(G.name)\n",
    "    plt.figure(figsize=(10,3))\n",
    "    nx_hist(list(dict(G.degree()).values()), 30, 1, normed=True, title = 'Histogram of '+G.name, xlabel = 'Degree (in+out)', ylabel = 'Probability (pure counts)')\n",
    "    nx_hist(list(dict(G.degree()).values()), 30, 2, normed=True, title = 'Histogram of ', yscale = 'log', xlabel = 'Degree (in+out)', ylabel = 'Probability (log-scale)')\n",
    "    plt.show()"
   ]
  },
  {
   "cell_type": "markdown",
   "metadata": {},
   "source": [
    "We can see that all type of transfers behave similarly with a lot of clubs participating in less than 5 transfers over the two years of interest.The progression of the degree distribution for the **free transfers** is completely different from the two others. It seems that clubs don't hesitate on doing free transfers, compare to loans and monetary transfers."
   ]
  },
  {
   "cell_type": "markdown",
   "metadata": {},
   "source": [
    "## Neighborhood overlap"
   ]
  },
  {
   "cell_type": "code",
   "execution_count": 139,
   "metadata": {
    "ExecuteTime": {
     "end_time": "2017-12-12T10:05:54.313265Z",
     "start_time": "2017-12-12T10:05:54.287048Z"
    }
   },
   "outputs": [],
   "source": [
    "def getNeigboursPerMajor(G, major):\n",
    "    neighbours = []\n",
    "    for n,attr in G.node.items():\n",
    "        if attr['competition'] == major:\n",
    "            neighbours.append(nx.neighbors(G,n))\n",
    "    return [x for l in neighbours for x in l]\n",
    "\n",
    "\n",
    "def commonNeighbors(G,a,b):\n",
    "    a_neighbours = set(getNeigboursPerMajor(G, a))\n",
    "    b_neighbours = set(getNeigboursPerMajor(G, b))\n",
    "    return len(a_neighbours & b_neighbours)\n",
    "    \n",
    "def atLeastOneNeighbors(G,a,b):\n",
    "    a_neighbours = set(getNeigboursPerMajor(G, a))\n",
    "    b_neighbours = set(getNeigboursPerMajor(G, b))\n",
    "    return len(a_neighbours | b_neighbours)"
   ]
  },
  {
   "cell_type": "code",
   "execution_count": 156,
   "metadata": {
    "ExecuteTime": {
     "end_time": "2017-12-12T10:10:52.531346Z",
     "start_time": "2017-12-12T10:10:52.493755Z"
    }
   },
   "outputs": [],
   "source": [
    "from tabulate import tabulate\n",
    "def compute_neigborhood(G):\n",
    "    # Store all values in a list\n",
    "    neighbourhoodOverlap = list()\n",
    "\n",
    "    # Compute the neighborhood overlap for each competition\n",
    "    competition_copy = list(set([v['competition'] for n,v in G.nodes()(data=True)]))\n",
    "    for a in set([v['competition'] for n,v in G.nodes()(data=True)]):\n",
    "        for b in competition_copy:\n",
    "            if a!=b:\n",
    "                val1 = commonNeighbors(G,a,b)\n",
    "                val2 = max(atLeastOneNeighbors(G, a,b),1)\n",
    "\n",
    "                neighbourhoodOverlap.append([a, b, val1/val2])\n",
    "\n",
    "        competition_copy.remove(a)\n",
    "        \n",
    "    return neighbourhoodOverlap"
   ]
  },
  {
   "cell_type": "code",
   "execution_count": 221,
   "metadata": {
    "ExecuteTime": {
     "end_time": "2017-12-12T11:23:07.761734Z",
     "start_time": "2017-12-12T11:10:24.367503Z"
    },
    "scrolled": false
   },
   "outputs": [
    {
     "name": "stdout",
     "output_type": "stream",
     "text": [
      "transfer\n"
     ]
    },
    {
     "data": {
      "image/png": "[encoded data removed]",
      "text/plain": [
       "<matplotlib.figure.Figure at 0x7f94d81c79b0>"
      ]
     },
     "metadata": {},
     "output_type": "display_data"
    },
    {
     "name": "stdout",
     "output_type": "stream",
     "text": [
      "20 links with highest neighbourhood overlap\n",
      "-----------------------------  ------------------------------  --------\n",
      "Segunda División B - Grupo IV  Prva Crnogorska Liga            0.5\n",
      "Premium Liiga                  Pepsideild                      0.333333\n",
      "Championship                   League One                      0.258065\n",
      "Veikkausliiga                  A Grupa - Relegation group      0.25\n",
      "Regionalliga West              Oberliga Niederrhein            0.25\n",
      "1 Liga                         2 Liga                          0.25\n",
      "Segunda División B - Grupo IV  Segunda División B - Grupo III  0.25\n",
      "Prima Divisione - A            USL Pro                         0.25\n",
      "Relegation Liga 1              Liga II - Seria II              0.25\n",
      "Campionato Primavera Girone C  U19 Allsvenskan Södra           0.25\n",
      "Serie B                        Serie A                         0.247619\n",
      "Primera División               Premier League                  0.235669\n",
      "Primera División               Serie A                         0.228916\n",
      "Premier League                 Serie A                         0.228571\n",
      "Championship                   Premier League                  0.227273\n",
      "League One                     League Two                      0.21875\n",
      "Chinese Super League           China League One                0.214286\n",
      "Premier League                 1.Bundesliga                    0.208633\n",
      "Premier League                 Ligue 1                         0.204545\n",
      "ABSA Premiership               A Lyga                          0.2\n",
      "-----------------------------  ------------------------------  --------\n",
      "\n",
      "\n",
      "free\n"
     ]
    },
    {
     "data": {
      "image/png": "[encoded data removed]",
      "text/plain": [
       "<matplotlib.figure.Figure at 0x7f94d8d21c88>"
      ]
     },
     "metadata": {},
     "output_type": "display_data"
    },
    {
     "name": "stdout",
     "output_type": "stream",
     "text": [
      "20 links with highest neighbourhood overlap\n",
      "------------------------------------------  ----------------------------------------------  --------\n",
      "J. League Division 1 – Second Stage         J. League Division 2                            0.5625\n",
      "Landesliga Niedersachsen - Hannover (beta)  Landesliga Niedersachsen - Braunschweig (beta)  0.5\n",
      "2.Lig Kirmizi                               2.Lig Beyaz                                     0.485981\n",
      "Azadegan League                             Iranian Pro League                              0.463415\n",
      "League One                                  League Two                                      0.45283\n",
      "Prima Divisione - A                         Prima Divisione - B                             0.415254\n",
      "Segunda División B - Grupo I                Segunda División B - Grupo II                   0.385185\n",
      "Prima Divisione - Girone C                  Prima Divisione - A                             0.382775\n",
      "Segunda División B - Grupo I                Segunda División B - Grupo IV                   0.37931\n",
      "Serie B                                     Prima Divisione - B                             0.373984\n",
      "Prima Divisione - Girone C                  Prima Divisione - B                             0.364444\n",
      "Segunda División B - Grupo IV               Segunda División B - Grupo II                   0.357616\n",
      "Serie D - Girone E                          Prima Divisione - B                             0.356164\n",
      "Conference National                         League Two                                      0.355932\n",
      "Football League Nord                        Football League Süd                             0.35\n",
      "USL Pro                                     Major League Soccer                             0.348684\n",
      "Segunda División B - Grupo IV               Segunda División B - Grupo III                  0.339286\n",
      "Prima Divisione - Girone C                  Serie B                                         0.3379\n",
      "2.Lig Kirmizi                               1.Lig                                           0.335526\n",
      "Prima Divisione - A                         Serie B                                         0.333333\n",
      "------------------------------------------  ----------------------------------------------  --------\n",
      "\n",
      "\n",
      "loan\n"
     ]
    },
    {
     "data": {
      "image/png": "[encoded data removed]",
      "text/plain": [
       "<matplotlib.figure.Figure at 0x7f94d85b9e80>"
      ]
     },
     "metadata": {},
     "output_type": "display_data"
    },
    {
     "name": "stdout",
     "output_type": "stream",
     "text": [
      "20 links with highest neighbourhood overlap\n",
      "-----------------------------------  -----------------------------  --------\n",
      "2.HNL                                Druga Liga                     0.666667\n",
      "Esiliiga                             Premium Liiga                  0.428571\n",
      "J. League Division 1 – Second Stage  J. League Division 2           0.421053\n",
      "Championship                         League One                     0.408537\n",
      "League One                           League Two                     0.386364\n",
      "League One                           U21 Premier League             0.376923\n",
      "Conference National                  League Two                     0.355556\n",
      "Championship                         U21 Premier League             0.354839\n",
      "Serie B                              Serie A                        0.339744\n",
      "Scottish Premiership                 Scottish Championship          0.333333\n",
      "3 Liga - Gruppe 2                    3 Liga - Gruppe 3              0.333333\n",
      "Championship                         Premier League                 0.314741\n",
      "Ehrenpromotion                       BGL Ligue                      0.3\n",
      "Campionato Primavera Girone B        Campionato Primavera Girone A  0.288372\n",
      "Nemzeti Bajnokság                    Nemzeti Bajnokság II           0.275\n",
      "Gambrinus Liga                       Druha Liga                     0.272727\n",
      "Campionato Primavera Girone A        Serie B                        0.27193\n",
      "Liga MX Clausura                     Ascenso MX Clausura            0.267442\n",
      "U21 Premier League                   Premier League                 0.263636\n",
      "Süper Lig                            1.Lig                          0.254237\n",
      "-----------------------------------  -----------------------------  --------\n",
      "\n",
      "\n"
     ]
    }
   ],
   "source": [
    "for G in [G_monetary, G_free, G_loans]:\n",
    "    print(G.name)\n",
    "    \n",
    "    neighbourhoodOverlap = compute_neigborhood(G)\n",
    "    neighbourhoodOverlap_Values = list(map(lambda x: x[2], neighbourhoodOverlap))\n",
    "\n",
    "    nx_hist(neighbourhoodOverlap_Values, 50, normed=True, title = 'Histogram of neighbourhood overlaps', xlabel = 'neighbourhood overlaps value', ylabel = '???')\n",
    "    plt.show()\n",
    "\n",
    "    n = 20\n",
    "    print(n,\"links with highest neighbourhood overlap\")\n",
    "    l = sorted(neighbourhoodOverlap, key=operator.itemgetter(2), reverse=True)[:n]\n",
    "    print(tabulate(l))\n",
    "    \n",
    "    print()\n",
    "    print()"
   ]
  },
  {
   "cell_type": "markdown",
   "metadata": {},
   "source": [
    "With this neighborhood  overlap measures, leagues that didn't appear in centralities measures are appearing now."
   ]
  },
  {
   "cell_type": "markdown",
   "metadata": {},
   "source": [
    "## Communities"
   ]
  },
  {
   "cell_type": "code",
   "execution_count": 8,
   "metadata": {
    "ExecuteTime": {
     "end_time": "2017-12-17T14:52:05.340895Z",
     "start_time": "2017-12-17T14:52:05.312318Z"
    }
   },
   "outputs": [],
   "source": [
    "# import the Louvain algorithm\n",
    "import community as community"
   ]
  },
  {
   "cell_type": "markdown",
   "metadata": {},
   "source": [
    "Take only a subset of the graph: All edges where one of the two nodes is part of the main european leagues."
   ]
  },
  {
   "cell_type": "code",
   "execution_count": 169,
   "metadata": {
    "ExecuteTime": {
     "end_time": "2017-12-12T10:36:07.217953Z",
     "start_time": "2017-12-12T10:36:07.209576Z"
    }
   },
   "outputs": [],
   "source": [
    "leagues = ['Premier League', 'Championship', 'Serie A', 'Ligue 1', '1.Bundesliga', 'Primera División', 'Primeira Liga', ]"
   ]
  },
  {
   "cell_type": "code",
   "execution_count": 220,
   "metadata": {
    "ExecuteTime": {
     "end_time": "2017-12-12T11:01:18.600078Z",
     "start_time": "2017-12-12T11:01:17.456198Z"
    },
    "scrolled": false
   },
   "outputs": [
    {
     "name": "stdout",
     "output_type": "stream",
     "text": [
      "================================================ transfer ================================================\n",
      "\n",
      "The number of communities:  13\n",
      "Community 0\n",
      "\t1.   1.Bundesliga                       17   (18.68  %)\n",
      "\t2.   2.Bundesliga                       14   (15.38  %)\n",
      "\t3.   Raiffeisen Super League            6    (6.59   %)\n",
      "\t4.   3.Liga                             6    (6.59   %)\n",
      "\t5.   Eredivisie                         3    (3.30   %)\n",
      "\n",
      "Community 1\n",
      "\t1.   Serie A                            19   (22.89  %)\n",
      "\t2.   Serie B                            16   (19.28  %)\n",
      "\t3.   Campeonato Brasileiro Série A      5    (6.02   %)\n",
      "\t4.   Liga MX Clausura                   3    (3.61   %)\n",
      "\t5.   Ekstraklasa                        3    (3.61   %)\n",
      "\n",
      "Community 2\n",
      "\t1.   Championship                       21   (20.79  %)\n",
      "\t2.   Premier League                     13   (12.87  %)\n",
      "\t3.   League One                         11   (10.89  %)\n",
      "\t4.   League Two                         8    (7.92   %)\n",
      "\t5.   Eredivisie                         6    (5.94   %)\n",
      "\n",
      "Community 3\n",
      "\t1.   Primeira Liga                      7    (16.28  %)\n",
      "\t2.   Primera División                   5    (11.63  %)\n",
      "\t3.   Chinese Super League               5    (11.63  %)\n",
      "\t4.   Ligue 1                            4    (9.30   %)\n",
      "\t5.   Campeonato Brasileiro Série A      3    (6.98   %)\n",
      "\n",
      "Community 4\n",
      "\t1.   Primera División                   3    (13.04  %)\n",
      "\t2.   Superligaen                        2    (8.70   %)\n",
      "\t3.   Premier Liga                       2    (8.70   %)\n",
      "\t4.   Primera División Clausura          2    (8.70   %)\n",
      "\t5.   Premier League                     1    (4.35   %)\n",
      "\n",
      "Community 5\n",
      "\t1.   Ligue 1                            13   (21.31  %)\n",
      "\t2.   Ligue 2                            12   (19.67  %)\n",
      "\t3.   Tippeligaen                        3    (4.92   %)\n",
      "\t4.   U21 Premier League                 3    (4.92   %)\n",
      "\t5.   Jupiler Pro League                 2    (3.28   %)\n",
      "\n",
      "Community 6\n",
      "\t1.   Primera División                   12   (23.08  %)\n",
      "\t2.   Segunda División                   6    (11.54  %)\n",
      "\t3.   Eredivisie                         3    (5.77   %)\n",
      "\t4.   Jupiler Pro League                 2    (3.85   %)\n",
      "\t5.   UAE Arabian Gulf League            2    (3.85   %)\n",
      "\n",
      "Community 7\n",
      "\t1.   Primera División                   22   (37.29  %)\n",
      "\t2.   Liga MX Clausura                   7    (11.86  %)\n",
      "\t3.   Segunda División                   6    (10.17  %)\n",
      "\t4.   Liga Postobon II                   5    (8.47   %)\n",
      "\t5.   Primera B Nacional                 4    (6.78   %)\n",
      "\n",
      "Community 8\n",
      "\t1.   Primera División Clausura          1    (50.00  %)\n",
      "\t2.   Primera División                   1    (50.00  %)\n",
      "\n",
      "Community 9\n",
      "\t1.   Primera División Clausura          1    (50.00  %)\n",
      "\t2.   Primera División                   1    (50.00  %)\n",
      "\n",
      "Community 10\n",
      "\t1.   Premier League                     2    (100.00 %)\n",
      "\n",
      "Community 11\n",
      "\t1.   Premier League                     1    (50.00  %)\n",
      "\t2.   Campionato Primavera Girone A      1    (50.00  %)\n",
      "\n",
      "Community 12\n",
      "\t1.   Premier League                     3    (100.00 %)\n",
      "\n",
      "================================================ free ================================================\n",
      "\n",
      "The number of communities:  10\n",
      "Community 0\n",
      "\t1.   Prima Divisione - B                20   (9.71   %)\n",
      "\t2.   Serie A                            20   (9.71   %)\n",
      "\t3.   Serie B                            17   (8.25   %)\n",
      "\t4.   Prima Divisione - A                15   (7.28   %)\n",
      "\t5.   Prima Divisione - Girone C         10   (4.85   %)\n",
      "\n",
      "Community 1\n",
      "\t1.   Primera División                   30   (18.52  %)\n",
      "\t2.   Primera B Nacional                 21   (12.96  %)\n",
      "\t3.   Ascenso MX Clausura                11   (6.79   %)\n",
      "\t4.   Primera División Clausura          10   (6.17   %)\n",
      "\t5.   Liga MX Clausura                   10   (6.17   %)\n",
      "\n",
      "Community 2\n",
      "\t1.   Premier League                     16   (17.20  %)\n",
      "\t2.   Prima Divisione - Girone C         5    (5.38   %)\n",
      "\t3.   Prva liga                          4    (4.30   %)\n",
      "\t4.   Division A                         3    (3.23   %)\n",
      "\t5.   Prva Crnogorska Liga               3    (3.23   %)\n",
      "\n",
      "Community 3\n",
      "\t1.   Segunda Liga                       23   (17.04  %)\n",
      "\t2.   Primeira Liga                      17   (12.59  %)\n",
      "\t3.   Campeonato Brasileiro Série B      7    (5.19   %)\n",
      "\t4.   Ekstraklasa                        5    (3.70   %)\n",
      "\t5.   Campeonato Brasileiro Série A      5    (3.70   %)\n",
      "\n",
      "Community 4\n",
      "\t1.   Regionalliga West                  2    (13.33  %)\n",
      "\t2.   1.Bundesliga                       2    (13.33  %)\n",
      "\t3.   2.Bundesliga                       2    (13.33  %)\n",
      "\t4.   Division A                         1    (6.67   %)\n",
      "\t5.   Premier Liga                       1    (6.67   %)\n",
      "\n",
      "Community 5\n",
      "\t1.   Ligue 1                            19   (18.81  %)\n",
      "\t2.   Ligue 2                            17   (16.83  %)\n",
      "\t3.   Süper Lig                          8    (7.92   %)\n",
      "\t4.   Jupiler Pro League                 6    (5.94   %)\n",
      "\t5.   Qatar Stars League                 5    (4.95   %)\n",
      "\n",
      "Community 6\n",
      "\t1.   Championship                       24   (12.97  %)\n",
      "\t2.   League One                         24   (12.97  %)\n",
      "\t3.   League Two                         21   (11.35  %)\n",
      "\t4.   U21 Premier League                 18   (9.73   %)\n",
      "\t5.   Premier League                     13   (7.03   %)\n",
      "\n",
      "Community 7\n",
      "\t1.   1.Bundesliga                       16   (15.09  %)\n",
      "\t2.   3.Liga                             14   (13.21  %)\n",
      "\t3.   2.Bundesliga                       10   (9.43   %)\n",
      "\t4.   Regionalliga Südwest               5    (4.72   %)\n",
      "\t5.   A-Jgd. BL Süd/Südwest              5    (4.72   %)\n",
      "\n",
      "Community 8\n",
      "\t1.   Segunda División                   19   (13.77  %)\n",
      "\t2.   Primera División                   18   (13.04  %)\n",
      "\t3.   Segunda División B - Grupo IV      12   (8.70   %)\n",
      "\t4.   Segunda División B - Grupo II      10   (7.25   %)\n",
      "\t5.   Segunda División B - Grupo III     9    (6.52   %)\n",
      "\n",
      "Community 9\n",
      "\t1.   Premier League                     6    (27.27  %)\n",
      "\t2.   Egyptian Premier League            4    (18.18  %)\n",
      "\t3.   Jupiler Pro League                 2    (9.09   %)\n",
      "\t4.   Bundesliga                         1    (4.55   %)\n",
      "\t5.   Allsvenskan                        1    (4.55   %)\n",
      "\n",
      "================================================ loan ================================================\n",
      "\n",
      "The number of communities:  10\n",
      "Community 0\n",
      "\t1.   Primera División                   30   (27.27  %)\n",
      "\t2.   Primera B Nacional                 18   (16.36  %)\n",
      "\t3.   Primera División Clausura          7    (6.36   %)\n",
      "\t4.   Primera Division Clausura          7    (6.36   %)\n",
      "\t5.   Liga MX Clausura                   6    (5.45   %)\n",
      "\n",
      "Community 1\n",
      "\t1.   Segunda Liga                       23   (25.00  %)\n",
      "\t2.   Primeira Liga                      17   (18.48  %)\n",
      "\t3.   Campeonato Brasileiro Série A      7    (7.61   %)\n",
      "\t4.   Campeonato Brasileiro Série B      3    (3.26   %)\n",
      "\t5.   Division A                         3    (3.26   %)\n",
      "\n",
      "Community 2\n",
      "\t1.   1.Bundesliga                       18   (24.00  %)\n",
      "\t2.   2.Bundesliga                       17   (22.67  %)\n",
      "\t3.   3.Liga                             11   (14.67  %)\n",
      "\t4.   Raiffeisen Super League            4    (5.33   %)\n",
      "\t5.   Bundesliga                         4    (5.33   %)\n",
      "\n",
      "Community 3\n",
      "\t1.   Prima Divisione - B                22   (10.38  %)\n",
      "\t2.   Serie B                            21   (9.91   %)\n",
      "\t3.   Serie A                            20   (9.43   %)\n",
      "\t4.   Prima Divisione - Girone C         20   (9.43   %)\n",
      "\t5.   Prima Divisione - A                18   (8.49   %)\n",
      "\n",
      "Community 4\n",
      "\t1.   Championship                       25   (14.79  %)\n",
      "\t2.   League One                         24   (14.20  %)\n",
      "\t3.   League Two                         24   (14.20  %)\n",
      "\t4.   Conference National                19   (11.24  %)\n",
      "\t5.   Premier League                     17   (10.06  %)\n",
      "\n",
      "Community 5\n",
      "\t1.   Ligue 1                            20   (21.98  %)\n",
      "\t2.   Ligue 2                            18   (19.78  %)\n",
      "\t3.   Championnat National               13   (14.29  %)\n",
      "\t4.   Jupiler Pro League                 10   (10.99  %)\n",
      "\t5.   Süper Lig                          3    (3.30   %)\n",
      "\n",
      "Community 6\n",
      "\t1.   Primera División                   17   (24.29  %)\n",
      "\t2.   Segunda División                   16   (22.86  %)\n",
      "\t3.   Segunda División B - Grupo III     6    (8.57   %)\n",
      "\t4.   Segunda División B - Grupo II      5    (7.14   %)\n",
      "\t5.   Segunda División B - Grupo IV      5    (7.14   %)\n",
      "\n",
      "Community 7\n",
      "\t1.   Premier League                     13   (76.47  %)\n",
      "\t2.   Prima Divisione - A                1    (5.88   %)\n",
      "\t3.   K-League Challenge                 1    (5.88   %)\n",
      "\t4.   Corgon liga                        1    (5.88   %)\n",
      "\t5.   Campionato Primavera Girone B      1    (5.88   %)\n",
      "\n",
      "Community 8\n",
      "\t1.   Lebanese Premier League            1    (50.00  %)\n",
      "\t2.   Premier League                     1    (50.00  %)\n",
      "\n",
      "Community 9\n",
      "\t1.   Premier League                     1    (50.00  %)\n",
      "\t2.   Lebanese Premier League            1    (50.00  %)\n",
      "\n"
     ]
    }
   ],
   "source": [
    "for G in [G_monetary, G_free, G_loans]:\n",
    "    G_new = nx.MultiDiGraph()\n",
    "\n",
    "    print(\"================================================\", G.name,\"================================================\")\n",
    "    print()\n",
    "    \n",
    "    for n1,n2,e in G.edges(data=True):\n",
    "        if G.node[n1]['competition'] in leagues or G.node[n2]['competition'] in leagues:\n",
    "            G_new.add_edge(n1,n2)\n",
    "\n",
    "    # compute the best partition\n",
    "    partition = community.best_partition(G_new.to_undirected())\n",
    "\n",
    "    size = len(set(partition.values()))\n",
    "    print('The number of communities: ', size)\n",
    "\n",
    "    # For each communitiy, group the students per major\n",
    "    nbrToPrint = 5\n",
    "\n",
    "    for i in range(size):\n",
    "        # Retrieve nodes inside the community\n",
    "        community_i = [nodes for nodes in partition.keys() if partition[nodes] == i]\n",
    "\n",
    "        # Majors frequency dict\n",
    "        majors = {}\n",
    "        for n in community_i:\n",
    "            major = G.nodes[n]['competition']\n",
    "            majors[major] = majors.get(major, 0) + 1\n",
    "\n",
    "        tot = sum(majors.values())\n",
    "        majors = sorted(majors.items(), key=operator.itemgetter(1), reverse=True)\n",
    "\n",
    "        print(\"Community\",i)\n",
    "        for en,c in enumerate(majors[:nbrToPrint]):\n",
    "            print(\"\\t{}.   {:<35}{:<5}({:<7.2f}%)\".format(en+1, c[0], c[1], 100*c[1]/tot))\n",
    "        print()"
   ]
  },
  {
   "cell_type": "markdown",
   "metadata": {},
   "source": [
    "In the **loan transfers** and **free transfers** network, the communities are clearly organized after the countries. Primary, secondary and tertiary divisions all always cluster together. There is also some more hybrid communities, like the ones composed of leagues from Portugal and Brazil or Spain and South America countries. The language plays a crucial role in these types of transfers. As for the Portugal-Brazil or Spanish-speaking countries, France and the Belgium primary divisions are clustered together.\n",
    "\n",
    "> **Interesting fact**: In the free transfer, the community containing french clubs also contains clubs from the **Qatar Stars League**. This league has never showed up in the analysis before,\n",
    "\n",
    "The **monetary transfers** communities are also tied to this notion of countries, but in a less strong way. Within this network, there are some communities composed mainly by clubs from one country (Germany, England, France), but also communities composed of clubs from more diverse countries, like *Community 3* with clubs from Portugal, Spain, France, Brazil and China. One conclusion that can be made is that when it comes to loans and free transfers, clubs have a preference to deal with close clubs, regarding the country and language. This \"restriction* is less obvious when money is involved. This observation was expected: the more good a player is, the more money its transfer will cost. Good players have the tendency to join big european clubs, thus leaving their home countries in most of the cases."
   ]
  }
 ],
 "metadata": {
  "kernelspec": {
   "display_name": "Python 3",
   "language": "python",
   "name": "python3"
  },
  "language_info": {
   "codemirror_mode": {
    "name": "ipython",
    "version": 3
   },
   "file_extension": ".py",
   "mimetype": "text/x-python",
   "name": "python",
   "nbconvert_exporter": "python",
   "pygments_lexer": "ipython3",
   "version": "3.6.0"
  },
  "toc": {
   "nav_menu": {
    "height": "351px",
    "width": "223px"
   },
   "number_sections": true,
   "sideBar": true,
   "skip_h1_title": false,
   "toc_cell": true,
   "toc_position": {
    "height": "1225px",
    "left": "0px",
    "right": "2372px",
    "top": "111px",
    "width": "188px"
   },
   "toc_section_display": "block",
   "toc_window_display": true
  }
 },
 "nbformat": 4,
 "nbformat_minor": 2
}
